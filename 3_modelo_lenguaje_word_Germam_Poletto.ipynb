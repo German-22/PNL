{
  "cells": [
    {
      "cell_type": "markdown",
      "metadata": {
        "id": "g3yeJGnCYxuF"
      },
      "source": [
        "<img src=\"https://github.com/hernancontigiani/ceia_memorias_especializacion/raw/master/Figures/logoFIUBA.jpg\" width=\"500\" align=\"center\">\n",
        "\n",
        "\n",
        "# Procesamiento de lenguaje natural\n",
        "## Modelo de lenguaje con tokenización por palabras"
      ]
    },
    {
      "cell_type": "markdown",
      "metadata": {
        "id": "Iv5PEwGzZA9-"
      },
      "source": [
        "### Consigna\n",
        "- Seleccionar un corpus de texto sobre el cual entrenar el modelo de lenguaje.\n",
        "- Realizar el pre-procesamiento adecuado para tokenizar el corpus, estructurar el dataset y separar entre datos de entrenamiento y validación.\n",
        "- Proponer arquitecturas de redes neuronales basadas en unidades recurrentes para implementar un modelo de lenguaje.\n",
        "- Con el o los modelos que consideren adecuados, generar nuevas secuencias a partir de secuencias de contexto con las estrategias de greedy search y beam search determístico y estocástico. En este último caso observar el efecto de la temperatura en la generación de secuencias.\n",
        "\n",
        "\n",
        "### Sugerencias\n",
        "- Durante el entrenamiento, guiarse por el descenso de la perplejidad en los datos de validación para finalizar el entrenamiento. Para ello se provee un callback.\n",
        "- Explorar utilizar SimpleRNN (celda de Elman), LSTM y GRU.\n",
        "- rmsprop es el optimizador recomendado para la buena convergencia. No obstante se pueden explorar otros.\n"
      ]
    },
    {
      "cell_type": "code",
      "execution_count": 1,
      "metadata": {
        "id": "Y-QdFbHZYj7C"
      },
      "outputs": [],
      "source": [
        "import random\n",
        "import io\n",
        "import pickle\n",
        "\n",
        "import numpy as np\n",
        "import pandas as pd\n",
        "import matplotlib.pyplot as plt\n",
        "from sklearn.model_selection import train_test_split\n",
        "\n",
        "from tensorflow import keras\n",
        "from tensorflow.keras import layers\n",
        "from keras.utils import to_categorical\n",
        "from keras.models import Sequential\n",
        "from keras.layers import Dense, LSTM, Embedding, Dropout,SimpleRNN,GRU\n",
        "from tensorflow.keras.losses import SparseCategoricalCrossentropy"
      ]
    },
    {
      "cell_type": "markdown",
      "metadata": {
        "id": "xTvXlEKQZdqx"
      },
      "source": [
        "### Datos\n",
        "Como ejemplo se utilizará como corpus un dataset canciones de bandas de habla inglés."
      ]
    },
    {
      "cell_type": "code",
      "source": [
        "df = pd.read_csv('libro.txt', sep='/n', header=None)\n",
        "df.head(10)"
      ],
      "metadata": {
        "colab": {
          "base_uri": "https://localhost:8080/",
          "height": 417
        },
        "id": "uKw-XzvzZgEV",
        "outputId": "1736f602-3918-4e68-f01c-ad6d3b6b0321"
      },
      "execution_count": 2,
      "outputs": [
        {
          "output_type": "stream",
          "name": "stderr",
          "text": [
            "<ipython-input-2-ca35b74d5f10>:1: ParserWarning: Falling back to the 'python' engine because the 'c' engine does not support regex separators (separators > 1 char and different from '\\s+' are interpreted as regex); you can avoid this warning by specifying engine='python'.\n",
            "  df = pd.read_csv('libro.txt', sep='/n', header=None)\n"
          ]
        },
        {
          "output_type": "execute_result",
          "data": {
            "text/plain": [
              "                                                   0\n",
              "0                 DEL LIBRO IMPRESO AL LIBRO DIGITAL\n",
              "1                                       MARIE LEBERT\n",
              "2                  NEF, Universidad de Toronto, 2010\n",
              "3  Copyright © 2010 Marie Lebert. Todos los derec...\n",
              "4                                                ---\n",
              "5      Este libro está dedicado a todas las personas\n",
              "6                 que han contestado a mis preguntas\n",
              "7                      durante los últimos diez años\n",
              "8                        en Europa, en las Américas,\n",
              "9                               en África y en Asia."
            ],
            "text/html": [
              "\n",
              "  <div id=\"df-cfa0241b-74fd-423c-b9c3-d5eb43ceb1a4\" class=\"colab-df-container\">\n",
              "    <div>\n",
              "<style scoped>\n",
              "    .dataframe tbody tr th:only-of-type {\n",
              "        vertical-align: middle;\n",
              "    }\n",
              "\n",
              "    .dataframe tbody tr th {\n",
              "        vertical-align: top;\n",
              "    }\n",
              "\n",
              "    .dataframe thead th {\n",
              "        text-align: right;\n",
              "    }\n",
              "</style>\n",
              "<table border=\"1\" class=\"dataframe\">\n",
              "  <thead>\n",
              "    <tr style=\"text-align: right;\">\n",
              "      <th></th>\n",
              "      <th>0</th>\n",
              "    </tr>\n",
              "  </thead>\n",
              "  <tbody>\n",
              "    <tr>\n",
              "      <th>0</th>\n",
              "      <td>DEL LIBRO IMPRESO AL LIBRO DIGITAL</td>\n",
              "    </tr>\n",
              "    <tr>\n",
              "      <th>1</th>\n",
              "      <td>MARIE LEBERT</td>\n",
              "    </tr>\n",
              "    <tr>\n",
              "      <th>2</th>\n",
              "      <td>NEF, Universidad de Toronto, 2010</td>\n",
              "    </tr>\n",
              "    <tr>\n",
              "      <th>3</th>\n",
              "      <td>Copyright © 2010 Marie Lebert. Todos los derec...</td>\n",
              "    </tr>\n",
              "    <tr>\n",
              "      <th>4</th>\n",
              "      <td>---</td>\n",
              "    </tr>\n",
              "    <tr>\n",
              "      <th>5</th>\n",
              "      <td>Este libro está dedicado a todas las personas</td>\n",
              "    </tr>\n",
              "    <tr>\n",
              "      <th>6</th>\n",
              "      <td>que han contestado a mis preguntas</td>\n",
              "    </tr>\n",
              "    <tr>\n",
              "      <th>7</th>\n",
              "      <td>durante los últimos diez años</td>\n",
              "    </tr>\n",
              "    <tr>\n",
              "      <th>8</th>\n",
              "      <td>en Europa, en las Américas,</td>\n",
              "    </tr>\n",
              "    <tr>\n",
              "      <th>9</th>\n",
              "      <td>en África y en Asia.</td>\n",
              "    </tr>\n",
              "  </tbody>\n",
              "</table>\n",
              "</div>\n",
              "    <div class=\"colab-df-buttons\">\n",
              "\n",
              "  <div class=\"colab-df-container\">\n",
              "    <button class=\"colab-df-convert\" onclick=\"convertToInteractive('df-cfa0241b-74fd-423c-b9c3-d5eb43ceb1a4')\"\n",
              "            title=\"Convert this dataframe to an interactive table.\"\n",
              "            style=\"display:none;\">\n",
              "\n",
              "  <svg xmlns=\"http://www.w3.org/2000/svg\" height=\"24px\" viewBox=\"0 -960 960 960\">\n",
              "    <path d=\"M120-120v-720h720v720H120Zm60-500h600v-160H180v160Zm220 220h160v-160H400v160Zm0 220h160v-160H400v160ZM180-400h160v-160H180v160Zm440 0h160v-160H620v160ZM180-180h160v-160H180v160Zm440 0h160v-160H620v160Z\"/>\n",
              "  </svg>\n",
              "    </button>\n",
              "\n",
              "  <style>\n",
              "    .colab-df-container {\n",
              "      display:flex;\n",
              "      gap: 12px;\n",
              "    }\n",
              "\n",
              "    .colab-df-convert {\n",
              "      background-color: #E8F0FE;\n",
              "      border: none;\n",
              "      border-radius: 50%;\n",
              "      cursor: pointer;\n",
              "      display: none;\n",
              "      fill: #1967D2;\n",
              "      height: 32px;\n",
              "      padding: 0 0 0 0;\n",
              "      width: 32px;\n",
              "    }\n",
              "\n",
              "    .colab-df-convert:hover {\n",
              "      background-color: #E2EBFA;\n",
              "      box-shadow: 0px 1px 2px rgba(60, 64, 67, 0.3), 0px 1px 3px 1px rgba(60, 64, 67, 0.15);\n",
              "      fill: #174EA6;\n",
              "    }\n",
              "\n",
              "    .colab-df-buttons div {\n",
              "      margin-bottom: 4px;\n",
              "    }\n",
              "\n",
              "    [theme=dark] .colab-df-convert {\n",
              "      background-color: #3B4455;\n",
              "      fill: #D2E3FC;\n",
              "    }\n",
              "\n",
              "    [theme=dark] .colab-df-convert:hover {\n",
              "      background-color: #434B5C;\n",
              "      box-shadow: 0px 1px 3px 1px rgba(0, 0, 0, 0.15);\n",
              "      filter: drop-shadow(0px 1px 2px rgba(0, 0, 0, 0.3));\n",
              "      fill: #FFFFFF;\n",
              "    }\n",
              "  </style>\n",
              "\n",
              "    <script>\n",
              "      const buttonEl =\n",
              "        document.querySelector('#df-cfa0241b-74fd-423c-b9c3-d5eb43ceb1a4 button.colab-df-convert');\n",
              "      buttonEl.style.display =\n",
              "        google.colab.kernel.accessAllowed ? 'block' : 'none';\n",
              "\n",
              "      async function convertToInteractive(key) {\n",
              "        const element = document.querySelector('#df-cfa0241b-74fd-423c-b9c3-d5eb43ceb1a4');\n",
              "        const dataTable =\n",
              "          await google.colab.kernel.invokeFunction('convertToInteractive',\n",
              "                                                    [key], {});\n",
              "        if (!dataTable) return;\n",
              "\n",
              "        const docLinkHtml = 'Like what you see? Visit the ' +\n",
              "          '<a target=\"_blank\" href=https://colab.research.google.com/notebooks/data_table.ipynb>data table notebook</a>'\n",
              "          + ' to learn more about interactive tables.';\n",
              "        element.innerHTML = '';\n",
              "        dataTable['output_type'] = 'display_data';\n",
              "        await google.colab.output.renderOutput(dataTable, element);\n",
              "        const docLink = document.createElement('div');\n",
              "        docLink.innerHTML = docLinkHtml;\n",
              "        element.appendChild(docLink);\n",
              "      }\n",
              "    </script>\n",
              "  </div>\n",
              "\n",
              "\n",
              "<div id=\"df-ef4bebf5-9250-4fb7-949c-eaef8d5189a3\">\n",
              "  <button class=\"colab-df-quickchart\" onclick=\"quickchart('df-ef4bebf5-9250-4fb7-949c-eaef8d5189a3')\"\n",
              "            title=\"Suggest charts\"\n",
              "            style=\"display:none;\">\n",
              "\n",
              "<svg xmlns=\"http://www.w3.org/2000/svg\" height=\"24px\"viewBox=\"0 0 24 24\"\n",
              "     width=\"24px\">\n",
              "    <g>\n",
              "        <path d=\"M19 3H5c-1.1 0-2 .9-2 2v14c0 1.1.9 2 2 2h14c1.1 0 2-.9 2-2V5c0-1.1-.9-2-2-2zM9 17H7v-7h2v7zm4 0h-2V7h2v10zm4 0h-2v-4h2v4z\"/>\n",
              "    </g>\n",
              "</svg>\n",
              "  </button>\n",
              "\n",
              "<style>\n",
              "  .colab-df-quickchart {\n",
              "      --bg-color: #E8F0FE;\n",
              "      --fill-color: #1967D2;\n",
              "      --hover-bg-color: #E2EBFA;\n",
              "      --hover-fill-color: #174EA6;\n",
              "      --disabled-fill-color: #AAA;\n",
              "      --disabled-bg-color: #DDD;\n",
              "  }\n",
              "\n",
              "  [theme=dark] .colab-df-quickchart {\n",
              "      --bg-color: #3B4455;\n",
              "      --fill-color: #D2E3FC;\n",
              "      --hover-bg-color: #434B5C;\n",
              "      --hover-fill-color: #FFFFFF;\n",
              "      --disabled-bg-color: #3B4455;\n",
              "      --disabled-fill-color: #666;\n",
              "  }\n",
              "\n",
              "  .colab-df-quickchart {\n",
              "    background-color: var(--bg-color);\n",
              "    border: none;\n",
              "    border-radius: 50%;\n",
              "    cursor: pointer;\n",
              "    display: none;\n",
              "    fill: var(--fill-color);\n",
              "    height: 32px;\n",
              "    padding: 0;\n",
              "    width: 32px;\n",
              "  }\n",
              "\n",
              "  .colab-df-quickchart:hover {\n",
              "    background-color: var(--hover-bg-color);\n",
              "    box-shadow: 0 1px 2px rgba(60, 64, 67, 0.3), 0 1px 3px 1px rgba(60, 64, 67, 0.15);\n",
              "    fill: var(--button-hover-fill-color);\n",
              "  }\n",
              "\n",
              "  .colab-df-quickchart-complete:disabled,\n",
              "  .colab-df-quickchart-complete:disabled:hover {\n",
              "    background-color: var(--disabled-bg-color);\n",
              "    fill: var(--disabled-fill-color);\n",
              "    box-shadow: none;\n",
              "  }\n",
              "\n",
              "  .colab-df-spinner {\n",
              "    border: 2px solid var(--fill-color);\n",
              "    border-color: transparent;\n",
              "    border-bottom-color: var(--fill-color);\n",
              "    animation:\n",
              "      spin 1s steps(1) infinite;\n",
              "  }\n",
              "\n",
              "  @keyframes spin {\n",
              "    0% {\n",
              "      border-color: transparent;\n",
              "      border-bottom-color: var(--fill-color);\n",
              "      border-left-color: var(--fill-color);\n",
              "    }\n",
              "    20% {\n",
              "      border-color: transparent;\n",
              "      border-left-color: var(--fill-color);\n",
              "      border-top-color: var(--fill-color);\n",
              "    }\n",
              "    30% {\n",
              "      border-color: transparent;\n",
              "      border-left-color: var(--fill-color);\n",
              "      border-top-color: var(--fill-color);\n",
              "      border-right-color: var(--fill-color);\n",
              "    }\n",
              "    40% {\n",
              "      border-color: transparent;\n",
              "      border-right-color: var(--fill-color);\n",
              "      border-top-color: var(--fill-color);\n",
              "    }\n",
              "    60% {\n",
              "      border-color: transparent;\n",
              "      border-right-color: var(--fill-color);\n",
              "    }\n",
              "    80% {\n",
              "      border-color: transparent;\n",
              "      border-right-color: var(--fill-color);\n",
              "      border-bottom-color: var(--fill-color);\n",
              "    }\n",
              "    90% {\n",
              "      border-color: transparent;\n",
              "      border-bottom-color: var(--fill-color);\n",
              "    }\n",
              "  }\n",
              "</style>\n",
              "\n",
              "  <script>\n",
              "    async function quickchart(key) {\n",
              "      const quickchartButtonEl =\n",
              "        document.querySelector('#' + key + ' button');\n",
              "      quickchartButtonEl.disabled = true;  // To prevent multiple clicks.\n",
              "      quickchartButtonEl.classList.add('colab-df-spinner');\n",
              "      try {\n",
              "        const charts = await google.colab.kernel.invokeFunction(\n",
              "            'suggestCharts', [key], {});\n",
              "      } catch (error) {\n",
              "        console.error('Error during call to suggestCharts:', error);\n",
              "      }\n",
              "      quickchartButtonEl.classList.remove('colab-df-spinner');\n",
              "      quickchartButtonEl.classList.add('colab-df-quickchart-complete');\n",
              "    }\n",
              "    (() => {\n",
              "      let quickchartButtonEl =\n",
              "        document.querySelector('#df-ef4bebf5-9250-4fb7-949c-eaef8d5189a3 button');\n",
              "      quickchartButtonEl.style.display =\n",
              "        google.colab.kernel.accessAllowed ? 'block' : 'none';\n",
              "    })();\n",
              "  </script>\n",
              "</div>\n",
              "\n",
              "    </div>\n",
              "  </div>\n"
            ],
            "application/vnd.google.colaboratory.intrinsic+json": {
              "type": "dataframe",
              "variable_name": "df",
              "summary": "{\n  \"name\": \"df\",\n  \"rows\": 4265,\n  \"fields\": [\n    {\n      \"column\": 0,\n      \"properties\": {\n        \"dtype\": \"string\",\n        \"num_unique_values\": 4234,\n        \"samples\": [\n          \"La editorial 00h00 (que se pronuncia \\\"z\\u00e9ro heure\\\") aparece en mayo de\",\n          \"vez hay m\\u00e1s adeptos de los contratos flexibles \\u0096copyleft, GPL (General\",\n          \"red.\"\n        ],\n        \"semantic_type\": \"\",\n        \"description\": \"\"\n      }\n    }\n  ]\n}"
            }
          },
          "metadata": {},
          "execution_count": 2
        }
      ]
    },
    {
      "cell_type": "markdown",
      "metadata": {
        "id": "VeMpWpiyG5Ya"
      },
      "source": [
        "Consideraremos que cada secuencia para este dataset es un verso.\n",
        "\n",
        "Una de las primeras decisiones que hay que tomar es el tamaño de contexto de tokens máximo que puede consumir el modelo. Este podría ser un hiperparámetro del problema.\n",
        "\n",
        "Para elegir el tamaño de contexto máximo para este problema se puede explorar el dataset, para ello:\n",
        "- se consideran las palabras como términos.\n",
        "- se segmentará el texto de todos los versos del dataset y ses explorará la cantidad de términos presentes.\n",
        "\n"
      ]
    },
    {
      "cell_type": "code",
      "execution_count": null,
      "metadata": {
        "id": "riT898QlZnmF",
        "colab": {
          "base_uri": "https://localhost:8080/"
        },
        "outputId": "12f68ddb-115d-4aed-cd80-7eb5f2e2808f"
      },
      "outputs": [
        {
          "output_type": "stream",
          "name": "stdout",
          "text": [
            "Cantidad de documentos: 4265\n"
          ]
        }
      ],
      "source": [
        "print(\"Cantidad de documentos:\", df.shape[0])"
      ]
    },
    {
      "cell_type": "markdown",
      "metadata": {
        "id": "cP1JdiOIKQWi"
      },
      "source": [
        "### Elegir el tamaño del contexto"
      ]
    },
    {
      "cell_type": "code",
      "execution_count": 3,
      "metadata": {
        "id": "m5FeTaGvbDbw"
      },
      "outputs": [],
      "source": [
        "# Usaremos las utilidades de procesamiento de textos y secuencias de Keras\n",
        "from tensorflow.keras.preprocessing.text import Tokenizer # equivalente a ltokenizer de nltk\n",
        "from tensorflow.keras.preprocessing.text import text_to_word_sequence # equivalente a word_tokenize de nltk\n",
        "from tensorflow.keras.utils import pad_sequences # se utilizará para padding\n"
      ]
    },
    {
      "cell_type": "code",
      "execution_count": 4,
      "metadata": {
        "id": "jveeyMVKHn9J"
      },
      "outputs": [],
      "source": [
        "# cada verso lo guardamos en una lista\n",
        "text = list(df.loc[:,0])\n"
      ]
    },
    {
      "cell_type": "code",
      "execution_count": 5,
      "metadata": {
        "id": "CMu9CX34J8RQ"
      },
      "outputs": [],
      "source": [
        "# segmentamos el texto con la utilidad de Keras\n",
        "segmented_sentences = [text_to_word_sequence(sentence) for sentence in text]"
      ]
    },
    {
      "cell_type": "code",
      "source": [
        "text[0]"
      ],
      "metadata": {
        "id": "neCJEVNvkkjE",
        "colab": {
          "base_uri": "https://localhost:8080/",
          "height": 36
        },
        "outputId": "8d1e8a0d-6c95-4965-bae3-aa98b98a2cc7"
      },
      "execution_count": null,
      "outputs": [
        {
          "output_type": "execute_result",
          "data": {
            "text/plain": [
              "'DEL LIBRO IMPRESO AL LIBRO DIGITAL'"
            ],
            "application/vnd.google.colaboratory.intrinsic+json": {
              "type": "string"
            }
          },
          "metadata": {},
          "execution_count": 7
        }
      ]
    },
    {
      "cell_type": "code",
      "source": [
        "segmented_sentences[0]"
      ],
      "metadata": {
        "id": "duxuc-DVkcpP",
        "colab": {
          "base_uri": "https://localhost:8080/"
        },
        "outputId": "f1794739-c371-476b-b09e-36c07842ac7b"
      },
      "execution_count": null,
      "outputs": [
        {
          "output_type": "execute_result",
          "data": {
            "text/plain": [
              "['del', 'libro', 'impreso', 'al', 'libro', 'digital']"
            ]
          },
          "metadata": {},
          "execution_count": 8
        }
      ]
    },
    {
      "cell_type": "code",
      "execution_count": 6,
      "metadata": {
        "id": "x35rV7QZH49n"
      },
      "outputs": [],
      "source": [
        "# calculamos la longitud de cada secuencia\n",
        "length_sentences = [len(sentence) for sentence in segmented_sentences]"
      ]
    },
    {
      "cell_type": "code",
      "execution_count": null,
      "metadata": {
        "id": "R8P8vDXRII4c",
        "colab": {
          "base_uri": "https://localhost:8080/",
          "height": 517
        },
        "outputId": "3f6ae22e-ba5d-4233-838d-9f7db2d23447"
      },
      "outputs": [
        {
          "output_type": "execute_result",
          "data": {
            "text/plain": [
              "(array([  5., 109.,  71.,  76.,  97.,  67.,  62.,  95., 143.,   0., 355.,\n",
              "        721., 821., 831., 489., 232.,  69.,  18.,   3.,   1.]),\n",
              " array([ 0. ,  0.9,  1.8,  2.7,  3.6,  4.5,  5.4,  6.3,  7.2,  8.1,  9. ,\n",
              "         9.9, 10.8, 11.7, 12.6, 13.5, 14.4, 15.3, 16.2, 17.1, 18. ]),\n",
              " <BarContainer object of 20 artists>)"
            ]
          },
          "metadata": {},
          "execution_count": 8
        },
        {
          "output_type": "display_data",
          "data": {
            "text/plain": [
              "<Figure size 640x480 with 1 Axes>"
            ],
            "image/png": "[encoded data removed]"
          },
          "metadata": {}
        }
      ],
      "source": [
        "# podemos ver su distribución\n",
        "plt.hist(length_sentences,bins=20)"
      ]
    },
    {
      "cell_type": "code",
      "execution_count": 7,
      "metadata": {
        "id": "wumBNwdjJM3j",
        "colab": {
          "base_uri": "https://localhost:8080/"
        },
        "outputId": "dbc99cb9-e76c-45e3-c880-a20984cbf5d3"
      },
      "outputs": [
        {
          "output_type": "stream",
          "name": "stdout",
          "text": [
            "max_context_size: 12\n"
          ]
        }
      ],
      "source": [
        "# a partir de la distribución de longitudes de secuencias elegimos algún criterio\n",
        "# para determinar el máximo tamaño de contexto. En este caso es un percentil, pero\n",
        "# otros criterios también pueden ser válidos con la justificación adecuada.\n",
        "# También puede ser una selección \"a mano\"\n",
        "\n",
        "# el -1 es porque el último token será el target\n",
        "max_context_size = int(np.percentile(length_sentences, 90)-1)\n",
        "\n",
        "# max_context_size = int(np.ceil(np.mean(length_sentences))) # criterio de media\n",
        "# max_context_size = int(np.ceil(np.median(length_sentences))) # criterio de mediana\n",
        "print(f'max_context_size: {max_context_size}')"
      ]
    },
    {
      "cell_type": "markdown",
      "metadata": {
        "id": "2oIUjVU0LB0r"
      },
      "source": [
        "###  Tokenizar"
      ]
    },
    {
      "cell_type": "code",
      "execution_count": 8,
      "metadata": {
        "id": "_XKQIpRiLNbg"
      },
      "outputs": [],
      "source": [
        "# instanciamos el tokenizador\n",
        "tok = Tokenizer()\n",
        "\n",
        "# El tokenizer \"aprende\" las palabras que se usaran\n",
        "# Se construye (fit) una vez por proyecto, se aplica N veces (tal cual un encoder)\n",
        "# El token 0 es reservado y no es asignado. Se utiliza para designar a palabras\n",
        "# fuera del vocabulario aprendido\n",
        "tok.fit_on_texts(segmented_sentences)\n",
        "\n",
        "# Convertimos las palabras a números\n",
        "# entran palabras -> salen números\n",
        "tokenized_sentences = tok.texts_to_sequences(segmented_sentences)"
      ]
    },
    {
      "cell_type": "code",
      "source": [
        "tokenized_sentences[0]"
      ],
      "metadata": {
        "id": "AK2wfHyslrTz",
        "colab": {
          "base_uri": "https://localhost:8080/"
        },
        "outputId": "c7825f66-aa73-46bf-9e8e-50d1185022d8"
      },
      "execution_count": null,
      "outputs": [
        {
          "output_type": "execute_result",
          "data": {
            "text/plain": [
              "[10, 30, 252, 19, 30, 35]"
            ]
          },
          "metadata": {},
          "execution_count": 11
        }
      ]
    },
    {
      "cell_type": "code",
      "source": [
        "segmented_sentences[0]"
      ],
      "metadata": {
        "id": "s-93u9lxlwlP",
        "colab": {
          "base_uri": "https://localhost:8080/"
        },
        "outputId": "f253f7ae-d956-4d4d-e448-7bd8e33a4a87"
      },
      "execution_count": null,
      "outputs": [
        {
          "output_type": "execute_result",
          "data": {
            "text/plain": [
              "['del', 'libro', 'impreso', 'al', 'libro', 'digital']"
            ]
          },
          "metadata": {},
          "execution_count": 14
        }
      ]
    },
    {
      "cell_type": "markdown",
      "metadata": {
        "id": "pfpYcaypKcI9"
      },
      "source": [
        "### Organizando y estructurando el dataset"
      ]
    },
    {
      "cell_type": "markdown",
      "metadata": {
        "id": "l3iPTx-UJl6r"
      },
      "source": [
        "En este punto tenemos en la variable `tokenized_sentences` los versos tokenizados. Vamos a quedarnos con un conjunto de validación que utilizaremos para medir la calidad de la generación de secuencias con la métrica de Perplejidad."
      ]
    },
    {
      "cell_type": "code",
      "execution_count": 9,
      "metadata": {
        "id": "cSeqVGyV_wz5"
      },
      "outputs": [],
      "source": [
        "tokenized_sentences_train, tokenized_sentences_val, _, _ = train_test_split(tokenized_sentences, tokenized_sentences, test_size=0.2, random_state=42)"
      ]
    },
    {
      "cell_type": "markdown",
      "metadata": {
        "id": "gmsoPbV6LxcW"
      },
      "source": [
        "\\Vamos a splitear las oraciones que tienen tamaño mayor al contexto máximo, para generarnos más secuencias de entrenamiento. Este paso puede obviarse si el tamaño de contexto máximo es muy grande.\n",
        "\n",
        "Por ejemplo, si tenemos el texto *La bella y graciosa moza marchóse a lavar la ropa* y nuestro contexto es de 5 palabras, tendremos:\n",
        "\n",
        "- *La bella y graciosa moza*\n",
        "- *bella y graciosa moza marchóse*\n",
        "- *y graciosa moza marchóse a*\n",
        "- *graciosa moza marchóse a lavar*\n",
        "- *moza marchóse a lavar la*\n",
        "- *marchóse a lavar la ropa*"
      ]
    },
    {
      "cell_type": "code",
      "execution_count": 10,
      "metadata": {
        "id": "E5BPO4qPPnNR"
      },
      "outputs": [],
      "source": [
        "tok_sent = []\n",
        "\n",
        "for sent in tokenized_sentences_train:\n",
        "\n",
        "  # si la secuencia tiene más términos que el tamaño de contexto máximo,\n",
        "  # armo varias sub-secuencias de tamaño máximo\n",
        "  if len(sent) > (max_context_size+1):\n",
        "    extra = len(sent)-(max_context_size+1) + 1\n",
        "    for i in range(extra):\n",
        "      tok_sent.append(sent[i:i+max_context_size+1])\n",
        "  else: # si la secuencia tiene menos términos el tamaño de contexto máximo, dejo la secuencia como está\n",
        "    tok_sent.append(sent)\n"
      ]
    },
    {
      "cell_type": "code",
      "execution_count": null,
      "metadata": {
        "id": "RiEt0AAz_64v",
        "colab": {
          "base_uri": "https://localhost:8080/"
        },
        "outputId": "05df05d7-ab05-456e-9d8d-1a724da5ae11"
      },
      "outputs": [
        {
          "output_type": "execute_result",
          "data": {
            "text/plain": [
              "3750"
            ]
          },
          "metadata": {},
          "execution_count": 17
        }
      ],
      "source": [
        "len(tok_sent)"
      ]
    },
    {
      "cell_type": "markdown",
      "metadata": {
        "id": "QnwSC7A_LWfd"
      },
      "source": [
        "Ahora aumentamos los datos aprovechando que de una secuencia grande se pueden generar varias más pequeñas:\n",
        "\n",
        "- *La hermosa casa en el prado*\n",
        "- *La hermosa*\n",
        "- *La hermosa casa*\n",
        "- *La hermosa casa en*\n",
        "- *La hermosa casa en el*\n",
        "- *La hermosa casa en el prado*"
      ]
    },
    {
      "cell_type": "code",
      "execution_count": 11,
      "metadata": {
        "id": "lWdhVV04htki"
      },
      "outputs": [],
      "source": [
        "tok_sent_augm = []\n",
        "\n",
        "for sent in tok_sent:\n",
        "\n",
        "  # generamos todas las sub-secuencias\n",
        "  subseq = [sent[:i+2] for i in range(len(sent)-1)]\n",
        "  # en esta línea paddeamos al tamaño de contexto máximo\n",
        "  tok_sent_augm.append(pad_sequences(subseq, maxlen=max_context_size+1, padding='pre'))\n"
      ]
    },
    {
      "cell_type": "code",
      "execution_count": 12,
      "metadata": {
        "id": "THXXBya1tnZ8"
      },
      "outputs": [],
      "source": [
        "# finalmente concatenamos todas las secuencias en un único array de numpy\n",
        "train_seqs = np.concatenate(tok_sent_augm, axis=0)"
      ]
    },
    {
      "cell_type": "code",
      "execution_count": null,
      "metadata": {
        "id": "o5Uiflnwt10J",
        "colab": {
          "base_uri": "https://localhost:8080/"
        },
        "outputId": "dc52ef03-3ce0-4fb9-95c2-6336eace4dfa"
      },
      "outputs": [
        {
          "output_type": "execute_result",
          "data": {
            "text/plain": [
              "(35330, 13)"
            ]
          },
          "metadata": {},
          "execution_count": 18
        }
      ],
      "source": [
        "train_seqs.shape"
      ]
    },
    {
      "cell_type": "code",
      "execution_count": 13,
      "metadata": {
        "id": "yprwJHiMBQIS"
      },
      "outputs": [],
      "source": [
        "# y de aquí sacamos las entradas y los targets que consumirá nuestro sistema en\n",
        "# tiempo de entrenamiento\n",
        "X = train_seqs[:,:-1]\n",
        "y = train_seqs[:,1:]"
      ]
    },
    {
      "cell_type": "markdown",
      "source": [
        "Nótese que estamos estructurando el problema de aprendizaje como *many-to-many*:\n",
        "\n",
        "Entrada: secuencia de tokens [$x_0$, $x_1$, ..., $x_N$]\n",
        "\n",
        "Target: secuencia de tokens [$x_1$, $x_2$, ..., $x_{N+1}$]\n",
        "\n",
        "De manera que la red tiene que aprender que su salida deben ser los tokens desplazados en una posición y un nuevo token predicho (el N+1).\n",
        "\n",
        "La ventaja de estructurar el aprendizaje de esta manera es que para cada token de target se propaga una señal de gradiente por el grafo de cómputo recurrente, que es mejor que estructurar el problema como *many-to-one* en donde sólo una señal de gradiente se propaga."
      ],
      "metadata": {
        "id": "YxuKNI05Ttct"
      }
    },
    {
      "cell_type": "code",
      "source": [
        "y.shape"
      ],
      "metadata": {
        "id": "KFAyA4zCWE-5",
        "colab": {
          "base_uri": "https://localhost:8080/"
        },
        "outputId": "7836eefe-a9d3-4c94-a12c-e9bf464b4839"
      },
      "execution_count": null,
      "outputs": [
        {
          "output_type": "execute_result",
          "data": {
            "text/plain": [
              "(35330, 12)"
            ]
          },
          "metadata": {},
          "execution_count": 20
        }
      ]
    },
    {
      "cell_type": "code",
      "execution_count": null,
      "metadata": {
        "id": "1D9ESMGyB_QD",
        "colab": {
          "base_uri": "https://localhost:8080/"
        },
        "outputId": "fb622907-a579-4608-c4d7-57bfd164c6c4"
      },
      "outputs": [
        {
          "output_type": "execute_result",
          "data": {
            "text/plain": [
              "{1: 'de',\n",
              " 2: 'en',\n",
              " 3: 'la',\n",
              " 4: 'el',\n",
              " 5: 'y',\n",
              " 6: 'a',\n",
              " 7: 'los',\n",
              " 8: 'que',\n",
              " 9: 'un',\n",
              " 10: 'del',\n",
              " 11: 'las',\n",
              " 12: 'se',\n",
              " 13: 'por',\n",
              " 14: 'una',\n",
              " 15: 'con',\n",
              " 16: 'para',\n",
              " 17: 'es',\n",
              " 18: 'libros',\n",
              " 19: 'al',\n",
              " 20: 'no',\n",
              " 21: 'su',\n",
              " 22: 'web',\n",
              " 23: 'más',\n",
              " 24: 'o',\n",
              " 25: 'también',\n",
              " 26: 'internet',\n",
              " 27: 'como',\n",
              " 28: 'años',\n",
              " 29: 'lo',\n",
              " 30: 'libro',\n",
              " 31: '000',\n",
              " 32: 'línea',\n",
              " 33: 'sitio',\n",
              " 34: 'sus',\n",
              " 35: 'digital',\n",
              " 36: 'proyecto',\n",
              " 37: 'este',\n",
              " 38: '2000',\n",
              " 39: 'ya',\n",
              " 40: 'digitales',\n",
              " 41: 'obras',\n",
              " 42: 'pero',\n",
              " 43: 'lectura',\n",
              " 44: 'millones',\n",
              " 45: 'ha',\n",
              " 46: 'información',\n",
              " 47: 'sobre',\n",
              " 48: 'me',\n",
              " 49: 'gutenberg',\n",
              " 50: 'público',\n",
              " 51: 'reader',\n",
              " 52: 'puede',\n",
              " 53: 'versión',\n",
              " 54: 'autor',\n",
              " 55: 'entre',\n",
              " 56: 'esta',\n",
              " 57: 'son',\n",
              " 58: 'amazon',\n",
              " 59: 'formato',\n",
              " 60: 'acceso',\n",
              " 61: 'editores',\n",
              " 62: 'ser',\n",
              " 63: 'textos',\n",
              " 64: 'biblioteca',\n",
              " 65: 'texto',\n",
              " 66: 'copyright',\n",
              " 67: 'e',\n",
              " 68: '1',\n",
              " 69: 'algunos',\n",
              " 70: '2001',\n",
              " 71: 'derechos',\n",
              " 72: 'cada',\n",
              " 73: 'títulos',\n",
              " 74: 'permite',\n",
              " 75: 'software',\n",
              " 76: 'modo',\n",
              " 77: 'red',\n",
              " 78: 'dos',\n",
              " 79: 'mundo',\n",
              " 80: 'ebook',\n",
              " 81: 'ejemplo',\n",
              " 82: 'sólo',\n",
              " 83: 'sin',\n",
              " 84: 'vez',\n",
              " 85: '2003',\n",
              " 86: 'todos',\n",
              " 87: 'uno',\n",
              " 88: 'archivos',\n",
              " 89: 'etc',\n",
              " 90: 'han',\n",
              " 91: 'estados',\n",
              " 92: 'cualquier',\n",
              " 93: 'está',\n",
              " 94: 'si',\n",
              " 95: 'unidos',\n",
              " 96: 'editorial',\n",
              " 97: 'autores',\n",
              " 98: 'documentos',\n",
              " 99: 'cuenta',\n",
              " 100: 'trabajo',\n",
              " 101: '2007',\n",
              " 102: 'pda',\n",
              " 103: '1998',\n",
              " 104: 'muy',\n",
              " 105: 'mi',\n",
              " 106: '2006',\n",
              " 107: 'bibliotecas',\n",
              " 108: 'otros',\n",
              " 109: 'antes',\n",
              " 110: 'sociedad',\n",
              " 111: 'desde',\n",
              " 112: 'inglés',\n",
              " 113: 'dominio',\n",
              " 114: 'luego',\n",
              " 115: 'tiempo',\n",
              " 116: 'sitios',\n",
              " 117: 'mucho',\n",
              " 118: 'edición',\n",
              " 119: 'pantalla',\n",
              " 120: 'sea',\n",
              " 121: 'idiomas',\n",
              " 122: 'están',\n",
              " 123: 'todo',\n",
              " 124: 'pueden',\n",
              " 125: 'tanto',\n",
              " 126: 'parte',\n",
              " 127: 'agosto',\n",
              " 128: 'diciembre',\n",
              " 129: 'octubre',\n",
              " 130: 'multimedia',\n",
              " 131: 'google',\n",
              " 132: 'unos',\n",
              " 133: '1999',\n",
              " 134: 'varios',\n",
              " 135: 'primer',\n",
              " 136: 'así',\n",
              " 137: 'le',\n",
              " 138: 'enero',\n",
              " 139: 'contenido',\n",
              " 140: 'of',\n",
              " 141: 'partir',\n",
              " 142: 'microsoft',\n",
              " 143: 'durante',\n",
              " 144: 'libre',\n",
              " 145: 'difusión',\n",
              " 146: 'the',\n",
              " 147: 'después',\n",
              " 148: '2002',\n",
              " 149: 'fecha',\n",
              " 150: 'misma',\n",
              " 151: 'artículos',\n",
              " 152: 'gracias',\n",
              " 153: 'páginas',\n",
              " 154: 'noviembre',\n",
              " 155: 'posible',\n",
              " 156: 'año',\n",
              " 157: 'mismo',\n",
              " 158: 'ahora',\n",
              " 159: 'francés',\n",
              " 160: 'aún',\n",
              " 161: 'tres',\n",
              " 162: 'incluso',\n",
              " 163: 'sino',\n",
              " 164: 'usuarios',\n",
              " 165: 'colecciones',\n",
              " 166: '2005',\n",
              " 167: 'bien',\n",
              " 168: 'impresa',\n",
              " 169: 'julio',\n",
              " 170: 'michael',\n",
              " 171: 'porque',\n",
              " 172: 'forma',\n",
              " 173: 'ebooks',\n",
              " 174: 'mayo',\n",
              " 175: '2',\n",
              " 176: 'abril',\n",
              " 177: 'mobipocket',\n",
              " 178: 'tiene',\n",
              " 179: 'novela',\n",
              " 180: 'electrónica',\n",
              " 181: 'hay',\n",
              " 182: 'publicación',\n",
              " 183: 'tras',\n",
              " 184: 'nuevo',\n",
              " 185: 'electrónico',\n",
              " 186: 'esto',\n",
              " 187: 'nuevas',\n",
              " 188: 'catálogo',\n",
              " 189: 'disponibles',\n",
              " 190: 'derecho',\n",
              " 191: 'otras',\n",
              " 192: 'fue',\n",
              " 193: 'digitalización',\n",
              " 194: '2004',\n",
              " 195: 'nueva',\n",
              " 196: 'lanza',\n",
              " 197: 'leer',\n",
              " 198: 'cuando',\n",
              " 199: '10',\n",
              " 200: 'primera',\n",
              " 201: 'francia',\n",
              " 202: 'he',\n",
              " 203: 'pdf',\n",
              " 204: '2010',\n",
              " 205: 'diez',\n",
              " 206: 'prensa',\n",
              " 207: 'com',\n",
              " 208: 'librería',\n",
              " 209: 'fin',\n",
              " 210: 'página',\n",
              " 211: '3',\n",
              " 212: 'poco',\n",
              " 213: 'entonces',\n",
              " 214: '1997',\n",
              " 215: 'junio',\n",
              " 216: 'actividad',\n",
              " 217: 'sido',\n",
              " 218: 'bajo',\n",
              " 219: 'menos',\n",
              " 220: 'día',\n",
              " 221: 'online',\n",
              " 222: 'books',\n",
              " 223: 'tarde',\n",
              " 224: 'países',\n",
              " 225: 'febrero',\n",
              " 226: 'datos',\n",
              " 227: 'plos',\n",
              " 228: 'palm',\n",
              " 229: 'personas',\n",
              " 230: 'ordenador',\n",
              " 231: 'personal',\n",
              " 232: 'tecnologías',\n",
              " 233: 'librerías',\n",
              " 234: 'escritura',\n",
              " 235: 'hasta',\n",
              " 236: 'aunque',\n",
              " 237: 'crear',\n",
              " 238: 'mes',\n",
              " 239: 'obra',\n",
              " 240: 'lugar',\n",
              " 241: 'varias',\n",
              " 242: 'marzo',\n",
              " 243: 'ni',\n",
              " 244: 'europa',\n",
              " 245: 'creación',\n",
              " 246: 'precio',\n",
              " 247: '500',\n",
              " 248: 'nuevos',\n",
              " 249: 'otro',\n",
              " 250: 'servicio',\n",
              " 251: 'pc',\n",
              " 252: 'impreso',\n",
              " 253: 'internacional',\n",
              " 254: 'modelo',\n",
              " 255: 'publicado',\n",
              " 256: 'estos',\n",
              " 257: 'literatura',\n",
              " 258: 'parís',\n",
              " 259: 'decir',\n",
              " 260: 'además',\n",
              " 261: 'desarrollo',\n",
              " 262: '\\x96',\n",
              " 263: 'explica',\n",
              " 264: 'universidad',\n",
              " 265: 'mis',\n",
              " 266: 'saber',\n",
              " 267: 'comunicación',\n",
              " 268: 'gran',\n",
              " 269: 'lanzado',\n",
              " 270: 'nacional',\n",
              " 271: 'sistema',\n",
              " 272: 'grandes',\n",
              " 273: 'muchos',\n",
              " 274: 'imágenes',\n",
              " 275: 'lectores',\n",
              " 276: 'editor',\n",
              " 277: 'adobe',\n",
              " 278: 'todas',\n",
              " 279: 'hace',\n",
              " 280: 'tabletas',\n",
              " 281: 'library',\n",
              " 282: 'nos',\n",
              " 283: 'original',\n",
              " 284: 'poner',\n",
              " 285: 'sigue',\n",
              " 286: '1996',\n",
              " 287: 'casi',\n",
              " 288: 'título',\n",
              " 289: 'cylibris',\n",
              " 290: 'formatos',\n",
              " 291: 'electrónicos',\n",
              " 292: 'español',\n",
              " 293: 'nuestro',\n",
              " 294: 'resumen',\n",
              " 295: 'trata',\n",
              " 296: 'versiones',\n",
              " 297: 'hecho',\n",
              " 298: '4',\n",
              " 299: 'número',\n",
              " 300: 'papel',\n",
              " 301: 'espacio',\n",
              " 302: 'empieza',\n",
              " 303: 'objetivo',\n",
              " 304: 'siendo',\n",
              " 305: 'meses',\n",
              " 306: 'diferentes',\n",
              " 307: 'usd',\n",
              " 308: 'base',\n",
              " 309: 'mercado',\n",
              " 310: 'escribe',\n",
              " 311: 'hacia',\n",
              " 312: 'algunas',\n",
              " 313: 'open',\n",
              " 314: 'éste',\n",
              " 315: 'era',\n",
              " 316: 'cuanto',\n",
              " 317: 'producción',\n",
              " 318: 'mientras',\n",
              " 319: 'propone',\n",
              " 320: 'utilizar',\n",
              " 321: 'cd',\n",
              " 322: 'lector',\n",
              " 323: 'septiembre',\n",
              " 324: 'parece',\n",
              " 325: 'venta',\n",
              " 326: 'imagen',\n",
              " 327: 'miles',\n",
              " 328: '1971',\n",
              " 329: 'pone',\n",
              " 330: 'enciclopedia',\n",
              " 331: 'numilog',\n",
              " 332: 'hipermedia',\n",
              " 333: 'había',\n",
              " 334: '100',\n",
              " 335: '20',\n",
              " 336: 'búsqueda',\n",
              " 337: 'disposición',\n",
              " 338: 'otra',\n",
              " 339: 'resulta',\n",
              " 340: 'uso',\n",
              " 341: 'distribución',\n",
              " 342: 'lengua',\n",
              " 343: 'pierre',\n",
              " 344: 'cuales',\n",
              " 345: '2008',\n",
              " 346: 'servicios',\n",
              " 347: 'pocket',\n",
              " 348: 'medio',\n",
              " 349: 'horas',\n",
              " 350: 'disponible',\n",
              " 351: 'historia',\n",
              " 352: 'traducción',\n",
              " 353: 'lanzada',\n",
              " 354: 'futuro',\n",
              " 355: '00h00',\n",
              " 356: 'vía',\n",
              " 357: 'través',\n",
              " 358: 'siglo',\n",
              " 359: '5',\n",
              " 360: 'primeras',\n",
              " 361: 'pueda',\n",
              " 362: 'total',\n",
              " 363: 'será',\n",
              " 364: 'comercial',\n",
              " 365: 'finales',\n",
              " 366: 'consultar',\n",
              " 367: 'ofrece',\n",
              " 368: 'pago',\n",
              " 369: 'empleados',\n",
              " 370: 'europea',\n",
              " 371: 'experiencia',\n",
              " 372: 'primero',\n",
              " 373: 'modelos',\n",
              " 374: 'hoy',\n",
              " 375: '2009',\n",
              " 376: 'pasado',\n",
              " 377: 'hart',\n",
              " 378: 'voluntarios',\n",
              " 379: 'alemania',\n",
              " 380: 'revistas',\n",
              " 381: 'tener',\n",
              " 382: '16',\n",
              " 383: 'persona',\n",
              " 384: 'programa',\n",
              " 385: 'haber',\n",
              " 386: 'cual',\n",
              " 387: 'hacer',\n",
              " 388: 'mundial',\n",
              " 389: '15',\n",
              " 390: 'dentro',\n",
              " 391: 'gemstar',\n",
              " 392: 'informática',\n",
              " 393: 'manera',\n",
              " 394: 'tipo',\n",
              " 395: 'general',\n",
              " 396: 'según',\n",
              " 397: 'clientes',\n",
              " 398: 'tableta',\n",
              " 399: 'canadá',\n",
              " 400: 'gallica',\n",
              " 401: 'ascii',\n",
              " 402: 'novelas',\n",
              " 403: 'estas',\n",
              " 404: 'pues',\n",
              " 405: 'cien',\n",
              " 406: 'tradicional',\n",
              " 407: 'convierte',\n",
              " 408: 'sí',\n",
              " 409: 'representa',\n",
              " 410: '1995',\n",
              " 411: 'periódicos',\n",
              " 412: 'veces',\n",
              " 413: 'francesa',\n",
              " 414: 'caracteres',\n",
              " 415: 'plazo',\n",
              " 416: 'calidad',\n",
              " 417: '30',\n",
              " 418: 'correo',\n",
              " 419: 'tan',\n",
              " 420: 'palabras',\n",
              " 421: 'medios',\n",
              " 422: 'yo',\n",
              " 423: 'tema',\n",
              " 424: 'último',\n",
              " 425: 'siguen',\n",
              " 426: 'material',\n",
              " 427: 'decide',\n",
              " 428: 'actividades',\n",
              " 429: 'mit',\n",
              " 430: 'impresión',\n",
              " 431: 'siempre',\n",
              " 432: 'wikipedia',\n",
              " 433: 'cinco',\n",
              " 434: '1990',\n",
              " 435: 'cuya',\n",
              " 436: 'libreros',\n",
              " 437: 'directamente',\n",
              " 438: 'totalidad',\n",
              " 439: 'gratuita',\n",
              " 440: 'problema',\n",
              " 441: 'debido',\n",
              " 442: 'estándar',\n",
              " 443: '8',\n",
              " 444: 'películas',\n",
              " 445: 'idioma',\n",
              " 446: 'nuestros',\n",
              " 447: 'public',\n",
              " 448: 'principio',\n",
              " 449: 'soporte',\n",
              " 450: 'archive',\n",
              " 451: 'profesional',\n",
              " 452: 'reino',\n",
              " 453: 'unido',\n",
              " 454: 'california',\n",
              " 455: 'documento',\n",
              " 456: 'abre',\n",
              " 457: 'ventas',\n",
              " 458: 'lanzamiento',\n",
              " 459: 'nuestra',\n",
              " 460: 'kindle',\n",
              " 461: 'acrobat',\n",
              " 462: 'teléfono',\n",
              " 463: 'smartphone',\n",
              " 464: 'convergencia',\n",
              " 465: 'diccionarios',\n",
              " 466: 'esos',\n",
              " 467: 'propia',\n",
              " 468: 'primeros',\n",
              " 469: 'archivo',\n",
              " 470: 'mayor',\n",
              " 471: 'digitalizar',\n",
              " 472: 'sectores',\n",
              " 473: 'nivel',\n",
              " 474: 'encontrar',\n",
              " 475: 'descargar',\n",
              " 476: 'italiano',\n",
              " 477: 'debe',\n",
              " 478: 'dvd',\n",
              " 479: 'ésta',\n",
              " 480: 'proponer',\n",
              " 481: 'estar',\n",
              " 482: 'necesidad',\n",
              " 483: 'embargo',\n",
              " 484: '6',\n",
              " 485: 'tecnología',\n",
              " 486: '7',\n",
              " 487: 'enlaces',\n",
              " 488: 'bases',\n",
              " 489: 'director',\n",
              " 490: 'supuesto',\n",
              " 491: 'france',\n",
              " 492: 'serie',\n",
              " 493: 'problemas',\n",
              " 494: 'jean',\n",
              " 495: 'convertirse',\n",
              " 496: 'colaboración',\n",
              " 497: 'sometidos',\n",
              " 498: 'pilot',\n",
              " 499: 'franklin',\n",
              " 500: 'psion',\n",
              " 501: 'sony',\n",
              " 502: 'cabo',\n",
              " 503: 'page',\n",
              " 504: 'zine',\n",
              " 505: 'creado',\n",
              " 506: 'posibilidad',\n",
              " 507: 'fragmentos',\n",
              " 508: 'términos',\n",
              " 509: 'podría',\n",
              " 510: 'ley',\n",
              " 511: '1993',\n",
              " 512: 'tamaño',\n",
              " 513: '25',\n",
              " 514: 'único',\n",
              " 515: 'iniciativa',\n",
              " 516: '50',\n",
              " 517: 'comerciales',\n",
              " 518: 'noble',\n",
              " 519: 'quizás',\n",
              " 520: 'idea',\n",
              " 521: 'john',\n",
              " 522: 'tengo',\n",
              " 523: 'trabajos',\n",
              " 524: 'empiezan',\n",
              " 525: 'national',\n",
              " 526: 'diario',\n",
              " 527: 'formación',\n",
              " 528: 'japón',\n",
              " 529: 'caso',\n",
              " 530: 'mejor',\n",
              " 531: 'productos',\n",
              " 532: 'empresa',\n",
              " 533: 'gestión',\n",
              " 534: 'anuncia',\n",
              " 535: 'press',\n",
              " 536: 'investigadores',\n",
              " 537: 'utiliza',\n",
              " 538: 'empleos',\n",
              " 539: 'oeb',\n",
              " 540: 'multilingüe',\n",
              " 541: 'unicode',\n",
              " 542: 'creative',\n",
              " 543: 'commons',\n",
              " 544: 'smartphones',\n",
              " 545: 'convertido',\n",
              " 546: 'electrónicas',\n",
              " 547: 'letras',\n",
              " 548: 'época',\n",
              " 549: 'cómo',\n",
              " 550: 'media',\n",
              " 551: 'música',\n",
              " 552: 'alcanza',\n",
              " 553: '9',\n",
              " 554: 'punto',\n",
              " 555: 'sección',\n",
              " 556: 've',\n",
              " 557: 'culturales',\n",
              " 558: 'poder',\n",
              " 559: 'significa',\n",
              " 560: 'rom',\n",
              " 561: 'segundo',\n",
              " 562: 'ningún',\n",
              " 563: 'barnes',\n",
              " 564: 'relata',\n",
              " 565: 'importante',\n",
              " 566: 'redacción',\n",
              " 567: 'videos',\n",
              " 568: 'asociados',\n",
              " 569: 'les',\n",
              " 570: 'contratos',\n",
              " 571: 'et',\n",
              " 572: 'eso',\n",
              " 573: 'libremente',\n",
              " 574: 'universidades',\n",
              " 575: 'científica',\n",
              " 576: 'sistemas',\n",
              " 577: 'permiten',\n",
              " 578: 'enseñanza',\n",
              " 579: 'basado',\n",
              " 580: 'unas',\n",
              " 581: 'net',\n",
              " 582: 'des',\n",
              " 583: 'franceses',\n",
              " 584: 'poesía',\n",
              " 585: 'content',\n",
              " 586: 'gratuitamente',\n",
              " 587: 'van',\n",
              " 588: 'informático',\n",
              " 589: 'plataforma',\n",
              " 590: 'conjunto',\n",
              " 591: 'nunca',\n",
              " 592: 'ediciones',\n",
              " 593: 'publicada',\n",
              " 594: '1994',\n",
              " 595: 'presentación',\n",
              " 596: 'x',\n",
              " 597: 'puesto',\n",
              " 598: '300',\n",
              " 599: 'rápido',\n",
              " 600: 'concebido',\n",
              " 601: 'debería',\n",
              " 602: 'alemán',\n",
              " 603: 'siguientes',\n",
              " 604: 'crea',\n",
              " 605: 'palabra',\n",
              " 606: 'almacenamiento',\n",
              " 607: 'máquinas',\n",
              " 608: 'opinión',\n",
              " 609: 'gratuito',\n",
              " 610: 'gratis',\n",
              " 611: 'cultura',\n",
              " 612: 'investigación',\n",
              " 613: 'quien',\n",
              " 614: 'legislación',\n",
              " 615: 'dar',\n",
              " 616: 'propios',\n",
              " 617: 'utilización',\n",
              " 618: 'empresas',\n",
              " 619: 'debate',\n",
              " 620: 'paso',\n",
              " 621: 'numerosos',\n",
              " 622: 'grupo',\n",
              " 623: 'conocer',\n",
              " 624: 'revista',\n",
              " 625: 'técnica',\n",
              " 626: 'filial',\n",
              " 627: 'estudio',\n",
              " 628: 'va',\n",
              " 629: '0',\n",
              " 630: 'cliente',\n",
              " 631: 'donde',\n",
              " 632: 'buscador',\n",
              " 633: 'centro',\n",
              " 634: 'nombre',\n",
              " 635: 'trabajadores',\n",
              " 636: 'aparatos',\n",
              " 637: 'propio',\n",
              " 638: 'nada',\n",
              " 639: 'instrumento',\n",
              " 640: 'firma',\n",
              " 641: 'hemos',\n",
              " 642: 'qué',\n",
              " 643: 'lado',\n",
              " 644: 'cuyo',\n",
              " 645: 'cambio',\n",
              " 646: 'cosas',\n",
              " 647: 'softbook',\n",
              " 648: 'vida',\n",
              " 649: 'organización',\n",
              " 650: '19',\n",
              " 651: 'asociaciones',\n",
              " 652: 'legible',\n",
              " 653: 'windows',\n",
              " 654: 'cursos',\n",
              " 655: 'citizendium',\n",
              " 656: 'ebookman',\n",
              " 657: 'últimos',\n",
              " 658: 'estudios',\n",
              " 659: 'repertorio',\n",
              " 660: 'comentarios',\n",
              " 661: 'proyectos',\n",
              " 662: 'best',\n",
              " 663: 'fábulas',\n",
              " 664: 'distributed',\n",
              " 665: 'proofreaders',\n",
              " 666: 'tienen',\n",
              " 667: 'hipertexto',\n",
              " 668: 'falta',\n",
              " 669: 'descargas',\n",
              " 670: 'envío',\n",
              " 671: 'seis',\n",
              " 672: 'relación',\n",
              " 673: 'gente',\n",
              " 674: 'capacidad',\n",
              " 675: 'existe',\n",
              " 676: 'internautas',\n",
              " 677: 'país',\n",
              " 678: 'peter',\n",
              " 679: 'cabe',\n",
              " 680: 'cuatro',\n",
              " 681: 'torno',\n",
              " 682: 'enciclopedias',\n",
              " 683: 'adelante',\n",
              " 684: 'sector',\n",
              " 685: 'frente',\n",
              " 686: 'función',\n",
              " 687: 'pasar',\n",
              " 688: '600',\n",
              " 689: 'principal',\n",
              " 690: 'veinte',\n",
              " 691: 'lenguas',\n",
              " 692: 'interés',\n",
              " 693: 'presenta',\n",
              " 694: '24',\n",
              " 695: 'momento',\n",
              " 696: 'utilizado',\n",
              " 697: 'verdadero',\n",
              " 698: 'tal',\n",
              " 699: 'sería',\n",
              " 700: 'respecto',\n",
              " 701: 'trabajar',\n",
              " 702: 'webmaster',\n",
              " 703: 'tomar',\n",
              " 704: 'ver',\n",
              " 705: 'juego',\n",
              " 706: 'realidad',\n",
              " 707: 'principios',\n",
              " 708: 'suele',\n",
              " 709: 'new',\n",
              " 710: 'york',\n",
              " 711: 'instituto',\n",
              " 712: 'periodistas',\n",
              " 713: 'responsable',\n",
              " 714: 'práctica',\n",
              " 715: 'cambios',\n",
              " 716: 'producto',\n",
              " 717: 'siguiente',\n",
              " 718: 'recibe',\n",
              " 719: 'éstos',\n",
              " 720: 'abierto',\n",
              " 721: '800',\n",
              " 722: 'fuera',\n",
              " 723: 'venden',\n",
              " 724: 'nap',\n",
              " 725: 'cuestión',\n",
              " 726: 'fundada',\n",
              " 727: 'publicar',\n",
              " 728: 'petición',\n",
              " 729: 'usuario',\n",
              " 730: 'suelen',\n",
              " 731: 'fundado',\n",
              " 732: 'nicolas',\n",
              " 733: 'posibilidades',\n",
              " 734: 'generación',\n",
              " 735: 'coste',\n",
              " 736: 'final',\n",
              " 737: 'bnf',\n",
              " 738: 'búsquedas',\n",
              " 739: 'licencia',\n",
              " 740: 'foundation',\n",
              " 741: 'science',\n",
              " 742: 'múltiples',\n",
              " 743: 'server',\n",
              " 744: 'memoria',\n",
              " 745: 'toronto',\n",
              " 746: 'edad',\n",
              " 747: 'navegación',\n",
              " 748: 'entero',\n",
              " 749: 'periodista',\n",
              " 750: 'publicados',\n",
              " 751: 'muchas',\n",
              " 752: 'copyleft',\n",
              " 753: 'alliance',\n",
              " 754: 'literarias',\n",
              " 755: 'meta',\n",
              " 756: 'aquella',\n",
              " 757: 'comunicar',\n",
              " 758: 'acceder',\n",
              " 759: 'conocimientos',\n",
              " 760: 'aparecen',\n",
              " 761: 'dólares',\n",
              " 762: 'estadounidense',\n",
              " 763: 'teclado',\n",
              " 764: 'éstas',\n",
              " 765: 'misión',\n",
              " 766: 'haya',\n",
              " 767: 'incluye',\n",
              " 768: 'continuación',\n",
              " 769: 'decenas',\n",
              " 770: 'referencia',\n",
              " 771: 'universal',\n",
              " 772: 'estudiantes',\n",
              " 773: 'visto',\n",
              " 774: 'basta',\n",
              " 775: 'buscar',\n",
              " 776: 'presente',\n",
              " 777: 'llegar',\n",
              " 778: 'millón',\n",
              " 779: '000°',\n",
              " 780: 'sencillo',\n",
              " 781: 'primavera',\n",
              " 782: 'mil',\n",
              " 783: 'cifra',\n",
              " 784: 'piensa',\n",
              " 785: 'selección',\n",
              " 786: 'realizar',\n",
              " 787: '12',\n",
              " 788: 'representan',\n",
              " 789: 'project',\n",
              " 790: 'blog',\n",
              " 791: '80',\n",
              " 792: 'insiste',\n",
              " 793: 'marco',\n",
              " 794: 'abierta',\n",
              " 795: 'ideas',\n",
              " 796: 'ninguna',\n",
              " 797: 'ordenadores',\n",
              " 798: 'demás',\n",
              " 799: 'semana',\n",
              " 800: 'segunda',\n",
              " 801: 'ofrecer',\n",
              " 802: 'creada',\n",
              " 803: 'mark',\n",
              " 804: 'esas',\n",
              " 805: 'departamento',\n",
              " 806: 'seguir',\n",
              " 807: 'únicamente',\n",
              " 808: 'propiedad',\n",
              " 809: 'asociación',\n",
              " 810: 'amplio',\n",
              " 811: 'competencia',\n",
              " 812: '28',\n",
              " 813: 'junto',\n",
              " 814: 'éxito',\n",
              " 815: 'contra',\n",
              " 816: 'diferencia',\n",
              " 817: '90',\n",
              " 818: 'condiciones',\n",
              " 819: 'europeos',\n",
              " 820: 'literario',\n",
              " 821: 'olivier',\n",
              " 822: 'presentar',\n",
              " 823: 'francófona',\n",
              " 824: 'bruno',\n",
              " 825: 'rocket',\n",
              " 826: 'comunidad',\n",
              " 827: 'medida',\n",
              " 828: 'científicos',\n",
              " 829: 'profesora',\n",
              " 830: 'nuestras',\n",
              " 831: 'tampoco',\n",
              " 832: 'soy',\n",
              " 833: 'esencialmente',\n",
              " 834: 'diseño',\n",
              " 835: 'funcionalidades',\n",
              " 836: 'wiki',\n",
              " 837: 'objeto',\n",
              " 838: 'suiza',\n",
              " 839: 'ciencias',\n",
              " 840: 'bibliotecarios',\n",
              " 841: 'digitalizados',\n",
              " 842: 'escritor',\n",
              " 843: 'ocde',\n",
              " 844: 'gama',\n",
              " 845: 'clases',\n",
              " 846: 'intercambio',\n",
              " 847: 'lenguaje',\n",
              " 848: 'unión',\n",
              " 849: 'respuesta',\n",
              " 850: 'diccionario',\n",
              " 851: 'act',\n",
              " 852: 'portal',\n",
              " 853: 'lit',\n",
              " 854: 'legibles',\n",
              " 855: 'cybook',\n",
              " 856: 'nokia',\n",
              " 857: 'relato',\n",
              " 858: 'oca',\n",
              " 859: 'marie',\n",
              " 860: 'viaje',\n",
              " 861: 'escrito',\n",
              " 862: 'ficción',\n",
              " 863: 'email',\n",
              " 864: 'nace',\n",
              " 865: 'esperar',\n",
              " 866: 'aparición',\n",
              " 867: 'compartir',\n",
              " 868: 'biblia',\n",
              " 869: 'ejemplares',\n",
              " 870: 'ellos',\n",
              " 871: 'campo',\n",
              " 872: 'completo',\n",
              " 873: 'impresos',\n",
              " 874: 'hubiera',\n",
              " 875: 'enlace',\n",
              " 876: 'ese',\n",
              " 877: 'almacenar',\n",
              " 878: 'par',\n",
              " 879: 'escritos',\n",
              " 880: 'shakespeare',\n",
              " 881: 'logra',\n",
              " 882: 'puesta',\n",
              " 883: 'reúne',\n",
              " 884: 'dirige',\n",
              " 885: 'volumen',\n",
              " 886: 'inglesa',\n",
              " 887: 'necesarios',\n",
              " 888: 'pública',\n",
              " 889: '400',\n",
              " 890: 'largo',\n",
              " 891: 'intención',\n",
              " 892: '17',\n",
              " 893: 'newsletter',\n",
              " 894: 'luz',\n",
              " 895: 'siete',\n",
              " 896: 'pesar',\n",
              " 897: 'proporciona',\n",
              " 898: 'necesita',\n",
              " 899: 'alcanzar',\n",
              " 900: 'revolución',\n",
              " 901: 'mediante',\n",
              " 902: 'métodos',\n",
              " 903: 'común',\n",
              " 904: 'puestos',\n",
              " 905: 'lista',\n",
              " 906: 'próximos',\n",
              " 907: 'tarea',\n",
              " 908: '1976',\n",
              " 909: 'clásico',\n",
              " 910: 'habrá',\n",
              " 911: 'duración',\n",
              " 912: 'intelectual',\n",
              " 913: 'times',\n",
              " 914: 'generar',\n",
              " 915: 'sonido',\n",
              " 916: 'dedicada',\n",
              " 917: 'utilizan',\n",
              " 918: 'oportunidad',\n",
              " 919: 'puertas',\n",
              " 920: 'compra',\n",
              " 921: 'vender',\n",
              " 922: 'evolución',\n",
              " 923: 'tradicionales',\n",
              " 924: 'bajos',\n",
              " 925: 'deja',\n",
              " 926: 'denis',\n",
              " 927: 'presidente',\n",
              " 928: 'añade',\n",
              " 929: 'tenemos',\n",
              " 930: 'algo',\n",
              " 931: 'economía',\n",
              " 932: 'japonés',\n",
              " 933: 'integral',\n",
              " 934: 'colección',\n",
              " 935: 'especializadas',\n",
              " 936: 'international',\n",
              " 937: 'hablar',\n",
              " 938: 'editoriales',\n",
              " 939: 'aventura',\n",
              " 940: '\\x96o',\n",
              " 941: 'ámbito',\n",
              " 942: 'literarios',\n",
              " 943: 'asociadas',\n",
              " 944: 'pequeña',\n",
              " 945: 'actualidad',\n",
              " 946: 'breve',\n",
              " 947: 'escala',\n",
              " 948: 'choucas',\n",
              " 949: 'arte',\n",
              " 950: 'bastante',\n",
              " 951: 'organismos',\n",
              " 952: 'escribir',\n",
              " 953: 'acuerdo',\n",
              " 954: 'marc',\n",
              " 955: 'aspectos',\n",
              " 956: 'sola',\n",
              " 957: 'vinculados',\n",
              " 958: 'color',\n",
              " 959: 'controlar',\n",
              " 960: 'permita',\n",
              " 961: 'visual',\n",
              " 962: 'profesor',\n",
              " 963: 'puedan',\n",
              " 964: 'simple',\n",
              " 965: 'síntesis',\n",
              " 966: 'pasteur',\n",
              " 967: 'pronto',\n",
              " 968: 'toda',\n",
              " 969: 'miembros',\n",
              " 970: 'presentes',\n",
              " 971: 'codificación',\n",
              " 972: 'yahoo',\n",
              " 973: 'world',\n",
              " 974: 'etapa',\n",
              " 975: 'comisión',\n",
              " 976: 'larry',\n",
              " 977: 'estadounidenses',\n",
              " 978: 'añaden',\n",
              " 979: '14',\n",
              " 980: 'efecto',\n",
              " 981: 'periodo',\n",
              " 982: 'didáctico',\n",
              " 983: 'aprobación',\n",
              " 984: 'especies',\n",
              " 985: 'acuerdos',\n",
              " 986: 'dedicado',\n",
              " 987: 'preguntas',\n",
              " 988: 'siglos',\n",
              " 989: 'asistente',\n",
              " 990: 'móvil',\n",
              " 991: 'virtual',\n",
              " 992: 'ayuda',\n",
              " 993: 'alicia',\n",
              " 994: 'apuesta',\n",
              " 995: 'list',\n",
              " 996: 'piloto',\n",
              " 997: 'bibliotecario',\n",
              " 998: 'plurilingüismo',\n",
              " 999: 'sellers',\n",
              " 1000: 'ciberliteratura',\n",
              " ...}"
            ]
          },
          "metadata": {},
          "execution_count": 21
        }
      ],
      "source": [
        "# Palabras del vocabulario\n",
        "tok.index_word"
      ]
    },
    {
      "cell_type": "code",
      "execution_count": 14,
      "metadata": {
        "id": "WtzINYjWCMf1",
        "colab": {
          "base_uri": "https://localhost:8080/"
        },
        "outputId": "2a7ee14a-2a6f-4add-cd51-4d8dbd211ea2"
      },
      "outputs": [
        {
          "output_type": "execute_result",
          "data": {
            "text/plain": [
              "6659"
            ]
          },
          "metadata": {},
          "execution_count": 14
        }
      ],
      "source": [
        "# Cantidad de palabras en el vocabulario\n",
        "vocab_size = len(tok.word_counts)\n",
        "vocab_size"
      ]
    },
    {
      "cell_type": "code",
      "execution_count": null,
      "metadata": {
        "id": "spTBxmFQc6h8",
        "colab": {
          "base_uri": "https://localhost:8080/"
        },
        "outputId": "c7dbef3e-592d-497c-c82a-ea4df606bea2"
      },
      "outputs": [
        {
          "output_type": "stream",
          "name": "stdout",
          "text": [
            "{'de': 1, 'en': 2, 'la': 3, 'el': 4, 'y': 5, 'a': 6, 'los': 7, 'que': 8, 'un': 9, 'del': 10, 'las': 11, 'se': 12, 'por': 13, 'una': 14, 'con': 15, 'para': 16, 'es': 17, 'libros': 18, 'al': 19, 'no': 20, 'su': 21, 'web': 22, 'más': 23, 'o': 24, 'también': 25, 'internet': 26, 'como': 27, 'años': 28, 'lo': 29, 'libro': 30, '000': 31, 'línea': 32, 'sitio': 33, 'sus': 34, 'digital': 35, 'proyecto': 36, 'este': 37, '2000': 38, 'ya': 39, 'digitales': 40, 'obras': 41, 'pero': 42, 'lectura': 43, 'millones': 44, 'ha': 45, 'información': 46, 'sobre': 47, 'me': 48, 'gutenberg': 49, 'público': 50, 'reader': 51, 'puede': 52, 'versión': 53, 'autor': 54, 'entre': 55, 'esta': 56, 'son': 57, 'amazon': 58, 'formato': 59, 'acceso': 60, 'editores': 61, 'ser': 62, 'textos': 63, 'biblioteca': 64, 'texto': 65, 'copyright': 66, 'e': 67, '1': 68, 'algunos': 69, '2001': 70, 'derechos': 71, 'cada': 72, 'títulos': 73, 'permite': 74, 'software': 75, 'modo': 76, 'red': 77, 'dos': 78, 'mundo': 79, 'ebook': 80, 'ejemplo': 81, 'sólo': 82, 'sin': 83, 'vez': 84, '2003': 85, 'todos': 86, 'uno': 87, 'archivos': 88, 'etc': 89, 'han': 90, 'estados': 91, 'cualquier': 92, 'está': 93, 'si': 94, 'unidos': 95, 'editorial': 96, 'autores': 97, 'documentos': 98, 'cuenta': 99, 'trabajo': 100, '2007': 101, 'pda': 102, '1998': 103, 'muy': 104, 'mi': 105, '2006': 106, 'bibliotecas': 107, 'otros': 108, 'antes': 109, 'sociedad': 110, 'desde': 111, 'inglés': 112, 'dominio': 113, 'luego': 114, 'tiempo': 115, 'sitios': 116, 'mucho': 117, 'edición': 118, 'pantalla': 119, 'sea': 120, 'idiomas': 121, 'están': 122, 'todo': 123, 'pueden': 124, 'tanto': 125, 'parte': 126, 'agosto': 127, 'diciembre': 128, 'octubre': 129, 'multimedia': 130, 'google': 131, 'unos': 132, '1999': 133, 'varios': 134, 'primer': 135, 'así': 136, 'le': 137, 'enero': 138, 'contenido': 139, 'of': 140, 'partir': 141, 'microsoft': 142, 'durante': 143, 'libre': 144, 'difusión': 145, 'the': 146, 'después': 147, '2002': 148, 'fecha': 149, 'misma': 150, 'artículos': 151, 'gracias': 152, 'páginas': 153, 'noviembre': 154, 'posible': 155, 'año': 156, 'mismo': 157, 'ahora': 158, 'francés': 159, 'aún': 160, 'tres': 161, 'incluso': 162, 'sino': 163, 'usuarios': 164, 'colecciones': 165, '2005': 166, 'bien': 167, 'impresa': 168, 'julio': 169, 'michael': 170, 'porque': 171, 'forma': 172, 'ebooks': 173, 'mayo': 174, '2': 175, 'abril': 176, 'mobipocket': 177, 'tiene': 178, 'novela': 179, 'electrónica': 180, 'hay': 181, 'publicación': 182, 'tras': 183, 'nuevo': 184, 'electrónico': 185, 'esto': 186, 'nuevas': 187, 'catálogo': 188, 'disponibles': 189, 'derecho': 190, 'otras': 191, 'fue': 192, 'digitalización': 193, '2004': 194, 'nueva': 195, 'lanza': 196, 'leer': 197, 'cuando': 198, '10': 199, 'primera': 200, 'francia': 201, 'he': 202, 'pdf': 203, '2010': 204, 'diez': 205, 'prensa': 206, 'com': 207, 'librería': 208, 'fin': 209, 'página': 210, '3': 211, 'poco': 212, 'entonces': 213, '1997': 214, 'junio': 215, 'actividad': 216, 'sido': 217, 'bajo': 218, 'menos': 219, 'día': 220, 'online': 221, 'books': 222, 'tarde': 223, 'países': 224, 'febrero': 225, 'datos': 226, 'plos': 227, 'palm': 228, 'personas': 229, 'ordenador': 230, 'personal': 231, 'tecnologías': 232, 'librerías': 233, 'escritura': 234, 'hasta': 235, 'aunque': 236, 'crear': 237, 'mes': 238, 'obra': 239, 'lugar': 240, 'varias': 241, 'marzo': 242, 'ni': 243, 'europa': 244, 'creación': 245, 'precio': 246, '500': 247, 'nuevos': 248, 'otro': 249, 'servicio': 250, 'pc': 251, 'impreso': 252, 'internacional': 253, 'modelo': 254, 'publicado': 255, 'estos': 256, 'literatura': 257, 'parís': 258, 'decir': 259, 'además': 260, 'desarrollo': 261, '\\x96': 262, 'explica': 263, 'universidad': 264, 'mis': 265, 'saber': 266, 'comunicación': 267, 'gran': 268, 'lanzado': 269, 'nacional': 270, 'sistema': 271, 'grandes': 272, 'muchos': 273, 'imágenes': 274, 'lectores': 275, 'editor': 276, 'adobe': 277, 'todas': 278, 'hace': 279, 'tabletas': 280, 'library': 281, 'nos': 282, 'original': 283, 'poner': 284, 'sigue': 285, '1996': 286, 'casi': 287, 'título': 288, 'cylibris': 289, 'formatos': 290, 'electrónicos': 291, 'español': 292, 'nuestro': 293, 'resumen': 294, 'trata': 295, 'versiones': 296, 'hecho': 297, '4': 298, 'número': 299, 'papel': 300, 'espacio': 301, 'empieza': 302, 'objetivo': 303, 'siendo': 304, 'meses': 305, 'diferentes': 306, 'usd': 307, 'base': 308, 'mercado': 309, 'escribe': 310, 'hacia': 311, 'algunas': 312, 'open': 313, 'éste': 314, 'era': 315, 'cuanto': 316, 'producción': 317, 'mientras': 318, 'propone': 319, 'utilizar': 320, 'cd': 321, 'lector': 322, 'septiembre': 323, 'parece': 324, 'venta': 325, 'imagen': 326, 'miles': 327, '1971': 328, 'pone': 329, 'enciclopedia': 330, 'numilog': 331, 'hipermedia': 332, 'había': 333, '100': 334, '20': 335, 'búsqueda': 336, 'disposición': 337, 'otra': 338, 'resulta': 339, 'uso': 340, 'distribución': 341, 'lengua': 342, 'pierre': 343, 'cuales': 344, '2008': 345, 'servicios': 346, 'pocket': 347, 'medio': 348, 'horas': 349, 'disponible': 350, 'historia': 351, 'traducción': 352, 'lanzada': 353, 'futuro': 354, '00h00': 355, 'vía': 356, 'través': 357, 'siglo': 358, '5': 359, 'primeras': 360, 'pueda': 361, 'total': 362, 'será': 363, 'comercial': 364, 'finales': 365, 'consultar': 366, 'ofrece': 367, 'pago': 368, 'empleados': 369, 'europea': 370, 'experiencia': 371, 'primero': 372, 'modelos': 373, 'hoy': 374, '2009': 375, 'pasado': 376, 'hart': 377, 'voluntarios': 378, 'alemania': 379, 'revistas': 380, 'tener': 381, '16': 382, 'persona': 383, 'programa': 384, 'haber': 385, 'cual': 386, 'hacer': 387, 'mundial': 388, '15': 389, 'dentro': 390, 'gemstar': 391, 'informática': 392, 'manera': 393, 'tipo': 394, 'general': 395, 'según': 396, 'clientes': 397, 'tableta': 398, 'canadá': 399, 'gallica': 400, 'ascii': 401, 'novelas': 402, 'estas': 403, 'pues': 404, 'cien': 405, 'tradicional': 406, 'convierte': 407, 'sí': 408, 'representa': 409, '1995': 410, 'periódicos': 411, 'veces': 412, 'francesa': 413, 'caracteres': 414, 'plazo': 415, 'calidad': 416, '30': 417, 'correo': 418, 'tan': 419, 'palabras': 420, 'medios': 421, 'yo': 422, 'tema': 423, 'último': 424, 'siguen': 425, 'material': 426, 'decide': 427, 'actividades': 428, 'mit': 429, 'impresión': 430, 'siempre': 431, 'wikipedia': 432, 'cinco': 433, '1990': 434, 'cuya': 435, 'libreros': 436, 'directamente': 437, 'totalidad': 438, 'gratuita': 439, 'problema': 440, 'debido': 441, 'estándar': 442, '8': 443, 'películas': 444, 'idioma': 445, 'nuestros': 446, 'public': 447, 'principio': 448, 'soporte': 449, 'archive': 450, 'profesional': 451, 'reino': 452, 'unido': 453, 'california': 454, 'documento': 455, 'abre': 456, 'ventas': 457, 'lanzamiento': 458, 'nuestra': 459, 'kindle': 460, 'acrobat': 461, 'teléfono': 462, 'smartphone': 463, 'convergencia': 464, 'diccionarios': 465, 'esos': 466, 'propia': 467, 'primeros': 468, 'archivo': 469, 'mayor': 470, 'digitalizar': 471, 'sectores': 472, 'nivel': 473, 'encontrar': 474, 'descargar': 475, 'italiano': 476, 'debe': 477, 'dvd': 478, 'ésta': 479, 'proponer': 480, 'estar': 481, 'necesidad': 482, 'embargo': 483, '6': 484, 'tecnología': 485, '7': 486, 'enlaces': 487, 'bases': 488, 'director': 489, 'supuesto': 490, 'france': 491, 'serie': 492, 'problemas': 493, 'jean': 494, 'convertirse': 495, 'colaboración': 496, 'sometidos': 497, 'pilot': 498, 'franklin': 499, 'psion': 500, 'sony': 501, 'cabo': 502, 'page': 503, 'zine': 504, 'creado': 505, 'posibilidad': 506, 'fragmentos': 507, 'términos': 508, 'podría': 509, 'ley': 510, '1993': 511, 'tamaño': 512, '25': 513, 'único': 514, 'iniciativa': 515, '50': 516, 'comerciales': 517, 'noble': 518, 'quizás': 519, 'idea': 520, 'john': 521, 'tengo': 522, 'trabajos': 523, 'empiezan': 524, 'national': 525, 'diario': 526, 'formación': 527, 'japón': 528, 'caso': 529, 'mejor': 530, 'productos': 531, 'empresa': 532, 'gestión': 533, 'anuncia': 534, 'press': 535, 'investigadores': 536, 'utiliza': 537, 'empleos': 538, 'oeb': 539, 'multilingüe': 540, 'unicode': 541, 'creative': 542, 'commons': 543, 'smartphones': 544, 'convertido': 545, 'electrónicas': 546, 'letras': 547, 'época': 548, 'cómo': 549, 'media': 550, 'música': 551, 'alcanza': 552, '9': 553, 'punto': 554, 'sección': 555, 've': 556, 'culturales': 557, 'poder': 558, 'significa': 559, 'rom': 560, 'segundo': 561, 'ningún': 562, 'barnes': 563, 'relata': 564, 'importante': 565, 'redacción': 566, 'videos': 567, 'asociados': 568, 'les': 569, 'contratos': 570, 'et': 571, 'eso': 572, 'libremente': 573, 'universidades': 574, 'científica': 575, 'sistemas': 576, 'permiten': 577, 'enseñanza': 578, 'basado': 579, 'unas': 580, 'net': 581, 'des': 582, 'franceses': 583, 'poesía': 584, 'content': 585, 'gratuitamente': 586, 'van': 587, 'informático': 588, 'plataforma': 589, 'conjunto': 590, 'nunca': 591, 'ediciones': 592, 'publicada': 593, '1994': 594, 'presentación': 595, 'x': 596, 'puesto': 597, '300': 598, 'rápido': 599, 'concebido': 600, 'debería': 601, 'alemán': 602, 'siguientes': 603, 'crea': 604, 'palabra': 605, 'almacenamiento': 606, 'máquinas': 607, 'opinión': 608, 'gratuito': 609, 'gratis': 610, 'cultura': 611, 'investigación': 612, 'quien': 613, 'legislación': 614, 'dar': 615, 'propios': 616, 'utilización': 617, 'empresas': 618, 'debate': 619, 'paso': 620, 'numerosos': 621, 'grupo': 622, 'conocer': 623, 'revista': 624, 'técnica': 625, 'filial': 626, 'estudio': 627, 'va': 628, '0': 629, 'cliente': 630, 'donde': 631, 'buscador': 632, 'centro': 633, 'nombre': 634, 'trabajadores': 635, 'aparatos': 636, 'propio': 637, 'nada': 638, 'instrumento': 639, 'firma': 640, 'hemos': 641, 'qué': 642, 'lado': 643, 'cuyo': 644, 'cambio': 645, 'cosas': 646, 'softbook': 647, 'vida': 648, 'organización': 649, '19': 650, 'asociaciones': 651, 'legible': 652, 'windows': 653, 'cursos': 654, 'citizendium': 655, 'ebookman': 656, 'últimos': 657, 'estudios': 658, 'repertorio': 659, 'comentarios': 660, 'proyectos': 661, 'best': 662, 'fábulas': 663, 'distributed': 664, 'proofreaders': 665, 'tienen': 666, 'hipertexto': 667, 'falta': 668, 'descargas': 669, 'envío': 670, 'seis': 671, 'relación': 672, 'gente': 673, 'capacidad': 674, 'existe': 675, 'internautas': 676, 'país': 677, 'peter': 678, 'cabe': 679, 'cuatro': 680, 'torno': 681, 'enciclopedias': 682, 'adelante': 683, 'sector': 684, 'frente': 685, 'función': 686, 'pasar': 687, '600': 688, 'principal': 689, 'veinte': 690, 'lenguas': 691, 'interés': 692, 'presenta': 693, '24': 694, 'momento': 695, 'utilizado': 696, 'verdadero': 697, 'tal': 698, 'sería': 699, 'respecto': 700, 'trabajar': 701, 'webmaster': 702, 'tomar': 703, 'ver': 704, 'juego': 705, 'realidad': 706, 'principios': 707, 'suele': 708, 'new': 709, 'york': 710, 'instituto': 711, 'periodistas': 712, 'responsable': 713, 'práctica': 714, 'cambios': 715, 'producto': 716, 'siguiente': 717, 'recibe': 718, 'éstos': 719, 'abierto': 720, '800': 721, 'fuera': 722, 'venden': 723, 'nap': 724, 'cuestión': 725, 'fundada': 726, 'publicar': 727, 'petición': 728, 'usuario': 729, 'suelen': 730, 'fundado': 731, 'nicolas': 732, 'posibilidades': 733, 'generación': 734, 'coste': 735, 'final': 736, 'bnf': 737, 'búsquedas': 738, 'licencia': 739, 'foundation': 740, 'science': 741, 'múltiples': 742, 'server': 743, 'memoria': 744, 'toronto': 745, 'edad': 746, 'navegación': 747, 'entero': 748, 'periodista': 749, 'publicados': 750, 'muchas': 751, 'copyleft': 752, 'alliance': 753, 'literarias': 754, 'meta': 755, 'aquella': 756, 'comunicar': 757, 'acceder': 758, 'conocimientos': 759, 'aparecen': 760, 'dólares': 761, 'estadounidense': 762, 'teclado': 763, 'éstas': 764, 'misión': 765, 'haya': 766, 'incluye': 767, 'continuación': 768, 'decenas': 769, 'referencia': 770, 'universal': 771, 'estudiantes': 772, 'visto': 773, 'basta': 774, 'buscar': 775, 'presente': 776, 'llegar': 777, 'millón': 778, '000°': 779, 'sencillo': 780, 'primavera': 781, 'mil': 782, 'cifra': 783, 'piensa': 784, 'selección': 785, 'realizar': 786, '12': 787, 'representan': 788, 'project': 789, 'blog': 790, '80': 791, 'insiste': 792, 'marco': 793, 'abierta': 794, 'ideas': 795, 'ninguna': 796, 'ordenadores': 797, 'demás': 798, 'semana': 799, 'segunda': 800, 'ofrecer': 801, 'creada': 802, 'mark': 803, 'esas': 804, 'departamento': 805, 'seguir': 806, 'únicamente': 807, 'propiedad': 808, 'asociación': 809, 'amplio': 810, 'competencia': 811, '28': 812, 'junto': 813, 'éxito': 814, 'contra': 815, 'diferencia': 816, '90': 817, 'condiciones': 818, 'europeos': 819, 'literario': 820, 'olivier': 821, 'presentar': 822, 'francófona': 823, 'bruno': 824, 'rocket': 825, 'comunidad': 826, 'medida': 827, 'científicos': 828, 'profesora': 829, 'nuestras': 830, 'tampoco': 831, 'soy': 832, 'esencialmente': 833, 'diseño': 834, 'funcionalidades': 835, 'wiki': 836, 'objeto': 837, 'suiza': 838, 'ciencias': 839, 'bibliotecarios': 840, 'digitalizados': 841, 'escritor': 842, 'ocde': 843, 'gama': 844, 'clases': 845, 'intercambio': 846, 'lenguaje': 847, 'unión': 848, 'respuesta': 849, 'diccionario': 850, 'act': 851, 'portal': 852, 'lit': 853, 'legibles': 854, 'cybook': 855, 'nokia': 856, 'relato': 857, 'oca': 858, 'marie': 859, 'viaje': 860, 'escrito': 861, 'ficción': 862, 'email': 863, 'nace': 864, 'esperar': 865, 'aparición': 866, 'compartir': 867, 'biblia': 868, 'ejemplares': 869, 'ellos': 870, 'campo': 871, 'completo': 872, 'impresos': 873, 'hubiera': 874, 'enlace': 875, 'ese': 876, 'almacenar': 877, 'par': 878, 'escritos': 879, 'shakespeare': 880, 'logra': 881, 'puesta': 882, 'reúne': 883, 'dirige': 884, 'volumen': 885, 'inglesa': 886, 'necesarios': 887, 'pública': 888, '400': 889, 'largo': 890, 'intención': 891, '17': 892, 'newsletter': 893, 'luz': 894, 'siete': 895, 'pesar': 896, 'proporciona': 897, 'necesita': 898, 'alcanzar': 899, 'revolución': 900, 'mediante': 901, 'métodos': 902, 'común': 903, 'puestos': 904, 'lista': 905, 'próximos': 906, 'tarea': 907, '1976': 908, 'clásico': 909, 'habrá': 910, 'duración': 911, 'intelectual': 912, 'times': 913, 'generar': 914, 'sonido': 915, 'dedicada': 916, 'utilizan': 917, 'oportunidad': 918, 'puertas': 919, 'compra': 920, 'vender': 921, 'evolución': 922, 'tradicionales': 923, 'bajos': 924, 'deja': 925, 'denis': 926, 'presidente': 927, 'añade': 928, 'tenemos': 929, 'algo': 930, 'economía': 931, 'japonés': 932, 'integral': 933, 'colección': 934, 'especializadas': 935, 'international': 936, 'hablar': 937, 'editoriales': 938, 'aventura': 939, '\\x96o': 940, 'ámbito': 941, 'literarios': 942, 'asociadas': 943, 'pequeña': 944, 'actualidad': 945, 'breve': 946, 'escala': 947, 'choucas': 948, 'arte': 949, 'bastante': 950, 'organismos': 951, 'escribir': 952, 'acuerdo': 953, 'marc': 954, 'aspectos': 955, 'sola': 956, 'vinculados': 957, 'color': 958, 'controlar': 959, 'permita': 960, 'visual': 961, 'profesor': 962, 'puedan': 963, 'simple': 964, 'síntesis': 965, 'pasteur': 966, 'pronto': 967, 'toda': 968, 'miembros': 969, 'presentes': 970, 'codificación': 971, 'yahoo': 972, 'world': 973, 'etapa': 974, 'comisión': 975, 'larry': 976, 'estadounidenses': 977, 'añaden': 978, '14': 979, 'efecto': 980, 'periodo': 981, 'didáctico': 982, 'aprobación': 983, 'especies': 984, 'acuerdos': 985, 'dedicado': 986, 'preguntas': 987, 'siglos': 988, 'asistente': 989, 'móvil': 990, 'virtual': 991, 'ayuda': 992, 'alicia': 993, 'apuesta': 994, 'list': 995, 'piloto': 996, 'bibliotecario': 997, 'plurilingüismo': 998, 'sellers': 999, 'ciberliteratura': 1000, 'perspectivas': 1001, 'cambiado': 1002, '48': 1003, 'implica': 1004, 'pleno': 1005, 'enorme': 1006, 'contrario': 1007, 'kilobytes': 1008, 'leídos': 1009, 'ambos': 1010, 'rights': 1011, 'completa': 1012, 'teatro': 1013, 'fechas': 1014, 'verdaderamente': 1015, 'control': 1016, 'expansión': 1017, 'king': 1018, 'megabytes': 1019, '250': 1020, '1991': 1021, 'm': 1022, 'llega': 1023, 'navegador': 1024, 'método': 1025, '1992': 1026, 'celebra': 1027, '32': 1028, 'literature': 1029, 'aventuras': 1030, 'b': 1031, 'literaria': 1032, 'esté': 1033, 'ampliar': 1034, 'pasa': 1035, 'escritores': 1036, 'descargados': 1037, 'normal': 1038, 'diversos': 1039, 'promedio': 1040, 'ritmo': 1041, '\\x96y': 1042, '13': 1043, 'exactamente': 1044, 'chino': 1045, 'portugués': 1046, 'audio': 1047, 'procesamiento': 1048, 'comprende': 1049, 'respeto': 1050, 'envía': 1051, 'sentido': 1052, 'capaz': 1053, 'pocos': 1054, 'usb': 1055, 'patrimonio': 1056, 'automática': 1057, 'integrar': 1058, 'soportes': 1059, 'recursos': 1060, 'difícil': 1061, 'fortalecimiento': 1062, 'fundador': 1063, 'intereses': 1064, 'deberían': 1065, 'actual': 1066, 'copiar': 1067, 'poniendo': 1068, '¿cómo': 1069, 'menudo': 1070, 'propias': 1071, 'historial': 1072, 'allá': 1073, 'llamar': 1074, 'facilita': 1075, '¿qué': 1076, '60': 1077, 'costumbres': 1078, 'suerte': 1079, 'duda': 1080, 'impresas': 1081, 'jeff': 1082, 'bezos': 1083, 'fondo': 1084, 'precios': 1085, 'cooperación': 1086, 'técnicos': 1087, 'marketing': 1088, 'sur': 1089, 'existencias': 1090, 'económico': 1091, 'alta': 1092, 'sociales': 1093, 'lleva': 1094, 'reducir': 1095, 'marca': 1096, 'rápidamente': 1097, 'digitalizadas': 1098, 'publicadas': 1099, 'solución': 1100, 'poeta': 1101, 'equipo': 1102, 'desarrollar': 1103, 'basada': 1104, 'consiste': 1105, 'sustituido': 1106, 'técnico': 1107, 'diversas': 1108, 'cuentos': 1109, 'relatos': 1110, 'directo': 1111, 'recompra': 1112, 'sociedades': 1113, 'abandona': 1114, 'especializada': 1115, 'pewny': 1116, 'conocimiento': 1117, 'manuales': 1118, 'capítulos': 1119, 'inmediata': 1120, 'tareas': 1121, 'guías': 1122, 'consulta': 1123, 'creo': 1124, 'económicos': 1125, 'industria': 1126, 'treinta': 1127, 'profesionales': 1128, 'protección': 1129, 'nationale': 1130, 'corpus': 1131, 'tratados': 1132, 'escuela': 1133, '70': 1134, 'aquí': 1135, 'cdi': 1136, 'fuentes': 1137, 'contiene': 1138, 'mejorar': 1139, 'elaborar': 1140, 'londres': 1141, '95': 1142, 'intercambios': 1143, 'protocolos': 1144, 'permitirá': 1145, 'nacionales': 1146, 'anglófonos': 1147, 'ido': 1148, 'stanford': 1149, 'license': 1150, 'pagados': 1151, 'ante': 1152, 'extensión': 1153, 'directiva': 1154, 'technology': 1155, 'opencourseware': 1156, 'oro': 1157, '200': 1158, 'prc': 1159, 'glassbook': 1160, 'visualización': 1161, 'drm': 1162, 'management': 1163, 'os': 1164, 'cytale': 1165, 'clave': 1166, 'euros': 1167, 'bolsillo': 1168, 'portátiles': 1169, 'aparato': 1170, 'formas': 1171, 'pintura': 1172, 'paul': 1173, 'print': 1174, 'conexión': 1175, '40': 1176, 'entrevistas': 1177, 'investigadora': 1178, 'interesa': 1179, 'corta': 1180, 'www': 1181, 'revisión': 1182, 'índice': 1183, 'endurecimiento': 1184, '¿y': 1185, 'pequeñas': 1186, 'definición': 1187, 'catálogos': 1188, 'adaptado': 1189, 'vasta': 1190, 'policíacas': 1191, 'personales': 1192, '180': 1193, 'nacen': 1194, 'llegado': 1195, 'alcance': 1196, 'aquellos': 1197, 'iba': 1198, 'permitir': 1199, 'united': 1200, 'states': 1201, 'declaración': 1202, 'banda': 1203, 'marcha': 1204, 'sencilla': 1205, 'verdadera': 1206, 'veo': 1207, 'define': 1208, 'disquete': 1209, 'podido': 1210, 'antiguo': 1211, 'adventures': 1212, 'in': 1213, 'maravillas': 1214, 'pan': 1215, 'fácil': 1216, 'observar': 1217, 'fables': 1218, 'docentes': 1219, 'niños': 1220, 'origen': 1221, 'contacto': 1222, 'textual': 1223, 'importantes': 1224, 'gustaría': 1225, 'solo': 1226, 'constante': 1227, 'tercer': 1228, 'quince': 1229, '1984': 1230, 'resultado': 1231, 'carta': 1232, 'digitalizan': 1233, 'crecimiento': 1234, 'empezado': 1235, 'queda': 1236, '11': 1237, 'html': 1238, 'abarcan': 1239, 'diversidad': 1240, 'life': 1241, '\\x96de': 1242, 'existentes': 1243, 'estrena': 1244, 'semanales': 1245, 'mensuales': 1246, 'resultados': 1247, 'financiera': 1248, 'seguros': 1249, 'generaciones': 1250, 'wikis': 1251, 'iso': 1252, 'compone': 1253, 'cientos': 1254, 'inicial': 1255, 'valor': 1256, 'prueba': 1257, 'sirve': 1258, 'seguridad': 1259, 'dispone': 1260, 'intercambiar': 1261, 'orden': 1262, '99': 1263, 'porcentaje': 1264, 'siguiendo': 1265, 'ocr': 1266, 'ockerbloom': 1267, 'estaba': 1268, 'mellon': 1269, 'conservando': 1270, 'prosigue': 1271, 'proponen': 1272, 'university': 1273, 'pedir': 1274, 'útil': 1275, 'empezó': 1276, 'potencial': 1277, 'pienso': 1278, 'similar': 1279, '27': 1280, 'acción': 1281, 'llevó': 1282, '56': 1283, 'reglas': 1284, 'propuestas': 1285, 'verano': 1286, 'publicidad': 1287, 'organizado': 1288, 'tratamiento': 1289, 'llamado': 1290, 'washington': 1291, 'vídeos': 1292, 'periódico': 1293, 'foro': 1294, 'mantener': 1295, 'todavía': 1296, 'recepción': 1297, 'difundir': 1298, '23': 1299, 'inaugurada': 1300, 'china': 1301, 'virtuales': 1302, 'costa': 1303, 'barato': 1304, 'pertenecen': 1305, 'asociado': 1306, 'centros': 1307, 'pedido': 1308, 'cambia': 1309, 'cerca': 1310, 'rápida': 1311, 'exclusivamente': 1312, 'gigante': 1313, 'entrega': 1314, 'atención': 1315, 'francófono': 1316, 'proviene': 1317, 'contestar': 1318, 'escoger': 1319, 'somos': 1320, 'altos': 1321, 'necesario': 1322, 'search': 1323, 'beneficio': 1324, 'grande': 1325, 'diarios': 1326, 'club': 1327, 'creando': 1328, 'verdad': 1329, 'promover': 1330, 'semejante': 1331, 'vista': 1332, 'editel': 1333, 'colectiva': 1334, 'atrás': 1335, 'ciencia': 1336, 'vendido': 1337, 'doble': 1338, 'manuscritos': 1339, 'frágil': 1340, 'servir': 1341, 'radicalmente': 1342, 'usar': 1343, 'ella': 1344, 'derechohabientes': 1345, 'descripción': 1346, 'participar': 1347, 'produce': 1348, 'originales': 1349, 'especialista': 1350, 'nuvomedia': 1351, 'explorar': 1352, 'fotos': 1353, 'creó': 1354, 'cierto': 1355, 'conocido': 1356, 'estamos': 1357, 'dan': 1358, 'consultor': 1359, 'diseñador': 1360, 'integración': 1361, 'procedentes': 1362, 'puedo': 1363, 'interfaz': 1364, 'contenidos': 1365, 'definir': 1366, 'simposio': 1367, 'técnicas': 1368, 'digitaliza': 1369, 'sonoras': 1370, 'padecen': 1371, 'especialmente': 1372, 'administrar': 1373, 'federación': 1374, 'favorecer': 1375, 'proceso': 1376, 'michel': 1377, 'situación': 1378, 'televisión': 1379, 'cantidad': 1380, 'indexación': 1381, 'facilitar': 1382, 'textuales': 1383, 'trate': 1384, 'conviene': 1385, 'école': 1386, 'industrial': 1387, 'distancia': 1388, 'pertenece': 1389, 'especializados': 1390, 'libres': 1391, 'digitalizado': 1392, 'buscadores': 1393, 'corresponden': 1394, 'documental': 1395, 'vocación': 1396, 'aplicaciones': 1397, 'organismo': 1398, 'comunes': 1399, 'audiolibros': 1400, 'reseñas': 1401, 'beta': 1402, 'american': 1403, 'for': 1404, 'institute': 1405, '33': 1406, 'utf': 1407, 'wide': 1408, 'consortium': 1409, 'luc': 1410, 'peor': 1411, 'añadir': 1412, 'materna': 1413, 'leyes': 1414, 'licencias': 1415, 'flexibles': 1416, 'compatibles': 1417, 'gpl': 1418, 'peso': 1419, 'libertad': 1420, 'sujetas': 1421, 'expiración': 1422, '1909': 1423, 'd': 1424, 'determinado': 1425, 'esencial': 1426, 'tendencias': 1427, 'hewlett': 1428, 'relativos': 1429, 'funda': 1430, 'fabricación': 1431, 'medicine': 1432, 'alcanzado': 1433, 'gráficos': 1434, 'sanger': 1435, 'financiada': 1436, 'natural': 1437, 'harvard': 1438, 'random': 1439, 'clic': 1440, 'das': 1441, 'tablet': 1442, 'fabricantes': 1443, 'olvidar': 1444, 'stephen': 1445, 'pagos': 1446, 'llevar': 1447, 'vendidos': 1448, 'hipertextual': 1449, 'vive': 1450, 'acto': 1451, 'haciendo': 1452, 'viviendo': 1453, 'internauta': 1454, 'autora': 1455, 'lee': 1456, 'previa': 1457, 'conflicto': 1458, 'ipad': 1459, 'agenda': 1460, 'blanco': 1461, 'negro': 1462, 'ink': 1463, 'tim': 1464, 'lebert': 1465, 'nef': 1466, 'áfrica': 1467, 'manybooks': 1468, 'études': 1469, 'instalan': 1470, 'experiencias': 1471, 'planetaria': 1472, 'visionario': 1473, 'british': 1474, 'evitando': 1475, 'gastos': 1476, 'extender': 1477, 'viven': 1478, 'trabajan': 1479, 'domicilio': 1480, 'estado': 1481, 'citas': 1482, '21': 1483, 'espejo': 1484, 'planeta': 1485, 'pasos': 1486, 'mayúsculas': 1487, 'representaba': 1488, 'habría': 1489, 'decidió': 1490, 'única': 1491, 'escuelas': 1492, 'ratificada': 1493, 'individuales': 1494, 'regularidad': 1495, 'disco': 1496, 'duro': 1497, 'ocupar': 1498, 'diferente': 1499, 'digitar': 1500, 'destinada': 1501, 'proteger': 1502, 'hacía': 1503, 'notas': 1504, 'habían': 1505, '1974': 1506, 'ip': 1507, 'conocida': 1508, \"alice's\": 1509, 'wonderland': 1510, 'clásicos': 1511, 'operativa': 1512, 'aparece': 1513, 'circular': 1514, 'william': 1515, 'escribió': 1516, 'podemos': 1517, 'c': 1518, 'pretende': 1519, 'atraer': 1520, 'busca': 1521, 'película': 1522, 'cita': 1523, 'facilidad': 1524, 'fácilmente': 1525, 'igual': 1526, 'cargar': 1527, 'población': 1528, '36': 1529, 'series': 1530, 'française': 1531, 'da': 1532, 'encuentra': 1533, 'frecuencia': 1534, 'disponemos': 1535, 'contener': 1536, 'descargables': 1537, 'necesitan': 1538, 'cincuenta': 1539, 'cuarto': 1540, 'buen': 1541, 'dp': 1542, 'corregir': 1543, 'envían': 1544, 'pida': 1545, 'representados': 1546, 'xml': 1547, 'equivale': 1548, 'conferencia': 1549, '338': 1550, 'center': 1551, 'reunir': 1552, 'oficialmente': 1553, 'inicia': 1554, 'lingüística': 1555, 'figuran': 1556, 'australia': 1557, 'existencia': 1558, 'estadísticas': 1559, 'eleva': 1560, 'mensual': 1561, 'contabiliza': 1562, 'book': 1563, 'cifras': 1564, 'influencia': 1565, 'citar': 1566, 'estructura': 1567, 'preservar': 1568, 'políticas': 1569, 'dinero': 1570, 'quienes': 1571, 'ahí': 1572, 'regular': 1573, 'discusión': 1574, 'blogs': 1575, 'enviar': 1576, 'demasiadas': 1577, 'inventor': 1578, 'cuarenta': 1579, 'comienzo': 1580, '75': 1581, 'humano': 1582, 'discos': 1583, 'demanda': 1584, 'norte': 1585, 'une': 1586, 'utilizador': 1587, 'ayudar': 1588, 'contemplar': 1589, 'simultánea': 1590, 'utilizando': 1591, 'margen': 1592, 'generados': 1593, 'manos': 1594, 'seres': 1595, 'parecido': 1596, 'enteramente': 1597, 'fomentar': 1598, 'posibles': 1599, 'inventariar': 1600, 'doctorado': 1601, 'carnegie': 1602, 'inventario': 1603, 'masa': 1604, 'acerca': 1605, 'estaban': 1606, 'principales': 1607, 'siquiera': 1608, 'viento': 1609, 'legales': 1610, 'contrato': 1611, 'limitado': 1612, 'plan': 1613, 'fuerte': 1614, 'association': 1615, 'america': 1616, 'sé': 1617, 'actitud': 1618, 'zines': 1619, 'fines': 1620, 'doce': 1621, 'clasificados': 1622, 'redacta': 1623, 'centenas': 1624, 'corazón': 1625, 'deciden': 1626, 'crean': 1627, 'suscriptores': 1628, 'suscripción': 1629, 'noticias': 1630, 'time': 1631, 'cibercultura': 1632, 'inaugura': 1633, 'monde': 1634, 'ocasión': 1635, 'elaborado': 1636, 'audiovisual': 1637, 'semanas': 1638, 'oeste': 1639, 'extranjero': 1640, 'fuente': 1641, 'amenaza': 1642, 'provoca': 1643, 'temas': 1644, 'seattle': 1645, 'filiales': 1646, 'sexta': 1647, 'comercio': 1648, 'herramientas': 1649, 'criterio': 1650, 'global': 1651, 'millares': 1652, 'variedad': 1653, 'resúmenes': 1654, 'juegos': 1655, 'redactados': 1656, 'definitivamente': 1657, 'cadena': 1658, 'bertelsmann': 1659, 'acaba': 1660, 'previsión': 1661, 'futura': 1662, 'francesas': 1663, 'observa': 1664, 'agence': 1665, 'importa': 1666, 'únicos': 1667, 'especificidad': 1668, 'objetivos': 1669, 'precarios': 1670, 'sindicato': 1671, 'comunicado': 1672, 'constituir': 1673, 'alianza': 1674, 'sindicatos': 1675, 'clientela': 1676, 'multiplicación': 1677, 'ciudad': 1678, 'contratar': 1679, 'anterior': 1680, 'causa': 1681, 'trimestre': 1682, '29': 1683, 'obtener': 1684, 'beneficios': 1685, 'vende': 1686, 'pasará': 1687, 'hacerse': 1688, 'viajes': 1689, 'antiguas': 1690, 'construcción': 1691, 'suya': 1692, 'aquéllos': 1693, 'camino': 1694, 'evitar': 1695, 'plataformas': 1696, 'riesgo': 1697, 'artículo': 1698, 'lanzarse': 1699, 'mismos': 1700, 'realizado': 1701, 'actualmente': 1702, 'animación': 1703, 'cesa': 1704, 'gainon': 1705, 'materia': 1706, 'intermediarios': 1707, 'financiero': 1708, 'preciso': 1709, 'balpe': 1710, 'considerar': 1711, 'características': 1712, 'costes': 1713, 'probablemente': 1714, 'gestionar': 1715, 'relaciones': 1716, 'probar': 1717, 'publica': 1718, 'sa': 1719, 'moreira': 1720, 'finalmente': 1721, 'instalación': 1722, 'elaboración': 1723, 'explotación': 1724, 'cuyos': 1725, 'inmediato': 1726, 'género': 1727, 'vínculo': 1728, 'desean': 1729, 'escrituras': 1730, 'instituciones': 1731, 'tarjeta': 1732, 'fax': 1733, 'guide': 1734, 'innovación': 1735, 'creatividad': 1736, 'actor': 1737, 'considerable': 1738, 'deseo': 1739, 'contesta': 1740, 'interactividad': 1741, 'sacados': 1742, 'impresiones': 1743, 'estén': 1744, 'informes': 1745, 'difundirse': 1746, 'aportar': 1747, 'perspectiva': 1748, 'creciendo': 1749, '3d': 1750, 'instrumentos': 1751, 'producir': 1752, 'dicho': 1753, 'físico': 1754, 'lugares': 1755, 'distintos': 1756, 'video': 1757, 'imagino': 1758, 'mañana': 1759, 'schweitzer': 1760, 'nómada': 1761, 'radical': 1762, 'tipos': 1763, 'terreno': 1764, 'podrían': 1765, 'prácticas': 1766, 'telefonía': 1767, 'combinar': 1768, 'similares': 1769, 'tenía': 1770, 'dactilografiar': 1771, 'progresivamente': 1772, 'concepción': 1773, 'ginebra': 1774, 'membro': 1775, 'guild': 1776, 'jornada': 1777, 'ocio': 1778, 'ven': 1779, 'disminución': 1780, 'despedidos': 1781, 'du': 1782, 'creaciones': 1783, 'invención': 1784, 'científicas': 1785, 'recientes': 1786, 'participación': 1787, 'símbolos': 1788, 'fragmento': 1789, 'adoptar': 1790, 'supone': 1791, 'bibliothèque': 1792, '¿por': 1793, 'aspecto': 1794, 'elementos': 1795, 'precisas': 1796, 'superior': 1797, '\\x96que': 1798, 'modos': 1799, 'quiere': 1800, 'científico': 1801, 'servidor': 1802, 'museo': 1803, 'concierne': 1804, 'mitad': 1805, 'documentation': 1806, 'decidido': 1807, 'prevista': 1808, 'estarán': 1809, 'filtrar': 1810, 'didier': 1811, 'intranet': 1812, 'curso': 1813, 'permitan': 1814, 'dimensión': 1815, 'adaptada': 1816, 'ensea': 1817, 'universitaria': 1818, 'universitaire': 1819, 'espero': 1820, 'documentales': 1821, 'bibliográficas': 1822, 'bufete': 1823, 'catalogación': 1824, 'mediateca': 1825, 'préstamo': 1826, '1977': 1827, 'unimarc': 1828, 'worldcat': 1829, 'teclas': 1830, 'variantes': 1831, 'existen': 1832, 'format': 1833, \"dall'armellina\": 1834, 'ovosite': 1835, 'creador': 1836, 'transmisión': 1837, 'resulte': 1838, 'futuras': 1839, 'individuos': 1840, 'multilingües': 1841, 'factores': 1842, 'particularmente': 1843, 'yoshi': 1844, \"o'reilly\": 1845, 'culturas': 1846, '\\x96en': 1847, 'entorno': 1848, 'geográfico': 1849, 'habla': 1850, 'españa': 1851, 'eurodicautom': 1852, 'terminológica': 1853, 'wordreference': 1854, 'bilingües': 1855, 'proporcionar': 1856, 'pares': 1857, 'visitados': 1858, 'titulares': 1859, 'autorizar': 1860, 'limitar': 1861, 'derivadas': 1862, 'traductor': 1863, 'alain': 1864, 'entrevistado': 1865, 'amigos': 1866, 'gustado': 1867, 'propuesto': 1868, 'especialistas': 1869, '1923': 1870, 'fallecimiento': 1871, 'colectivo': 1872, 'potencia': 1873, 'instituye': 1874, 'reedición': 1875, 'extiende': 1876, 'european': 1877, 'oficial': 1878, 'ocw': 1879, 'conferencias': 1880, 'soluciones': 1881, 'alto': 1882, 'encyclopedia': 1883, 'contenida': 1884, 'párrafos': 1885, 'pensar': 1886, 'nociones': 1887, 'dominar': 1888, 'ocurrió': 1889, 'buscando': 1890, 'entusiasmo': 1891, 'apoyo': 1892, 'llano': 1893, 'publican': 1894, 'permitiría': 1895, 'hipervínculos': 1896, 'distribuidos': 1897, 'biology': 1898, 'medicina': 1899, 'enfermedades': 1900, 'dejar': 1901, 'colaborar': 1902, 'colaborativo': 1903, 'expertos': 1904, 'didácticos': 1905, 'concepto': 1906, 'bandas': 1907, 'podrán': 1908, 'house': 1909, 'distribuye': 1910, 'descarga': 1911, 'distribuidores': 1912, 'destinado': 1913, 'asocia': 1914, 'publishers': 1915, 'específica': 1916, 'oebps': 1917, 'forum': 1918, 'factura': 1919, 'cobra': 1920, 'seguido': 1921, 'máquina': 1922, 'específico': 1923, 'entrada': 1924, 'award': 1925, 'feria': 1926, 'fráncfort': 1927, 'ericsson': 1928, 'capítulo': 1929, 'experimento': 1930, 'frederick': 1931, 'forsyth': 1932, 'novelista': 1933, 'paulo': 1934, 'zwirn': 1935, 'comprar': 1936, 'voz': 1937, 'oxford': 1938, 'tinta': 1939, 'iphone': 1940, 'eran': 1941, 'francófonos': 1942, 'poésie': 1943, 'expuesto': 1944, 'refiere': 1945, 'poetas': 1946, 'raymond': 1947, 'algún': 1948, 'pour': 1949, 'días': 1950, 'llamada': 1951, 'programas': 1952, 'pasión': 1953, 'anne': 1954, 'lucie': 1955, 'boutiny': 1956, 'contar': 1957, 'serial': 1958, 'permitido': 1959, 'unidades': 1960, 'situaciones': 1961, \"'más\": 1962, 'sueño': 1963, 'permanente': 1964, 'cotres': 1965, 'movilidad': 1966, 'serán': 1967, 'apple': 1968, 'colaboradores': 1969, 'packard': 1970, 'live': 1971, 'europeana': 1972, '5mx': 1973, 'móviles': 1974, 'dictáfono': 1975, 'ebm': 1976, 'cristal': 1977, 'musicales': 1978, 'operativo': 1979, 'conectarse': 1980, 'puerto': 1981, 'gramos': 1982, 'sucesores': 1983, 'pixeles': 1984, 'estará': 1985, 'berners': 1986, 'asia': 1987, 'amistad': 1988, 'vamos': 1989, 'emprender': 1990, 'françaises': 1991, 'etudes': 1992, 'francaises': 1993, 'org': 1994, 'introducción': 1995, 'cibertecario': 1996, 'asistentes': 1997, 'conclusión': 1998, 'cronología': 1999, 'distribuir': 2000, 'tiempos': 2001, 'taller': 2002, 'existirían': 2003, '\\x96dos': 2004, 'completos': 2005, 'mayoría': 2006, 'realizan': 2007, 'transacciones': 2008, 'inmensa': 2009, 'fluidez': 2010, 'constantemente': 2011, 'salvo': 2012, 'etext': 2013, 'módico': 2014, 'disponer': 2015, 'aliento': 2016, '38': 2017, 'repartidos': 2018, 'laboratorio': 2019, 'research': 2020, 'fiesta': 2021, 'digitó': 2022, 'declaration': 2023, 'independence': 2024, 'firmada': 2025, 'minúsculas': 2026, 'acabado': 2027, 'ancho': 2028, 'dónde': 2029, 'almacenaba': 2030, 'crédito': 2031, 'optó': 2032, 'pudieran': 2033, 'explicó': 2034, 'mismas': 2035, 'acostumbrado': 2036, 'competir': 2037, 'esfuerzos': 2038, 'constitución': 2039, 'ciudadanos': 2040, 'poderes': 2041, 'respectivos': 2042, 'federal': 2043, '1973': 2044, 'aumenta': 2045, '\\x96el': 2046, 'compuesta': 2047, 'tratarse': 2048, 'entrado': 2049, 'vigor': 2050, 'embrionario': 2051, 'tcp': 2052, 'protocol': 2053, 'plena': 2054, 'james': 2055, 'testamento': 2056, 'vigente': 2057, '360': 2058, 'digita': 2059, '1904': 2060, 'generalizarse': 2061, 'perfecciona': 2062, 'ocho': 2063, 'aumentando': 2064, 'entretenimiento': 2065, 'esopo': 2066, 'secciones': 2067, 'selecciona': 2068, 'limitarse': 2069, 'star': 2070, 'trek': 2071, 'episodios': 2072, 'robin': 2073, 'hood': 2074, '1883': 2075, 'divina': 2076, 'pudiera': 2077, 'potenciales': 2078, 'pasando': 2079, 'billón': 2080, 'cuentan': 2081, 'marcel': 2082, '104': 2083, 'loti': 2084, 'charles': 2085, 'bernard': 2086, 'leonardo': 2087, 'vinci': 2088, 'data': 2089, 'inicios': 2090, 'top': 2091, 'zip': 2092, 'mediano': 2093, 'seleccionar': 2094, 'comprobar': 2095, 'george': 2096, 'lejos': 2097, '203': 2098, 'cubren': 2099, 'inventariadas': 2100, 'fruto': 2101, 'activos': 2102, '18': 2103, '348': 2104, 'corrección': 2105, 'trabaja': 2106, 'alrededor': 2107, '110': 2108, 'sede': 2109, 'agregación': 2110, 'europeo': 2111, '42': 2112, 'finlandés': 2113, '244': 2114, '140': 2115, 'gestación': 2116, '345': 2117, 'necesitado': 2118, 'bastará': 2119, 'conversión': 2120, 'instigación': 2121, 'semanal': 2122, '78': 2123, '58': 2124, 'anual': 2125, 'dpc': 2126, 'europe': 2127, 'miden': 2128, 'tenido': 2129, 'digital\\x96': 2130, 'projekt': 2131, 'limita': 2132, 'mínimo': 2133, 'flexible': 2134, 'deje': 2135, 'puerta': 2136, 'garantizar': 2137, 'créditos': 2138, 'presión': 2139, 'verán': 2140, 'foros': 2141, 'donaciones': 2142, 'sirven': 2143, 'postal': 2144, 'recordar': 2145, 'tomamos': 2146, '\\x96a': 2147, 'nacido': 2148, 'milenio': 2149, 'motivo': 2150, 'exclusiva': 2151, 'pariente': 2152, 'pobre': 2153, 'genoma': 2154, 'viene': 2155, 'ocurre': 2156, 'pertenecía': 2157, 'integralidad': 2158, 'llave': 2159, 'ello': 2160, '31': 2161, '37': 2162, '89': 2163, 'alberga': 2164, 'copia': 2165, 'peer': 2166, 'descargarlos': 2167, 'mano': 2168, 'cuestan': 2169, 'funcionan': 2170, 'pobres': 2171, 'fiabilidad': 2172, 'humanos': 2173, 'prescindir': 2174, 'dejado': 2175, 'cambiar': 2176, 'infinito': 2177, 'repetible': 2178, 'resume': 2179, 'pocas': 2180, 'cuantas': 2181, 'realizando': 2182, 'pensilvania': 2183, 'transfiere': 2184, 'allí': 2185, 'sobria': 2186, 'mujeres': 2187, 'estudiante': 2188, 'empecé': 2189, 'local': 2190, 'robert': 2191, 'di': 2192, 'solamente': 2193, 'mucha': 2194, 'tantos': 2195, 'mí': 2196, 'retraso': 2197, 'u': 2198, 'integrante': 2199, 'enmienda': 2200, 'fechada': 2201, 'consecuencia': 2202, '¿pero': 2203, 'hubo': 2204, 'extensiones': 2205, 'hollywood': 2206, 'congreso': 2207, 'actuales': 2208, 'totalmente': 2209, \"'la\": 2210, 'gone': 2211, 'with': 2212, 'wind': 2213, 'margaret': 2214, 'mitchell': 2215, '1939': 2216, 'conformidad': 2217, 'liberando': 2218, 'adaptaciones': 2219, 'modificaciones': 2220, '2035': 2221, 'social': 2222, 'reutilizar': 2223, 'intentado': 2224, 'relativas': 2225, 'véase': 2226, 'aceptara': 2227, 'tratan': 2228, 'perjudica': 2229, 'legítimos': 2230, 'reconocer': 2231, 'productores': 2232, 'compromiso': 2233, 'compuserve': 2234, 'órganos': 2235, 'puramente': 2236, 'cortas': 2237, 'labovitz': 2238, 'abreviatura': 2239, 'magazine': 2240, 'lucro': 2241, 'masas': 2242, 'archives': 2243, 'significado': 2244, 'referirse': 2245, 'journal': 2246, 'post': 2247, 'warner': 2248, 'edita': 2249, 'wired': 2250, 'imagina': 2251, 'experimental': 2252, 'institut': 2253, 'diálogo': 2254, \"l'humanité\": 2255, 'regional': 2256, 'clase': 2257, 'repercusiones': 2258, 'ouest': 2259, 'interno': 2260, 'pesa': 2261, 'progresivo': 2262, 'aceptar': 2263, 'quinta': 2264, '41': 2265, 'mediados': 2266, 'realiza': 2267, 'determinar': 2268, 'jardinería': 2269, 'resultan': 2270, 'criterios': 2271, 'evaluar': 2272, 'inspirarse': 2273, 'británica': 2274, 'posea': 2275, 'pedidos': 2276, 'intermedio': 2277, 'informáticos': 2278, 'atractivo': 2279, 'consejos': 2280, 'anteriormente': 2281, 'trabajado': 2282, 'popularidad': 2283, 'acostumbrando': 2284, 'buena': 2285, 'símbolo': 2286, 'bolsa': 2287, 'sale': 2288, 'supremacía': 2289, 'alegría': 2290, 'apoya': 2291, 'tercera': 2292, 'inferior': 2293, 'recibir': 2294, 'administración': 2295, 'ubica': 2296, 'boigny': 2297, 'bionne': 2298, 'homólogos': 2299, 'descuentos': 2300, '\\x96llamada': 2301, 'fnac': 2302, 'presse': 2303, 'hora': 2304, 'adicionales': 2305, 'musical': 2306, 'asistencia': 2307, 'admirable': 2308, 'obstante': 2309, 'salarios': 2310, 'dejan': 2311, 'prewitt': 2312, 'organizing': 2313, 'fund': 2314, 'sud': 2315, 'ptt': 2316, 'mejores': 2317, 'flexibilidad': 2318, 'patrick': 2319, 'formar': 2320, 'emplea': 2321, 'coloquio': 2322, 'tokyo': 2323, 'japonesa': 2324, 'bienes': 2325, 'densidad': 2326, 'entregas': 2327, 'baratas': 2328, 'isla': 2329, 'plazos': 2330, 'casa': 2331, 'penetrar': 2332, 'lanzar': 2333, 'canadiense': 2334, 'bilingüe': 2335, 'prevé': 2336, 'aumento': 2337, 'efectivos': 2338, 'concretiza': 2339, 'opta': 2340, 'diversificación': 2341, 'salud': 2342, 'negocios': 2343, 'escanear': 2344, '120': 2345, '\\x96un': 2346, '45': 2347, 'high': 2348, 'tech': 2349, '538': 2350, 'dx': 2351, 'audible': 2352, 'louis': 2353, 'llevando': 2354, 'catherine': 2355, 'antigua': 2356, 'mapas': 2357, 'syndicat': 2358, 'exploradores': 2359, 'punta': 2360, 'esperando': 2361, 'ventajas': 2362, 'funcionamiento': 2363, 'optan': 2364, 'academy': 2365, 'aumentar': 2366, '700': 2367, 'permitiendo': 2368, 'françois': 2369, 'gagnon': 2370, 'ensayista': 2371, 'pionero': 2372, 'excelencia': 2373, 'viable': 2374, 'jacques': 2375, 'regalo': 2376, 'seguirá': 2377, 'financieros': 2378, 'géneros': 2379, 'policíaca': 2380, 'digitales\\x96': 2381, 'balance': 2382, 'cubrir': 2383, 'inclasificables': 2384, 'tranquiliza': 2385, 'premio': 2386, \"toile'\": 2387, 'tela': 2388, 'jérôme': 2389, 'obligaciones': 2390, 'directa': 2391, 'barreras': 2392, 'encargado': 2393, 'debo': 2394, 'impresores': 2395, '¿en': 2396, 'hago': 2397, 'ocupo': 2398, 'elegir': 2399, 'buscamos': 2400, 'queremos': 2401, 'rentable': 2402, 'pequeños': 2403, 'ciernes': 2404, 'incluir': 2405, 'prioritariamente': 2406, 'propósito': 2407, 'estilo': 2408, 'edition': 2409, '85': 2410, 'complementaria': 2411, 'arbon': 2412, 'respectivamente': 2413, 'flammarion': 2414, 'inauguración': 2415, 'optar': 2416, 'partida': 2417, 'actores': 2418, 'unir': 2419, 'fuerzas': 2420, 'abrir': 2421, 'ventana': 2422, 'propuestos': 2423, 'inéditos': 2424, 'negociados': 2425, 'expresa': 2426, 'inventar': 2427, 'dependerá': 2428, 'percibir': 2429, 'memorias': 2430, 'filosofía': 2431, 'amor': 2432, 'reparten': 2433, 'interactivas': 2434, 'hipertextuales': 2435, 'tv': 2436, 'compró': 2437, 'creadora': 2438, 'demostrado': 2439, 'ojos': 2440, 'globalización': 2441, 'compatible': 2442, 'apenas': 2443, 'suzanne': 2444, 'saboya': 2445, 'sureste': 2446, 'presupuesto': 2447, 'suficiente': 2448, 'delegar': 2449, 'numerosas': 2450, 'capital': 2451, 'conocidos': 2452, 'ilustraciones': 2453, 'impresor': 2454, 'recibido': 2455, 'solicitudes': 2456, 'latinoamérica': 2457, 'méxico': 2458, \"'comercial'\": 2459, 'usted': 2460, 'visitantes': 2461, 'toman': 2462, 'rumbo': 2463, '¿acaso': 2464, 'independientes': 2465, \"'obra\": 2466, 'sonidos': 2467, 'leído': 2468, 'compañero': 2469, 'llevan': 2470, 'profesores': 2471, 'limitada': 2472, 'sorbona': 2473, 'joseph': 2474, 'enormes': 2475, 'constituyen': 2476, 'utilice': 2477, 'doy': 2478, 'interesante': 2479, 'gráfico': 2480, 'constituye': 2481, 'irremplazable': 2482, 'prolongación': 2483, 'rato': 2484, 'infografía': 2485, 'tipografía': 2486, 'irá': 2487, 'automatización': 2488, 'convencido': 2489, 'refiero': 2490, 'secundaria': 2491, 'parecen': 2492, 'operan': 2493, 'atractiva': 2494, 'reestructuración': 2495, 'asociada': 2496, '¿cuál': 2497, 'folio': 2498, 'evolucionando': 2499, 'dirá': 2500, 'veremos': 2501, 'reto': 2502, 'saberes': 2503, 'equilibrar': 2504, 'acudir': 2505, 'acabaría': 2506, 'específicos': 2507, 'brutal': 2508, 'cambiarán': 2509, 'forman': 2510, 'adoptan': 2511, 'radiotelevisión': 2512, 'fenómeno': 2513, 'reestructuraciones': 2514, 'proliferación': 2515, 'teletrabajadores': 2516, 'oit': 2517, 'guardar': 2518, 'rápidos': 2519, 'cine': 2520, 'fotocopiadoras': 2521, 'asistida': 2522, 'transferir': 2523, 'artístico': 2524, 'asistimos': 2525, 'inquietantes': 2526, 'preocupantes': 2527, 'particular': 2528, 'batallas': 2529, 'directores': 2530, 'publicaciones': 2531, 'ceder': 2532, 'preocupante': 2533, 'seguidas': 2534, 'obligados': 2535, 'intervención': 2536, 'volver': 2537, 'composición': 2538, 'communication': 2539, 'demuestra': 2540, 'cualificados': 2541, 'perdido': 2542, 'precisa': 2543, 'pruebas': 2544, 'fusión': 2545, 'empleo': 2546, 'reducida': 2547, 'aparte': 2548, 'casos': 2549, 'aislados': 2550, 'organizaciones': 2551, 'supresiones': 2552, 'industrias': 2553, 'livre': 2554, 'pasan': 2555, 'elaboran': 2556, 'preferible': 2557, 'demasiado': 2558, 'baja': 2559, 'requieren': 2560, 'telecomunicaciones': 2561, 't': 2562, 'fundamentalmente': 2563, 'abandonar': 2564, 'vuelto': 2565, 'proporción': 2566, 'preconizan': 2567, 'defensa': 2568, 'sean': 2569, 'repetir': 2570, 'fotografías': 2571, 'municipal': 2572, 'finlandia': 2573, 'incitación': 2574, '\\x96aunque': 2575, 'utilidad': 2576, 'esconde': 2577, 'hombre': 2578, 'pensamiento': 2579, 'paciencia': 2580, 'solía': 2581, 'antiguos': 2582, 'conserva': 2583, 'hojear': 2584, 'pregunta': 2585, 'conservar': 2586, 'efectuar': 2587, 'mot': 2588, 'focalizarse': 2589, 'reciente': 2590, 'elección': 2591, 'depende': 2592, 'moderna': 2593, 'frantext': 2594, 'ingeniería': 2595, 'civil': 2596, 'ponts': 2597, 'chaussées': 2598, 'vinculadas': 2599, 'considera': 2600, 'volúmenes': 2601, 'estampas': 2602, 'establecimientos': 2603, 'museos': 2604, 'modifica': 2605, 'orientaciones': 2606, 'figaro': 2607, 'enciclopédico': 2608, 'comunica': 2609, 'decisión': 2610, 'vasto': 2611, 'temáticos': 2612, 'tendrá': 2613, 'reunirá': 2614, '1920': 2615, 'amplia': 2616, '1826': 2617, 'accesibles': 2618, 'gallica2': 2619, '\\x96con': 2620, 'guiar': 2621, 'raggett': 2622, 'documentación': 2623, 'reservado': 2624, 'monografías': 2625, 'seleccionado': 2626, \"'oficina\": 2627, \"virtual'\": 2628, 'referencias': 2629, 'reserva': 2630, 'buscan': 2631, 'alguna': 2632, 'personalmente': 2633, 'atraído': 2634, 'ocupa': 2635, 'institutos': 2636, 'intento': 2637, 'administro': 2638, 'vigilancia': 2639, 'bakayoko': 2640, 'bourahima': 2641, 'estadística': 2642, 'aplicada': 2643, 'refer': 2644, 'participantes': 2645, 'recientemente': 2646, 'cargarlos': 2647, 'temáticas': 2648, 'tratará': 2649, 'reforzar': 2650, 'esperanza': 2651, 'oferta': 2652, 'abogados': 2653, 'consulto': 2654, 'encargo': 2655, 'jurídicos': 2656, 'anissa': 2657, 'rachef': 2658, 'oficiales': 2659, 'destinados': 2660, 'utilizo': 2661, 'básicas': 2662, 'oclc': 2663, 'computer': 2664, 'federation': 2665, 'reseña': 2666, 'ofrecen': 2667, 'abarca': 2668, 'nació': 2669, 'anglófona': 2670, 'podríamos': 2671, 'deseamos': 2672, 'information': 2673, 'código': 2674, '1968': 2675, '1986': 2676, '128': 2677, 'traducidos': 2678, 'bits': 2679, 'traduce': 2680, 'incluyen': 2681, 'z': 2682, 'corresponde': 2683, 'latín': 2684, 'acentuadas': 2685, 'europeas': 2686, 'importancia': 2687, 'norteamérica': 2688, 'norma': 2689, '8859': 2690, 'latin': 2691, 'carácter': 2692, '65': 2693, 'componentes': 2694, 'coautor': 2695, 'operativos': 2696, 'representar': 2697, '±': 2698, 'obstáculos': 2699, 'códigos': 2700, 'representación': 2701, 'preconiza': 2702, 'respete': 2703, 'futuros': 2704, 'gusto': 2705, 'limite': 2706, 'hará': 2707, 'resto': 2708, 'indica': 2709, 'lingüísticos': 2710, 'centrales': 2711, 'mikami': 2712, 'languages': 2713, 'by': 2714, 'computers': 2715, 'and': 2716, 'comúnmente': 2717, 'home': 2718, 'multilingual': 2719, 'traducido': 2720, 'americano': 2721, \"'the\": 2722, 'publicó': 2723, 'parecer': 2724, 'creados': 2725, 'representadas': 2726, 'voluntad': 2727, 'ponerse': 2728, 'esfuerzo': 2729, 'intervalos': 2730, 'regulares': 2731, '64': 2732, '34': 2733, 'asiáticos': 2734, 'iate': 2735, 'fusiona': 2736, 'podrá': 2737, 'interactiva': 2738, 'increíble': 2739, 'leen': 2740, 'usados': 2741, 'tablas': 2742, 'lessig': 2743, 'law': 2744, 'school': 2745, 'protegiendo': 2746, 'típicas': 2747, 'autorizaciones': 2748, 'exclusivas': 2749, 'explotaciones': 2750, 'finalizada': 2751, 'instaura': 2752, 'compatibilidad': 2753, 'philippe': 2754, 'campos': 2755, 'productor': 2756, 'excepción': 2757, 'cultural': 2758, 'bron': 2759, 'noción': 2760, 'reproducir': 2761, 'contexto': 2762, 'contribuir': 2763, 'creadores': 2764, 'respetar': 2765, 'concebida': 2766, 'movimiento': 2767, 'free': 2768, 'modificarlo': 2769, 'presentan': 2770, 'decidir': 2771, 'utilizados': 2772, 'foto': 2773, '130': 2774, '350': 2775, 'estarían': 2776, 'afecta': 2777, 'restrictiva': 2778, 'formidable': 2779, 'avance': 2780, 'haga': 2781, 'perder': 2782, 'pedía': 2783, 'ellas': 2784, 'relativa': 2785, 'detalle': 2786, '1790': 2787, 'nacimiento': 2788, 'repente': 2789, 'caer': 2790, '1831': 2791, 'compensar': 2792, 'prensas': 2793, 'xerox': 2794, 'muerte': 2795, '\\x96como': 2796, 'armonizar': 2797, 'eucd': 2798, 'massachusetts': 2799, 'prácticos': 2800, 'ejercicios': 2801, 'correspondientes': 2802, 'bibliografías': 2803, 'implementa': 2804, 'lanzando': 2805, 'vinton': 2806, 'cerf': 2807, 'padre': 2808, 'él': 2809, 'relaciona': 2810, 'privilegia': 2811, 'actualizada': 2812, 'organizada': 2813, 'intenta': 2814, 'adquisición': 2815, 'principalmente': 2816, 'estable': 2817, 'naturaleza': 2818, 'fiable': 2819, 'transformación': 2820, 'pongo': 2821, 'colegas': 2822, 'serían': 2823, 'escolares': 2824, 'anda': 2825, 'llegará': 2826, 'proponiendo': 2827, 'asignaturas': 2828, 'largos': 2829, 'sustancial': 2830, 'médico': 2831, 'toma': 2832, 'san': 2833, 'francisco': 2834, 'berkeley': 2835, 'multicriterio': 2836, 'pidiendo': 2837, 'incitando': 2838, 'firman': 2839, 'subvención': 2840, 'moore': 2841, 'biología': 2842, 'aporta': 2843, 'ensayos': 2844, 'tropicales': 2845, 'desatendidas': 2846, 'otoño': 2847, 'zonas': 2848, 'central': 2849, 'estreno': 2850, 'destinadas': 2851, 'desea': 2852, 'usa': 2853, 'complejo': 2854, 'llamados': 2855, 'registran': 2856, 'contribuidores': 2857, 'wikimedia': 2858, 'animales': 2859, 'vegetales': 2860, 'nacer': 2861, 'colaborativa': 2862, 'colaboraciones': 2863, 'prototipo': 2864, 'especie': 2865, 'museum': 2866, 'history': 2867, 'biodiversity': 2868, 'heritage': 2869, 'ensayo': 2870, 'avances': 2871, 'consorcio': 2872, 'boston': 2873, 'sloan': 2874, 'financiamiento': 2875, 'transcurso': 2876, 'descubrir': 2877, 'significativo': 2878, 'store': 2879, 'portable': 2880, 'document': 2881, 'letra': 2882, 'colores': 2883, 'leerlo': 2884, 'mac': 2885, 'unix': 2886, 'linux': 2887, 'integrado': 2888, 'garantiza': 2889, 'segura': 2890, 'dadas': 2891, 'gestor': 2892, 'estima': 2893, 'symbian': 2894, 'difundido': 2895, 'simon': 2896, 'schuster': 2897, 'epub': 2898, 'marcados': 2899, 'txt': 2900, 'hypertext': 2901, 'markup': 2902, 'language': 2903, 'extensible': 2904, 'porvenir': 2905, 'publication': 2906, 'structure': 2907, 'asset': 2908, 'nicho': 2909, 'concibe': 2910, 'publisher': 2911, 'particulares': 2912, 'podía': 2913, 'maestro': 2914, 'suspenso': 2915, 'originals': 2916, 'veteran': 2917, 'crimen': 2918, 'art': 2919, 'fundamental': 2920, 'fórmula': 2921, 'cosa': 2922, 'impide': 2923, 'arturo': 2924, 'pérez': 2925, 'reverte': 2926, 'coelho': 2927, 'pesaban': 2928, 'ficha': 2929, 'difusor': 2930, 'convirtiendo': 2931, 'estemos': 2932, 'puntos': 2933, 'facilitará': 2934, 'gallimard': 2935, 'esenciales': 2936, 'tales': 2937, \"'\": 2938, 'hachette': 2939, 'apasionados': 2940, 'hipervínculo': 2941, 'silvaine': 2942, 'arabo': 2943, \"d'hier\": 2944, \"d'aujourd'hui\": 2945, 'cuadros': 2946, 'interesantes': 2947, 'círculo': 2948, 'corresponder': 2949, 'positivos': 2950, 'saraswati': 2951, 'pareja': 2952, 'godefroy': 2953, 'desesperado': 2954, \"l'an\": 2955, 'consciencia': 2956, 'absolutamente': 2957, 'historias': 2958, \"'búsqueda'\": 2959, '\\x96más': 2960, 'personajes': 2961, 'ndlt': 2962, 'quise': 2963, 'universos': 2964, 'toca': 2965, 'mostrar': 2966, 'manejar': 2967, 'intriga': 2968, 'silicon': 2969, 'valley': 2970, 'gusta': 2971, 'escogidos': 2972, 'política': 2973, \"'non'\": 2974, 'cotidiana': 2975, 'prolonga': 2976, 'píxel': 2977, 'frases': 2978, 'escena': 2979, 'guión': 2980, 'habido': 2981, 'cécile': 2982, 'larga': 2983, 'pensamientos': 2984, 'construye': 2985, 'lefèvre': 2986, 'imaginario': 2987, 'transposición': 2988, 'redes': 2989, 'apropiado': 2990, 'intuitiva': 2991, 'quisieran': 2992, 'prefieren': 2993, 'sintaxis': 2994, 'enlazar': 2995, 'animadas': 2996, 'abiertas': 2997, 'negativa': 2998, 'positiva': 2999, 'afectará': 3000, 'posturas': 3001, 'sitúa': 3002, 'dispositivo': 3003, 'imposible': 3004, 'off': 3005, 'pantallas': 3006, 'generalización': 3007, 'anchura': 3008, 'limitaciones': 3009, 'apasionantes': 3010, 'detrás': 3011, 'michigan': 3012, 'estimado': 3013, 'imprimirlos': 3014, 'authors': 3015, 'universitarias': 3016, 'teoría': 3017, 'vienen': 3018, 'duran': 3019, 'revo': 3020, 'teklogix': 3021, '9210': 3022, 'precursor': 3023, 'comercializado': 3024, 'tren': 3025, '\\x96entre': 3026, 'visión': 3027, 'poética': 3028, '230': 3029, 'líquido': 3030, 'lcd': 3031, 'liquid': 3032, 'display': 3033, 'retroiluminada': 3034, 'escuchar': 3035, 'mp3': 3036, 'adaptando': 3037, 'gamas': 3038, 'desarrolla': 3039, 'reducido': 3040, 'ce': 3041, 'handspring': 3042, 'toshiba': 3043, 'casio': 3044, 'teléfonos': 3045, 'multifunción': 3046, 'táctil': 3047, 'inalámbrica': 3048, 'preguntarse': 3049, 'portátil': 3050, 'dista': 3051, 'equipararse': 3052, 'bus': 3053, 'desarrollado': 3054, 'cabían': 3055, 'reb': 3056, 'sucesor': 3057, 'rca': 3058, 'skymall': 3059, 'inferiores': 3060, 'pronósticos': 3061, 'suspensión': 3062, 'geb': 3063, 'cm': 3064, 'access': 3065, 'bookeen': 3066, 'ingenieros': 3067, 'librié': 3068, 'pilas': 3069, 'mide': 3070, 'pulgadas': 3071, 'funciona': 3072, 'wifi': 3073, 'objetos': 3074, 'comodidad': 3075, 'dimensiones': 3076, 'próxima': 3077, 'desafío': 3078, 'handicapzéro': 3079, 'ciegas': 3080, 'braille': 3081, 'convirtiéndose': 3082, 'pervasiva': 3083, 'barrio': 3084, 'hacemos': 3085, 'ciberespacio': 3086, '©': 3087, 'reservados': 3088, 'contestado': 3089, 'américas': 3090, 'centena': 3091, 'llevadas': 3092, 'referentes': 3093, 'booknología': 3094, 'anna': 3095, 'álvarez': 3096, 'simmross': 3097, 'española': 3098, 'agradecimientos': 3099, 'encuentre': 3100, 'velocidad': 3101, 'crucero': 3102, 'señal': 3103, 'corren': 3104, 'puso': 3105, '\\x96datada': 3106, '1454': 3107, 'ó': 3108, '1455\\x96': 3109, 'maguncia': 3110, 'incompletos': 3111, 'parcial\\x96': 3112, 'multiplicando': 3113, 'escriben': 3114, 'imprescindible': 3115, 'informarse': 3116, 'necesitamos': 3117, 'correr': 3118, 'desesperadamente': 3119, 'estudian': 3120, 'correspondencia': 3121, 'confinados': 3122, 'cama': 3123, 'gigantesca': 3124, 'estático': 3125, 'actualizarse': 3126, 'entretiens': 3127, 'proseguido': 3128, 'completarlas': 3129, 'indique': 3130, 'remonta': 3131, 'difundirlas': 3132, 'relativamente': 3133, 'cobró': 3134, 'alcanzó': 3135, '¿cuáles': 3136, 'raíces': 3137, 'estudiaba': 3138, 'illinois': 3139, 'materials': 3140, 'lab': 3141, 'asignó': 3142, 'independencia': 3143, '1776': 3144, 'existían': 3145, 'formaban': 3146, 'provocando': 3147, 'implosión': 3148, 'ínfimo': 3149, 'difundió': 3150, 'mensaje': 3151, 'explicaba': 3152, '\\x96aún': 3153, 'web\\x96': 3154, 'descargaron': 3155, 'dedicar': 3156, 'encuadernadas': 3157, 'desplegar': 3158, 'cursiva': 3159, 'negrita': 3160, 'subrayados': 3161, 'definió': 3162, 'nosotros': 3163, 'consideramos': 3164, 'semejanza': 3165, 'difundimos': 3166, 'digitado': 3167, 'prosiguió': 3168, '1972': 3169, 'digitando': 3170, 'bill': 3171, 'enmiendas': 3172, 'añadidas': 3173, '1789': 3174, '1787': 3175, 'gobierno': 3176, 'voluntario': 3177, 'constitution': 3178, 'aún\\x96': 3179, 'animan': 3180, 'separado': 3181, 'rigurosa': 3182, 'anotadas': 3183, 'pusieron': 3184, 'despega': 3185, 'protocolo': 3186, 'transmission': 3187, '1983': 3188, '1989': 3189, 'décimo': 3190, 'bible': 3191, '1611': 3192, '1769': 3193, 'lewis': 3194, 'carroll': 3195, '1865': 3196, 'barrie': 3197, 'infantil': 3198, 'mosaic': 3199, 'reclutar': 3200, 'centésimo': 3201, 'complete': 3202, 'works': 3203, '1590': 3204, '1613': 3205, 'duplicado': 3206, 'coordina': 3207, 'articula': 3208, 'light': 3209, \"aesop's\": 3210, 'heavy': 3211, 'seria': 3212, 'moby': 3213, 'dick': 3214, 'reference': 3215, \"roget's\": 3216, 'thesaurus': 3217, 'sustituida': 3218, 'clasificación': 3219, 'detallada': 3220, 'habitual': 3221, 'diverso': 3222, 'abuelos': 3223, 'hook': 3224, 'adaptación': 3225, 'televisiva': 3226, 'visionar': 3227, 'episodio': 3228, 'citan': 3229, 'escuchados': 3230, 'conversaciones': 3231, 'ocupan': 3232, 'telefónica': 3233, 'merry': 3234, 'alegres': 3235, 'howard': 3236, 'pyle': 3237, 'milésimo': 3238, 'commedia': 3239, 'comedia': 3240, 'dante': 3241, 'alighieri': 3242, '1321': 3243, 'conseguir': 3244, 'subvenciones': 3245, 'representaría': 3246, 'contará': 3247, '2000º': 3248, 'don': 3249, 'quijote': 3250, '1605': 3251, 'castellano': 3252, \"l'ombre\": 3253, 'jeunes': 3254, 'filles': 3255, 'fleur\\x94': 3256, 'sombra': 3257, 'muchachas': 3258, 'flor': 3259, 'proust': 3260, '1919': 3261, 'french': 3262, 'immortals': 3263, 'inmortales': 3264, '1905': 3265, 'maison': 3266, 'mazarin': 3267, 'ficciones': 3268, 'laureados': 3269, 'academia': 3270, 'académie': 3271, 'emile': 3272, 'souvestre': 3273, 'hector': 3274, 'malot': 3275, 'alphonse': 3276, 'daudet': 3277, 'notebooks': 3278, 'cuadernos': 3279, '1988': 3280, 'cupo': 3281, 'disquetes': 3282, '44': 3283, 'comprimir': 3284, 'digitalizada': 3285, 'voluminoso': 3286, 'comprimida': 3287, 'escanearlo': 3288, 'corregirlo': 3289, 'formatearlo': 3290, 'compaginarlo': 3291, 'números': 3292, 'reservan': 3293, 'epónima': 3294, 'orwell': 3295, '1949': 3296, 'amplían': 3297, 'exhaustiva': 3298, 'ipl': 3299, 'paciente': 3300, 'magna': 3301, 'constitucional': 3302, 'firmado': 3303, '1215': 3304, 'duplican': 3305, 'impresionante': 3306, 'escaneadas': 3307, 'releídas': 3308, 'corregidas': 3309, 'franks': 3310, 'repartir': 3311, 'eligen': 3312, 'releer': 3313, 'determinada': 3314, 'indicativo': 3315, 'aconseja': 3316, 'repasar': 3317, 'graba': 3318, 'copias': 3319, 'distribuirlas': 3320, 'rondan': 3321, 'rtf': 3322, 'obligatorio\\x96': 3323, '46': 3324, 'gigabytes': 3325, 'unesco': 3326, '340': 3327, '135': 3328, 'gb': 3329, 'duplicarse': 3330, 'consortia': 3331, 'pgcc': 3332, 'afiliado': 3333, 'rastko': 3334, 'belgrado': 3335, 'serbia': 3336, 'reflejar': 3337, 'prevalece': 3338, 'reason': 3339, 'santayana': 3340, '1906': 3341, 'alcanzan': 3342, 'sánscrito': 3343, 'maya': 3344, '377': 3345, '966': 3346, '412': 3347, '344': 3348, 'holandés': 3349, '102': 3350, '69': 3351, '68': 3352, 'tagalo': 3353, '51': 3354, 'portugal': 3355, 'twenty': 3356, 'thousand': 3357, 'leagues': 3358, 'under': 3359, 'leguas': 3360, 'submarino': 3361, 'verne': 3362, '1869': 3363, 'hayan': 3364, '2003\\x96': 3365, 'ronda': 3366, 'alcanzará': 3367, 'preprints': 3368, 'acoger': 3369, 'merecerían': 3370, 'incorporados': 3371, 'previo': 3372, 'incompletas': 3373, 'insuficiente': 3374, '379': 3375, 'news': 3376, 'mike': 3377, 'cook': 3378, 'complementario': 3379, 'tenían': 3380, 'anuales': 3381, '47': 3382, '79': 3383, '252': 3384, '432': 3385, '176': 3386, '058': 3387, '019': 3388, '141': 3389, '049': 3390, 'pgc': 3391, 'shepard': 3392, 'david': 3393, 'jones': 3394, 'comienza': 3395, '934': 3396, 'procesados': 3397, 'english': 3398, 'collectors': 3399, 'younger': 3400, 'fletcher': 3401, '1902': 3402, '\\x93the': 3403, 'bird': 3404, 'book\\x94': 3405, 'aves': 3406, 'chester': 3407, 'albert': 3408, 'reed': 3409, '1915': 3410, 'ganado': 3411, 'hecha': 3412, 'releídos': 3413, 'corregidos': 3414, '\\x96primera': 3415, 'inspiró': 3416, 'runeberg': 3417, 'escandinava': 3418, 'alemana': 3419, 'administrativa': 3420, 'estrictamente': 3421, 'frecuentemente': 3422, 'perennidad': 3423, 'depender': 3424, 'cortes': 3425, 'prioridades': 3426, 'financieras': 3427, 'ejercerse': 3428, 'válido': 3429, 'supervisión': 3430, 'garantizada': 3431, 'financiar': 3432, 'escáneres': 3433, 'gratuitos': 3434, 'solicitan': 3435, 'bittorrent': 3436, 'grabar': 3437, 'silencie': 3438, 'etimológico': 3439, 'electrónico\\x96': 3440, 'tendría': 3441, 'paternidad': 3442, 'reconfortante': 3443, 'lanzamientos': 3444, 'propietario': 3445, 'salpicaron': 3446, 'denominación': 3447, 'designe': 3448, 'entidades': 3449, 'válida': 3450, 'embrión': 3451, 'human': 3452, 'genome': 3453, 'secuenciación': 3454, 'duros': 3455, 'congress': 3456, 'aparecerá': 3457, 'humanidad': 3458, 'cifran': 3459, 'diarias': 3460, '532': 3461, '243': 3462, '808': 3463, '154': 3464, '765': 3465, '841': 3466, '697': 3467, '818': 3468, '995': 3469, '436': 3470, '103': 3471, '422': 3472, '751': 3473, '037': 3474, '033': 3475, '824': 3476, 'ibiblio': 3477, 'carolina': 3478, 'ilimitada': 3479, 'recopila': 3480, 'circulan': 3481, 'p2p': 3482, 'to': 3483, 'colmar': 3484, 'fractura': 3485, 'energía': 3486, 'solar': 3487, 'regiones': 3488, 'remotas': 3489, 'pasarían': 3490, 'traductores': 3491, 'hacerles': 3492, 'retoques': 3493, 'correctores': 3494, 'óptima': 3495, 'adicto': 3496, 'dedicándose': 3497, 'neoindustrial': 3498, 'altruista': 3499, 'pragmático': 3500, 'tildado': 3501, 'chiflado': 3502, 'suscita': 3503, 'aceptando': 3504, 'virajes': 3505, 'inventariados': 3506, 'análogos': 3507, 'webmasters': 3508, 'cmu': 3509, 'comprendía': 3510, 'localmente': 3511, 'figuraba': 3512, 'stockton': 3513, 'realizó': 3514, 'empezaron': 3515, 'wiretap': 3516, 'proponían': 3517, 'permitiera': 3518, 'dondequiera': 3519, 'encontraran': 3520, 'dejé': 3521, 'mantuve': 3522, 'entretanto': 3523, 'apasioné': 3524, 'mantenerme': 3525, 'intereso': 3526, 'comprometido': 3527, 'forme': 3528, 'dedique': 3529, 'voluntaria': 3530, 'obtiene': 3531, '35': 3532, 'estalla': 3533, 'controversia': 3534, 'permanecen': 3535, 'perjuicio': 3536, 'golpe': 3537, 'talla': 3538, 'eminencias': 3539, 'sacar': 3540, 'fui': 3541, 'enemigo': 3542, 'actuaron': 3543, 'mencionó': 3544, 'debates': 3545, 'irrealistas': 3546, 'encabezados': 3547, 'aristocracia': 3548, 'terrateniente': 3549, \"información'\": 3550, '¿una': 3551, 'quién': 3552, 'ocklerbloom': 3553, 'entiendan': 3554, 'lectores\\x96': 3555, 'creadas': 3556, 'especifica': 3557, 'expire': 3558, 'tantas': 3559, 'deseen': 3560, 'últimamente': 3561, 'repetidamente': 3562, 'retirarles': 3563, 'limitando': 3564, 'dichas': 3565, 'prolongando': 3566, 'prevén': 3567, 'perpetuo': 3568, 'extendiendo': 3569, 'pretenden': 3570, 'sustituir': 3571, 'establecería': 3572, 'jack': 3573, 'valenti': 3574, 'mmpa': 3575, 'motion': 3576, 'picture': 3577, 'cinematográfica': 3578, 'pide': 3579, 'dejen': 3580, 'perfectamente': 3581, 'pasaría': 3582, 'bloquear': 3583, 'sorprende': 3584, 'reaccionen': 3585, 'desgraciadamente': 3586, 'resolver': 3587, 'dilema': 3588, 'práctico': 3589, 'negociara': 3590, 'equilibrio': 3591, 'gobernada': 3592, 'razonable': 3593, 'prefigura': 3594, 'boletines': 3595, 'fanzine': 3596, 'pequeño': 3597, 'contracción': 3598, 'difunde': 3599, 'audiencia': 3600, 'crash': 3601, 'deseaba': 3602, 'directorios': 3603, 'alt': 3604, 'well': 3605, 'directorio': 3606, 'manualmente': 3607, 'editada': 3608, 'exista': 3609, 'independiente': 3610, 'minoritario': 3611, 'publicando': 3612, 'dicta': 3613, 'límites': 3614, 'solemos': 3615, 'sunday': 3616, 'personalizada': 3617, 'focus': 3618, 'der': 3619, 'spiegel': 3620, 'wall': 3621, 'street': 3622, 'archivados': 3623, 'pathfinder': 3624, 'rebautizado': 3625, 'sports': 3626, 'illustrated': 3627, 'fortune': 3628, 'people': 3629, 'southern': 3630, 'living': 3631, 'money': 3632, 'sunset': 3633, 'diplomatique': 3634, 'estrenó': 3635, 'ina': 3636, \"l'audiovisuel\": 3637, 'libération': 3638, 'boudic': 3639, 'leves': 3640, 'ofrecerles': 3641, '370': 3642, 'oficinas': 3643, 'provincias': 3644, 'mensajería': 3645, 'externo': 3646, 'corresponsales': 3647, 'extenderse': 3648, 'reflexionamos': 3649, 'retroacción': 3650, 'discutimos': 3651, 'capta': 3652, 'anuncios': 3653, 'influye': 3654, 'reflejos': 3655, 'desinterés': 3656, 'peligroso': 3657, 'deseosa': 3658, 'retos': 3659, 'rejuvenecer': 3660, 'vuelven': 3661, 'surgir': 3662, 'tenue': 3663, 'joyo': 3664, 'habiéndose': 3665, 'ebay': 3666, 'carecen': 3667, 'paredes': 3668, 'escaparates': 3669, 'rótulo': 3670, 'calle': 3671, 'batuta': 3672, 'instalados': 3673, 'cuál': 3674, 'mercantiles': 3675, 'ropa': 3676, 'listado': 3677, 'kit': 3678, 'mercados': 3679, 'percatado': 3680, '82': 3681, 'quería': 3682, 'razonamiento': 3683, 'bookshop': 3684, 'cobrando': 3685, 'interesan': 3686, 'facturas': 3687, 'informe': 3688, 'correspondiente': 3689, 'cadenas': 3690, 'supermercados': 3691, 'analistas': 3692, '\\x96innovadora': 3693, 'económico\\x96': 3694, '160': 3695, 'citada': 3696, 'cibercomercio': 3697, 'siga': 3698, 'deficitaria': 3699, 'cotización': 3700, 'dispara': 3701, 'consolidar': 3702, 'guerra': 3703, 'rival': 3704, 'aprovechan': 3705, 'carrera': 3706, 'rebajas': 3707, 'ahorrar': 3708, 'n': 3709, '480': 3710, 'diseminadas': 3711, 'comprando': 3712, 'porción': 3713, 'detenida': 3714, '164': 3715, 'implantación': 3716, 'videojuegos': 3717, 'prepara': 3718, 'secreto': 3719, 'viajado': 3720, 'grupo\\x96': 3721, 'instala': 3722, 'guyancourt': 3723, 'orléans': 3724, 'angloamericanos': 3725, 'permitirse': 3726, 'sustanciales': 3727, 'lang\\x96': 3728, 'exceder': 3729, 'estrecho': 3730, 'maniobra': 3731, 'optimistas': 3732, 'afp': 3733, 'lang': 3734, 'entrevista': 3735, 'terrien': 3736, 'declara': 3737, 'fijo': 3738, 'enseña': 3739, 'proponemos': 3740, 'multitud': 3741, 'vendemos': 3742, 'eficaz': 3743, 'canción': 3744, 'tienda': 3745, '24h': 3746, '7días': 3747, 'respetamos': 3748, 'compromisos': 3749, 'inconvenientes': 3750, 'desear': 3751, 'discreción': 3752, 'divulgarse': 3753, 'loire': 3754, 'atlantique': 3755, 'lanzan': 3756, 'sensibilización': 3757, 'obtengan': 3758, 'sueldos': 3759, 'reúnen': 3760, 'denuncia': 3761, 'degradantes': 3762, 'demasiada': 3763, 'horario': 3764, 'recurso': 3765, 'temporadas': 3766, 'bajísimos': 3767, 'garantías': 3768, 'ínfimas': 3769, 'bretaña': 3770, 'moran': 3771, 'proyecta': 3772, 'economy': 3773, 'workers': 3774, 'reiterar': 3775, 'internos': 3776, 'inutilidad': 3777, 'seno': 3778, 'reducción': 3779, 'cierre': 3780, '240': 3781, 'transferidos': 3782, 'slough': 3783, 'regensberg': 3784, 'implantar': 3785, 'extranjeros': 3786, 'inmobiliarios': 3787, 'repercutan': 3788, 'barata': 3789, 'salen': 3790, 'llamadas': 3791, 'sapporo': 3792, 'hokkaido': 3793, 'cuarta': 3794, '\\x96es': 3795, 'unidos\\x96': 3796, 'm2': 3797, 'ichikawa': 3798, 'contando': 3799, 'madre': 3800, 'vhs': 3801, 'conocedor': 3802, 'muerto': 3803, 'fiestas': 3804, 'giro': 3805, 'enfrentarse': 3806, 'sobresaltos': 3807, 'provocados': 3808, 'afectando': 3809, 'déficit': 3810, 'despido': 3811, '270': 3812, 'utensilios': 3813, 'cocina': 3814, 'inside': 3815, 'tardará': 3816, 'crecer': 3817, 'a9': 3818, '\\x96bautizada': 3819, 'joyo\\x96': 3820, 'neto': 3821, 'filiales\\x96': 3822, '588': 3823, 'atraídos': 3824, 'excede': 3825, 'comprado': 3826, 'walkman': 3827, '450': 3828, 'generales': 3829, 'intentan': 3830, 'sobrevivir': 3831, 'limitados': 3832, 'ulysse': 3833, 'ubicada': 3834, 'saint': 3835, 'ilusiones': 3836, 'huracán': 3837, 'delante': 3838, 'domain': 3839, 'miembro': 3840, 'modernas': 3841, 'slam': 3842, 'librairie': 3843, 'ancienne': 3844, 'moderne': 3845, 'explorateurs': 3846, 'viajeros': 3847, 'grands': 3848, 'voyageurs': 3849, 'lanzó': 3850, 'sabía': 3851, 'quiero': 3852, 'parezca': 3853, 'encuentro': 3854, 'pelos': 3855, 'quita': 3856, 'trae': 3857, 'molesta': 3858, 'pesimista': 3859, 'mata': 3860, 'devore': 3861, '¡y': 3862, 'esperanzas': 3863, 'labra': 3864, 'costo': 3865, 'comercializando': 3866, 'autoeditar': 3867, 'encargan': 3868, 'revelar': 3869, 'talentos': 3870, 'ganando': 3871, 'lógico': 3872, 'beth': 3873, 'berselli': 3874, 'vio': 3875, '¿quién': 3876, 'dijo': 3877, 'nadie': 3878, 'compraría': 3879, 'vaca': 3880, 'leche': 3881, 'distribuía': 3882, 'aclamada': 3883, 'seguían': 3884, 'dudando': 3885, 'motivos': 3886, 'excesivos': 3887, 'juzgan': 3888, 'perjudicial': 3889, 'fueron': 3890, 'pidieron': 3891, 'aparecieran': 3892, 'concede': 3893, 'descuento': 3894, 'presencia': 3895, 'telefónicas': 3896, 'adoptada': 3897, 'duplicaron': 3898, 'quebequense': 3899, 'recurrir': 3900, 'autoedición': 3901, 'sabe': 3902, 'saber\\x96': 3903, 'ésto': 3904, 'precedido': 3905, 'hayamos': 3906, 'limitarnos': 3907, 'simbólica': 3908, 'resultara': 3909, 'accesible': 3910, 'mosqueteros': 3911, 'massacrier': 3912, 'mostafa': 3913, 'benhamza': 3914, 'intentamos': 3915, 'inédito': 3916, 'webzine': 3917, 'caseros': 3918, 'lectorado\\x96': 3919, 'sirviendo': 3920, 'fachada': 3921, 'dispongamos': 3922, '¿será': 3923, 'soñando': 3924, 'democracia': 3925, 'económica': 3926, 'cy': 3927, 'ciber': 3928, 'libris': 3929, 'pionera': 3930, 'confirmados': 3931, 'practican': 3932, 'imprimen': 3933, 'trece': 3934, 'suma': 3935, 'visitas': 3936, 'equilibrado': 3937, 'especializarse': 3938, 'sabido': 3939, 'principiantes': 3940, 'circuito': 3941, 'atípicos': 3942, 'desfase': 3943, 'gustos': 3944, 'modas': 3945, 'dominantes': 3946, 'logrado': 3947, 'éxitos': 3948, 'literatos': 3949, 'sgdl': 3950, 'société': 3951, 'gens': 3952, 'lettres': 3953, 'lítotes': 3954, 'prix': 3955, 'litote': 3956, \"'willer\": 3957, 'ou': 3958, \"trahison'\": 3959, 'willer': 3960, 'traición': 3961, 'olinon': 3962, \"'desbrozador'\": 3963, 'atípico': 3964, 'quiso': 3965, 'impuestas': 3966, 'innovaciones': 3967, 'unida': 3968, \"'flujo\": 3969, \"tenso'\": 3970, 'permitía': 3971, 'esquivar': 3972, 'exigencias': 3973, 'gestionaba': 3974, 'flujos': 3975, 'físicos': 3976, 'precisar': 3977, 'subcontratamos': 3978, 'equiparable': 3979, 'offset': 3980, 'caro': 3981, 'obedece': 3982, 'acabará': 3983, 'generalizándose': 3984, 'diría': 3985, 'retocarlos': 3986, 'maquetas': 3987, 'prestadores': 3988, 'concentra': 3989, 'optimizar': 3990, 'estrategia': 3991, 'cooperaciones': 3992, 'visibilidad': 3993, 'carece': 3994, 'represento': 3995, 'sne': 3996, \"l'édition\": 3997, 'encontrado': 3998, 'perenne': 3999, 'esforzamos': 4000, 'encrucijada': 4001, 'manuscrito': 4002, 'certámenes': 4003, 'infos': 4004, 'redactado': 4005, 'disonante': 4006, 'humorístico': 4007, 'corrosivo': 4008, 'mensualmente': 4009, '565': 4010, 'actu': 4011, 'pronuncia': 4012, 'zéro': 4013, 'heure': 4014, 'impresos\\x96': 4015, 'multimédia': 4016, 'ocurrido': 4017, 'duró': 4018, 'brainstorming': 4019, 'factibilidad': 4020, 'preparación': 4021, 'riesgos': 4022, 'popularizarse': 4023, 'terminales': 4024, 'fáciles': 4025, 'microordenador': 4026, 'contempla': 4027, 'vislumbra': 4028, 'evalúa': 4029, 'tradición': 4030, 'maneras': 4031, 'elecciones': 4032, 'enfoques': 4033, 'apoyen': 4034, 'lecturas': 4035, 'comenzado': 4036, 'fantásticos': 4037, 'filosóficos': 4038, 'recuerdos': 4039, 'clásica': 4040, 'realismo': 4041, 'naturalismo': 4042, 'infantiles': 4043, 'pormenorizada': 4044, 'añadiendo': 4045, 'materiales': 4046, 'redactar': 4047, 'recomendar': 4048, 'suscribirse': 4049, 'mantenerse': 4050, 'informados': 4051, 'novedades': 4052, 'videoclips': 4053, 'reediciones': 4054, 'ntic': 4055, 'coediciones': 4056, 'desconfían': 4057, 'pagar': 4058, 'cheque': 4059, 'procede': 4060, 'californianas': 4061, 'henry': 4062, 'yuen': 4063, 'habilidad': 4064, 'buenos': 4065, 'precisamente': 4066, 'sobrevive': 4067, 'recuerdo': 4068, 'hermosa': 4069, 'cantante': 4070, 'quedaba': 4071, 'terra': 4072, 'incógnita': 4073, 'desbrozar': 4074, 'enterarme': 4075, 'ofrecía': 4076, 'prometí': 4077, 'dispondríamos': 4078, 'teníamos': 4079, 'noches': 4080, 'desvelo': 4081, 'acabé': 4082, 'mandé': 4083, 'referenciar': 4084, 'desarrolló': 4085, 'profundizando': 4086, 'modestos': 4087, 'introdujo': 4088, 'instalada': 4089, 'perímetro': 4090, 'imaginado': 4091, \"'clásicos'\": 4092, 'abrieron': 4093, 'afluían': 4094, 'editado': 4095, 'quebequenses': 4096, 'fernand': 4097, 'héroux': 4098, 'liz': 4099, 'morency': 4100, \"'affaire\": 4101, \"coeurs'\": 4102, 'asunto': 4103, 'corazones': 4104, 'correcciones': 4105, 'convertirnos': 4106, \"'connotación\": 4107, \"cultural'\": 4108, 'segurizado': 4109, 'ganas': 4110, '¿puede': 4111, 'decirme': 4112, 'evolucionará': 4113, 'evolucionarán': 4114, 'siguiera': 4115, '¿lo': 4116, 'lograremos': 4117, 'apuntan': 4118, 'dirección': 4119, 'contraria': 4120, \"'en\": 4121, \"standby'\": 4122, 'podremos': 4123, 'resistir': 4124, \"'término\": 4125, \"medio'\": 4126, 'francamente': 4127, 'desgracia': 4128, 'desaparición': 4129, 'deplorable': 4130, 'valiéndose': 4131, 'librero': 4132, 'habilidades': 4133, \"total'\": 4134, 'reuniría': 4135, 'concebir': 4136, 'renovable': 4137, 'contendría': 4138, 'múltiple': 4139, 'reestructurar': 4140, 'orientarse': 4141, 'tiradas': 4142, 'difunden': 4143, 'componen': 4144, 'complementados': 4145, 'seminario': 4146, 'imprimir': 4147, 'tirada': 4148, 'transmitidos': 4149, 'evidente': 4150, 'publicarán': 4151, 'facilitando': 4152, 'favoreciendo': 4153, 'tutelares': 4154, 'cnrs': 4155, 'centre': 4156, 'recherche': 4157, 'scientifique': 4158, 'obligar': 4159, 'instan': 4160, 'laboratorios': 4161, 'difundan': 4162, '\\x96aquellos': 4163, 'trabajosos': 4164, 'labores\\x96': 4165, 'tardar': 4166, 'publicarse': 4167, 'desparecerá': 4168, 'manejable': 4169, 'recién': 4170, 'estrenadas': 4171, 'encuadernada': 4172, 'revisiones': 4173, 'autret': 4174, 'goza': 4175, 'multitarea': 4176, \"'artesano'\": 4177, 'ajenos': 4178, 'concentro': 4179, 'asesoría': 4180, 'preprensa': 4181, 'presiento': 4182, 'multisoporte': 4183, 'abrirse': 4184, 'naturalmente': 4185, 'intensificación': 4186, 'estoy': 4187, \"'e\": 4188, \"book'\": 4189, 'ficcionales': 4190, 'conjeturas': 4191, 'inciertas': 4192, 'informativas': 4193, 'considerando': 4194, 'declinación': 4195, 'estabilizados': 4196, 'emergiendo': 4197, 'desciframiento': 4198, 'emergen': 4199, 'ejes': 4200, 'funcional': 4201, 'anotaciones': 4202, 'quizz': 4203, 'interactivo': 4204, 'animada': 4205, 'fuertemente': 4206, 'semejantes': 4207, 'cristalizado': 4208, 'empaquetado': 4209, '¡la': 4210, 'unidad': 4211, 'mera': 4212, \"'libro'\": 4213, 'seguirán': 4214, 'técnicamente': 4215, 'insuperables': 4216, 'traspasen': 4217, 'umbral': 4218, 'crítico': 4219, 'trastorno': 4220, 'desarrollan': 4221, 'desmaterializada': 4222, 'marginal': 4223, 'nulo': 4224, 'quitarles': 4225, 'equilibrios': 4226, 'lógicas': 4227, 'adopción': 4228, 'imperan': 4229, '\\x96véase': 4230, 'validación': 4231, 'abiertos': 4232, 'emergentes': 4233, 'línea\\x96': 4234, 'vano': 4235, '\\x96e': 4236, 'peligroso\\x96': 4237, 'querer': 4238, 'transformar': 4239, 'fórceps': 4240, 'ecología': 4241, '¡pues': 4242, 'forcejeo': 4243, 'aniquilándola': 4244, 'nichos': 4245, 'transformados': 4246, 'único\\x96': 4247, 'invaden': 4248, 'mesas': 4249, 'modificarse': 4250, 'masivo': 4251, 'lentamente': 4252, 'aceptan': 4253, 'genera': 4254, 'sujetos': 4255, 'drásticas': 4256, 'reveses': 4257, 'inexistencia': 4258, 'maltrato': 4259, 'detrimento': 4260, 'autovías': 4261, 'concreto': 4262, 'transmitir': 4263, 'sencillos': 4264, 'procedimientos': 4265, 'necesitaban': 4266, 'variados': 4267, 'cinta': 4268, 'magnética': 4269, 'celuloide': 4270, 'conjuntamente': 4271, '1970': 4272, 'fotocomposición': 4273, 'hicieron': 4274, 'vacilar': 4275, 'siguió': 4276, 'bajando': 4277, 'talleres': 4278, 'pao': 4279, 'sistemáticamente': 4280, 'acelera': 4281, 'procedimiento': 4282, 'maquetación': 4283, 'redactor': 4284, 'simultáneamente': 4285, 'gráfica': 4286, 'grabaciones': 4287, 'radiodifusión': 4288, 'audiovisuales\\x96': 4289, 'intervenciones': 4290, 'bernie': 4291, 'lunzer': 4292, 'newspaper': 4293, 'recalca': 4294, 'jurídicas': 4295, 'desenfrenado': 4296, 'conciernen': 4297, 'convencen': 4298, 'firmen': 4299, 'chocantes': 4300, 'comprometen': 4301, 'contraparte': 4302, 'ridícula': 4303, 'heinz': 4304, 'uwe': 4305, 'rübenach': 4306, 'bdz': 4307, 'bundesverband': 4308, 'deutscher': 4309, 'zeitungsverleger': 4310, 'contrapartida': 4311, 'invirtiendo': 4312, 'ejercida': 4313, 'salas': 4314, 'avanza': 4315, 'tensiones': 4316, 'repetidas': 4317, 'estrés': 4318, 'trabajando': 4319, 'intensivo': 4320, 'acarrean': 4321, 'desmoronan': 4322, 'carlos': 4323, 'alberto': 4324, 'almeida': 4325, 'fenaj': 4326, 'federação': 4327, 'jornalistas': 4328, 'brasil': 4329, 'racionalización': 4330, 'enriquecimiento': 4331, 'legal': 4332, 'extra': 4333, 'pagan': 4334, 'trabajadas': 4335, 'descanso': 4336, 'aceleran': 4337, 'provocan': 4338, 'humana': 4339, 'incrementan': 4340, 'desempleo': 4341, 'debía': 4342, 'automático': 4343, 'ambas': 4344, 'etienne': 4345, 'reichel': 4346, 'suplente': 4347, 'viscom': 4348, 'transferencia': 4349, 'supresión': 4350, 'fases': 4351, 'reducen': 4352, 'tipógrafos': 4353, 'deducir': 4354, 'solían': 4355, 'establecerse': 4356, 'utrecht': 4357, 'leisink': 4358, 'realizarse': 4359, 'empresarios': 4360, 'deslocalización': 4361, 'precario': 4362, 'autónomo': 4363, 'gozan': 4364, 'autonomía': 4365, 'dependen': 4366, 'empleadores': 4367, 'realce': 4368, 'masivas': 4369, 'muller': 4370, 'secretario': 4371, 'filpac': 4372, 'fédération': 4373, 'industries': 4374, 'papier': 4375, 'gráficas': 4376, '1987': 4377, 'planes': 4378, 'costosos': 4379, 'recolocación': 4380, 'artificiales': 4381, 'costear': 4382, 'fiables': 4383, 'cualificación': 4384, 'sustituidos': 4385, 'cualificado': 4386, 'reciben': 4387, 'teniendo': 4388, 'autofinanciarla': 4389, 'cursarla': 4390, 'vuelvan': 4391, 'walter': 4392, 'durling': 4393, 'at': 4394, 'mató': 4395, 'acabó': 4396, 'proponérselos': 4397, 'obsoletos': 4398, 'argumentos': 4399, 'teóricos': 4400, '¿cuántos': 4401, 'cuántos': 4402, 'despedido': 4403, 'inversión': 4404, 'reconversión': 4405, 'suprimidos': 4406, 'negociación': 4407, 'justa': 4408, 'considerados': 4409, 'básteme': 4410, 'dictamen': 4411, 'esfera': 4412, 'cabal': 4413, 'hexágono': 4414, 'circunferencia': 4415, 'inaccesible': 4416, 'babel': 4417, '1941': 4418, 'jorge': 4419, 'luis': 4420, 'borges': 4421, 'ciberespacios': 4422, 'joyas': 4423, 'hacen': 4424, 'cibertecarios': 4425, 'helsinki': 4426, 'perseguido': 4427, 'transitar': 4428, 'perroud': 4429, 'athena': 4430, 'complementariedad': 4431, 'atrayente': 4432, 'complemento': 4433, 'leerlo\\x96': 4434, 'pensando': 4435, 'misteriosamente': 4436, 'sagrado': 4437, 'convergen': 4438, 'profundos': 4439, 'apretarlo': 4440, 'estrecharlo': 4441, 'pecho': 4442, 'mirarlo': 4443, 'admiración': 4444, 'pequeñez': 4445, 'impresiona': 4446, 'fragilidad': 4447, 'fascinados': 4448, 'teme': 4449, 'agua': 4450, 'fuego': 4451, 'informatique': 4452, 'informations': 4453, 'emana': 4454, 'consultado': 4455, 'digitalizarlo': 4456, 'constituirse': 4457, 'carecían': 4458, 'claridad': 4459, 'convertirlo': 4460, 'optical': 4461, 'character': 4462, 'recognition': 4463, 'relectura': 4464, 'continuidad': 4465, 'procesar': 4466, 'costoso': 4467, 'análisis': 4468, 'comparativos': 4469, 'fotografiar': 4470, 'facsímile': 4471, 'empleado': 4472, 'digitalizaciones': 4473, 'sumarios': 4474, 'iconográficos': 4475, 'amplias': 4476, 'substancialmente': 4477, 'teclear': 4478, 'justificarse': 4479, 'tratándose': 4480, 'reorganizar': 4481, 'facsímiles': 4482, 'deprisa': 4483, 'reducidos': 4484, 'domino': 4485, 'paradójico': 4486, 'dejando': 4487, 'parca': 4488, 'abundantemente': 4489, 'ilustrado': 4490, 'estatutos': 4491, \"'edición\": 4492, \"edición'\": 4493, 'inauguró': 4494, 'históricas': 4495, 'filosóficas': 4496, 'inalf': 4497, 'langue': 4498, 'disciplina': 4499, 'acompañan': 4500, 'corrientes': 4501, 'muestra': 4502, 'iconoteca': 4503, 'fotógrafo': 4504, 'eugène': 4505, 'atget': 4506, 'ilustrados': 4507, 'musée': 4508, \"l'homme\": 4509, 'antropológico': 4510, 'experimentar': 4511, 'saciar': 4512, 'curiosidad': 4513, 'amplificación': 4514, 'previstos': 4515, 'digitalizadas\\x96': 4516, 'tercio': 4517, 'fijas': 4518, 'departamentos': 4519, 'fotografía': 4520, 'artes': 4521, 'espectáculo': 4522, 'monedas': 4523, 'medallas': 4524, 'públicos': 4525, '\\x96varios': 4526, 'observatorio': 4527, 'privados': 4528, '\\x96agencias': 4529, 'destaca': 4530, 'magnum': 4531, 'sygma': 4532, 'rapho': 4533, 'revisa': 4534, 'expectativas': 4535, 'strazzulla': 4536, 'universalista': 4537, 'angremy': 4538, 'comité': 4539, 'reprochar': 4540, 'omisiones': 4541, 'orientamos': 4542, 'restringidos': 4543, 'satisfacer': 4544, 'organizarán': 4545, 'orígenes': 4546, 'utopías': 4547, 'academias': 4548, 'ciudades': 4549, 'incluyendo': 4550, 'opinan': 4551, 'pesados': 4552, 'pesado': 4553, '117': 4554, 'quedan': 4555, 'solucionados': 4556, '76': 4557, 'pondrá': 4558, '1944': 4559, '22': 4560, 'croix': 4561, 'temps': 4562, '1861': 4563, 'desaparecido': 4564, '1942': 4565, 'fascículos': 4566, 'sonoros': 4567, 'imagen\\x96': 4568, 'interfaz\\x96': 4569, 'organizar': 4570, 'incumben': 4571, 'subdirector': 4572, 'situada': 4573, 'occidental': 4574, 'zelanda': 4575, 'república': 4576, 'checa': 4577, 'hungría': 4578, 'polonia': 4579, 'corea': 4580, 'funcionarios': 4581, 'realización': 4582, 'profesión': 4583, 'sobrecarga': 4584, 'sentimos': 4585, 'tratamos': 4586, 'desempeñarán': 4587, 'prever': 4588, 'incitará': 4589, 'impartido': 4590, 'institución': 4591, 'consistirá': 4592, 'tendré': 4593, 'contacten': 4594, 'conmigo': 4595, 'realizaré': 4596, 'enviaré': 4597, 'indispensable': 4598, 'bibliográficos': 4599, \"'aparador'\": 4600, 'convertir': 4601, 'pasarela': 4602, 'necesidades': 4603, 'iniciar': 4604, 'auditorio': 4605, 'instrucción': 4606, 'excelente': 4607, 'formaciones': 4608, 'afectaron': 4609, 'servimos': 4610, 'mediadores': 4611, 'conservadores': 4612, 'típica': 4613, 'despejar': 4614, 'caminos': 4615, 'instalar': 4616, 'eficaces': 4617, 'enseñar': 4618, 'viejo': 4619, 'ponerlo': 4620, 'supérieure': 4621, 'statistique': 4622, \"d'économie\": 4623, 'appliquée': 4624, 'abiyán': 4625, 'marfil': 4626, 'establecimiento': 4627, 'impartir': 4628, 'estadísticos': 4629, 'africanos': 4630, 'expresión': 4631, 'agencia': 4632, 'francofonía': 4633, 'auf': 4634, 'francophonie': 4635, 'encarga': 4636, 'sesiones': 4637, 'discutir': 4638, 'implicación': 4639, 'prestaciones': 4640, 'bibliográfica': 4641, 'boletín': 4642, 'analítico': 4643, 'logro': 4644, 'financiamientos': 4645, 'dotar': 4646, 'proyección': 4647, 'cuantos': 4648, 'considerablemente': 4649, 'emmanuel': 4650, 'barthe': 4651, 'documentalista': 4652, 'jurídico': 4653, 'coutrelis': 4654, 'associés': 4655, 'áreas': 4656, 'comunitario': 4657, 'alimentación': 4658, 'aduanero': 4659, 'cargo': 4660, 'concibo': 4661, 'internas': 4662, 'difíciles': 4663, 'llevo': 4664, 'jurista': 4665, 'adquisiciones': 4666, 'vigilar': 4667, 'jurídica': 4668, 'organizo': 4669, 'cursillos': 4670, 'bibliotecaria': 4671, 'manifestaciones': 4672, 'matriculan': 4673, \"'reclutar'\": 4674, 'alófono': 4675, 'atractivos': 4676, 'fidelizar': 4677, 'instalado': 4678, 'enviadas': 4679, 'altamente': 4680, 'elaboramos': 4681, 'preparando': 4682, 'exámenes': 4683, 'secundario': 4684, 'interbibliotecario': 4685, 'colectivos': 4686, 'universitario': 4687, 'sudoc': 4688, 'système': 4689, 'exteriores': 4690, 'afuera': 4691, 'inglesas': 4692, 'ifla': 4693, 'associations': 4694, 'partes': 4695, 'alienta': 4696, 'intermarc': 4697, 'ukmarc': 4698, 'usmarc': 4699, 'can': 4700, 'convierten': 4701, 'convertidas': 4702, 'destino': 4703, '73': 4704, 'gestionado': 4705, 'provienen': 4706, '112': 4707, 'localizar': 4708, 'portada': 4709, 'biografía': 4710, 'migrando': 4711, 'maría': 4712, 'victoria': 4713, 'marinetti': 4714, 'traductora': 4715, 'obligatorio': 4716, 'tenerla': 4717, 'hablamos': 4718, 'contradictorio': 4719, 'adaptados': 4720, 'alfabetos': 4721, 'ideogramas': 4722, 'standard': 4723, 'code': 4724, 'interchange': 4725, 'ansi': 4726, 'standards': 4727, 'normas': 4728, 'actualizado': 4729, 'binario': 4730, '1000001': 4731, '1000010': 4732, 'imprimibles': 4733, '26': 4734, 'acento': 4735, 'signos': 4736, 'puntuación': 4737, 'alfabéticos': 4738, 'coreano': 4739, 'planteaba': 4740, 'limitaba': 4741, 'vital': 4742, 'acentuados': 4743, 'variante': 4744, 'tarda': 4745, 'rompecabezas': 4746, 'plantean': 4747, 'corrupción': 4748, 'incompatibilidad': 4749, 'visualizarse': 4750, 'internacionaliza': 4751, 'conformarse': 4752, 'asigna': 4753, 'satisfacción': 4754, 'lingüistas': 4755, 'sustituyendo': 4756, 'transformation': 4757, 'especificaciones': 4758, 'w3c': 4759, 'generaliza': 4760, 'nt': 4761, 'xp': 4762, 'solucionar': 4763, 'subraya': 4764, 'dotando': 4765, 'kits': 4766, 'capaces': 4767, 'ojalá': 4768, 'sigan': 4769, 'dificultades': 4770, 'inmensas': 4771, 'insuficiencias': 4772, 'katakana': 4773, 'hiragana': 4774, 'japoneses': 4775, 'freno': 4776, 'potente': 4777, 'modalidades': 4778, 'etnia': 4779, 'particularismos': 4780, 'específicas': 4781, 'perfecta': 4782, 'evoluciones': 4783, 'sentirse': 4784, 'dominen': 4785, 'acentos': 4786, 'plantee': 4787, 'correos': 4788, 'trámite': 4789, 'consigue': 4790, 'derivará': 4791, 'conectadas': 4792, 'monopolio': 4793, 'anglófonas': 4794, 'américa': 4795, 'preponderante': 4796, 'grangier': 4797, 'nefasta': 4798, 'realidades': 4799, 'vecino': 4800, 'locutores': 4801, 'adecuada': 4802, \"'luchar\": 4803, \"inglés'\": 4804, 'lamentarse': 4805, 'multiplicar': 4806, 'preconizamos': 4807, 'inevitable': 4808, 'multiculturales': 4809, 'fujisawa': 4810, 'logos': 4811, 'kotoba': 4812, 'configuración': 4813, 'kenji': 4814, 'sekine': 4815, 'nobutoshi': 4816, 'kohara': 4817, 'guía': 4818, 'ciclo': 4819, 'interesado': 4820, 'aprender': 4821, 'ruso': 4822, \"internet'\": 4823, 'japonés\\x96': 4824, 'fonética': 4825, 'avalado': 4826, 'adquirida': 4827, 'instigué': 4828, 'escribieran': 4829, \"guide'\": 4830, 'egipto': 4831, 'sensible': 4832, 'reflexiones': 4833, 'adoptado': 4834, 'gravitación': 4835, 'creativo': 4836, '¡99': 4837, 'randy': 4838, 'hobler': 4839, 'fronteras': 4840, 'organizan': 4841, 'comunidades': 4842, 'suelo': 4843, \"'naciones\": 4844, \"idiomas'\": 4845, 'comparten': 4846, 'cualquiera': 4847, 'nación': 4848, 'hispana': 4849, 'hispanohablantes': 4850, 'marruecos': 4851, 'vector': 4852, 'tengamos': 4853, 'tentación': 4854, 'sistemática': 4855, 'traducir': 4856, 'suponen': 4857, 'comprensión': 4858, 'utópicas': 4859, 'concretamente': 4860, 'incita': 4861, 'echar': 4862, 'pestes': 4863, 'noruegos': 4864, 'brasileños': 4865, 'mínima': 4866, 'superan': 4867, 'demuestran': 4868, 'reach': 4869, 'actualizadas': 4870, '52': 4871, '57': 4872, '59': 4873, 'administrada': 4874, 'once': 4875, 'danés': 4876, 'griego': 4877, 'sueco': 4878, 'ampliación': 4879, 'interactive': 4880, 'terminology': 4881, 'terminología': 4882, 'kellogg': 4883, 'herramienta': 4884, 'mayores': 4885, 'enseñado': 4886, 'entienden': 4887, 'figura': 4888, 'conjugación': 4889, 'fórum': 4890, 'devenir': 4891, 'existía': 4892, 'encarnizado': 4893, 'loubière': 4894, 'teatrales': 4895, 'realza': 4896, 'ejerce': 4897, 'ejercerse\\x96': 4898, 'posición': 4899, 'fuerza': 4900, 'pirateadas': 4901, 'peligro': 4902, 'sienten': 4903, 'rebote': 4904, 'legislar': 4905, 'corporaciones': 4906, 'reivindican': 4907, 'activas': 4908, 'resistiendo': 4909, 'daño': 4910, 'profundo': 4911, 'efectivamente': 4912, 'respeten': 4913, 'considero': 4914, 'desaparece': 4915, 'facto': 4916, 'expone': 4917, 'copiada': 4918, 'reconocible': 4919, 'exponen': 4920, 'formalidades': 4921, 'ingreso': 4922, 'gauchey': 4923, 'distinta': 4924, 'adaptarse': 4925, 'paradigma': 4926, 'flujo': 4927, 'huella': 4928, 'sobrevivirá': 4929, 'prosperará': 4930, 'xavier': 4931, 'malbreil': 4932, 'distintas': 4933, 'zona': 4934, 'aplicarse': 4935, 'retribución': 4936, 'absoluto': 4937, 'perjudicar': 4938, 'sufre': 4939, 'sacarla': 4940, 'ghetto': 4941, 'metida': 4942, 'positivo': 4943, 'adeptos': 4944, '\\x96copyleft': 4945, 'commons\\x96': 4946, 'richard': 4947, 'stallman': 4948, 'ingeniero': 4949, 'defensor': 4950, 'incansable': 4951, 'source': 4952, 'fsf': 4953, 'fundación': 4954, 'formalizado': 4955, 'extendido': 4956, 'afirma': 4957, 'originalidad': 4958, 'radica': 4959, 'redistribuir': 4960, 'compromete': 4961, 'reivindicar': 4962, 'efectuados': 4963, 'realizaciones': 4964, 'creativos': 4965, 'redactadas': 4966, 'reproducción': 4967, 'reemisión': 4968, 'encogiéndose': 4969, 'piel': 4970, 'zapa': 4971, 'podían': 4972, 'utilizadas': 4973, '2100': 4974, 'escaso': 4975, 'espinoso': 4976, 'administran': 4977, 'facilitada': 4978, 'repetidos': 4979, 'ataques': 4980, 'examinando': 4981, 'howto': 4982, 'detalla': 4983, 'cálculos': 4984, '2019': 4985, 'sujeta': 4986, '2049': 4987, '\\x96ó': 4988, 'creación\\x96': 4989, '2074': 4990, 'rasgos': 4991, 'tomando': 4992, 'enmendada': 4993, 'fundó': 4994, 'contrarrestar': 4995, 'vehículo': 4996, 'pasados': 4997, 'acompañado': 4998, 'miedo': 4999, 'inspira': 5000, 'temen': 5001, 'royalties': 5002, 'extendida': 5003, 'duraba': 5004, 'deterioro': 5005, 'instancias': 5006, 'fortalecen': 5007, 'dicha': 5008, 'contradicción': 5009, 'obvia': 5010, 'padecido': 5011, 'aplica': 5012, 'cuartos': 5013, 'considerado': 5014, 'cierta': 5015, 'evocadas': 5016, 'corporación': 5017, 'inglaterra': 5018, 'ejercer': 5019, 'suscitó': 5020, 'imprimirse': 5021, 'legalmente': 5022, 'nueve': 5023, 'desaparecen': 5024, '335': 5025, 'imprenta': 5026, '\\x96se': 5027, 'suponía\\x96': 5028, 'vastas': 5029, 'vapor': 5030, 'eléctricas': 5031, 'duplica': 5032, 'interviene': 5033, 'fotocopiadora': 5034, '1962': 5035, 'expirar': 5036, 'imperio': 5037, 'disney': 5038, 'mickey': 5039, 'mouse': 5040, 'multinacionales': 5041, 'regla': 5042, 'antes\\x96': 5043, 'presiones': 5044, 'ejercidas': 5045, 'pretexto': 5046, 'oponer': 5047, 'aplicación': 5048, 'internacionales': 5049, 'ompi': 5050, 'firmaron': 5051, 'millenium': 5052, 'dmca': 5053, 'ratificado': 5054, 'union': 5055, 'directive': 5056, 'exacto': 5057, 'ec': 5058, 'parlamento': 5059, 'consejo': 5060, 'armonización': 5061, 'ciertos': 5062, 'relacionados': 5063, 'inscribe': 5064, '93': 5065, '98': 5066, 'eec': 5067, 'legislaciones': 5068, 'entrando': 5069, 'pirateo': 5070, 'privilegiando': 5071, 'escrita': 5072, 'colectivamente': 5073, 'reutilizado': 5074, 'kahn': 5075, 'society': 5076, 'isoc': 5077, 'acumular': 5078, 'aislada': 5079, 'ifip': 5080, 'processing': 5081, 'dale': 5082, 'spender': 5083, 'destacar': 5084, 'fundamentales': 5085, 'aportados': 5086, 'argumentación': 5087, 'quinientos': 5088, 'basaba': 5089, 'novedosas': 5090, 'distinciones': 5091, 'docente': 5092, 'alumno': 5093, 'exige': 5094, 'reconsiderar': 5095, 'precedente': 5096, 'influir': 5097, 'seguía': 5098, 'incitado': 5099, 'vinculada': 5100, 'estabilidad': 5101, 'engendra': 5102, 'fundamentos': 5103, 'objetividad': 5104, 'creencias': 5105, 'suplanta': 5106, 'dispuesto': 5107, 'pagarla': 5108, 'russon': 5109, 'wooldridge': 5110, 'aprovecha': 5111, 'máximo': 5112, 'aula': 5113, 'coloco': 5114, 'labor': 5115, 'publico': 5116, 'actas': 5117, 'coloquios': 5118, 'edito': 5119, 'colaboro': 5120, 'organicé': 5121, 'valorizados': 5122, 'valorisées': 5123, 'nouvelles': 5124, 'technologies': 5125, 'limitadas': 5126, 'creen': 5127, 'cuiden': 5128, 'venderlo': 5129, 'ocurriendo': 5130, 'preparar': 5131, 'oposiciones': 5132, 'evitarse': 5133, 'desinteresado': 5134, 'acudirá': 5135, 'niego': 5136, 'sponsor': 5137, 'ottawa': 5138, 'christian': 5139, 'vandendorpe': 5140, 'acoge': 5141, 'poniéndolo': 5142, 'privatización': 5143, 'compartido': 5144, 'cuentas': 5145, 'última': 5146, 'opción': 5147, 'triunfar': 5148, 'representativos': 5149, 'impartidos': 5150, 'actualizados': 5151, '\\x96la': 5152, 'género\\x96': 5153, 'incite': 5154, 'definirse': 5155, 'vergonzoso': 5156, 'apoderen': 5157, 'esfuerzo\\x96': 5158, 'enriquecerse': 5159, 'vendiéndolo': 5160, 'costeada': 5161, 'parecería': 5162, 'beneficiarse': 5163, 'investigaciones': 5164, 'basándose': 5165, 'constatación': 5166, 'harold': 5167, 'varmus': 5168, 'brown': 5169, 'eisen': 5170, 'oponerse': 5171, 'juntando': 5172, 'médicos': 5173, 'diseminada': 5174, 'firmantes': 5175, 'promuevan': 5176, 'dispuestos': 5177, 'apoyar': 5178, 'aprobado': 5179, 'formulan': 5180, 'objeciones': 5181, 'cubre': 5182, 'genetics': 5183, 'genética': 5184, 'computational': 5185, 'computacional': 5186, 'pathogens': 5187, 'patógenos': 5188, 'clinical': 5189, 'trials': 5190, 'clínicos': 5191, 'neglected': 5192, 'tropical': 5193, 'diseases': 5194, 'afectan': 5195, 'poblaciones': 5196, 'rurales': 5197, 'urbanas': 5198, 'pubmed': 5199, 'provisto': 5200, 'abandonan': 5201, 'odyssey': 5202, 'reutilizados': 5203, 'traducciones': 5204, 'mencionen': 5205, 'nombres': 5206, 'one': 5207, 'reputación': 5208, 'comparable': 5209, 'nature': 5210, 'england': 5211, 'fundaciones': 5212, 'ingresos': 5213, 'proceden': 5214, 'costos': 5215, 'sponsors': 5216, 'novedoso': 5217, 'inspire': 5218, 'parecidas': 5219, 'hawaiano': 5220, 'enriquecerlo': 5221, 'estructurar': 5222, 'jimmy': 5223, 'wales': 5224, 'reutilizarse': 5225, 'adquiere': 5226, 'cooperativa': 5227, 'redactan': 5228, 'wikipedistas': 5229, 'seudónimo': 5230, 'completar': 5231, 'regida': 5232, 'gfdl': 5233, 'gnu': 5234, '192': 5235, '589': 5236, '260': 5237, '236': 5238, '272': 5239, 'administra': 5240, 'wiktionary': 5241, 'tesoro': 5242, 'wikibooks': 5243, 'wikiquote': 5244, 'wikisource': 5245, 'wikispecies': 5246, 'wikinews': 5247, 'wikiversity': 5248, 'acrónimo': 5249, \"citizens'\": 5250, 'compendium': 5251, 'compendio': 5252, 'cofundador': 5253, 'dimitió': 5254, 'fundamenta': 5255, 'fallos': 5256, 'vandalismo': 5257, 'rigor': 5258, 'editados': 5259, '\\x93editors\\x94': 5260, 'licenciatura': 5261, 'constables': 5262, 'agentes': 5263, 'encargados': 5264, 'velar': 5265, 'respetan': 5266, '820': 5267, 'why': 5268, 'make': 5269, 'room': 5270, 'experts': 5271, 'ponencia': 5272, 'percibe': 5273, 'emergencia': 5274, 'masiva': 5275, 'intelectuales': 5276, 'caracterizar': 5277, 'reparto': 5278, 'manifestó': 5279, 'brote': 5280, 'estructuras': 5281, 'cuajado': 5282, 'conocidas': 5283, 'extinción': 5284, 'identificando': 5285, 'esparcidos': 5286, 'aprendizaje': 5287, 'dirigirá': 5288, 'responsables': 5289, 'field': 5290, 'marine': 5291, 'biological': 5292, 'laboratory': 5293, 'missouri': 5294, 'botanical': 5295, 'garden': 5296, 'smithsonian': 5297, 'institution': 5298, 'honorario': 5299, 'edward': 5300, 'wilson': 5301, 'emérito': 5302, 'fechado': 5303, 'formular': 5304, 'aparecer': 5305, 'tecnológicos': 5306, 'mash': 5307, 'up': 5308, 'voluminosos': 5309, 'sobrevivirán': 5310, 'cuyas': 5311, 'extienden': 5312, 'procesadas': 5313, 'dc': 5314, 'macarthur': 5315, 'proporcionan': 5316, 'autofinanciarse': 5317, 'conocidas\\x96': 5318, 'redactará': 5319, 'traducida': 5320, 'macroscopio': 5321, 'microscopio': 5322, 'parecida': 5323, 'sometido': 5324, 'validarlo': 5325, 'llegan': 5326, 'perfectbound': 5327, 'descargable': 5328, 'importe': 5329, 'utilizada': 5330, 'crearlo': 5331, 'transitan': 5332, 'propongan': 5333, 'gestionan': 5334, 'marcadores': 5335, 'opuestas\\x96': 5336, 'visualizar': 5337, 'cubiertas': 5338, 'cooltype': 5339, 'acondicionamiento': 5340, 'consignas': 5341, 'autorizando': 5342, 'livecycle': 5343, 'policy': 5344, 'utilizarse': 5345, 'descargado': 5346, '5ª': 5347, '2ª': 5348, 'harpercollins': 5349, 'popular': 5350, 'prestar': 5351, 'sofware': 5352, 'sucedió': 5353, 'estándares': 5354, 'incipiente': 5355, 'prometiendo': 5356, '\\x96formatos': 5357, 'doc': 5358, 'word': 5359, 'propietarios': 5360, 'peanut': 5361, 'preocuparse': 5362, '\\x96recién': 5363, 'títulos\\x96': 5364, 'insistiendo': 5365, 'definido': 5366, 'normalizada': 5367, 'oebf': 5368, 'sustituye': 5369, 'initiative': 5370, 'constructores': 5371, 'diseñadores': 5372, 'idpf': 5373, 'publishing': 5374, 'caracteriza': 5375, 'cleartype': 5376, 'memorización': 5377, 'ulteriores': 5378, 'merriam': 5379, 'webster': 5380, 'dictionary': 5381, 'efectúa': 5382, 'establece': 5383, '\\x96barnes': 5384, '2000\\x96': 5385, 'comercializar': 5386, 'impone': 5387, 'thierry': 5388, 'brethes': 5389, 'nathalie': 5390, 'ting': 5391, 'especializa': 5392, 'viventures': 5393, 'ramificación': 5394, 'multinacional': 5395, 'vivendi': 5396, 'resource': 5397, 'originariamente': 5398, 'companion': 5399, 'extracción': 5400, 'utilizable': 5401, 'privada': 5402, 'permanecer': 5403, 'equipa': 5404, 'riding': 5405, 'bullet': 5406, 'montando': 5407, 'bala': 5408, 'descargan': 5409, 'autopublicación': 5410, 'epistolar': 5411, 'plant': 5412, 'planta': 5413, 'sexto': 5414, 'disminuyendo': 5415, 'experimentos': 5416, 'británico': 5417, 'veterano': 5418, 'violento': 5419, 'quintet': 5420, 'quinteto': 5421, 'anunciadas': 5422, 'miracle': 5423, 'citizen': 5424, 'matter': 5425, 'draco': 5426, 'libras': 5427, 'alphabetstreet': 5428, 'bol': 5429, 'whsmith': 5430, 'contentville': 5431, 'futuro\\x94': 5432, 'consumidor': 5433, 'emocionante': 5434, 'motor': 5435, 'andan': 5436, 'coches': 5437, 'seller': 5438, 'narra': 5439, 'capitán': 5440, 'alatriste': 5441, 'llama': 5442, 'rey': 5443, 'alfaguara': 5444, 'anunciados': 5445, 'bueno': 5446, '332': 5447, 'coehlo': 5448, 'brasileño': 5449, 'hizo': 5450, 'famoso': 5451, 'alquimista': 5452, '53': 5453, '\\x96traducidos': 5454, 'idiomas\\x96': 5455, '155': 5456, 'consentimiento': 5457, 'ideado': 5458, 'diseñado': 5459, 'permitieran': 5460, 'consigo': 5461, 'retomado': 5462, 'amigo': 5463, 'sinergia': 5464, 'encaminar': 5465, 'desmaterializados': 5466, 'rincón': 5467, 'minutos': 5468, 'sito': 5469, 'clics': 5470, 'recibirlo': 5471, 'descargarlo': 5472, 'categorías': 5473, '\\x96saber': 5474, 'literatura\\x96': 5475, 'auténtica': 5476, 'individualmente': 5477, 'ergonómica': 5478, '\\x96seis': 5479, 'librería\\x96': 5480, 'triple': 5481, 'haberlos': 5482, 'pagado': 5483, 'venderlos': 5484, 'generarlos': 5485, 'poseedores': 5486, 'convertirlos': 5487, \"'readers'\": 5488, 'presentárselos': 5489, 'comunitarios': 5490, 'fans': 5491, \"'tiendas\": 5492, \"digitales'\": 5493, '\\x91modularidad\\x92': 5494, 'riqueza': 5495, 'menor': 5496, 'albin': 5497, 'eyrolles': 5498, 'hermès': 5499, 'pearson': 5500, 'education': 5501, 'springer': 5502, 'kluwer': 5503, 'taylor': 5504, 'francis': 5505, 'kogan': 5506, 'prestadora': 5507, 'autoriza': 5508, 'directivas': 5509, 'curva': 5510, 'combinación': 5511, 'amplios': 5512, 'volltextsuche': 5513, \"'sondeado'\": 5514, 'quiera': 5515, 'iliad': 5516, 'irex': 5517, 'perfilan': 5518, 'multifunciones': 5519, 'blackberry': 5520, 'mejorada\\x96': 5521, 'anglosajones': 5522, 'universitarios': 5523, 'reticentes': 5524, \"'¿por\": 5525, \"'¿cómo\": 5526, 'tardarán': 5527, 'oficio': 5528, 'conceptual': 5529, 'adivinación': 5530, \"'expertos'\": 5531, 'hipermoderno': 5532, 'enriquecido': 5533, 'orquesten': 5534, 'sabiamente': 5535, 'invadirlos': 5536, 'convendría': 5537, 'deficientes': 5538, 'visuales': 5539, 'haberse': 5540, 'distribuidor': 5541, 'personalizado': 5542, 'reconocen': 5543, 'actúan': 5544, 'manifiesto': 5545, 'narrativa': 5546, 'electrónica\\x96': 5547, 'sacudir': 5548, 'aportándole': 5549, 'integrándose': 5550, 'artísticas': 5551, 'favorece': 5552, 'artista': 5553, 'plástica': 5554, 'región': 5555, 'poitou': 5556, 'charentes': 5557, 'dedicados': 5558, 'ayer': 5559, 'poemas': 5560, 'suyos': 5561, 'pintora': 5562, 'poemarios': 5563, 'aforismos': 5564, \"'poesía\": 5565, \"trascendencia'\": 5566, 'veces\\x96': 5567, 'autodidacta': 5568, 'construir': 5569, 'centrado': 5570, 'privilegiado': 5571, 'pasiones': 5572, 'empíricamente': 5573, 'obtenido': 5574, 'valorar': 5575, 'contemporáneos': 5576, 'talentosos': 5577, \"'reflexiones\": 5578, \"poesía'\": 5579, 'romper': 5580, 'soledad': 5581, 'reanimar': 5582, 'motivaciones': 5583, 'comprenden': 5584, 'llegarán': 5585, 'promoción': 5586, 'ciberrevista': 5587, 'revue': 5588, \"d'art\": 5589, 'réflexion': 5590, 'reflexión': 5591, 'complementan': 5592, 'considerarlas': 5593, 'indisociable': 5594, 'difundidos': 5595, 'campesino': 5596, 'normando': 5597, 'hermoso': 5598, 'libra': 5599, 'doctrinarias': 5600, 'vigentes': 5601, 'hombres': 5602, 'cósmicas': 5603, 'aprenderán': 5604, 'conocerse': 5605, 'irán': 5606, 'adquiriendo': 5607, 'pertenecer': 5608, 'querrán': 5609, 'vivir': 5610, 'armonía': 5611, 'destruirlo': 5612, 'librarme': 5613, 'vísperas': 5614, 'cerradas': 5615, 'crisis': 5616, 'intolerancia': 5617, 'fábula': 5618, 'poète': 5619, \"l'éditeur\": 5620, 'índole': 5621, 'autobiográfico': 5622, 'exactitud': 5623, 'angustias': 5624, 'autoedita': 5625, 'levemente': 5626, 'années': 5627, 'hito': 5628, 'benoît': 5629, 'montreal': 5630, 'quebec': 5631, 'policíacos': 5632, 'fantásticas': 5633, 'abolir': 5634, 'impuesto': 5635, 'apertura': 5636, \"'información'\": 5637, 'mire': 5638, \"'escritura'\": 5639, \"'reflexión'\": 5640, \"'conocimiento'\": 5641, 'acude': 5642, 'explicación': 5643, 'discurso': 5644, 'pronunciado': 5645, 'cuadro': 5646, 'inspirarle': 5647, 'alguien': 5648, 'haberlo': 5649, 'ratón': 5650, 'perfecto': 5651, 'cliché': 5652, 'excepto': 5653, 'instantaneidad': 5654, 'hurgar': 5655, 'papeles': 5656, 'pasarse': 5657, 'investigando': 5658, 'produciendo': 5659, 'buscarla': 5660, 'prestigiosos': 5661, 'interrelación': 5662, 'imaginar': 5663, 'próspero': 5664, 'productivo\\x96': 5665, 'tardado': 5666, 'terminar': 5667, 'lindo': 5668, 'estético\\x96': 5669, 'refinados': 5670, 'conexos': 5671, 'traslado': 5672, 'simultáneo': 5673, 'continentes': 5674, 'consenso': 5675, 'habrían': 5676, 'francófonos\\x96': 5677, 'vaya': 5678, 'provechosa': 5679, 'necesaria': 5680, 'sanguine': 5681, 'toile': 5682, 'abajo': 5683, \"'toile'\": 5684, 'lienzo': 5685, 'pintor': 5686, \"'telaraña'\": 5687, 'telaraña': 5688, \"'sanguine'\": 5689, 'sanguina': 5690, 'dibujo': 5691, 'lápiz': 5692, 'rojo': 5693, \"'sanguínea'\": 5694, 'sangre': 5695, 'justificar': 5696, 'asesinato': 5697, \"'sanguine\": 5698, 'evoca': 5699, 'singular': 5700, 'atrapado': 5701, 'tormenta': 5702, 'manipulado': 5703, 'misterioso': 5704, 'interlocutor': 5705, 'obsesión': 5706, 'vengarse': 5707, 'introducir': 5708, 'entrelazan': 5709, 'escapan': 5710, 'juntan': 5711, 'fulgor': 5712, 'investigar': 5713, 'intentar': 5714, 'desenredar': 5715, 'hilos': 5716, 'tejiendo': 5717, 'misterio': 5718, 'tenga': 5719, 'dedos': 5720, '¿no': 5721, 'combatir': 5722, '¿hasta': 5723, 'violencia': 5724, '¿tiende': 5725, 'inocentes': 5726, 'actuar': 5727, 'matar': 5728, 'personaje': 5729, 'describirla': 5730, 'complejidad': 5731, 'amenazador': 5732, 'atento': 5733, 'humor': 5734, 'olvidemos': 5735, 'desempeña': 5736, 'ocultar': 5737, 'ambivalencia': 5738, 'descansa': 5739, 'ganador': 5740, 'aquél': 5741, 'liberarse': 5742, 'humanismo': 5743, 'inteligencia': 5744, 'encima': 5745, 'murray': 5746, 'suid': 5747, 'palo': 5748, 'guiones': 5749, 'optado': 5750, 'existir': 5751, 'parcialmente': 5752, 'ciberespacio\\x96': 5753, 'actualizarlos': 5754, 'corregirlos': 5755, 'suponiendo': 5756, 'llegaré': 5757, 'publicarlos': 5758, 'participo': 5759, '\\x96disponibles': 5760, 'rom\\x96': 5761, 'actualizarlas': 5762, 'enriquecer': 5763, 'contribuye': 5764, 'educativo': 5765, 'bénédicte': 5766, 'joly': 5767, 'antony': 5768, 'autopublicar': 5769, 'darla': 5770, 'autoeditadas': 5771, 'descriptivos': 5772, 'electre': 5773, 'recorrido': 5774, 'escritora': 5775, 'encargar': 5776, 'suscitar': 5777, 'contactos': 5778, 'non': 5779, 'iniciada': 5780, 'synesthésie': 5781, 'contemporáneo': 5782, 'cómica': 5783, 'sátira': 5784, 'jóvenes': 5785, 'ejecutivos': 5786, 'dinámicos': 5787, 'élite': 5788, 'floreciente': 5789, \"'monsieur'\": 5790, \"'madame'\": 5791, 'juguetes': 5792, 'posmoderna': 5793, 'digresiones': 5794, 'polisemia': 5795, 'registros': 5796, '\\x96naturalista': 5797, 'melodramático': 5798, 'cómico': 5799, 'niveles': 5800, 'estilización': 5801, 'extrema': 5802, 'narración': 5803, 'tome': 5804, 'rumbos': 5805, 'inesperados': 5806, 'navega': 5807, 'asemeja': 5808, 'mira': 5809, 'anteriores': 5810, '¿son': 5811, 'trámites': 5812, 'humilde': 5813, 'principiante': 5814, 'exigen': 5815, 'concentración': 5816, 'máxima': 5817, 'aislamiento': 5818, 'obsesiva': 5819, 'minuciosa': 5820, 'hacerlo': 5821, '¡hay': 5822, 'previamente': 5823, 'grafismo': 5824, 'trucos': 5825, 'interactivos': 5826, 'parecerán': 5827, 'pacotilla': 5828, 'percepción': 5829, 'subrayarlo': 5830, 'apparitions': 5831, 'inquiétantes': 5832, 'apariciones': 5833, 'pluma': 5834, 'brandenbourger': 5835, 'laberinto': 5836, 'crímenes': 5837, 'malos': 5838, 'placeres': 5839, 'ambiguos': 5840, 'folletín': 5841, 'anacoluthe': 5842, 'cibernovela': 5843, 'insertados': 5844, 'saga': 5845, 'corte': 5846, 'borgiano': 5847, 'maneja': 5848, '\\x96hipertextualmente\\x96': 5849, 'antojo': 5850, 'norteamericano': 5851, 'policial': 5852, 'cortos': 5853, 'densa': 5854, 'paseo': 5855, 'desestructuración': 5856, 'zapping': 5857, 'consiguiente': 5858, 'sensaciones': 5859, 'florent': 5860, 'massot': 5861, 'imprimiendo': 5862, 'cubierta': 5863, 'malédiction': 5864, 'parasol': 5865, 'maldición': 5866, 'sombrilla': 5867, 'maqueta': 5868, 'restituir': 5869, 'rienda': 5870, 'suelta': 5871, 'encantado': 5872, 'desmembrados': 5873, 'vie': 5874, 'mode': 5875, \"d'emploi\": 5876, 'instrucciones': 5877, 'georges': 5878, 'perec': 5879, 'nuit': 5880, \"d'hiver\": 5881, 'voyageur': 5882, 'noche': 5883, 'invierno': 5884, 'viajero': 5885, 'italo': 5886, 'calvino\\x96': 5887, 'entregado': 5888, 'enfrascarme': 5889, 'narrativas': 5890, 'lineares': 5891, 'encajen': 5892, 'obviamente': 5893, \"'interior'\": 5894, 'cercana': 5895, 'movimientos': 5896, 'desordenados': 5897, 'caracterizan': 5898, 'ensoñación': 5899, 'esencia': 5900, \"'asesores\": 5901, \"literarios'\": 5902, 'soplando': 5903, 'quedara': 5904, 'atrapada': 5905, 'desobedecer': 5906, 'medias': 5907, 'voy': 5908, 'vengo': 5909, 'malgastado': 5910, 'cuadernillo': 5911, 'clairefontaine': 5912, 'bolígrafo': 5913, 'fetiche': 5914, 'bic': 5915, 'mont': 5916, 'blanc': 5917, 'moderado': 5918, 'conectado': 5919, 'htx': 5920, 'originaria': 5921, 'preocupaciones': 5922, 'inherentes': 5923, 'registro': 5924, 'tono': 5925, 'tecnoescritor': 5926, '\\x96pongámosle': 5927, 'etiqueta': 5928, 'diferenciarlo\\x96': 5929, 'mirarla': 5930, 'investigador': 5931, 'rien': 5932, \"n'est\": 5933, 'sans': 5934, 'dire': 5935, 'modismo': 5936, 'quinientas': 5937, '\\x96su': 5938, 'familia': 5939, 'integrando': 5940, 'respuestas': 5941, 'reacciones': 5942, 'contada': 5943, 'narrador': 5944, 'stanislas': 5945, 'zita': 5946, 'trágica': 5947, 'destrozada': 5948, 'sombría': 5949, 'llevaba': 5950, 'preguntándome': 5951, \"'epistolar'\": 5952, 'aquellas': 5953, 'famosas': 5954, \"'novelas\": 5955, \"carta'\": 5956, 'equivalente': 5957, \"'novela\": 5958, \"epistolar'\": 5959, 'saca': 5960, 'conclusiones': 5961, \"'género'\": 5962, 'intertanto': 5963, 'contado': 5964, 'descubrí': 5965, 'explotar': 5966, 'reservo': 5967, 'ulterior': 5968, 'restricciones': 5969, 'diabólico': 5970, \"'pacto'\": 5971, 'reforzado': 5972, 'convicción': 5973, 'extraordinaria': 5974, 'renovar': 5975, 'tardan': 5976, 'hiperficción': 5977, 'chantal': 5978, 'beaslay': 5979, 'laure': 5980, 'carlon': 5981, 'meuriot': 5982, 'anika': 5983, 'mignotte': 5984, 'claude': 5985, 'rouah': 5986, 'primordial': 5987, 'espiritual': 5988, 'huevo': 5989, 'construyendo': 5990, 'células': 5991, 'autónomas': 5992, 'exponer': 5993, 'heterogéneas': 5994, 'unificadora': 5995, '¿han': 5996, 'íntima': 5997, 'mantiene': 5998, 'lejano': 5999, 'mitos': 6000, 'fantasías': 6001, 'cotidiano': 6002, 'razones': 6003, 'incitan': 6004, 'proceda': 6005, 'toques': 6006, 'dé': 6007, 'empezar': 6008, 'adelantaría': 6009, 'bifurcaciones': 6010, 'saltos': 6011, '\\x96esto': 6012, 'storyspace\\x96': 6013, 'modular': 6014, 'horizontalidad': 6015, 'espacial': 6016, 'autónomos': 6017, 'entretejer': 6018, 'vinculado': 6019, 'modularidad': 6020, 'cruzadas': 6021, 'metaescritura': 6022, 'cubra': 6023, 'aprieta': 6024, 'lazos': 6025, 'distantes': 6026, 'conocen': 6027, 'enfrentar': 6028, 'espectadores': 6029, 'interactores': 6030, 'intercomunicación': 6031, \"'espectactura'\": 6032, \"'lectactura'\": 6033, 'weissberg': 6034, 'obliga': 6035, 'juicio': 6036, 'acontecimiento': 6037, 'ínfima': 6038, 'notan': 6039, 'llaman': 6040, 'mal': 6041, 'definidos': 6042, 'radicales': 6043, 'simbólico': 6044, 'representacional': 6045, 'sencillamente': 6046, 'relacionarnos': 6047, \"proximidad'\": 6048, 'sinónimo': 6049, \"vínculos'\": 6050, 'compartamos': 6051, \"canales'\": 6052, 'compartirlos': 6053, 'ponerlos': 6054, 'entretejido': 6055, 'hipertextos': 6056, 'trazando': 6057, 'apariencia': 6058, 'movediza': 6059, 'melodía': 6060, 'photoshop': 6061, 'cubase': 6062, 'competencias': 6063, 'pudientes': 6064, 'matra': 6065, 'pentagone': 6066, 'estatuto': 6067, '¿escribasta': 6068, '¿de': 6069, 'multimediasta': 6070, 'videasta': 6071, 'escenógrafo': 6072, 'palmas': 6073, 'cannes': 6074, 'llevárselas': 6075, 'hermana': 6076, 'gemela': 6077, 'clon': 6078, 'cinematográfico': 6079, 'artesanos': 6080, 'periferia': 6081, 'negativos': 6082, 'hiperenlaces': 6083, 'radial': 6084, 'pincho': 6085, 'metódicamente': 6086, 'rodeos': 6087, 'apareciendo': 6088, 'salta': 6089, 'ojear': 6090, 'pinchar': 6091, 'escribo': 6092, 'compongo': 6093, \"'impresa'\": 6094, 'linealidad': 6095, 'excluye': 6096, \"progreso'\": 6097, 'provisional': 6098, 'tientas': 6099, 'subrayan': 6100, 'gutenbergs': 6101, 'huérfanos': 6102, 'civilización': 6103, 'distinguir': 6104, 'sabio': 6105, 'gurú': 6106, 'emociones': 6107, 'mas': 6108, 'vuelve': 6109, 'ahorrado': 6110, 'integro': 6111, 'flash': 6112, 'asegura': 6113, 'deliberadamente': 6114, 'azar': 6115, 'concentrarme': 6116, 'arquitectura': 6117, 'ancha': 6118, 'librará': 6119, 'acabaremos': 6120, 'historiales': 6121, 'trampas': 6122, 'coger': 6123, 'toro': 6124, 'cuernos': 6125, 'impedir': 6126, 'proeza': 6127, 'prioridad': 6128, 'codiciado': 6129, 'gigantes': 6130, 'meritorio': 6131, 'recetas': 6132, 'publicitarias': 6133, 'generadas': 6134, 'cooperativo': 6135, '\\x96digitalizando': 6136, 'editores\\x96': 6137, 'etapas': 6138, 'preceden': 6139, 'establecido': 6140, 'encargarlos': 6141, 'empezando': 6142, '150': 6143, 'suspende': 6144, 'indefinido': 6145, 'creciente': 6146, 'reprochan': 6147, 'antemano': 6148, 'reanuda': 6149, 'fondos': 6150, 'centrada': 6151, 'consultados': 6152, 'publicitarios': 6153, 'encuentran': 6154, 'derecha': 6155, 'digitalizando': 6156, 'autorización': 6157, 'invocando': 6158, 'invocan': 6159, 'justicia': 6160, 'revuelo': 6161, 'mediático': 6162, 'escanearía': 6163, '\\x96pero': 6164, 'mencionan': 6165, 'alto\\x96': 6166, 'abarcaría': 6167, 'deben': 6168, 'cuidado': 6169, 'virginia': 6170, 'wisconsin': 6171, 'madison': 6172, 'complutense': 6173, 'madrid': 6174, 'princeton': 6175, 'texas': 6176, 'austin': 6177, 'catalunya': 6178, 'estatal': 6179, 'baviera': 6180, 'bayerische': 6181, 'staatbibliothek': 6182, 'cantonal': 6183, 'bcu': 6184, 'cantonale': 6185, 'lausanne': 6186, 'lyon': 6187, 'acciones': 6188, 'emprendidas': 6189, 'anunciando': 6190, 'tomaría': 6191, 'repartición': 6192, 'agotadas': 6193, '125': 6194, 'clausurar': 6195, 'quedarán': 6196, 'retirar': 6197, 'públicas': 6198, 'administrado': 6199, 'agotados': 6200, 'afamadas': 6201, 'ubican': 6202, 'bélgica': 6203, '3g': 6204, 'g1': 6205, 'mobile': 6206, 'sometida': 6207, 'federar': 6208, 'brewster': 6209, 'kahle': 6210, 'archivando': 6211, 'estudiosos': 6212, 'historiadores': 6213, 'wayback': 6214, 'machine': 6215, 'million': 6216, '520': 6217, '1903': 6218, 'conciertos': 6219, 'vivo': 6220, 'errores': 6221, 'imposibilidad': 6222, 'gubernamentales': 6223, 'ánimo': 6224, 'informáticas': 6225, 'prelinger': 6226, 'tropieza': 6227, 'alimentan': 6228, 'text': 6229, 'metropolitan': 6230, 'adams': 6231, 'getty': 6232, 'hopkins': 6233, 'antiesclavista': 6234, 'fiebre': 6235, 'cornell': 6236, 'comportan': 6237, 'resaltadas': 6238, 'ricas': 6239, 'rudimentario': 6240, 'cambridge': 6241, 'mcgraw': 6242, 'hill': 6243, 'centrarse': 6244, '750': 6245, 'integran': 6246, 'preocupados': 6247, 'hegemonía': 6248, '43': 6249, 'cenl': 6250, 'conference': 6251, 'librarians': 6252, 'albergado': 6253, 'dispongan': 6254, '\\x91biblioteca': 6255, 'europea\\x92': 6256, 'estimular': 6257, 'iniciativas': 6258, 'cofinanciará': 6259, 'paneuropea': 6260, 'abordará': 6261, 'estratégicos': 6262, 'responde': 6263, 'parcial': 6264, '\\x96portátil': 6265, 'no\\x96': 6266, 'agendas': 6267, 'inercia': 6268, 'mejora': 6269, 'ligeras': 6270, 'ultrafino': 6271, 'organiser': 6272, 'plus': 6273, 'diversificar': 6274, 'inalámbricas': 6275, 'ephe': 6276, 'pratique': 6277, 'hautes': 6278, 'estudiar': 6279, 'frecuentes': 6280, 'trayectos': 6281, 'argentan': 6282, 'normandía': 6283, 'residencia': 6284, 'jo': 6285, 'cargado': 6286, 'montón': 6287, 'totalidad\\x96': 6288, 'llevarme': 6289, 'entera': 6290, 'ajustes': 6291, 'cómodo': 6292, 'minúsculo': 6293, 'torcer': 6294, 'sentir': 6295, 'abrirlo': 6296, 'agradable': 6297, 'cualidad': 6298, 'apreciable': 6299, 'retocar': 6300, 'guardado': 6301, 'asociativas': 6302, 'formo': 6303, 'organizaremos': 6304, 'recital': 6305, 'victor': 6306, 'hugo': 6307, 'leerlos': 6308, 'estupendo': 6309, 'jersey': 6310, 'comercializa': 6311, 'consultable': 6312, 'monolingües': 6313, 'biblias': 6314, '900': 6315, '901': 6316, '911': 6317, 'ram': 6318, 'competidores': 6319, 'renuncia': 6320, 'avanzado': 6321, 'negocian': 6322, 'preocupe': 6323, 'defensores': 6324, 'aseguran': 6325, 'favoritos': 6326, 'integra': 6327, 'protegidos': 6328, 'seybold': 6329, 'reports': 6330, '\\x96mientras': 6331, 'lectura\\x96': 6332, 'líder': 6333, 'vendidas': 6334, '55': 6335, 'observan': 6336, 'padece': 6337, 'disminuir': 6338, 'retirarse': 6339, 'finlandesa': 6340, 'fabricante': 6341, 'p800': 6342, 'motorola': 6343, 'siemens': 6344, 'inteligente': 6345, 'polifónico': 6346, 'cámara': 6347, 'funciones': 6348, 'probable': 6349, 'conozcan': 6350, 'impulsando': 6351, 'avanzadas': 6352, 'concretando': 6353, 'smart': 6354, 'displays': 6355, 'observarán': 6356, 'usos': 6357, 'tamaños': 6358, 'reloj': 6359, 'waterproof': 6360, 'democratización': 6361, 'logran': 6362, 'aprovechar': 6363, 'tecnológico': 6364, 'variadas': 6365, 'multifuncionales': 6366, 'celular': 6367, 'consumen': 6368, 'alumnos': 6369, 'juristas': 6370, 'sobremesa': 6371, 'ultraportátil\\x96': 6372, '\\x96dependiendo': 6373, 'duro\\x96': 6374, 'ofimática': 6375, 'atrae': 6376, 'webpad': 6377, 'aparecido': 6378, 'grueso': 6379, 'ciberlibros': 6380, 'suscitan': 6381, 'lleguen': 6382, 'comprarlas': 6383, 'prohibitivo': 6384, 'conciben': 6385, 'perfeccionan': 6386, 'crystal': 6387, 'batería': 6388, 'disponen': 6389, 'módem': 6390, 'estrenan': 6391, 'everybook': 6392, 'millennium': 6393, 'librius': 6394, 'remota': 6395, 'kilos': 6396, 'presentados': 6397, 'comercializados': 6398, '1100': 6399, '1200': 6400, 'construidos': 6401, 'thomson': 6402, '699': 6403, 'supermercado': 6404, '1150': 6405, '2150': 6406, 'producidos': 6407, '199': 6408, '349': 6409, 'bianual': 6410, 'concluyentes': 6411, 'kilo': 6412, '\\x9632': 6413, 'sdram': 6414, 'synchronous': 6415, 'dynamic': 6416, 'memory': 6417, 'flash\\x96': 6418, 'pujol': 6419, 'cruzó': 6420, 'extraordinario': 6421, 'aquel': 6422, 'promotor': 6423, 'impenitente': 6424, 'felicidad': 6425, 'desarrollando': 6426, 'maravilloso': 6427, \"'adaptable'\": 6428, 'obligada': 6429, 'declararse': 6430, 'declarada': 6431, 'liquidación': 6432, 'judicial': 6433, 'dahan': 6434, 'laurent': 6435, 'picard': 6436, 'retoma': 6437, 'comercialización': 6438, 'bautizada': 6439, 'gen3': 6440, '1000': 6441, 'ep': 6442, 'producido': 6443, 'philips': 6444, 'desarrollada': 6445, 'centímetros': 6446, 'extensión\\x96': 6447, '170': 6448, 'dpi': 6449, 'dots': 6450, 'per': 6451, 'inch': 6452, 'resolución': 6453, 'grabación': 6454, 'alcalinas': 6455, 'cuesta': 6456, '375': 6457, '289': 6458, '256': 6459, 'mo': 6460, 'sd': 6461, '273': 6462, '359': 6463, '489': 6464, '499': 6465, 'ibookstore': 6466, 'crece': 6467, 'ipod': 6468, 'culto': 6469, 'dura': 6470, 'prometedor': 6471, 'darán': 6472, 'preferencia': 6473, 'solidez': 6474, 'estética': 6475, 'adelanto': 6476, 'manipular': 6477, 'táctiles': 6478, 'individual': 6479, 'evidencia': 6480, 'ingeniárselas': 6481, 'ligero': 6482, 'ocupe': 6483, 'separa': 6484, 'terrícola': 6485, 'sentado': 6486, 'autobús': 6487, 'wc': 6488, 'superficie': 6489, 'hoja': 6490, 'a4': 6491, 'gps': 6492, 'miras': 6493, 'telescópicas': 6494, 'carlinga': 6495, 'win': 6496, '\\x93pronto\\x94': 6497, 'plastic': 6498, 'logic': 6499, 'proponernos': 6500, 'ultrafinos': 6501, 'moda': 6502, 'pánico': 6503, 'apoderado': 6504, 'próximo': 6505, 'almacenado': 6506, 'efectiva': 6507, 'respetable': 6508, 'inventa': 6509, 'ruetschi': 6510, 'tribune': 6511, 'genève': 6512, '¿está': 6513, 'satisfecho': 6514, 'evolucionado': 6515, 'alegra': 6516, 'rica': 6517, 'variada': 6518, 'juntar': 6519, 'consumir': 6520, 'compartidos': 6521, 'concretarse': 6522, 'acuñado': 6523, 'escogido': 6524, 'incitar': 6525, 'cooperativas': 6526, 'accesibilidad': 6527, 'discapacidad': 6528, 'cero': 6529, 'generalista': 6530, 'afectados': 6531, 'asuntos': 6532, 'meteorológicos': 6533, 'consumo': 6534, 'deporte': 6535, 'parámetros': 6536, 'cómoda': 6537, 'deficiencia': 6538, 'adopta': 6539, 'enriqueciendo': 6540, 'adoptando': 6541, 'combinaciones': 6542, 'mejorando': 6543, 'demostrar': 6544, 'elementales': 6545, 'acabar': 6546, 'infraestructura': 6547, 'dsl': 6548, 'subscriber': 6549, 'line': 6550, 'cable': 6551, 'óptico': 6552, 'fibra': 6553, 'óptica': 6554, 'wireless': 6555, 'fidelity': 6556, 'wimax': 6557, 'worldwide': 6558, 'interoperability': 6559, 'microwave': 6560, \"'flotante'\": 6561, 'situado': 6562, 'heroicos': 6563, 'trataba': 6564, 'avanzar': 6565, 'alcanzara': 6566, 'liberará': 6567, 'desencadenado': 6568, 'omnipresente': 6569, 'rafi': 6570, 'haladjian': 6571, 'ozone': 6572, 'ola': 6573, 'real': 6574, 'accederemos': 6575, 'viviremos': 6576, 'cables': 6577, 'operadores': 6578, 'completamente': 6579, 'transparentes': 6580, 'posibilitando': 6581, 'agnóstica': 6582, 'compartimos': 6583, 'fantástica': 6584, 'nací': 6585, '1963': 6586, 'caben': 6587, 'combinado': 6588, 'omnipresencia': 6589, 'instantáneo': 6590, 'usual': 6591, 'presentará': 6592, 'importarán': 6593, 'comodidades': 6594, 'funcionales': 6595, 'poseer': 6596, '\\x96hasta': 6597, 'exclusivos': 6598, 'élite\\x96': 6599, 'reservada': 6600, 'colectividad\\x96': 6601, 'indefinidamente': 6602, 'exactas': 6603, 'comuniquemos': 6604, 'compartiendo': 6605, 'locales': 6606, 'mundiales': 6607, 'esbozos': 6608, 'sofisticados': 6609, 'generalizaría': 6610, 'realista': 6611, 'encarnación': 6612, 'trabajamos': 6613, 'jugamos': 6614, 'analizarlas': 6615, 'preguntarnos': 6616, 'corresponda': 6617, 'juntos': 6618, 'very': 6619, 'short': 6620, '\\x96ubicuidad': 6621, 'interactividad\\x96': 6622, '¿se': 6623, 'parecerá': 6624, 'describe': 6625, 'filósofo': 6626, 'timothy': 6627, 'leary': 6628, 'chaos': 6629, 'cyber': 6630, 'culture': 6631, 'caos': 6632, 'interior': 6633, 'gigantescas': 6634, 'señales': 6635, 'humanas': 6636, 'contenidas': 6637, 'guardadas': 6638, 'bancos': 6639, 'documentarnos': 6640, 'facebook': 6641, 'twitter': 6642, 'comunicarnos': 6643, 'resultaría': 6644, 'estudio\\x96': 6645, 'inició': 6646, 'cerrarse': 6647, 'seguiremos': 6648, 'salido': 6649, 'probetas': 6650, 'entrelazamiento': 6651, 'dedicarse': 6652, 'escritas': 6653, 'sentimientos': 6654, 'coinventor': 6655, 'internet\\x96': 6656, 'conecta': 6657, '\\x96profesionales': 6658, 'otros\\x96': 6659}\n"
          ]
        }
      ],
      "source": [
        "# El índice para cada palabra\n",
        "# El sistema las ordena de las más populares a las menos populares\n",
        "print(tok.word_index)"
      ]
    },
    {
      "cell_type": "code",
      "execution_count": null,
      "metadata": {
        "id": "nUDkjy80c77h",
        "colab": {
          "base_uri": "https://localhost:8080/"
        },
        "outputId": "4ec2245f-6e95-40c4-edbb-4caa011c03dc"
      },
      "outputs": [
        {
          "output_type": "stream",
          "name": "stdout",
          "text": [
            "defaultdict(<class 'int'>, {'digital': 107, 'libro': 110, 'del': 433, 'al': 226, 'impreso': 22, 'lebert': 3, 'marie': 6, 'universidad': 21, 'nef': 3, '2010': 26, 'toronto': 7, 'de': 2325, 'todos': 49, 'copyright': 53, 'los': 688, '©': 1, 'reservados': 1, 'derechos': 56, 'las': 427, 'está': 47, 'personas': 23, 'todas': 20, 'dedicado': 5, 'a': 733, 'este': 96, 'mis': 21, 'que': 702, 'preguntas': 5, 'contestado': 1, 'han': 47, 'años': 116, 'diez': 26, 'últimos': 8, 'durante': 33, 'en': 1525, 'europa': 23, 'américas': 1, 'asia': 2, 'y': 1002, 'áfrica': 3, 'el': 1079, 'por': 412, 'tiempo': 38, 'gracias': 32, 'me': 70, 'su': 219, 'amistad': 2, 'tiene': 29, 'edad': 7, 'medio': 16, 'siglos': 5, 'cinco': 13, 'ya': 89, '40': 4, 'puede': 66, 'día': 24, 'uno': 48, 'leer': 27, 'un': 544, 'hoy': 15, 'ordenador': 24, 'móvil': 5, 'teléfono': 10, 'asistente': 5, 'smartphone': 12, 'personal': 24, 'pda': 42, 'virtual': 5, 'o': 185, 'tableta': 14, 'es': 316, 'viaje': 6, 'lectura': 77, 'vamos': 2, 'emprender': 2, 'unas': 9, 'basado': 9, 'miles': 17, 'horas': 14, 'se': 440, 'ha': 77, 'centena': 1, 'la': 1270, 'entrevistas': 4, 'navegación': 7, 'web': 218, 'una': 382, 'mundo': 50, 'disponible': 16, 'entero': 7, 'también': 150, 'llevadas': 1, 'cabo': 11, 'gutenberg': 67, 'francés': 30, 'manybooks': 2, 'net': 8, 'proyecto': 97, 'investigadora': 4, 'periodista': 7, 'interesa': 4, 'idiomas': 38, 'escrito': 6, 'referentes': 1, 'tecnologías': 24, 'booknología': 1, 'historia': 16, 'corta': 4, '1971': 17, 'son': 63, 'ebook': 46, '2009': 13, 'sus': 104, 'internet': 144, 'libros': 234, 'des': 9, 'études': 3, 'publicados': 7, 'françaises': 2, 'red': 50, 'estudios': 8, 'franceses': 9, 'etudes': 2, 'www': 4, 'canadá': 14, 'francaises': 2, 'están': 38, 'org': 2, 'disponibles': 28, 'varios': 35, 'electrónicos': 19, 'formatos': 19, 'ayuda': 5, 'traducción': 16, 'muchas': 6, 'anna': 1, 'álvarez': 1, 'revisión': 4, 'simmross': 1, 'páginas': 31, 'español': 16, 'alicia': 5, 'versión': 60, 'española': 1, 'índice': 4, 'introducción': 2, 'apuesta': 5, 'lanzada': 16, 'hacia': 18, 'desde': 39, 'futuro': 16, 'pasado': 15, 'books': 23, 'page': 10, 'online': 25, 'libre': 33, 'acceso': 61, 'repertorio': 8, 'endurecimiento': 4, 'prensa': 25, 'línea': 111, 'pone': 17, 'e': 56, 'list': 5, 'zine': 10, 'impresa': 30, 'com': 23, 'amazon': 62, 'unidos': 45, 'estados': 48, '¿y': 4, 'pequeñas': 4, 'librerías': 24, 'editores': 60, 'piloto': 5, 'algunos': 56, '00h00': 15, 'editorial': 44, 'multimedia': 36, 'convergencia': 10, 'definición': 4, 'comentarios': 8, 'instalan': 3, 'bibliotecas': 40, 'digitales': 84, 'ejemplo': 50, 'gallica': 14, 'bibliotecario': 5, 'cibertecario': 2, 'catálogos': 4, 'información': 73, 'multilingüe': 10, 'hace': 20, 'unicode': 9, 'ascii': 14, 'inglés': 35, 'plurilingüismo': 5, 'diccionarios': 12, 'adaptado': 4, 'autor': 65, 'derecho': 27, 'commons': 10, 'copyleft': 7, 'creative': 10, 'público': 68, 'dominio': 40, 'enciclopedia': 17, 'vasta': 4, 'saber': 20, 'proyectos': 8, 'sellers': 5, 'best': 8, 'software': 52, 'experiencias': 3, 'algunas': 18, 'librería': 26, 'numilog': 17, 'ciberliteratura': 5, 'poesía': 9, 'fábulas': 8, 'policíacas': 4, 'novelas': 12, 'obras': 78, 'ficción': 6, 'otras': 28, 'email': 6, 'novela': 29, 'sitios': 39, 'escritura': 22, 'hipermedia': 17, 'planetaria': 3, 'biblioteca': 55, 'google': 33, 'open': 16, 'content': 9, 'alliance': 7, 'otros': 40, 'tabletas': 20, 'smartphones': 10, 'personales': 4, 'asistentes': 2, 'perspectivas': 5, 'conclusión': 2, 'cronología': 2, 'agradecimientos': 1, 'cambiado': 5, 'mucho': 38, 'éste': 18, 'con': 392, 'nace': 6, 'creado': 11, 'julio': 30, 'hart': 15, 'fin': 26, 'visionario': 3, 'michael': 30, 'literarias': 7, 'distribuir': 2, 'gratuitamente': 9, 'electrónica': 28, 'vía': 16, 'aparición': 6, '1990': 13, 'pero': 82, 'esperar': 6, 'hasta': 24, 'hay': 28, 'luego': 40, 'proofreaders': 8, 'cuya': 13, 'distributed': 8, '2000': 91, 'meta': 7, 'creación': 23, 'entre': 64, 'compartir': 6, 'encuentre': 1, 'para': 353, 'velocidad': 1, 'voluntarios': 15, 'internacional': 22, 'crucero': 1, 'difusión': 32, 'british': 3, 'corren': 1, 'señal': 1, 'tiempos': 2, 'noviembre': 32, 'puso': 1, 'biblia': 6, 'library': 20, 'ó': 1, 'aquella': 7, '\\x96datada': 1, '1455\\x96': 1, '1454': 1, 'fue': 27, 'primer': 35, 'maguncia': 1, 'ejemplares': 6, 'taller': 2, '180': 4, 'aún': 31, 'alemania': 15, 'incompletos': 1, 'existirían': 2, 'aunque': 24, '48': 5, 'parcial\\x96': 1, 'completos': 2, 'esos': 12, 'tres': 31, '\\x96dos': 2, 'mayoría': 2, 'tienen': 8, 'página': 22, 'propia': 12, 'libreros': 13, 'totalidad': 13, 'nacen': 4, 'realizan': 2, 'directamente': 13, 'ellos': 6, 'través': 16, 'transacciones': 2, 'van': 9, 'multiplicando': 1, 'sólo': 50, 'así': 35, 'evitando': 3, 'revistas': 15, 'autores': 44, 'implica': 5, 'publicación': 29, 'gastos': 3, 'escriben': 1, 'hipertexto': 8, 'llegado': 4, 'imprescindible': 1, 'informarse': 1, 'comunicar': 7, 'ser': 60, 'extender': 3, 'documentos': 43, 'conocimientos': 7, 'no': 229, 'acceder': 7, 'necesitamos': 1, 'falta': 8, 'nos': 20, 'desesperadamente': 1, 'correr': 1, 'tras': 29, 'nuestro': 18, 'incluso': 31, 'alcance': 4, 'campo': 6, 'viven': 3, 'aquellos': 4, 'correspondencia': 1, 'pleno': 5, 'estudian': 1, 'confinados': 1, 'domicilio': 3, 'cama': 1, 'trabajan': 3, 'convertido': 10, 'gigantesca': 1, 'inmensa': 2, 'enorme': 5, 'comunicación': 21, 'tener': 15, 'estado': 3, 'estático': 1, 'completo': 6, 'impresos': 6, 'fluidez': 2, 'gran': 21, 'actualizarse': 1, 'constantemente': 2, 'posibilidad': 11, 'estas': 14, 'aparecen': 7, 'citas': 3, 'fragmentos': 11, 'entretiens': 1, 'proseguido': 1, 'completarlas': 1, 'lo': 118, 'indique': 1, 'salvo': 2, 'contrario': 5, 'resumen': 19, 'trata': 19, 'etext': 2, '1': 51, 'remonta': 1, 'lanzado': 21, 'electrónicas': 10, 'versiones': 19, 'crear': 24, 'hecho': 19, 'siglo': 15, '16': 15, 'había': 17, 'difundirlas': 1, 'precio': 23, 'relativamente': 1, 'posible': 32, '21': 3, 'permitir': 4, 'módico': 2, 'cada': 56, 'iba': 4, 'disponer': 2, 'gratuita': 13, 'persona': 15, 'alcanzó': 1, 'aliento': 2, 'nuevo': 29, 'cobró': 1, 'original': 20, 'sitio': 109, '3': 26, 'descargas': 8, 'espejo': 3, 'cuenta': 44, 'millones': 73, '38': 2, 'mes': 20, 'planeta': 3, 'todo': 37, 'repartidos': 2, 'pasos': 3, 'primeros': 12, 'cuando': 27, 'estudiaba': 1, 'raíces': 1, '¿cuáles': 1, 'illinois': 1, 'laboratorio': 2, 'le': 35, 'asignó': 1, '100': 17, 'research': 2, 'materials': 1, 'lab': 1, 'informático': 9, 'dólares': 7, '4': 17, 'estadounidense': 7, 'fiesta': 2, 'nacional': 21, 'the': 27, 'teclado': 7, 'digitó': 2, 'united': 4, 'states': 4, 'declaración': 4, 'of': 34, 'independencia': 1, 'declaration': 2, 'independence': 2, 'mayúsculas': 3, '1776': 1, 'pues': 14, 'firmada': 2, 'minúsculas': 2, 'letras': 10, 'representaba': 3, 'existían': 1, 'electrónico': 29, 'texto': 59, '5': 15, 'kilobytes': 5, 'cien': 13, 'archivo': 12, 'envío': 8, 'hubiera': 6, 'sistema': 21, 'acabado': 2, 'provocando': 1, 'formaban': 1, 'época': 10, 'ancho': 2, 'banda': 4, 'porque': 30, 'ínfimo': 1, 'era': 18, 'implosión': 1, 'dónde': 2, 'almacenaba': 2, 'mensaje': 1, 'explicaba': 1, 'difundió': 1, 'sin': 50, '20': 17, '\\x96aún': 1, 'habría': 3, 'más': 191, 'enlace': 6, 'unos': 36, 'web\\x96': 1, 'descargaron': 1, 'seis': 8, 'marcha': 4, 'sobre': 73, 'ese': 6, 'crédito': 2, 'decidió': 3, 'dedicar': 1, 'búsqueda': 17, 'éstas': 7, 'digitalización': 28, 'almacenar': 6, 'optó': 2, 'formato': 56, 'forma': 30, 'sencilla': 4, 'textos': 56, 'problema': 13, 'pudieran': 2, 'leídos': 5, 'programa': 15, 'plataforma': 9, 'cualquier': 46, 'conjunto': 9, 'tradicional': 14, 'encuadernadas': 1, 'par': 5, 'desplegar': 1, 'convierte': 14, 'términos': 11, 'escritos': 6, 'cursiva': 1, 'negrita': 1, 'subrayados': 1, 'poco': 22, 'misión': 7, 'después': 33, 'definió': 1, 'disposición': 17, 'mayor': 12, 'poner': 20, 'número': 19, 'nosotros': 1, 'como': 144, 'consideramos': 1, 'verdadera': 4, 'relación': 8, 'tarde': 25, 'papel': 19, 'explicó': 2, '1998': 41, 'ambos': 5, 'única': 3, 'agosto': 37, 'semejanza': 1, 'difundimos': 1, 'gente': 8, 'haya': 7, 'cuanto': 18, 'veo': 4, 'acostumbrado': 2, 'cómo': 9, 'mismas': 2, 'podría': 11, 'competir': 2, 'escuelas': 3, 'haber': 15, 'digitado': 1, 'digitando': 1, 'prosiguió': 1, 'esfuerzos': 2, '1972': 1, 'rights': 5, 'bill': 1, '1789': 1, 'esta': 64, 'incluye': 7, 'enmiendas': 1, 'añadidas': 1, 'primeras': 16, '1787': 1, 'constitución': 2, 'ratificada': 3, 'define': 4, 'respectivos': 2, 'ciudadanos': 2, 'individuales': 3, 'poderes': 2, 'voluntario': 1, 'federal': 2, 'gobierno': 1, '1973': 2, 'constitution': 1, 'disquete': 4, 'año': 31, 'aumenta': 2, '\\x96el': 2, 'capacidad': 8, 'regularidad': 3, 'disco': 3, 'duro': 3, 'modo': 48, 'ocupar': 3, 'existe': 8, 'archivos': 45, 'pueden': 38, 'aún\\x96': 1, 'vez': 50, 'digitalizar': 12, 'espacio': 18, 'animan': 1, 'compuesta': 2, 'cual': 15, 'tratarse': 2, 'separado': 1, 'diferente': 3, 'completa': 5, 'obra': 24, 'shakespeare': 5, 'empieza': 19, 'digitar': 3, 'teatro': 5, 'otra': 17, 'nunca': 8, 'edición': 39, 'podido': 4, 'tanto': 38, 'entrado': 2, 'debido': 13, 'ley': 10, 'vigor': 2, 'destinada': 3, 'rigurosa': 1, 'proteger': 3, 'sino': 31, 'hacía': 3, 'ediciones': 9, 'anotadas': 1, 'notas': 3, 'sí': 14, 'habían': 3, 'pusieron': 1, 'fechas': 5, 'despega': 1, 'embrionario': 2, 'tcp': 2, 'ip': 3, '1974': 3, 'protocolo': 1, 'verdaderamente': 5, 'transmission': 1, '1983': 1, 'protocol': 1, 'control': 5, 'expansión': 5, 'plena': 2, 'ebooks': 27, '10': 26, '000': 98, 'décimo': 1, '1989': 1, 'publicada': 9, 'bible': 1, 'primera': 27, 'king': 5, 'james': 2, '1611': 1, 'conocida': 3, '1769': 1, 'antiguo': 4, 'testamento': 1, 'representa': 14, 'megabytes': 5, 'estándar': 13, 'vigente': 2, 'modelo': 22, '250': 5, 'internautas': 8, 'digita': 2, '1991': 5, \"alice's\": 3, 'enero': 35, '360': 2, 'adventures': 4, 'país': 8, 'in': 4, 'maravillas': 4, 'wonderland': 3, 'publicado': 22, 'carroll': 1, 'lewis': 1, '1865': 1, 'mismo': 32, 'peter': 8, 'm': 5, '1904': 2, 'barrie': 1, 'pan': 4, 'estos': 22, 'literatura': 21, 'cabe': 8, 'infantil': 1, 'dos': 51, 'clásicos': 3, 'partir': 33, 'llega': 5, 'operativa': 3, '1993': 11, 'aparece': 3, 'mosaic': 1, 'navegador': 5, 'generalizarse': 2, 'hacer': 15, 'fácil': 4, 'resulta': 17, 'circular': 3, 'reclutar': 1, 'logra': 6, 'trabajo': 42, 'método': 5, 'perfecciona': 2, 'cuatro': 8, '1992': 5, '1994': 9, 'ocho': 2, 'celebra': 5, 'centésimo': 1, 'puesta': 6, 'complete': 1, 'william': 3, 'works': 1, 'escribió': 3, '1590': 1, 'parte': 38, '1613': 1, 'continuación': 7, 'aumentando': 2, 'producción': 18, 'media': 10, '8': 13, 'sigue': 20, '1995': 14, '32': 5, '1996': 20, 'podemos': 3, 'observar': 4, 'duplicado': 1, 'mientras': 18, 'coordina': 1, 'decenas': 7, 'entonces': 26, 'grandes': 21, 'torno': 8, 'sectores': 12, 'articula': 1, 'light': 1, 'literature': 5, 'entretenimiento': 2, 'aventuras': 5, 'fables': 4, \"aesop's\": 1, 'esopo': 2, 'seria': 1, 'heavy': 1, 'b': 5, 'dick': 1, 'c': 3, 'moby': 1, 'referencia': 7, 'reúne': 6, 'reference': 1, 'thesaurus': 1, 'enciclopedias': 8, \"roget's\": 1, 'adelante': 8, 'presentación': 9, 'sustituida': 1, 'detallada': 1, 'secciones': 2, 'clasificación': 1, 'nivel': 12, 'universal': 7, 'pretende': 3, 'dirige': 6, 'selecciona': 2, 'limitarse': 2, 'habitual': 1, 'docentes': 4, 'estudiantes': 7, 'sector': 8, 'atraer': 3, 'propone': 18, 'pantalla': 38, 'frente': 8, 'niños': 4, 'muy': 42, 'diverso': 1, 'abuelos': 1, 'busca': 3, 'visto': 6, 'hook': 1, 'película': 3, 'televisiva': 1, 'adaptación': 1, 'origen': 4, 'star': 2, 'visionar': 1, 'episodio': 1, 'cita': 3, 'literaria': 5, 'trek': 1, 'citan': 1, 'episodios': 2, 'casi': 20, 'objetivo': 19, 'esté': 4, 'pueda': 16, 'facilidad': 3, 'encontrar': 12, 'contacto': 4, 'películas': 13, 'escuchados': 1, 'conversaciones': 1, 'música': 10, 'periódicos': 14, 'uso': 17, 'ocupan': 1, 'fácilmente': 3, 'telefónica': 1, 'descargar': 12, 'basta': 7, 'buscar': 7, 'función': 8, 'utilizar': 17, 'igual': 3, 'textual': 4, 'presente': 7, 'junio': 26, '1997': 26, 'siendo': 18, 'títulos': 47, 'merry': 1, 'howard': 1, 'pyle': 1, 'alegres': 1, 'hood': 1, 'robin': 1, 'milésimo': 1, '1883': 2, 'commedia': 1, 'divina': 1, 'dante': 1, 'comedia': 1, 'italiano': 11, '1321': 1, 'alighieri': 1, 'idioma': 12, 'cargar': 3, 'mi': 40, 'si': 45, 'pudiera': 2, 'subvenciones': 1, 'conseguir': 1, 'importantes': 4, 'gustaría': 4, 'llegar': 7, 'millón': 7, 'ampliar': 5, 'nuestros': 12, 'pasando': 2, 'x': 7, 'usuarios': 31, 'potenciales': 2, 'población': 3, 'mundial': 15, 'distribución': 17, 'representaría': 1, 'lugar': 24, 'billón': 1, 'solo': 4, 'veces': 13, 'contará': 1, '2003': 50, 'constante': 4, '36': 3, '2': 30, '1999': 36, 'colecciones': 31, '2000º': 1, 'cuentan': 2, 'mayo': 30, 'quijote': 1, 'castellano': 1, '1605': 1, 'don': 1, 'título': 20, 'tercer': 4, '000°': 7, 'diciembre': 36, 'fleur\\x94': 1, 'volumen': 6, 'jeunes': 1, \"l'ombre\": 1, 'filles': 1, 'sombra': 1, '1919': 1, 'proust': 1, 'flor': 1, 'muchachas': 1, 'marcel': 2, '104': 2, '2001': 56, 'pasa': 5, 'octubre': 37, 'puesto': 9, 'french': 1, 'inmortales': 1, 'series': 3, 'immortals': 1, 'parís': 22, '1905': 1, 'mazarin': 1, 'inglesa': 6, 'maison': 1, 'laureados': 1, 'escritores': 5, 'varias': 24, 'ficciones': 1, 'academia': 1, 'francesa': 14, 'pierre': 17, 'emile': 1, 'française': 3, 'lengua': 17, 'académie': 1, 'souvestre': 1, 'loti': 2, 'bernard': 2, 'alphonse': 1, 'hector': 1, 'malot': 1, 'charles': 2, 'daudet': 1, 'abril': 30, '2002': 33, 'notebooks': 1, 'cuadernos': 1, 'leonardo': 1, 'vinci': 1, 'data': 2, 'da': 2, 'inicios': 2, 'encuentra': 3, 'top': 2, 'frecuencia': 3, 'descargados': 5, '1988': 1, 'cupo': 1, 'decir': 22, 'quince': 4, '44': 1, 'disquetes': 1, 'disponemos': 3, 'comprimir': 1, 'zip': 2, 'sencillo': 7, 'necesarios': 6, 'contener': 3, 'sea': 38, 'caracteres': 13, 'mediano': 2, 'tamaño': 11, '300': 9, 'digitalizada': 1, 'voluminoso': 1, 'normal': 5, 'descargables': 3, 'comprimida': 1, 'necesitan': 3, 'cincuenta': 3, 'seleccionar': 2, 'comprobar': 2, 'formatearlo': 1, 'corregirlo': 1, 'escanearlo': 1, 'compaginarlo': 1, 'números': 1, 'reservan': 1, 'epónima': 1, 'george': 2, '1984': 3, 'orwell': 1, '1949': 1, 'pasar': 8, 'lejos': 2, 'amplían': 1, '203': 2, 'primavera': 7, 'cubren': 2, 'cuarto': 3, 'inventariadas': 2, 'pública': 6, 'public': 13, 'exhaustiva': 1, 'ipl': 1, 'buen': 3, 'paciente': 1, 'resultado': 4, 'fruto': 2, 'activos': 2, 'países': 24, 'diversos': 5, 'magna': 1, 'carta': 4, 'constitucional': 1, '1215': 1, 'firmado': 1, 'duplican': 1, 'digitalizan': 4, 'meses': 19, '18': 2, 'promedio': 4, '348': 2, 'cifra': 7, 'piensa': 6, 'impresionante': 1, 'mil': 7, 'esto': 29, 'releídas': 1, 'corregidas': 1, 'escaneadas': 1, 'debe': 12, 'actividad': 26, 'crecimiento': 4, 'rápido': 9, 'concebido': 9, 'dp': 3, 'franks': 1, 'corrección': 2, 'repartir': 1, 'empezado': 4, 'eligen': 1, 'corregir': 3, 'releer': 1, 'trabaja': 2, 'determinada': 1, 'repasar': 1, 'aconseja': 1, 'ritmo': 5, 'indicativo': 1, 'cd': 18, 'selección': 7, '600': 8, 'fecha': 33, 'alcanza': 10, 'graba': 1, '9': 10, '400': 6, 'dvd': 12, 'envían': 3, 'pida': 3, 'realizar': 7, 'queda': 4, 'copias': 1, 'alrededor': 2, 'distribuirlas': 1, 'rondan': 1, '11': 4, 'etc': 49, 'html': 4, 'rtf': 1, 'representados': 3, 'xml': 3, 'principal': 8, '46': 1, '\\x96y': 5, 'obligatorio\\x96': 1, '13': 5, 'equivale': 3, 'gigabytes': 1, '110': 2, 'total': 16, 'febrero': 25, '2004': 28, 'conferencia': 3, 'sede': 2, 'abarcan': 4, 'exactamente': 5, 'unesco': 1, '12': 7, '500': 23, '25': 11, '340': 1, 'diferentes': 19, 'veinte': 8, 'representan': 7, 'ésta': 12, 'gb': 1, '135': 1, 'duplicarse': 1, 'agregación': 2, 'debería': 9, '338': 2, 'project': 7, 'center': 3, 'consortia': 1, 'pgcc': 1, 'reunir': 3, 'punto': 10, 'afiliado': 1, 'oficialmente': 3, 'único': 11, 'iniciativa': 11, 'inicia': 3, 'rastko': 1, 'europeo': 2, 'serbia': 1, 'belgrado': 1, '2005': 31, 'reflejar': 1, 'lingüística': 3, 'prevalece': 1, 'diversidad': 4, 'largo': 6, 'proponer': 12, 'plazo': 14, 'intención': 6, '15': 15, 'life': 4, 'reason': 1, 'santayana': 1, '1906': 1, 'alcanzan': 1, 'bien': 31, 'sánscrito': 1, '42': 2, 'cuales': 17, 'lenguas': 7, 'figuran': 3, 'maya': 1, '2006': 42, '50': 11, '377': 1, '412': 1, 'alemán': 9, '17': 6, '966': 1, '344': 1, '244': 2, 'holandés': 1, 'finlandés': 2, '102': 1, '69': 1, '140': 2, 'chino': 5, 'portugués': 5, '51': 1, 'tagalo': 1, '68': 1, 'australia': 3, 'misma': 33, 'portugal': 1, 'gestación': 2, 'audio': 5, 'under': 1, 'twenty': 1, 'thousand': 1, 'leagues': 1, 'submarino': 1, 'leguas': 1, 'verne': 1, '1869': 1, '345': 2, 'nuevos': 21, 'necesitado': 2, 'hayan': 1, 'bastará': 2, '2003\\x96': 1, '\\x96de': 4, 'siguientes': 9, 'ronda': 1, '2007': 43, 'alcanzará': 1, 'crea': 9, 'sección': 10, 'preprints': 1, 'estar': 12, 'acoger': 1, 'interés': 8, 'merecerían': 1, 'incorporados': 1, 'existentes': 4, 'calidad': 14, 'procesamiento': 5, 'previo': 1, 'incompletas': 1, 'conversión': 2, 'otro': 23, 'insuficiente': 1, 'necesidad': 12, '379': 1, 'comprende': 5, '30': 14, 'estrena': 4, 'news': 1, 'blog': 7, 'instigación': 2, 'cook': 1, 'mike': 1, 'complementario': 1, 'muchos': 21, 'mensuales': 4, 'tenían': 1, 'newsletter': 6, 'semanales': 4, 'existencia': 3, 'estadísticas': 3, 'presenta': 8, 'anuales': 1, '47': 1, '24': 8, 'eleva': 3, 'semanal': 2, '80': 7, '58': 2, '78': 2, '79': 1, 'mensual': 3, '252': 1, '432': 1, 'anual': 2, '141': 1, '019': 1, '176': 1, '058': 1, '049': 1, 'pgc': 1, 'luz': 6, 've': 10, 'shepard': 1, 'jones': 1, 'david': 1, 'dpc': 2, 'comienza': 1, 'marzo': 24, '2008': 17, '934': 1, 'procesados': 1, 'siete': 6, 'europe': 2, 'contabiliza': 3, 'english': 1, 'book': 3, 'younger': 1, 'collectors': 1, 'fletcher': 1, '1902': 1, 'aves': 1, 'bird': 1, 'book\\x94': 1, '\\x93the': 1, 'chester': 1, 'reed': 1, 'albert': 1, '1915': 1, 'hecha': 1, 'ganado': 1, 'releídos': 1, 'sido': 25, 'corregidos': 1, 'resultados': 4, 'miden': 2, 'embargo': 12, 'cifras': 3, 'influencia': 3, 'tenido': 2, '\\x96primera': 1, 'digital\\x96': 2, 'inspiró': 1, 'escandinava': 1, 'projekt': 1, 'runeberg': 1, 'alemana': 1, 'citar': 3, 'financiera': 4, 'estructura': 3, 'administrativa': 1, 'mínimo': 2, 'estrictamente': 1, 'insiste': 7, 'frecuentemente': 1, 'limita': 2, 'preservar': 3, 'deje': 2, 'flexible': 2, 'marco': 7, 'puerta': 2, 'abierta': 7, 'nuevas': 29, 'perennidad': 1, 'ideas': 7, 'garantizar': 2, 'cortes': 1, 'depender': 1, 'créditos': 1, 'ni': 21, 'prioridades': 1, 'momento': 8, 'políticas': 3, 'culturales': 10, 'financieras': 1, 'dinero': 3, 'además': 22, 'ejercerse': 1, 'ninguna': 7, 'presión': 2, 'poder': 10, 'significa': 10, 'respeto': 5, 'quienes': 3, 'verán': 2, 'utilizado': 8, 'seguros': 4, 'generaciones': 4, 'ahí': 3, 'dentro': 15, 'válido': 1, 'será': 16, 'regular': 3, 'garantizada': 1, 'supervisión': 1, 'foros': 2, 'discusión': 3, 'wikis': 4, 'blogs': 3, 'escáneres': 1, 'ordenadores': 7, 'sirven': 2, 'donaciones': 2, 'financiar': 1, 'solicitan': 1, 'gratuitos': 1, 'rom': 10, 'enviar': 3, 'segundo': 10, 'imágenes': 21, 'bajo': 26, 'bittorrent': 1, 'iso': 3, 'grabar': 1, 'envía': 5, 'correo': 14, 'postal': 2, 'silencie': 1, 'recordar': 2, 'verdadero': 8, 'demasiadas': 3, 'tomamos': 2, 'inventor': 3, 'palabra': 9, 'etimológico': 1, '\\x96a': 2, 'sentido': 5, 'electrónico\\x96': 1, 'cuarenta': 3, 'tendría': 1, 'nacido': 2, 'paternidad': 1, 'reconfortante': 1, 'lanzamientos': 1, 'comerciales': 11, 'comienzo': 3, 'salpicaron': 1, 'propietario': 1, 'milenio': 2, 'ningún': 10, 'denominación': 1, 'motivo': 2, 'entidades': 1, 'comercial': 16, 'designe': 1, 'exclusiva': 2, 'noble': 11, 'barnes': 10, 'gemstar': 14, 'demás': 7, 'pobre': 2, 'pariente': 2, 'tan': 13, 'válida': 1, 'embrión': 1, 'capaz': 5, 'human': 1, 'humano': 3, 'genoma': 2, 'viene': 2, '75': 3, 'genome': 1, 'pesar': 6, 'secuenciación': 1, 'ocurre': 2, 'cientos': 4, 'compone': 4, 'inicial': 4, 'pertenecía': 2, 'principio': 13, 'tal': 8, 'almacenamiento': 9, 'duros': 1, 'discos': 3, 'congress': 1, 'integralidad': 2, 'sería': 8, 'soporte': 13, 'valor': 4, 'usd': 19, 'pocos': 5, 'aparecerá': 1, 'llave': 2, 'usb': 5, 'patrimonio': 5, 'humanidad': 1, 'demanda': 3, 'prueba': 4, 'ello': 2, 'diarias': 1, 'cifran': 1, '532': 1, '31': 2, '37': 2, '765': 1, 'semana': 7, '154': 1, '243': 1, '808': 1, '89': 2, '6': 12, '841': 1, '818': 1, '436': 1, '995': 1, '697': 1, '103': 1, '422': 1, '033': 1, '037': 1, '751': 1, '824': 1, 'respecto': 8, 'ibiblio': 1, 'norte': 3, 'carolina': 1, 'alberga': 2, 'copia': 2, 'sirve': 4, 'archive': 13, 'une': 3, 'proporciona': 6, 'seguridad': 4, 'ilimitada': 1, 'recopila': 1, 'dispone': 4, 'circulan': 1, 'necesita': 6, 'to': 1, 'p2p': 1, 'utilizador': 3, 'permite': 56, 'peer': 1, 'intercambiar': 4, 'ayudar': 3, 'fractura': 1, 'colmar': 1, 'descargarlos': 2, 'cuestan': 2, 'segunda': 7, 'mano': 2, 'funcionan': 2, 'solar': 1, 'regiones': 1, 'energía': 1, 'pobres': 2, 'remotas': 1, 'idea': 11, 'contemplar': 3, 'quizás': 11, 'utilizando': 3, 'simultánea': 3, 'fiabilidad': 2, 'automática': 5, 'margen': 3, 'orden': 4, '99': 4, 'alcanzar': 6, 'porcentaje': 4, 'generados': 3, 'pasarían': 1, 'máquinas': 8, 'seres': 3, 'traductores': 1, 'manos': 3, 'humanos': 2, 'hacerles': 1, 'retoques': 1, 'parecido': 3, 'siguiendo': 4, 'prescindir': 2, 'ocr': 4, 'tecnología': 12, 'correctores': 1, 'ofrecer': 7, 'contenido': 35, 'óptima': 1, 'dedicándose': 1, 'enteramente': 3, 'adicto': 1, 'opinión': 9, 'neoindustrial': 1, 'revolución': 6, 'chiflado': 1, 'pragmático': 1, 'altruista': 1, 'tildado': 1, 'suscita': 1, 'ahora': 32, 'dejado': 2, 'cambiar': 2, 'mediante': 6, 'repetible': 2, 'infinito': 2, 'gratuito': 9, 'cultura': 9, 'gratis': 9, 'palabras': 14, 'pocas': 2, 'resume': 2, 'fomentar': 3, 'cuantas': 2, 'aceptando': 1, 'posibles': 3, 'virajes': 1, 'medios': 14, 'métodos': 6, 'integrar': 5, 'soportes': 5, 'john': 11, 'mark': 7, 'creada': 7, 'inventariar': 3, 'ockerbloom': 4, 'esas': 7, 'mellon': 4, 'doctorado': 3, 'carnegie': 3, 'realizando': 2, 'estaba': 4, 'trabajar': 8, 'investigación': 9, 'pensilvania': 2, 'departamento': 7, 'desarrollo': 22, 'allí': 2, 'transfiere': 2, 'conservando': 4, 'sobria': 2, 'inventario': 3, 'prosigue': 4, 'inventariados': 1, 'mujeres': 2, '7': 12, 'análogos': 1, 'proponen': 4, 'común': 6, 'lector': 18, 'estudiante': 2, 'yo': 14, 'relata': 10, 'septiembre': 18, 'informática': 15, 'cmu': 1, 'webmasters': 1, 'local': 2, 'empecé': 2, 'university': 4, 'localmente': 1, 'recursos': 5, 'comprendía': 1, 'enlaces': 12, 'figuraba': 1, 'puestos': 6, 'quien': 9, 'robert': 2, 'stockton': 1, 'realizó': 1, 'empezaron': 1, 'pedir': 4, 'di': 2, 'wiretap': 1, 'solamente': 2, 'lista': 6, 'proponían': 1, 'útil': 4, 'dondequiera': 1, 'permitiera': 1, 'encontraran': 1, 'empezó': 4, 'catálogo': 29, 'webmaster': 8, 'mantuve': 1, 'dejé': 1, 'entretanto': 1, 'apasioné': 1, 'potencial': 4, 'mucha': 2, 'difícil': 5, 'tantos': 2, 'mí': 2, 'tengo': 11, 'retraso': 2, 'pienso': 4, 'mantenerme': 1, 'manera': 15, 'seguir': 7, 'intereso': 1, 'u': 2, 'masa': 3, 'comprometido': 1, 'próximos': 6, 'integrante': 2, 'forme': 1, 'profesional': 13, 'tarea': 6, 'voluntaria': 1, 'similar': 4, 'dedique': 1, 'obtiene': 1, 'finales': 16, '35': 1, 'estalla': 1, 'controversia': 1, 'fortalecimiento': 5, 'acerca': 3, 'fechada': 2, '1976': 6, '27': 4, 'enmienda': 2, 'consecuencia': 2, 'estaban': 3, 'permanecen': 1, 'perjuicio': 1, 'fundador': 5, 'legislación': 9, 'golpe': 1, '¿pero': 2, 'eminencias': 1, 'talla': 1, 'dar': 9, 'hubo': 2, 'sacar': 1, 'enemigo': 1, 'fui': 1, 'extensiones': 2, 'principales': 3, 'hollywood': 2, 'actuaron': 1, 'siquiera': 3, 'mencionó': 1, 'debates': 1, 'congreso': 2, 'acción': 4, 'encabezados': 1, 'totalmente': 2, \"'la\": 2, 'irrealistas': 1, 'actuales': 2, 'terrateniente': 1, 'aristocracia': 1, \"información'\": 1, 'intereses': 5, '¿una': 1, 'únicamente': 7, 'propios': 9, 'quién': 1, 'clásico': 6, 'viento': 3, 'tomar': 8, 'wind': 2, 'mitchell': 2, 'gone': 2, '1939': 2, 'margaret': 2, 'llevó': 4, 'with': 2, '56': 4, 'liberando': 2, 'conformidad': 2, 'adaptaciones': 2, 'modificaciones': 2, 'tipo': 15, 'legales': 3, 'habrá': 6, '2035': 2, 'antes': 41, 'parece': 18, 'importante': 10, 'ocklerbloom': 1, 'contrato': 3, 'social': 2, 'entiendan': 1, 'deberían': 5, 'lectores\\x96': 1, 'limitado': 3, 'especifica': 1, 'actual': 5, 'creadas': 1, 'expire': 1, 'copiar': 5, 'lectores': 21, 'reutilizar': 2, 'deseen': 1, 'tantas': 1, 'repetidamente': 1, 'intentado': 2, 'últimamente': 1, 'limitando': 1, 'retirarles': 1, 'reglas': 4, 'duración': 6, 'utilización': 9, 'dichas': 1, 'relativas': 2, 'prolongando': 1, 'prevén': 1, 'plan': 3, 'propuestas': 4, 'perpetuo': 1, 'propiedad': 7, 'intelectual': 6, 'trabajos': 11, 'extendiendo': 1, 'véase': 2, 'datos': 24, 'sustituir': 1, 'pretenden': 1, 'bases': 12, 'establecería': 1, 'fuerte': 3, 'valenti': 1, 'mmpa': 1, 'director': 12, 'jack': 1, 'motion': 1, 'association': 3, 'picture': 1, 'america': 3, 'cinematográfica': 1, 'asociación': 7, 'pide': 1, 'dejen': 1, 'perfectamente': 1, 'aceptara': 2, 'pasaría': 1, 'sé': 3, 'ver': 8, 'empresas': 9, 'sorprende': 1, 'tratan': 2, 'bloquear': 1, 'reaccionen': 1, 'poniendo': 5, 'legítimos': 2, 'perjudica': 2, 'desgraciadamente': 1, 'actitud': 3, 'resolver': 1, '¿cómo': 5, 'dilema': 1, 'práctico': 1, 'juego': 8, 'realidad': 8, 'debate': 8, 'productores': 2, 'reconocer': 2, 'negociara': 1, 'equilibrio': 1, 'principios': 8, 'gobernada': 1, 'suele': 8, 'compromiso': 2, 'menudo': 5, 'razonable': 1, 'paso': 9, 'prefigura': 1, 'servicios': 16, 'compuserve': 2, 'empiezan': 11, 'zines': 3, 'numerosos': 9, 'boletines': 1, 'órganos': 2, 'propias': 5, 'cortas': 2, 'puramente': 2, 'verano': 4, 'labovitz': 2, 'fanzine': 1, 'abreviatura': 2, 'general': 15, 'magazine': 2, '\\x96': 22, 'pequeño': 1, 'grupo': 9, 'difunde': 1, 'contracción': 1, 'publicidad': 4, 'fines': 3, 'masas': 2, 'audiencia': 1, 'lucro': 2, 'historial': 5, 'conocer': 9, 'crash': 1, 'deseaba': 1, 'directorios': 1, 'well': 1, 'archives': 2, 'alt': 1, 'organizado': 4, 'doce': 3, 'directorio': 1, 'manualmente': 1, 'tratamiento': 4, 'clasificados': 3, 'redacta': 3, 'base': 18, 'significado': 2, 'centenas': 3, 'referirse': 2, 'amplio': 7, 'editada': 1, 'exista': 1, 'minoritario': 1, 'independiente': 1, 'allá': 5, 'dicta': 1, 'límites': 1, 'corazón': 3, 'publicando': 1, 'llamar': 5, 'solemos': 1, 'consultar': 16, 'times': 5, 'reino': 13, 'sunday': 1, 'unido': 13, 'deciden': 3, 'llamado': 4, 'ofrece': 16, 'focus': 1, 'personalizada': 1, 'generar': 6, 'spiegel': 1, 'der': 1, 'crean': 3, 'journal': 2, 'street': 1, 'wall': 1, 'suscripción': 3, 'pago': 15, 'suscriptores': 3, 'new': 8, 'york': 8, 'noticias': 3, 'post': 2, 'washington': 4, 'artículos': 33, 'archivados': 1, 'vídeos': 4, 'pathfinder': 1, 'sonido': 6, 'time': 2, 'rebautizado': 1, 'warner': 2, 'sports': 1, 'edita': 2, 'illustrated': 1, 'fortune': 1, 'people': 1, 'money': 1, 'southern': 1, 'sunset': 1, 'living': 1, 'revista': 9, 'supuesto': 12, 'tema': 14, 'dedicada': 6, 'cibercultura': 3, 'wired': 2, 'california': 13, 'inaugura': 3, 'diplomatique': 1, 'periódico': 4, 'monde': 3, 'imagina': 2, 'foro': 4, 'ocasión': 3, 'estrenó': 1, 'experimental': 2, 'ina': 1, 'institut': 2, 'elaborado': 3, \"l'audiovisuel\": 1, 'audiovisual': 3, 'instituto': 8, 'national': 11, 'facilita': 5, 'último': 14, 'semanas': 3, 'diálogo': 2, 'mantener': 4, 'siguen': 14, 'francia': 27, 'diario': 10, 'libération': 1, \"l'humanité\": 2, 'regional': 2, '¿qué': 5, 'repercusiones': 2, 'periodistas': 8, 'clase': 2, 'responsable': 8, 'según': 15, 'boudic': 1, 'france': 12, 'ouest': 2, 'todavía': 4, 'oeste': 3, 'leves': 1, 'ofrecerles': 1, 'redacción': 10, '370': 1, 'oficinas': 1, 'provincias': 1, '60': 5, 'utilizan': 6, 'recepción': 4, 'mensajería': 1, 'externo': 1, 'interno': 2, 'extranjero': 3, 'corresponsales': 1, 'práctica': 8, 'fuente': 3, 'extenderse': 1, 'reflexionamos': 1, 'retroacción': 1, 'discutimos': 1, 'cambios': 8, 'costumbres': 5, 'amenaza': 2, 'pesa': 2, 'suerte': 5, 'duda': 5, 'documento': 13, 'capta': 1, 'influye': 1, 'anuncios': 1, 'reflejos': 1, 'progresivo': 2, 'provoca': 3, 'desinterés': 1, 'impresas': 5, 'competencia': 7, 'peligroso': 1, 'deseosa': 1, 'difundir': 4, 'rejuvenecer': 1, 'oportunidad': 6, 'aceptar': 2, 'retos': 1, 'surgir': 1, 'temas': 3, 'vuelven': 1, 'tenue': 1, 'técnica': 9, 'formación': 11, 'seattle': 3, 'jeff': 5, 'bezos': 5, 'empleados': 16, 'venta': 18, 'sociedad': 41, '28': 7, '23': 4, 'filiales': 3, 'clientes': 15, 'inaugurada': 3, 'japón': 11, 'puertas': 6, 'filial': 9, 'abre': 13, 'quinta': 2, 'sexta': 3, 'joyo': 1, 'china': 4, 'habiéndose': 1, 'comercio': 3, 'junto': 7, 'ebay': 1, '41': 2, 'mediados': 2, 'escaparates': 1, 'paredes': 1, 'carecen': 1, 'rótulo': 1, 'calle': 1, 'virtuales': 4, 'caso': 11, 'batuta': 1, 'costa': 4, 'instalados': 1, 'realiza': 2, 'estudio': 9, 'mejor': 10, 'determinar': 2, 'cuál': 1, 'producto': 8, 'mercado': 19, 'productos': 11, 'mercantiles': 1, 'ropa': 1, 'herramientas': 3, 'jardinería': 2, 'listado': 1, 'resultan': 2, 'material': 14, 'videos': 10, 'serie': 11, 'criterios': 2, 'he': 26, 'evaluar': 2, 'kit': 1, 'mercados': 1, 'criterio': 3, 'global': 3, 'percatado': 1, '82': 1, 'millares': 3, 'razonamiento': 1, 'barato': 4, 'siguiente': 8, 'quería': 1, 'compra': 6, 'variedad': 3, 'decide': 14, 'inspirarse': 2, 'asociados': 10, 'bookshop': 1, 'posea': 2, 'británica': 2, 'pertenecen': 4, 'vender': 6, 'cobrando': 1, 'asociado': 4, 'ventas': 13, 'interesan': 1, 'recibe': 8, 'resúmenes': 3, 'centros': 4, 'facturas': 1, 'pedidos': 2, 'intermedio': 2, 'informe': 1, 'correspondiente': 1, 'juegos': 3, 'informáticos': 2, 'menos': 26, 'cadenas': 1, 'supermercados': 1, 'éstos': 8, 'pedido': 4, 'atractivo': 2, 'cambia': 4, 'consejos': 2, 'redactados': 3, 'fondo': 5, 'trabajado': 2, 'anteriormente': 2, '\\x96innovadora': 1, 'cerca': 4, 'analistas': 1, 'rápida': 4, 'evolución': 6, 'económico\\x96': 1, 'popularidad': 2, 'va': 9, 'acostumbrando': 2, '160': 1, 'imagen': 18, 'buena': 2, 'éxito': 7, 'símbolo': 2, 'citada': 1, 'deficitaria': 1, 'siga': 1, 'cibercomercio': 1, 'cotización': 1, 'empresa': 10, 'bolsa': 1, 'dispara': 1, 'nueva': 28, 'sale': 2, 'definitivamente': 3, 'consolidar': 1, 'supremacía': 2, 'contra': 7, 'precios': 5, 'guerra': 1, 'lanza': 28, 'rival': 1, 'alegría': 2, 'rebajas': 1, 'carrera': 1, 'ahorrar': 1, 'aprovechan': 1, 'diferencia': 7, 'exclusivamente': 4, 'apoya': 2, 'cadena': 3, 'tradicionales': 6, 'diseminadas': 1, '480': 1, 'n': 1, 'bertelsmann': 3, 'cooperación': 5, 'detenida': 1, 'porción': 1, 'gigante': 4, 'acaba': 3, 'comprando': 1, '164': 1, 'implantación': 1, 'tercera': 2, 'europea': 16, 'videojuegos': 1, 'entrega': 4, 'inferior': 2, '0': 9, 'lanzamiento': 13, 'secreto': 1, 'prepara': 1, 'recibir': 2, 'viajado': 1, 'grupo\\x96': 1, 'instala': 1, 'administración': 2, 'marketing': 5, 'técnicos': 5, 'servicio': 23, 'ubica': 2, 'guyancourt': 1, 'boigny': 2, 'sur': 4, 'bionne': 2, 'orléans': 1, 'cliente': 9, 'atención': 4, 'bajos': 6, 'previsión': 3, 'futura': 3, 'angloamericanos': 1, 'homólogos': 2, 'permitirse': 1, 'francesas': 3, 'descuentos': 2, 'sustanciales': 1, '\\x96llamada': 2, 'lang\\x96': 1, 'exceder': 1, 'estrecho': 1, 'maniobra': 1, 'deja': 6, 'les': 10, 'francófono': 4, 'optimistas': 1, 'observa': 3, 'fnac': 2, 'proviene': 4, 'agence': 3, 'contestar': 4, 'presse': 2, 'afp': 1, 'lang': 1, 'entrevista': 1, 'denis': 6, 'terrien': 1, 'presidente': 6, 'declara': 1, 'nuestra': 13, 'donde': 9, 'fijo': 1, 'enseña': 1, 'experiencia': 16, 'hora': 2, 'añade': 6, 'importa': 3, 'adicionales': 2, 'primero': 16, 'multitud': 1, 'proponemos': 1, 'escoger': 4, 'vendemos': 1, 'musical': 2, 'eficaz': 1, 'somos': 4, 'buscador': 9, 'tenemos': 6, 'canción': 1, 'únicos': 3, 'especificidad': 3, 'tienda': 1, 'asistencia': 2, 'algo': 6, 'abierto': 8, '24h': 1, '7días': 1, 'respetamos': 1, 'objetivos': 3, 'compromisos': 1, '90': 7, 'existencias': 5, 'económico': 5, 'admirable': 2, 'obstante': 2, 'inconvenientes': 1, 'gestión': 11, 'contratos': 10, 'salarios': 2, 'condiciones': 7, 'precarios': 3, 'desear': 1, 'dejan': 2, 'discreción': 1, 'problemas': 12, 'divulgarse': 1, 'sindicato': 3, 'sud': 2, 'ptt': 2, 'prewitt': 2, 'organizing': 2, 'fund': 2, 'loire': 1, 'atlantique': 1, 'lanzan': 1, 'sensibilización': 1, 'mejores': 2, 'obtengan': 1, 'reúnen': 1, 'altos': 4, 'sueldos': 1, 'centro': 9, 'degradantes': 1, 'denuncia': 1, 'comunicado': 3, 'flexibilidad': 2, 'demasiada': 1, 'recurso': 1, 'horario': 1, 'bajísimos': 1, 'alta': 5, 'sociales': 5, 'temporadas': 1, 'garantías': 1, 'ínfimas': 1, 'lleva': 5, 'moran': 1, 'patrick': 2, 'bretaña': 1, 'proyecta': 1, 'constituir': 3, 'alianza': 3, 'economía': 6, 'economy': 1, 'nombre': 9, 'workers': 1, 'inutilidad': 1, 'formar': 2, 'sindicatos': 3, 'internos': 1, 'reiterar': 1, 'seno': 1, '800': 8, 'trabajadores': 9, 'emplea': 2, 'reducción': 1, 'cierre': 1, 'anuncia': 11, '240': 1, 'transferidos': 1, 'europeos': 7, 'slough': 1, 'regensberg': 1, 'coloquio': 2, 'tokyo': 2, 'japonesa': 2, 'implantar': 1, 'clientela': 3, 'extranjeros': 1, 'repercutan': 1, 'inmobiliarios': 1, 'bienes': 2, 'barata': 1, 'entregas': 2, 'multiplicación': 3, 'densidad': 2, 'baratas': 2, 'salen': 1, 'ciudad': 3, 'llamadas': 1, 'hokkaido': 1, 'isla': 2, 'sapporo': 1, 'actividades': 14, 'cuarta': 1, 'fuera': 8, 'japonés': 6, 'reducir': 5, 'plazos': 1, '\\x96es': 1, 'necesario': 4, 'unidos\\x96': 1, 'm2': 1, 'ichikawa': 1, 'contando': 1, 'casa': 2, 'madre': 1, 'penetrar': 2, 'canadiense': 2, 'lanzar': 2, 'vhs': 1, 'conocedor': 1, 'contratar': 3, 'bilingüe': 2, 'aumento': 2, 'prevé': 2, 'muerto': 1, 'fiestas': 1, 'anterior': 3, 'marca': 5, 'giro': 1, 'sobresaltos': 1, 'enfrentarse': 1, 'provocados': 1, 'afectando': 1, 'causa': 3, 'trimestre': 3, 'déficit': 1, 'concretiza': 2, 'despido': 1, 'efectivos': 2, '270': 1, 'diversificación': 2, 'opta': 2, 'cocina': 1, 'salud': 2, 'utensilios': 1, 'aparatos': 9, 'negocios': 2, '29': 3, 'obtener': 3, 'beneficios': 3, 'search': 4, 'inside': 1, 'escanear': 2, '120': 2, 'tardará': 1, 'integral': 6, 'rápidamente': 5, 'crecer': 1, 'propio': 9, 'a9': 1, 'joyo\\x96': 1, '\\x96bautizada': 1, 'beneficio': 4, '\\x96un': 2, '45': 2, 'neto': 1, '588': 1, 'filiales\\x96': 1, 'high': 2, 'atraídos': 1, 'tech': 2, 'excede': 1, 'vende': 3, 'comprado': 1, 'mobipocket': 27, 'kindle': 11, 'venden': 8, '538': 2, 'dx': 2, 'grande': 4, 'audible': 2, 'colección': 6, 'diarios': 4, 'walkman': 1, '450': 1, 'pasará': 3, 'generales': 1, 'sobrevivir': 1, 'intentan': 1, 'especializadas': 6, 'ubicada': 1, 'limitados': 1, 'louis': 2, 'ulysse': 1, 'saint': 1, 'hacerse': 3, 'ilusiones': 1, 'huracán': 1, 'llevando': 2, 'delante': 1, 'antigua': 2, 'catherine': 2, 'domain': 1, 'viajes': 3, 'mapas': 2, 'antiguas': 3, 'miembro': 1, 'slam': 1, 'syndicat': 2, 'modernas': 1, 'exploradores': 2, 'ancienne': 1, 'et': 10, 'club': 2, 'moderne': 1, 'librairie': 1, 'viajeros': 1, 'explorateurs': 1, 'grands': 1, 'international': 6, 'voyageurs': 1, 'creando': 4, 'lanzó': 1, 'nada': 9, 'sabía': 1, 'explica': 22, 'quiero': 1, 'construcción': 3, 'encuentro': 1, 'parezca': 1, 'quita': 1, 'punta': 2, 'pelos': 1, 'molesta': 1, 'trae': 1, 'suya': 3, 'pesimista': 1, 'esperando': 2, 'mata': 1, 'devore': 1, '¡y': 1, 'aquéllos': 3, 'verdad': 4, 'esperanzas': 1, 'camino': 3, 'labra': 1, 'ventajas': 2, 'evitar': 3, 'costo': 1, 'funcionamiento': 2, 'comercializando': 1, 'digitalizadas': 5, 'autoeditar': 1, 'hablar': 5, 'optan': 2, 'promover': 4, 'plataformas': 3, 'encargan': 1, 'revelar': 1, 'talentos': 1, 'press': 11, 'mit': 13, 'nap': 8, 'cuestión': 8, 'academy': 2, 'riesgo': 3, 'semejante': 4, 'ganando': 1, 'vista': 4, 'berselli': 1, 'lógico': 1, 'escribe': 19, 'eso': 10, 'beth': 1, 'artículo': 3, 'editor': 21, 'vio': 1, 'aumentar': 2, 'permitiendo': 2, '700': 2, 'dijo': 1, 'compraría': 1, 'nadie': 1, '¿quién': 1, 'vaca': 1, 'leche': 1, 'distribuía': 1, 'editoriales': 6, 'aclamada': 1, 'dudando': 1, 'seguían': 1, 'lanzarse': 3, 'motivos': 1, 'aventura': 6, 'excesivos': 1, 'juzgan': 1, 'perjudicial': 1, 'pidieron': 1, 'fueron': 1, 'mismos': 3, 'aparecieran': 1, 'instrumento': 9, 'publicadas': 5, 'realizado': 3, 'descuento': 1, 'concede': 1, 'presencia': 1, 'telefónicas': 1, 'solución': 5, 'adoptada': 1, 'duplicaron': 1, 'cylibris': 18, 'editel': 4, 'gagnon': 2, 'françois': 2, 'poeta': 5, 'ensayista': 2, 'recurrir': 1, 'quebequense': 1, 'colectiva': 4, 'autoedición': 1, 'sabe': 1, '\\x96o': 6, 'saber\\x96': 1, 'ésto': 1, 'precedido': 1, 'atrás': 4, 'pionero': 2, 'ámbito': 6, 'excelencia': 2, 'hayamos': 1, 'simbólica': 1, 'limitarnos': 1, 'resultara': 1, 'accesible': 1, 'viable': 2, 'equipo': 5, 'actualmente': 3, 'mosqueteros': 1, 'benhamza': 1, 'mostafa': 1, 'intentamos': 1, 'jacques': 2, 'massacrier': 1, 'literario': 7, 'desarrollar': 5, 'webzine': 1, 'inédito': 1, 'regalo': 2, 'caseros': 1, 'seguirá': 2, 'sirviendo': 1, 'lectorado\\x96': 1, 'fachada': 1, 'animación': 3, 'dispongamos': 1, 'financieros': 2, 'democracia': 1, '¿será': 1, 'soñando': 1, 'económica': 1, 'cesa': 3, 'gainon': 3, 'fundada': 8, 'olivier': 7, 'cy': 1, 'basada': 5, 'pionera': 1, 'libris': 1, 'ciber': 1, 'materia': 3, 'literarios': 6, 'publicar': 8, 'confirmados': 1, 'practican': 1, 'géneros': 2, 'ciencia': 4, 'policíaca': 2, 'petición': 8, 'usuario': 8, 'imprimen': 1, 'intermediarios': 3, 'libremente': 10, 'firma': 9, 'trece': 1, 'suma': 1, 'visitas': 1, 'vendido': 4, 'balance': 2, 'financiero': 3, 'digitales\\x96': 2, 'equilibrado': 1, 'asociadas': 5, 'preciso': 3, 'especializarse': 1, 'sabido': 1, 'cubrir': 2, 'principiantes': 1, 'circuito': 1, 'inclasificables': 2, 'atípicos': 1, 'modas': 1, 'gustos': 1, 'dominantes': 1, 'desfase': 1, 'tranquiliza': 2, 'éxitos': 1, 'logrado': 1, 'hemos': 9, 'lettres': 1, 'société': 1, 'sgdl': 1, 'gens': 1, 'premio': 2, 'literatos': 1, 'tela': 2, \"toile'\": 2, 'balpe': 3, 'jean': 12, \"'willer\": 1, 'lítotes': 1, 'ou': 1, 'litote': 1, \"trahison'\": 1, 'prix': 1, 'olinon': 1, 'jérôme': 2, 'willer': 1, 'traición': 1, \"'desbrozador'\": 1, 'considerar': 3, 'atípico': 1, 'quiso': 1, 'impuestas': 1, 'obligaciones': 2, 'innovaciones': 1, 'directa': 2, \"tenso'\": 1, 'impresión': 12, 'unida': 1, \"'flujo\": 1, 'barreras': 2, 'permitía': 1, 'características': 3, 'esquivar': 1, 'costes': 3, 'exigencias': 1, 'gestionaba': 1, 'flujos': 1, 'físicos': 1, 'precisar': 1, 'debo': 2, 'encargado': 2, 'subcontratamos': 1, 'impresores': 2, 'equiparable': 1, 'offset': 1, 'caro': 1, 'obedece': 1, 'acabará': 1, 'generalizándose': 1, 'probablemente': 3, 'consiste': 5, '¿en': 2, 'qué': 9, 'hago': 2, 'diría': 1, 'doble': 4, 'manuscritos': 4, 'retocarlos': 1, 'ocupo': 2, 'elegir': 2, 'maquetas': 1, 'gestionar': 3, 'lado': 9, 'prestadores': 1, 'relaciones': 3, 'buscamos': 2, 'concentra': 1, 'estrategia': 1, 'optimizar': 1, 'cooperaciones': 1, 'visibilidad': 1, 'carece': 1, 'represento': 1, \"l'édition\": 1, 'sne': 1, 'encontrado': 1, 'pequeña': 6, 'queremos': 2, 'frágil': 4, 'perenne': 1, 'rentable': 2, 'esforzamos': 1, 'servir': 4, 'pequeños': 2, 'encrucijada': 1, 'ciernes': 2, 'incluir': 2, 'manuscrito': 1, 'probar': 3, 'certámenes': 1, 'infos': 1, 'cuyo': 9, 'prioritariamente': 2, 'actualidad': 6, 'presentar': 7, 'propósito': 2, 'estilo': 2, 'francófona': 7, 'redactado': 1, 'disonante': 1, 'publica': 3, 'corrosivo': 1, 'humorístico': 1, 'mensualmente': 1, '565': 1, 'convertirse': 12, 'edition': 2, 'actu': 1, 'sustituido': 5, 'pronuncia': 1, 'zéro': 1, 'heure': 1, 'impresos\\x96': 1, '85': 2, 'pdf': 26, 'complementaria': 2, 'moreira': 3, 'arbon': 2, 'bruno': 7, 'sa': 3, 'respectivamente': 2, 'flammarion': 1, 'multimédia': 1, 'cambio': 9, 'ocurrido': 1, 'radicalmente': 4, 'finalmente': 3, 'brainstorming': 1, 'duró': 1, 'factibilidad': 1, 'instalación': 3, 'técnico': 5, 'elaboración': 3, 'preparación': 1, 'optar': 2, 'inauguración': 2, 'riesgos': 1, 'popularizarse': 1, 'suelen': 8, 'terminales': 1, 'microordenador': 1, 'usar': 4, 'fáciles': 1, 'partida': 2, 'contempla': 1, 'actores': 2, 'ella': 4, 'ventana': 2, 'abrir': 2, 'unir': 2, 'fuerzas': 2, 'propuestos': 2, 'explotación': 3, 'inéditos': 2, 'negociados': 2, 'cuyos': 3, 'derechohabientes': 4, 'vislumbra': 1, 'expresa': 2, 'evalúa': 1, 'maneras': 1, 'tradición': 1, 'inventar': 2, 'dependerá': 2, 'cosas': 9, 'elecciones': 1, 'enfoques': 1, 'apoyen': 1, 'lecturas': 1, 'percibir': 2, 'inmediato': 3, 'comenzado': 1, 'diversas': 5, 'filosóficos': 1, 'cuentos': 4, 'relatos': 4, 'fantásticos': 1, 'recuerdos': 1, 'clásica': 1, 'realismo': 1, 'naturalismo': 1, 'memorias': 2, 'filosofía': 2, 'infantiles': 1, 'amor': 2, 'género': 3, 'descripción': 4, 'pormenorizada': 1, 'breve': 6, 'añadiendo': 1, 'vínculo': 3, 'materiales': 1, 'directo': 5, 'desean': 3, 'participar': 4, 'redactar': 1, 'recomendar': 1, 'suscribirse': 1, 'produce': 4, 'novedades': 1, 'mantenerse': 1, 'informados': 1, 'videoclips': 1, 'originales': 4, 'reediciones': 1, 'reparten': 2, 'hipertextuales': 2, 'interactivas': 2, 'escrituras': 3, 'ntic': 1, 'coediciones': 1, 'instituciones': 3, 'colaboración': 12, 'desconfían': 1, 'tarjeta': 3, 'pagar': 1, 'cheque': 1, 'fax': 3, 'guide': 3, 'tv': 2, 'especialista': 4, 'procede': 1, 'recompra': 5, 'sociedades': 5, 'californianas': 1, 'compró': 2, 'nuvomedia': 4, 'creadora': 1, 'softbook': 7, 'rocket': 7, 'yuen': 1, 'henry': 1, 'reader': 60, 'habilidad': 1, 'innovación': 3, 'creatividad': 3, 'demostrado': 2, 'actor': 3, 'comunidad': 7, 'ojos': 2, 'buenos': 1, 'precisamente': 1, 'globalización': 2, 'apenas': 2, 'compatible': 2, 'abandona': 5, 'hermosa': 1, 'recuerdo': 1, 'sobrevive': 1, 'fundado': 7, 'cantante': 1, 'escala': 6, 'terra': 1, 'quedaba': 1, 'incógnita': 1, 'explorar': 4, 'desbrozar': 1, 'choucas': 6, 'especializada': 5, 'arte': 6, 'nicolas': 8, 'fotos': 4, 'suzanne': 2, 'sureste': 2, 'pewny': 5, 'saboya': 2, 'creó': 4, 'enterarme': 1, 'prometí': 1, 'posibilidades': 8, 'ofrecía': 1, 'dispondríamos': 1, 'teníamos': 1, 'suficiente': 2, 'delegar': 2, 'presupuesto': 2, 'numerosas': 2, 'acabé': 1, 'desvelo': 1, 'noches': 1, 'referenciar': 1, 'mandé': 1, 'medida': 7, 'desarrolló': 1, 'cierto': 4, 'profundizando': 1, 'modestos': 1, 'bastante': 6, 'conocido': 4, 'introdujo': 1, 'vida': 9, 'considerable': 3, 'instalada': 1, 'capital': 2, 'perímetro': 1, 'imaginado': 1, 'conocidos': 2, \"'clásicos'\": 1, 'abrieron': 1, 'afluían': 1, 'editado': 1, 'quebequenses': 1, 'liz': 1, 'héroux': 1, \"'affaire\": 1, \"coeurs'\": 1, 'morency': 1, 'asunto': 1, 'fernand': 1, 'corazones': 1, 'ilustraciones': 2, 'impresor': 2, 'correcciones': 1, 'recibido': 2, 'solicitudes': 2, 'estamos': 4, 'deseo': 3, 'latinoamérica': 2, 'méxico': 2, 'convertirnos': 1, \"'connotación\": 1, \"'comercial'\": 2, 'segurizado': 1, \"cultural'\": 1, 'dan': 4, 'ganas': 1, 'usted': 2, 'contesta': 3, 'decirme': 1, 'evolucionará': 1, '¿puede': 1, 'evolucionarán': 1, 'siguiera': 1, 'visitantes': 2, 'interactividad': 3, 'apuntan': 1, 'lograremos': 1, '¿lo': 1, 'dirección': 1, \"'en\": 1, \"standby'\": 1, 'contraria': 1, 'podremos': 1, 'resistir': 1, 'rumbo': 2, '¿acaso': 2, 'toman': 2, \"medio'\": 1, \"'término\": 1, 'francamente': 1, 'desgracia': 1, 'desaparición': 1, 'deplorable': 1, 'independientes': 2, 'librero': 1, 'valiéndose': 1, 'conocimiento': 5, 'consultor': 4, 'habilidades': 1, 'organismos': 6, 'sonidos': 2, \"'obra\": 2, 'reuniría': 1, \"total'\": 1, 'escribir': 6, 'concebir': 1, 'siempre': 14, 'renovable': 1, 'contendría': 1, 'múltiple': 1, 'compañero': 2, 'leído': 2, 'llevan': 2, 'científicos': 7, 'reestructurar': 1, 'orientarse': 1, 'tiradas': 1, 'difunden': 1, 'manuales': 5, 'universidades': 10, 'sacados': 3, 'componen': 1, 'capítulos': 5, 'complementados': 1, 'profesores': 2, 'limitada': 2, 'seminario': 1, 'tirada': 1, 'imprimir': 1, 'transmitidos': 1, 'acuerdo': 6, 'impresiones': 3, 'sorbona': 2, 'profesora': 7, 'joseph': 2, 'evidente': 1, 'publicarán': 1, 'facilitando': 1, 'investigadores': 11, 'enormes': 2, 'inmediata': 5, 'favoreciendo': 1, 'tutelares': 1, 'centre': 1, 'científica': 10, 'cnrs': 1, 'scientifique': 1, 'obligar': 1, 'recherche': 1, 'instan': 1, 'laboratorios': 1, 'difundan': 1, 'estén': 3, 'informes': 3, 'trabajosos': 1, '\\x96aquellos': 1, 'labores\\x96': 1, 'nuestras': 6, 'constituyen': 2, 'publicarse': 1, 'tardar': 1, 'tampoco': 7, 'desparecerá': 1, 'utilice': 2, 'doy': 2, 'manejable': 1, 'estrenadas': 1, 'recién': 1, 'difundirse': 3, 'encuadernada': 1, 'aportar': 3, 'perspectiva': 3, 'interesante': 2, 'revisiones': 1, 'gráfico': 2, 'autret': 1, 'goza': 1, 'diseñador': 3, 'marc': 6, 'multitarea': 1, 'irremplazable': 2, 'constituye': 2, 'prolongación': 2, \"'artesano'\": 1, 'soy': 7, 'ajenos': 1, 'esencialmente': 7, 'rato': 2, 'infografía': 2, 'asesoría': 1, 'concentro': 1, 'presiento': 1, 'diseño': 7, 'preprensa': 1, 'tipografía': 2, 'irá': 2, 'creciendo': 3, 'tareas': 5, '3d': 3, 'automatización': 2, 'integración': 4, 'multisoporte': 1, 'naturalmente': 1, 'abrirse': 1, 'procedentes': 4, 'instrumentos': 3, 'producir': 3, 'puedo': 4, 'dicho': 3, 'aspectos': 6, 'intensificación': 1, 'convencido': 2, 'estoy': 1, \"'e\": 1, \"book'\": 1, 'refiero': 2, 'ficcionales': 1, 'inciertas': 1, 'físico': 3, 'conjeturas': 1, 'informativas': 1, 'guías': 5, 'considerando': 1, 'declinación': 1, 'secundaria': 2, 'parecen': 2, 'estabilizados': 1, 'lugares': 3, 'emergiendo': 1, 'operan': 2, 'ejes': 1, 'emergen': 1, 'desciframiento': 1, 'consulta': 5, 'interfaz': 4, 'atractiva': 2, 'distintos': 3, 'funcional': 1, 'reestructuración': 2, 'quizz': 1, 'anotaciones': 1, 'interactivo': 1, 'animada': 1, 'video': 3, 'asociada': 2, 'fuertemente': 1, 'mañana': 3, 'funcionalidades': 7, 'semejantes': 1, 'imagino': 3, 'empaquetado': 1, '¿cuál': 2, 'wiki': 6, 'cristalizado': 1, 'unidad': 1, '¡la': 1, 'schweitzer': 3, 'folio': 2, 'nómada': 3, \"'libro'\": 1, 'mera': 1, 'seguirán': 1, 'insuperables': 1, 'contenidos': 4, 'técnicamente': 1, 'crítico': 1, 'traspasen': 1, 'umbral': 1, 'evolucionando': 2, 'creo': 5, 'radical': 3, 'trastorno': 1, 'generación': 8, 'sola': 6, 'veremos': 2, 'dirá': 2, 'desarrollan': 1, 'tipos': 3, 'terreno': 3, 'reto': 2, 'marginal': 1, 'coste': 8, 'nulo': 1, 'desmaterializada': 1, 'saberes': 2, 'acudir': 2, 'equilibrar': 2, 'quitarles': 1, 'equilibrios': 1, 'económicos': 5, 'imperan': 1, 'lógicas': 1, 'adopción': 1, 'sistemas': 10, '\\x96véase': 1, 'abiertos': 1, 'validación': 1, 'emergentes': 1, 'modelos': 16, 'línea\\x96': 1, 'transformar': 1, 'fórceps': 1, '\\x96e': 1, 'peligroso\\x96': 1, 'vano': 1, 'querer': 1, 'forcejeo': 1, 'aniquilándola': 1, 'acabaría': 2, 'ecología': 1, '¡pues': 1, 'específicos': 2, 'nichos': 1, 'podrían': 3, 'transformados': 1, 'prácticas': 3, 'único\\x96': 1, 'invaden': 1, 'mesas': 1, 'modificarse': 1, 'brutal': 2, 'masivo': 1, 'cambiarán': 2, 'forman': 2, 'lentamente': 1, 'adoptan': 2, 'aceptan': 1, 'definir': 4, 'telefonía': 3, 'radiotelevisión': 2, 'industria': 5, 'utiliza': 11, 'fenómeno': 2, 'empleos': 11, 'genera': 1, 'vinculados': 6, 'sujetos': 1, 'drásticas': 1, 'reestructuraciones': 2, 'reveses': 1, 'proliferación': 2, 'teletrabajadores': 2, 'inexistencia': 1, 'detrimento': 1, 'maltrato': 1, 'simposio': 4, 'oit': 2, 'organización': 9, 'autovías': 1, 'concreto': 1, 'guardar': 2, 'transmitir': 1, 'combinar': 3, 'procedimientos': 1, 'permiten': 10, 'rápidos': 2, 'sencillos': 1, 'similares': 3, 'necesitaban': 1, 'variados': 1, 'cinta': 1, 'magnética': 1, 'celuloide': 1, 'cine': 2, 'conjuntamente': 1, 'treinta': 5, 'vacilar': 1, 'hicieron': 1, 'fotocomposición': 1, '1970': 1, 'siguió': 1, 'bajando': 1, 'fotocopiadoras': 1, 'técnicas': 4, 'color': 6, 'asistida': 2, 'pao': 1, 'talleres': 1, 'digitaliza': 4, 'sistemáticamente': 1, 'transferir': 2, 'procedimiento': 1, 'acelera': 1, 'tenía': 3, 'maquetación': 1, 'dactilografiar': 3, 'artístico': 2, 'redactor': 1, 'simultáneamente': 1, 'asistimos': 2, 'progresivamente': 3, 'concepción': 3, 'radiodifusión': 1, 'grabaciones': 1, 'sonoras': 4, 'gráfica': 1, 'audiovisuales\\x96': 1, 'padecen': 4, 'inquietantes': 2, 'preocupantes': 2, 'objeto': 7, 'ginebra': 3, 'suiza': 7, 'intervenciones': 1, 'particular': 2, 'bernie': 1, 'lunzer': 1, 'newspaper': 1, 'membro': 3, 'guild': 3, 'recalca': 1, 'batallas': 2, 'jurídicas': 1, 'desenfrenado': 1, 'especialmente': 4, 'conciernen': 1, 'directores': 2, 'publicaciones': 2, 'convencen': 1, 'firmen': 1, 'chocantes': 1, 'comprometen': 1, 'ceder': 2, 'contraparte': 1, 'ridícula': 1, 'heinz': 1, 'rübenach': 1, 'uwe': 1, 'bundesverband': 1, 'deutscher': 1, 'bdz': 1, 'zeitungsverleger': 1, 'administrar': 4, 'controlar': 6, 'permita': 6, 'contrapartida': 1, 'invirtiendo': 1, 'preocupante': 2, 'salas': 1, 'ejercida': 1, 'avanza': 1, 'jornada': 2, 'final': 8, 'tensiones': 1, 'estrés': 1, 'trabajando': 1, 'repetidas': 1, 'seguidas': 2, 'acarrean': 1, 'intensivo': 1, 'desmoronan': 1, 'carlos': 1, 'federación': 4, 'alberto': 1, 'almeida': 1, 'fenaj': 1, 'jornalistas': 1, 'federação': 1, 'brasil': 1, 'racionalización': 1, 'favorecer': 4, 'ocio': 3, 'profesionales': 5, 'enriquecimiento': 1, 'ven': 3, 'obligados': 2, 'legal': 1, 'extra': 1, 'pagan': 1, 'trabajadas': 1, 'descanso': 1, 'proceso': 4, 'aceleran': 1, 'provocan': 1, 'incrementan': 1, 'humana': 1, 'intervención': 2, 'disminución': 3, 'debía': 1, 'volver': 2, 'desempleo': 1, 'ambas': 1, 'automático': 1, 'composición': 2, 'reichel': 1, 'etienne': 1, 'communication': 2, 'visual': 6, 'viscom': 1, 'suplente': 1, 'demuestra': 2, 'fases': 1, 'transferencia': 1, 'supresión': 1, 'reducen': 1, 'tipógrafos': 1, 'cualificados': 2, 'deducir': 1, 'solían': 1, 'establecerse': 1, 'perdido': 2, 'profesor': 6, 'utrecht': 1, 'ciencias': 7, 'leisink': 1, 'precisa': 2, 'pruebas': 2, 'realizarse': 1, 'empresarios': 1, 'despedidos': 3, 'deslocalización': 1, 'fusión': 2, 'empleo': 2, 'precario': 1, 'autónomo': 1, 'gozan': 1, 'autonomía': 1, 'reducida': 2, 'dependen': 1, 'casos': 2, 'empleadores': 1, 'aparte': 2, 'aislados': 2, 'organizaciones': 2, 'masivas': 1, 'realce': 1, 'supresiones': 2, 'muller': 1, 'secretario': 1, 'michel': 4, 'filpac': 1, 'industrias': 2, 'fédération': 1, 'livre': 2, 'du': 2, 'industries': 1, 'papier': 1, 'gráficas': 1, '1987': 1, 'pasan': 2, 'costosos': 1, 'elaboran': 2, 'planes': 1, 'recolocación': 1, 'preferible': 2, 'artificiales': 1, 'fiables': 1, 'creaciones': 3, 'costear': 1, 'demasiado': 2, 'cualificación': 1, 'baja': 2, 'requieren': 2, 'sustituidos': 1, 'cualificado': 1, 'reciben': 1, 'teniendo': 1, 'cursarla': 1, 'autofinanciarla': 1, 'puedan': 6, 'vuelvan': 1, 'telecomunicaciones': 2, 'durling': 1, 'walter': 1, 't': 2, 'at': 1, 'invención': 3, 'situación': 4, 'fundamentalmente': 2, 'mató': 1, 'televisión': 4, 'acabó': 1, 'proponérselos': 1, 'abandonar': 2, 'vuelto': 2, 'obsoletos': 1, 'teóricos': 1, 'argumentos': 1, 'proporción': 2, '¿cuántos': 1, 'cuántos': 1, 'despedido': 1, 'preconizan': 2, 'inversión': 1, 'reconversión': 1, 'suprimidos': 1, 'defensa': 2, 'justa': 1, 'negociación': 1, 'protección': 5, 'considerados': 1, 'sean': 2, 'repetir': 2, 'básteme': 1, 'dictamen': 1, 'cabal': 1, 'hexágono': 1, 'esfera': 1, 'circunferencia': 1, 'luis': 1, 'babel': 1, 'jorge': 1, '1941': 1, 'inaccesible': 1, 'borges': 1, 'científicas': 3, 'recientes': 3, 'fotografías': 2, 'ciberespacios': 1, 'joyas': 1, 'bibliotecarios': 7, 'hacen': 1, 'cibertecarios': 1, 'helsinki': 1, 'finlandia': 2, 'municipal': 2, 'perseguido': 1, 'transitar': 1, 'perroud': 1, 'athena': 1, 'complementariedad': 1, 'incitación': 2, 'participación': 3, 'atrayente': 1, 'complemento': 1, '\\x96aunque': 2, 'leerlo\\x96': 1, 'utilidad': 2, 'pensando': 1, 'misteriosamente': 1, 'sagrado': 1, 'apretarlo': 1, 'símbolos': 3, 'convergen': 1, 'profundos': 1, 'estrecharlo': 1, 'pecho': 1, 'pequeñez': 1, 'admiración': 1, 'mirarlo': 1, 'fragilidad': 1, 'impresiona': 1, 'esconde': 2, 'hombre': 2, 'teme': 1, 'fascinados': 1, 'pensamiento': 2, 'fuego': 1, 'agua': 1, 'informatique': 1, 'informations': 1, 'fragmento': 3, 'emana': 1, 'consultado': 1, 'digitalizarlo': 1, 'paciencia': 2, 'solía': 2, 'adoptar': 3, 'constituirse': 1, 'claridad': 1, 'carecían': 1, 'antiguos': 2, 'optical': 1, 'character': 1, 'convertirlo': 1, 'recognition': 1, 'supone': 3, 'relectura': 1, 'conserva': 2, 'continuidad': 1, 'cantidad': 4, 'procesar': 1, 'costoso': 1, 'análisis': 1, 'indexación': 4, 'comparativos': 1, 'fotografiar': 1, 'facsímile': 1, 'hojear': 2, 'empleado': 1, 'digitalizaciones': 1, 'bibliothèque': 3, 'nationale': 5, 'bnf': 8, 'sumarios': 1, 'corpus': 5, 'iconográficos': 1, 'facilitar': 4, '¿por': 3, 'pregunta': 2, 'aspecto': 3, 'conservar': 2, 'textuales': 4, 'elementos': 3, 'efectuar': 2, 'precisas': 3, 'búsquedas': 8, 'amplias': 1, 'substancialmente': 1, 'tratados': 5, 'superior': 3, 'simple': 6, 'teclear': 1, 'trate': 4, 'justificarse': 1, 'tratándose': 1, '\\x96que': 3, 'mot': 1, 'facsímiles': 1, 'reorganizar': 1, 'modos': 3, 'reducidos': 1, 'deprisa': 1, 'domino': 1, 'focalizarse': 2, 'paradójico': 1, 'dejando': 1, 'conviene': 4, 'reciente': 2, 'parca': 1, 'ilustrado': 1, 'abundantemente': 1, 'estatutos': 1, 'elección': 2, \"edición'\": 1, \"'edición\": 1, 'quiere': 3, 'depende': 2, 'inauguró': 1, '19': 9, 'moderna': 2, 'filosóficas': 1, 'síntesis': 6, 'históricas': 1, 'científico': 3, 'servidor': 3, 'digitalizados': 7, 'frantext': 2, 'inalf': 1, 'langue': 1, 'acompañan': 1, 'disciplina': 1, 'corrientes': 1, 'iconoteca': 1, 'muestra': 1, 'eugène': 1, 'atget': 1, 'fotógrafo': 1, 'escritor': 7, 'école': 4, 'civil': 2, 'escuela': 5, 'ingeniería': 2, 'ponts': 2, 'chaussées': 2, 'vinculadas': 2, 'industrial': 4, 'museo': 3, 'musée': 1, 'ilustrados': 1, 'antropológico': 1, \"l'homme\": 1, 'considera': 2, 'distancia': 4, 'experimentar': 1, 'saciar': 1, 'curiosidad': 1, 'volúmenes': 2, 'amplificación': 1, 'previstos': 1, 'concierne': 3, 'tercio': 1, 'digitalizadas\\x96': 1, 'mitad': 3, 'pertenece': 4, 'fijas': 1, 'estampas': 2, 'fotografía': 1, 'departamentos': 1, 'especializados': 4, 'espectáculo': 1, 'medallas': 1, 'monedas': 1, 'artes': 1, '\\x96varios': 1, 'establecimientos': 2, 'públicos': 1, 'documentation': 3, 'museos': 2, 'observatorio': 1, 'pasteur': 6, 'privados': 1, '\\x96agencias': 1, 'sygma': 1, 'rapho': 1, 'destaca': 1, 'magnum': 1, 'revisa': 1, 'expectativas': 1, 'orientaciones': 2, 'modifica': 2, 'strazzulla': 1, 'figaro': 2, 'universalista': 1, 'enciclopédico': 2, 'angremy': 1, 'comunica': 2, 'comité': 1, 'decidido': 3, 'decisión': 2, 'vasto': 2, 'omisiones': 1, 'orientamos': 1, 'reprochar': 1, 'temáticos': 2, 'restringidos': 1, 'satisfacer': 1, 'prevista': 3, 'tendrá': 2, 'reunirá': 2, '1920': 2, 'organizarán': 1, 'orígenes': 1, 'utopías': 1, 'academias': 1, 'ciudades': 1, '70': 5, 'incluyendo': 1, 'libres': 4, 'opinan': 1, 'pesados': 1, 'digitalizado': 4, 'pesado': 1, 'amplia': 2, '117': 1, 'solucionados': 1, 'quedan': 1, '76': 1, 'pondrá': 1, 'pronto': 6, '1944': 1, '1826': 2, '22': 1, 'croix': 1, 'temps': 1, '1861': 1, '1942': 1, 'desaparecido': 1, 'fascículos': 1, 'sonoros': 1, 'imagen\\x96': 1, 'buscadores': 4, 'estarán': 3, 'accesibles': 2, 'aquí': 5, 'gallica2': 2, 'interfaz\\x96': 1, '\\x96con': 2, 'guiar': 2, 'filtrar': 3, 'organizar': 1, 'raggett': 2, 'incumben': 1, 'ocde': 7, 'didier': 3, 'subdirector': 1, 'cdi': 5, 'documentación': 2, 'intranet': 3, 'fuentes': 5, 'situada': 1, 'occidental': 1, 'república': 1, 'zelanda': 1, 'hungría': 1, 'checa': 1, 'corea': 1, 'polonia': 1, 'reservado': 2, 'funcionarios': 1, 'monografías': 2, 'seleccionado': 2, \"'oficina\": 2, \"virtual'\": 2, 'contiene': 5, 'referencias': 2, 'corresponden': 4, 'realización': 1, 'curso': 3, 'reserva': 2, 'profesión': 1, 'buscan': 2, 'sentimos': 1, 'sobrecarga': 1, 'tratamos': 1, 'alguna': 2, 'desempeñarán': 1, 'mejorar': 5, 'prever': 1, 'incitará': 1, 'enseñanza': 10, 'permitan': 3, 'impartido': 1, 'institución': 1, 'consistirá': 1, 'personalmente': 2, 'tendré': 1, 'contacten': 1, 'conmigo': 1, 'enviaré': 1, 'realizaré': 1, 'atraído': 2, 'documental': 4, 'vocación': 4, 'indispensable': 1, 'aplicaciones': 4, 'organismo': 4, 'bibliográficos': 1, 'dimensión': 3, \"'aparador'\": 1, 'toda': 6, 'ocupa': 2, 'institutos': 2, 'pasarela': 1, 'intento': 2, 'convertir': 1, 'iniciar': 1, 'adaptada': 3, 'necesidades': 1, 'auditorio': 1, 'administro': 2, 'vigilancia': 2, 'instrucción': 1, 'excelente': 1, 'formaciones': 1, 'afectaron': 1, 'servimos': 1, 'mediadores': 1, 'conservadores': 1, 'despejar': 1, 'típica': 1, 'caminos': 1, 'instalar': 1, 'enseñar': 1, 'eficaces': 1, 'comunes': 4, 'viejo': 1, 'ponerlo': 1, 'bourahima': 2, 'bakayoko': 2, 'aplicada': 2, 'estadística': 2, 'statistique': 1, 'ensea': 3, 'supérieure': 1, \"d'économie\": 1, 'marfil': 1, 'abiyán': 1, 'appliquée': 1, 'establecimiento': 1, 'africanos': 1, 'impartir': 1, 'estadísticos': 1, 'expresión': 1, 'agencia': 1, 'universitaria': 3, 'universitaire': 3, 'francofonía': 1, 'auf': 1, 'francophonie': 1, 'refer': 1, 'participantes': 2, 'encarga': 1, 'miembros': 5, 'recientemente': 2, 'sesiones': 1, 'implicación': 1, 'discutir': 1, 'prestaciones': 1, 'espero': 3, 'elaborar': 5, 'cargarlos': 2, 'documentales': 3, 'temáticas': 2, 'bibliográfica': 1, 'boletín': 1, 'bibliográficas': 3, 'analítico': 1, 'financiamientos': 1, 'logro': 1, 'tratará': 2, 'reforzar': 2, 'proyección': 1, 'dotar': 1, 'cuantos': 1, 'gama': 7, 'esperanza': 2, 'oferta': 2, 'considerablemente': 1, 'emmanuel': 1, 'documentalista': 1, 'barthe': 1, 'jurídico': 1, 'associés': 1, 'bufete': 3, 'abogados': 2, 'coutrelis': 1, 'áreas': 1, 'alimentación': 1, 'comunitario': 1, 'aduanero': 1, 'cargo': 1, 'concibo': 1, 'internas': 1, 'difíciles': 1, 'llevo': 1, 'jurista': 1, 'consulto': 2, 'adquisiciones': 1, 'encargo': 2, 'jurídicos': 2, 'vigilar': 1, 'catalogación': 3, 'jurídica': 1, 'cursillos': 1, 'organizo': 1, 'rachef': 2, 'bibliotecaria': 1, 'anissa': 2, 'londres': 5, 'presentes': 6, 'clases': 7, 'oficiales': 2, 'manifestaciones': 1, 'matriculan': 1, 'mediateca': 3, \"'reclutar'\": 1, 'atractivos': 1, 'alófono': 1, 'audiolibros': 4, 'fidelizar': 1, 'instalado': 1, 'enviadas': 1, 'altamente': 1, 'elaboramos': 1, 'destinados': 2, 'secundario': 1, 'exámenes': 1, 'preparando': 1, 'codificación': 6, 'básicas': 2, 'utilizo': 2, 'interbibliotecario': 1, 'préstamo': 3, 'colectivos': 1, 'universitario': 1, 'système': 1, 'oclc': 2, 'sudoc': 1, 'computer': 2, 'exteriores': 1, 'afuera': 1, 'inglesas': 1, 'federation': 2, '1977': 3, 'ifla': 1, 'asociaciones': 9, 'associations': 1, 'unimarc': 3, 'reseñas': 4, 'intercambio': 7, 'partes': 1, 'reseña': 2, 'alienta': 1, 'ukmarc': 1, 'usmarc': 1, 'intermarc': 1, 'can': 1, 'convierten': 1, 'convertidas': 1, 'destino': 1, 'worldcat': 3, '73': 1, 'gestionado': 1, '112': 1, 'provienen': 1, 'localizar': 1, 'portada': 1, 'biografía': 1, 'migrando': 1, 'yahoo': 6, 'beta': 4, 'ofrecen': 2, 'abarca': 2, 'nació': 2, 'anglófona': 2, 'victoria': 1, 'marinetti': 1, 'maría': 1, 'traductora': 1, 'obligatorio': 1, 'deseamos': 2, 'podríamos': 2, 'tenerla': 1, 'hablamos': 1, 'contradictorio': 1, 'ideogramas': 1, 'adaptados': 1, 'alfabetos': 1, 'american': 4, 'code': 1, 'information': 2, 'código': 2, 'standard': 1, 'interchange': 1, 'for': 4, 'institute': 4, 'ansi': 1, 'standards': 1, '1968': 2, 'actualizado': 1, 'normas': 1, 'lenguaje': 7, '128': 2, 'traducidos': 2, '1986': 2, 'binario': 1, '1000001': 1, 'bits': 2, 'traduce': 1, '33': 4, 'incluyen': 2, '1000010': 1, 'imprimibles': 1, '95': 5, 'z': 1, 'acento': 1, '26': 1, 'signos': 1, 'corresponde': 2, 'puntuación': 1, 'teclas': 3, 'latín': 2, 'acentuadas': 2, 'alfabéticos': 1, 'europeas': 2, 'planteaba': 1, 'coreano': 1, 'importancia': 2, 'limitaba': 1, 'norteamérica': 2, 'vital': 1, 'latin': 2, '8859': 2, 'norma': 2, 'variantes': 3, 'acentuados': 1, 'variante': 1, 'tarda': 1, 'unión': 7, 'rompecabezas': 1, 'plantean': 1, 'corrupción': 1, 'intercambios': 5, 'incompatibilidad': 1, 'visualizarse': 1, 'internacionaliza': 1, 'conformarse': 1, 'asigna': 1, 'legible': 7, 'carácter': 2, '65': 2, 'satisfacción': 1, 'lingüistas': 1, 'existen': 3, 'sustituyendo': 1, 'utf': 1, 'format': 3, 'componentes': 2, 'transformation': 1, 'consortium': 3, 'wide': 4, 'especificaciones': 1, 'w3c': 1, 'world': 6, 'generaliza': 1, 'nt': 1, 'windows': 7, 'xp': 1, 'solucionar': 1, 'subraya': 1, 'coautor': 2, \"dall'armellina\": 3, 'luc': 4, 'ovosite': 3, 'operativos': 2, 'capaces': 1, 'dotando': 1, 'kits': 1, 'representar': 2, 'sigan': 1, 'ojalá': 1, 'dificultades': 1, 'inmensas': 1, '±': 2, 'katakana': 1, 'hiragana': 1, 'insuficiencias': 1, 'japoneses': 1, 'peor': 4, 'potente': 1, 'obstáculos': 2, 'freno': 1, 'códigos': 2, 'modalidades': 1, 'representación': 2, 'etnia': 1, 'creador': 3, 'preconiza': 2, 'particularismos': 1, 'etapa': 6, 'respete': 2, 'específicas': 1, 'futuros': 2, 'perfecta': 1, 'transmisión': 3, 'protocolos': 5, 'futuras': 3, 'evoluciones': 1, 'resulte': 3, 'limite': 2, 'sentirse': 1, 'gusto': 2, 'individuos': 3, 'dominen': 1, 'acentos': 1, 'plantee': 1, 'correos': 1, 'trámite': 1, 'consigue': 1, 'derivará': 1, 'hará': 2, 'conectadas': 1, 'multilingües': 3, 'monopolio': 1, 'anglófonas': 1, 'factores': 3, 'particularmente': 3, 'américa': 1, 'resto': 2, 'preponderante': 1, 'indica': 2, 'grangier': 1, 'lingüísticos': 2, 'centrales': 2, 'nefasta': 1, 'realidades': 1, 'pc': 22, 'locutores': 1, 'respuesta': 7, 'vecino': 1, \"inglés'\": 1, \"'luchar\": 1, 'adecuada': 1, 'lamentarse': 1, 'multiplicar': 1, 'añadir': 4, 'preconizamos': 1, 'inevitable': 1, 'multiculturales': 1, 'mikami': 2, 'yoshi': 3, 'fujisawa': 1, 'and': 2, 'languages': 2, 'by': 2, 'computers': 2, 'logos': 1, 'comúnmente': 2, 'home': 1, 'kotoba': 1, 'configuración': 1, 'kenji': 1, 'nobutoshi': 1, 'sekine': 1, 'kohara': 1, 'multilingual': 2, 'guía': 1, \"o'reilly\": 3, 'traducido': 2, 'materna': 4, 'ciclo': 1, 'culturas': 3, 'interesado': 1, 'americano': 2, 'aprender': 1, 'ruso': 1, \"'the\": 2, '\\x96en': 3, \"internet'\": 1, 'japonés\\x96': 1, 'avalado': 1, 'fonética': 1, 'adquirida': 1, 'escribieran': 1, 'instigué': 1, 'publicó': 2, \"guide'\": 1, 'egipto': 1, 'sensible': 1, 'reflexiones': 1, 'leyes': 4, 'adoptado': 1, 'parecer': 2, 'permitirá': 5, 'gravitación': 1, 'creativo': 1, '¡99': 1, 'creados': 2, 'randy': 1, 'hobler': 1, 'nacionales': 5, 'fronteras': 1, 'organizan': 1, 'suelo': 1, 'comunidades': 1, \"'naciones\": 1, \"idiomas'\": 1, 'cualquiera': 1, 'entorno': 3, 'comparten': 1, 'geográfico': 3, 'hispana': 1, 'habla': 3, 'nación': 1, 'españa': 3, 'hispanohablantes': 1, 'marruecos': 1, 'vector': 1, 'representadas': 2, 'sistemática': 1, 'tengamos': 1, 'tentación': 1, 'traducir': 1, 'ponerse': 2, 'suponen': 1, 'voluntad': 2, 'esfuerzo': 2, 'comprensión': 1, 'utópicas': 1, 'concretamente': 1, 'incita': 1, 'noruegos': 1, 'echar': 1, 'brasileños': 1, 'pestes': 1, 'mínima': 1, 'anglófonos': 5, 'superan': 1, 'demuestran': 1, 'actualizadas': 1, 'reach': 1, 'intervalos': 2, 'regulares': 2, '57': 1, '52': 1, '59': 1, '64': 2, '34': 2, 'asiáticos': 2, 'iate': 2, 'eurodicautom': 3, 'administrada': 1, 'comisión': 6, 'terminológica': 3, 'once': 1, 'danés': 1, 'griego': 1, 'sueco': 1, 'fusiona': 2, 'podrá': 2, 'ampliación': 1, 'interactive': 1, 'interactiva': 2, 'terminología': 1, 'terminology': 1, 'wordreference': 3, 'kellogg': 1, 'bilingües': 3, 'herramienta': 1, 'increíble': 2, 'mayores': 1, 'leen': 2, 'entienden': 1, 'enseñado': 1, 'proporcionar': 3, 'ido': 5, 'usados': 2, 'pares': 3, 'diccionario': 6, 'figura': 1, 'visitados': 3, 'conjugación': 1, 'tablas': 2, 'fórum': 1, 'devenir': 1, 'lessig': 2, 'larry': 6, 'stanford': 5, 'law': 2, 'licencia': 8, 'school': 2, 'protegiendo': 2, 'licencias': 4, 'flexibles': 4, 'típicas': 2, 'compatibles': 4, 'autorizaciones': 2, 'titulares': 3, 'exclusivas': 2, 'autorizar': 3, 'limitar': 3, 'explotaciones': 2, 'derivadas': 3, 'finalizada': 2, 'instaura': 2, 'compatibilidad': 2, 'license': 5, 'gpl': 4, 'existía': 1, 'encarnizado': 1, 'philippe': 2, 'traductor': 3, 'loubière': 1, 'teatrales': 1, 'realza': 1, 'campos': 2, 'ejercerse\\x96': 1, 'ejerce': 1, 'posición': 1, 'fuerza': 1, 'productor': 2, 'pirateadas': 1, 'peligro': 1, 'sienten': 1, 'peso': 4, 'legislar': 1, 'rebote': 1, 'corporaciones': 1, 'reivindican': 1, 'excepción': 2, 'activas': 1, 'cultural': 2, 'resistiendo': 1, 'profundo': 1, 'efectivamente': 1, 'daño': 1, 'estadounidenses': 6, 'pagados': 3, 'respeten': 1, 'bron': 2, 'alain': 3, 'considero': 1, 'noción': 2, 'desaparece': 1, 'reproducir': 2, 'facto': 1, 'expone': 1, 'copiada': 1, 'reconocible': 1, 'exponen': 1, 'formalidades': 1, 'ingreso': 1, 'ante': 5, 'gauchey': 1, 'distinta': 1, 'contexto': 2, 'paradigma': 1, 'adaptarse': 1, 'libertad': 4, 'flujo': 1, 'sobrevivirá': 1, 'prosperará': 1, 'huella': 1, 'malbreil': 1, 'entrevistado': 3, 'xavier': 1, 'zona': 1, 'distintas': 1, 'aplicarse': 1, 'retribución': 1, 'amigos': 3, 'gustado': 3, 'absoluto': 1, 'perjudicar': 1, 'sufre': 1, 'sacarla': 1, 'ghetto': 1, 'metida': 1, 'contribuir': 2, 'positivo': 1, 'respetar': 2, 'creadores': 2, 'concebida': 2, '\\x96copyleft': 1, 'adeptos': 1, 'commons\\x96': 1, 'richard': 1, 'stallman': 1, 'defensor': 1, 'source': 1, 'incansable': 1, 'ingeniero': 1, 'movimiento': 2, 'foundation': 6, 'fsf': 1, 'free': 2, 'fundación': 1, 'formalizado': 1, 'extendido': 1, 'afirma': 1, 'radica': 1, 'originalidad': 1, 'modificarlo': 2, 'redistribuir': 1, 'compromete': 1, 'reivindicar': 1, 'efectuados': 1, 'realizaciones': 1, 'sujetas': 4, 'creativos': 1, 'presentan': 2, 'redactadas': 1, 'reemisión': 1, 'reproducción': 1, 'decidir': 2, 'utilizados': 2, 'foto': 2, '130': 2, '350': 2, 'encogiéndose': 1, 'zapa': 1, 'piel': 1, 'utilizadas': 1, 'podían': 1, 'estarían': 2, '2100': 1, 'escaso': 1, 'administran': 1, 'espinoso': 1, 'afecta': 2, 'propuesto': 3, 'ataques': 1, 'facilitada': 1, 'repetidos': 1, 'examinando': 1, 'especialistas': 3, 'howto': 1, 'detalla': 1, 'cálculos': 1, '1923': 3, 'sujeta': 1, '2019': 1, 'fallecimiento': 3, '2049': 1, '\\x96ó': 1, 'creación\\x96': 1, 'colectivo': 3, '2074': 1, 'rasgos': 1, 'tomando': 1, 'añaden': 6, 'enmendada': 1, 'fundó': 1, 'restrictiva': 2, 'vehículo': 1, 'contrarrestar': 1, 'formidable': 2, 'potencia': 3, 'pasados': 1, 'acompañado': 1, 'avance': 2, 'inspira': 1, 'miedo': 1, 'temen': 1, 'perder': 2, 'haga': 2, 'royalties': 1, 'extendida': 1, 'duraba': 1, 'pedía': 2, 'extensión': 5, 'expiración': 4, '14': 5, 'deterioro': 1, 'instancias': 1, 'ellas': 2, 'fortalecen': 1, 'relativa': 2, 'dicha': 1, 'contradicción': 1, 'obvia': 1, '1909': 4, 'aplica': 1, 'padecido': 1, 'cuartos': 1, 'considerado': 1, 'cierta': 1, 'evocadas': 1, 'detalle': 2, 'corporación': 1, '1790': 2, 'inglaterra': 1, 'ejercer': 1, 'nacimiento': 2, 'suscitó': 1, 'instituye': 3, 'act': 7, 'imprimirse': 1, 'nueve': 1, 'legalmente': 1, 'repente': 2, '335': 1, 'desaparecen': 1, 'imprenta': 1, 'suponía\\x96': 1, '\\x96se': 1, 'caer': 2, 'efecto': 6, '1831': 2, 'compensar': 2, 'reedición': 3, 'vastas': 1, 'vapor': 1, 'prensas': 2, 'eléctricas': 1, 'duplica': 1, 'extiende': 3, 'periodo': 6, 'interviene': 1, 'd': 4, 'fotocopiadora': 1, 'xerox': 2, 'expirar': 1, '1962': 1, 'imperio': 1, 'disney': 1, 'mouse': 1, 'mickey': 1, 'multinacionales': 1, 'regla': 1, 'muerte': 2, 'antes\\x96': 1, '\\x96como': 2, 'ejercidas': 1, 'presiones': 1, 'pretexto': 1, 'armonizar': 2, 'oponer': 1, 'aplicación': 1, 'internacionales': 1, 'ompi': 1, 'firmaron': 1, 'ratificado': 1, 'dmca': 1, 'millenium': 1, 'eucd': 2, 'directiva': 5, 'directive': 1, 'union': 1, 'european': 3, 'exacto': 1, 'ec': 1, 'consejo': 1, 'ciertos': 1, 'parlamento': 1, 'armonización': 1, 'relacionados': 1, 'inscribe': 1, 'eec': 1, '93': 1, '98': 1, 'legislaciones': 1, 'entrando': 1, 'oficial': 3, 'pirateo': 1, 'technology': 5, 'massachusetts': 2, 'opencourseware': 5, 'privilegiando': 1, 'ocw': 3, 'conferencias': 3, 'cursos': 9, 'prácticos': 2, 'soluciones': 3, 'bibliografías': 2, 'ejercicios': 2, 'correspondientes': 2, 'science': 8, 'alto': 3, 'implementa': 2, 'lanzando': 2, 'wikipedia': 13, 'colectivamente': 1, 'escrita': 1, 'reutilizado': 1, 'encyclopedia': 3, 'citizendium': 9, 'vinton': 2, 'él': 2, 'padre': 2, 'cerf': 2, 'kahn': 1, 'society': 1, 'isoc': 1, 'acumular': 1, 'relaciona': 2, 'aislada': 1, 'contenida': 3, 'determinado': 4, 'privilegia': 2, 'actualizada': 2, 'ifip': 1, 'organizada': 2, 'processing': 1, 'spender': 1, 'dale': 1, 'intenta': 2, 'fundamentales': 1, 'destacar': 1, 'aportados': 1, 'adquisición': 2, 'argumentación': 1, 'párrafos': 3, 'basaba': 1, 'quinientos': 1, 'principalmente': 2, 'distinciones': 1, 'novedosas': 1, 'docente': 1, 'alumno': 1, 'reconsiderar': 1, 'exige': 1, 'precedente': 1, 'influir': 1, 'seguía': 1, 'incitado': 1, 'pensar': 3, 'naturaleza': 2, 'estable': 2, 'vinculada': 1, 'engendra': 1, 'estabilidad': 1, 'fundamentos': 1, 'nociones': 3, 'objetividad': 1, 'creencias': 1, 'fiable': 2, 'suplanta': 1, 'dispuesto': 1, 'pagarla': 1, 'transformación': 2, 'russon': 1, 'wooldridge': 1, 'máximo': 1, 'aprovecha': 1, 'aula': 1, 'pongo': 2, 'coloco': 1, 'didáctico': 6, 'labor': 1, 'coloquios': 1, 'edito': 1, 'actas': 1, 'publico': 1, 'colegas': 2, 'colaboro': 1, 'organicé': 1, 'valorizados': 1, 'valorisées': 1, 'technologies': 1, 'nouvelles': 1, 'serían': 2, 'limitadas': 1, 'esencial': 4, 'creen': 1, 'cuiden': 1, 'dominar': 3, 'venderlo': 1, 'ocurriendo': 1, 'preparar': 1, 'oposiciones': 1, 'escolares': 2, 'evitarse': 1, 'ocurrió': 3, 'acudirá': 1, 'buscando': 3, 'desinteresado': 1, 'anda': 2, 'niego': 1, 'sponsor': 1, 'vandendorpe': 1, 'christian': 1, 'ottawa': 1, 'acoge': 1, 'entusiasmo': 3, 'poniéndolo': 1, 'privatización': 1, 'tendencias': 4, 'compartido': 1, 'cuentas': 1, 'opción': 1, 'triunfar': 1, 'última': 1, 'llegará': 2, 'hewlett': 4, 'apoyo': 3, 'representativos': 1, 'proponiendo': 2, 'asignaturas': 2, 'relativos': 4, 'impartidos': 1, 'actualizados': 1, 'género\\x96': 1, '\\x96la': 1, 'incite': 1, 'definirse': 1, 'vergonzoso': 1, 'apoderen': 1, 'esfuerzo\\x96': 1, 'largos': 2, 'vendiéndolo': 1, 'enriquecerse': 1, 'oro': 5, 'costeada': 1, 'sustancial': 2, 'parecería': 1, 'beneficiarse': 1, 'llano': 3, 'investigaciones': 1, 'publican': 3, 'médico': 2, 'toma': 2, 'constatación': 1, 'basándose': 1, 'san': 2, 'funda': 4, 'francisco': 2, 'brown': 1, 'harold': 1, 'varmus': 1, 'eisen': 1, 'oponerse': 1, 'berkeley': 2, 'juntando': 1, 'médicos': 1, 'diseminada': 1, 'permitiría': 3, 'hipervínculos': 3, 'multicriterio': 2, 'pidiendo': 2, 'distribuidos': 3, 'incitando': 2, 'promuevan': 1, 'firmantes': 1, 'apoyar': 1, 'dispuestos': 1, 'firman': 2, 'aprobación': 6, 'objeciones': 1, 'aprobado': 1, 'formulan': 1, 'plos': 16, 'subvención': 2, 'moore': 2, 'biology': 3, 'biología': 2, 'fabricación': 4, 'cubre': 1, 'aporta': 2, 'medicine': 4, 'medicina': 3, 'genética': 1, 'computational': 1, 'genetics': 1, 'patógenos': 1, 'computacional': 1, 'pathogens': 1, 'ensayos': 2, 'trials': 1, 'clinical': 1, 'clínicos': 1, 'diseases': 1, 'tropicales': 2, 'enfermedades': 3, 'tropical': 1, 'neglected': 1, 'desatendidas': 2, 'otoño': 2, 'poblaciones': 1, 'zonas': 2, 'afectan': 1, 'urbanas': 1, 'rurales': 1, 'pubmed': 1, 'central': 2, 'provisto': 1, 'abandonan': 1, 'dejar': 3, 'odyssey': 1, 'traducciones': 1, 'reutilizados': 1, 'mencionen': 1, 'nombres': 1, 'one': 1, 'estreno': 2, 'alcanzado': 4, 'reputación': 1, 'nature': 1, 'comparable': 1, 'england': 1, 'fundaciones': 1, 'proceden': 1, 'ingresos': 1, 'costos': 1, 'sponsors': 1, 'destinadas': 2, 'desea': 2, 'inspire': 1, 'novedoso': 1, 'parecidas': 1, 'hawaiano': 1, 'colaborar': 3, 'enriquecerlo': 1, 'usa': 2, 'estructurar': 1, 'complejo': 2, 'gráficos': 4, 'jimmy': 1, 'wales': 1, 'sanger': 4, 'adquiere': 1, 'reutilizarse': 1, 'cooperativa': 1, 'financiada': 4, 'redactan': 1, 'registran': 2, 'llamados': 2, 'wikipedistas': 1, 'seudónimo': 1, 'completar': 1, 'contribuidores': 2, 'regida': 1, 'gfdl': 1, 'gnu': 1, '192': 1, '589': 1, '236': 1, '260': 1, '272': 1, 'wikimedia': 2, 'administra': 1, 'tesoro': 1, 'wiktionary': 1, 'wikibooks': 1, 'wikisource': 1, 'wikiquote': 1, 'wikispecies': 1, 'vegetales': 2, 'animales': 2, 'especies': 6, 'wikinews': 1, 'wikiversity': 1, \"citizens'\": 1, 'nacer': 2, 'acrónimo': 1, 'compendio': 1, 'compendium': 1, 'colaborativa': 2, 'cofundador': 1, 'dimitió': 1, 'fundamenta': 1, 'vandalismo': 1, 'colaborativo': 3, 'fallos': 1, 'rigor': 1, 'editados': 1, '\\x93editors\\x94': 1, 'expertos': 3, 'licenciatura': 1, 'constables': 1, 'velar': 1, 'agentes': 1, 'encargados': 1, 'respetan': 1, '820': 1, 'experts': 1, 'room': 1, 'make': 1, 'why': 1, 'ponencia': 1, 'percibe': 1, 'emergencia': 1, 'masiva': 1, 'intelectuales': 1, 'didácticos': 3, 'concepto': 3, 'reparto': 1, 'caracterizar': 1, 'brote': 1, 'manifestó': 1, 'estructuras': 1, 'colaboraciones': 2, 'prototipo': 2, 'cuajado': 1, 'conocidas': 1, 'extinción': 1, 'identificando': 1, 'bandas': 3, 'portal': 7, 'especie': 2, 'esparcidos': 1, 'aprendizaje': 1, 'dirigirá': 1, 'responsables': 1, 'harvard': 4, 'field': 1, 'museum': 2, 'history': 2, 'natural': 4, 'biological': 1, 'marine': 1, 'laboratory': 1, 'garden': 1, 'missouri': 1, 'botanical': 1, 'smithsonian': 1, 'heritage': 2, 'institution': 1, 'biodiversity': 2, 'edward': 1, 'honorario': 1, 'emérito': 1, 'wilson': 1, 'ensayo': 2, 'fechado': 1, 'aparecer': 1, 'formular': 1, 'tecnológicos': 1, 'avances': 2, 'mash': 1, 'up': 1, 'múltiples': 8, 'voluminosos': 1, 'consorcio': 2, 'sobrevivirán': 1, '200': 5, 'extienden': 1, 'cuyas': 1, 'procesadas': 1, 'dc': 1, 'boston': 2, 'sloan': 2, 'macarthur': 1, 'proporcionan': 1, 'financiamiento': 2, 'autofinanciarse': 1, 'transcurso': 2, 'conocidas\\x96': 1, 'traducida': 1, 'redactará': 1, 'descubrir': 2, 'macroscopio': 1, 'microscopio': 1, 'parecida': 1, 'sometido': 1, 'podrán': 3, 'validarlo': 1, 'significativo': 2, 'llegan': 1, 'adobe': 19, 'prc': 5, 'microsoft': 32, 'lit': 6, 'oeb': 11, 'store': 2, 'house': 3, 'perfectbound': 1, 'random': 4, 'distribuye': 3, 'palm': 22, 'legibles': 7, 'pocket': 17, 'document': 2, 'portable': 2, 'acrobat': 12, 'descargable': 1, 'colores': 2, 'letra': 2, 'importe': 1, 'utilizada': 1, 'crearlo': 1, 'leerlo': 2, 'descarga': 3, 'transitan': 1, 'mac': 2, 'linux': 2, 'unix': 2, 'glassbook': 5, 'distribuidores': 3, 'propongan': 1, 'sometidos': 12, 'server': 7, 'gestionan': 1, 'marcadores': 1, 'cubiertas': 1, 'opuestas\\x96': 1, 'visualizar': 1, 'cooltype': 1, 'visualización': 5, 'integrado': 2, 'destinado': 3, 'acondicionamiento': 1, 'garantiza': 2, 'segura': 2, 'drm': 5, 'management': 5, 'gestor': 2, 'dadas': 2, 'consignas': 1, 'autorizando': 1, 'livecycle': 1, 'policy': 1, 'asocia': 3, 'pilot': 12, 'utilizarse': 1, 'estima': 2, 'descargado': 1, 'os': 4, 'symbian': 2, 'difundido': 2, '5ª': 1, '2ª': 1, 'simon': 2, 'publishers': 3, 'schuster': 2, 'harpercollins': 1, 'popular': 1, 'prestar': 1, 'sofware': 1, 'epub': 2, 'sucedió': 1, 'estándares': 1, 'marcados': 2, 'prometiendo': 1, 'incipiente': 1, 'doc': 1, 'word': 1, '\\x96formatos': 1, 'txt': 2, 'language': 1, 'extensible': 2, 'markup': 1, 'hypertext': 2, 'propietarios': 1, 'peanut': 1, 'ebookman': 9, 'franklin': 12, 'cybook': 7, 'cytale': 5, 'específica': 3, 'preocuparse': 1, 'porvenir': 2, 'títulos\\x96': 1, '\\x96recién': 1, 'insistiendo': 1, 'definido': 1, 'oebps': 3, 'publication': 2, 'structure': 2, 'normalizada': 1, 'sustituye': 1, 'forum': 3, 'oebf': 1, 'initiative': 1, 'constructores': 1, 'diseñadores': 1, 'idpf': 1, 'publishing': 1, 'caracteriza': 1, 'cleartype': 1, 'clave': 5, 'memorización': 1, 'ulteriores': 1, 'webster': 1, 'merriam': 1, 'dictionary': 1, 'clic': 3, 'factura': 3, 'cobra': 3, 'efectúa': 1, 'das': 2, 'asset': 2, 'acuerdos': 6, 'establece': 1, '\\x96barnes': 1, '2000\\x96': 1, 'seguido': 3, 'tablet': 4, 'comercializar': 1, 'fabricantes': 4, 'máquina': 3, 'impone': 1, 'nicho': 2, 'thierry': 1, 'específico': 3, 'brethes': 1, 'nathalie': 1, 'ting': 1, 'especializa': 1, 'entrada': 3, 'viventures': 1, 'ramificación': 1, 'vivendi': 1, 'multinacional': 1, 'concibe': 2, 'resource': 1, 'award': 3, 'feria': 3, 'fráncfort': 3, 'originariamente': 1, 'companion': 1, 'extracción': 1, 'utilizable': 1, 'publisher': 2, 'particulares': 2, 'privada': 1, 'permanecer': 1, 'podía': 2, 'equipa': 1, 'psion': 12, 'olvidar': 4, 'nokia': 7, 'sony': 12, 'ericsson': 3, 'stephen': 4, 'suspenso': 2, 'maestro': 2, 'riding': 1, 'montando': 1, 'bullet': 1, 'bala': 1, 'descargan': 1, 'plant': 1, 'autopublicación': 1, 'epistolar': 1, 'planta': 1, 'capítulo': 3, 'sexto': 1, 'experimento': 3, 'disminuyendo': 1, 'pagos': 4, 'experimentos': 1, 'frederick': 3, 'forsyth': 3, 'británico': 1, 'originals': 2, 'veteran': 2, 'crimen': 2, 'violento': 1, 'veterano': 1, 'quintet': 1, 'quinteto': 1, 'anunciadas': 1, 'miracle': 1, 'matter': 1, 'art': 2, 'draco': 1, 'citizen': 1, 'libras': 1, 'euros': 5, 'alphabetstreet': 1, 'whsmith': 1, 'bol': 1, 'contentville': 1, 'futuro\\x94': 1, 'fundamental': 2, 'consumidor': 1, 'emocionante': 1, 'cosa': 2, 'impide': 2, 'fórmula': 2, 'motor': 1, 'coches': 1, 'andan': 1, 'pérez': 2, 'arturo': 2, 'reverte': 2, 'novelista': 3, 'seller': 1, 'narra': 1, 'alatriste': 1, 'capitán': 1, 'rey': 1, 'llama': 1, 'alfaguara': 1, 'anunciados': 1, 'bueno': 1, '332': 1, 'paulo': 3, 'coehlo': 1, 'brasileño': 1, 'famoso': 1, 'coelho': 2, 'hizo': 1, 'alquimista': 1, '\\x96traducidos': 1, '53': 1, '155': 1, 'idiomas\\x96': 1, 'consentimiento': 1, 'zwirn': 3, 'diseñado': 1, 'ideado': 1, 'consigo': 1, 'permitieran': 1, 'llevar': 4, 'bolsillo': 5, 'pesaban': 2, 'retomado': 1, 'amigo': 1, 'portátiles': 5, 'sinergia': 1, 'encaminar': 1, 'rincón': 1, 'desmaterializados': 1, 'minutos': 1, 'sito': 1, 'ficha': 2, 'clics': 1, 'comprar': 3, 'recibirlo': 1, 'descargarlo': 1, 'categorías': 1, 'literatura\\x96': 1, '\\x96saber': 1, 'auténtica': 1, 'individualmente': 1, 'vendidos': 4, 'ergonómica': 1, '\\x96seis': 1, 'triple': 1, 'librería\\x96': 1, 'difusor': 2, 'haberlos': 1, 'pagado': 1, 'generarlos': 1, 'venderlos': 1, 'poseedores': 1, 'convertirlos': 1, \"'readers'\": 1, 'convirtiendo': 2, 'puntos': 2, 'estemos': 2, 'comunitarios': 1, 'presentárselos': 1, 'fans': 1, 'facilitará': 2, \"'tiendas\": 1, \"digitales'\": 1, 'riqueza': 1, '\\x91modularidad\\x92': 1, 'menor': 1, 'pearson': 1, 'albin': 1, 'gallimard': 2, 'eyrolles': 1, 'hermès': 1, 'education': 1, 'voz': 3, 'oxford': 3, 'kluwer': 1, 'springer': 1, 'francis': 1, 'kogan': 1, 'taylor': 1, 'aparato': 5, 'prestadora': 1, 'directivas': 1, 'autoriza': 1, 'curva': 1, 'combinación': 1, 'amplios': 1, 'volltextsuche': 1, \"'sondeado'\": 1, 'quiera': 1, 'esenciales': 2, 'tales': 2, 'tinta': 3, 'irex': 1, 'iliad': 1, 'perfilan': 1, 'multifunciones': 1, 'blackberry': 1, 'iphone': 3, 'mejorada\\x96': 1, 'anglosajones': 1, 'universitarios': 1, 'reticentes': 1, 'eran': 3, \"'¿por\": 1, \"'\": 2, \"'¿cómo\": 1, 'tardarán': 1, 'oficio': 1, 'conceptual': 1, 'adivinación': 1, \"'expertos'\": 1, 'hipertextual': 4, 'enriquecido': 1, 'hipermoderno': 1, 'sabiamente': 1, 'orquesten': 1, 'convendría': 1, 'invadirlos': 1, 'deficientes': 1, 'visuales': 1, 'formas': 5, 'hachette': 2, 'haberse': 1, 'distribuidor': 1, 'francófonos': 3, 'personalizado': 1, 'reconocen': 1, 'apasionados': 2, 'actúan': 1, 'manifiesto': 1, 'hipervínculo': 2, 'narrativa': 1, 'sacudir': 1, 'electrónica\\x96': 1, 'integrándose': 1, 'aportándole': 1, 'favorece': 1, 'artísticas': 1, 'plástica': 1, 'región': 1, 'poitou': 1, 'vive': 4, 'silvaine': 2, 'artista': 1, 'arabo': 2, 'charentes': 1, 'poésie': 3, 'dedicados': 1, 'ayer': 1, \"d'hier\": 2, \"d'aujourd'hui\": 2, 'poemas': 1, 'suyos': 1, 'pintora': 1, 'aforismos': 1, 'poemarios': 1, \"'poesía\": 1, \"trascendencia'\": 1, 'pintura': 5, 'expuesto': 3, 'veces\\x96': 1, 'cuadros': 2, 'refiere': 3, 'autodidacta': 1, 'construir': 1, 'centrado': 1, 'privilegiado': 1, 'empíricamente': 1, 'pasiones': 1, 'poetas': 3, 'valorar': 1, 'obtenido': 1, 'contemporáneos': 1, 'talentosos': 1, \"'reflexiones\": 1, \"poesía'\": 1, 'romper': 1, 'interesantes': 2, 'círculo': 2, 'soledad': 1, 'motivaciones': 1, 'reanimar': 1, 'comprenden': 1, 'llegarán': 1, 'corresponder': 2, 'positivos': 2, 'promoción': 1, 'ciberrevista': 1, \"d'art\": 1, 'revue': 1, 'saraswati': 2, 'réflexion': 1, 'reflexión': 1, 'complementan': 1, 'considerarlas': 1, 'pareja': 2, 'indisociable': 1, 'difundidos': 1, 'raymond': 3, 'godefroy': 2, 'campesino': 1, 'normando': 1, 'desesperado': 2, 'algún': 3, \"l'an\": 2, 'pour': 3, 'días': 3, 'hermoso': 1, 'libra': 1, 'doctrinarias': 1, 'hombres': 1, 'vigentes': 1, 'aprenderán': 1, 'cósmicas': 1, 'conocerse': 1, 'consciencia': 2, 'adquiriendo': 1, 'irán': 1, 'pertenecer': 1, 'querrán': 1, 'vivir': 1, 'destruirlo': 1, 'armonía': 1, 'librarme': 1, 'vísperas': 1, 'absolutamente': 2, 'cerradas': 1, 'crisis': 1, 'intolerancia': 1, 'fábula': 1, 'llamada': 3, 'poète': 1, 'índole': 1, \"l'éditeur\": 1, 'exactitud': 1, 'autobiográfico': 1, 'angustias': 1, 'autoedita': 1, 'levemente': 1, 'années': 1, 'hito': 1, 'montreal': 1, 'benoît': 1, 'quebec': 1, 'historias': 2, 'fantásticas': 1, 'policíacos': 1, 'abolir': 1, 'impuesto': 1, 'apertura': 1, \"'información'\": 1, 'mire': 1, \"'búsqueda'\": 2, \"'escritura'\": 1, \"'reflexión'\": 1, \"'conocimiento'\": 1, 'acude': 1, 'pronunciado': 1, 'discurso': 1, 'explicación': 1, 'cuadro': 1, 'haberlo': 1, 'alguien': 1, 'inspirarle': 1, 'ratón': 1, 'perfecto': 1, 'cliché': 1, 'excepto': 1, 'instantaneidad': 1, 'acto': 4, 'papeles': 1, 'pasarse': 1, 'hurgar': 1, 'haciendo': 4, 'investigando': 1, 'produciendo': 1, 'buscarla': 1, 'prestigiosos': 1, 'interrelación': 1, 'próspero': 1, 'imaginar': 1, 'productivo\\x96': 1, '\\x96más': 2, 'tardado': 1, 'terminar': 1, 'estético\\x96': 1, 'lindo': 1, 'refinados': 1, 'conexos': 1, 'traslado': 1, 'simultáneo': 1, 'viviendo': 4, 'consenso': 1, 'continentes': 1, 'habrían': 1, 'francófonos\\x96': 1, 'provechosa': 1, 'vaya': 1, 'necesaria': 1, 'sanguine': 1, 'personajes': 2, 'toile': 1, 'abajo': 1, 'ndlt': 2, \"'toile'\": 1, 'lienzo': 1, 'pintor': 1, \"'telaraña'\": 1, 'telaraña': 1, 'sanguina': 1, 'dibujo': 1, 'lápiz': 1, 'rojo': 1, \"'sanguine'\": 1, 'sangre': 1, \"'sanguínea'\": 1, 'justificar': 1, 'asesinato': 1, \"'sanguine\": 1, 'internauta': 4, 'evoca': 1, 'singular': 1, 'tormenta': 1, 'manipulado': 1, 'atrapado': 1, 'quise': 2, 'interlocutor': 1, 'misterioso': 1, 'vengarse': 1, 'obsesión': 1, 'universos': 2, 'introducir': 1, 'escapan': 1, 'juntan': 1, 'entrelazan': 1, 'fulgor': 1, 'programas': 3, 'investigar': 1, 'intentar': 1, 'toca': 2, 'desenredar': 1, 'hilos': 1, 'tejiendo': 1, 'pasión': 3, 'misterio': 1, '¿no': 1, 'tenga': 1, 'dedos': 1, 'combatir': 1, '¿hasta': 1, '¿tiende': 1, 'violencia': 1, 'mostrar': 2, 'inocentes': 1, 'actuar': 1, 'matar': 1, 'personaje': 1, 'complejidad': 1, 'describirla': 1, 'humor': 1, 'atento': 1, 'manejar': 2, 'amenazador': 1, 'desempeña': 1, 'olvidemos': 1, 'ambivalencia': 1, 'ocultar': 1, 'descansa': 1, 'intriga': 2, 'aquél': 1, 'liberarse': 1, 'ganador': 1, 'humanismo': 1, 'encima': 1, 'inteligencia': 1, 'suid': 1, 'valley': 2, 'murray': 1, 'palo': 1, 'silicon': 2, 'guiones': 1, 'optado': 1, 'parcialmente': 1, 'existir': 1, 'corregirlos': 1, 'actualizarlos': 1, 'ciberespacio\\x96': 1, 'suponiendo': 1, 'publicarlos': 1, 'llegaré': 1, 'participo': 1, 'gusta': 2, '\\x96disponibles': 1, 'rom\\x96': 1, 'actualizarlas': 1, 'enriquecer': 1, 'contribuye': 1, 'educativo': 1, 'antony': 1, 'bénédicte': 1, 'anne': 3, 'joly': 1, 'autopublicar': 1, 'darla': 1, 'autoeditadas': 1, 'descriptivos': 1, 'electre': 1, 'recorrido': 1, 'escogidos': 2, 'escritora': 1, 'encargar': 1, 'política': 2, 'suscitar': 1, 'contactos': 1, 'autora': 4, 'non': 1, 'iniciada': 1, 'boutiny': 3, 'lucie': 3, 'synesthésie': 1, 'contemporáneo': 1, 'cómica': 1, 'sátira': 1, \"'non'\": 2, 'cotidiana': 2, 'ejecutivos': 1, 'jóvenes': 1, 'dinámicos': 1, \"'madame'\": 1, 'floreciente': 1, \"'monsieur'\": 1, 'élite': 1, 'juguetes': 1, 'posmoderna': 1, 'digresiones': 1, 'prolonga': 2, 'polisemia': 1, 'registros': 1, 'relato': 7, 'niveles': 1, 'cómico': 1, 'melodramático': 1, '\\x96naturalista': 1, 'extrema': 1, 'narración': 1, 'estilización': 1, 'rumbos': 1, 'navega': 1, 'tome': 1, 'inesperados': 1, 'lee': 4, 'asemeja': 1, 'mira': 1, 'anteriores': 1, 'trámites': 1, '¿son': 1, 'humilde': 1, 'principiante': 1, 'máxima': 1, 'aislamiento': 1, 'exigen': 1, 'píxel': 2, 'concentración': 1, 'minuciosa': 1, 'obsesiva': 1, 'frases': 2, '¡hay': 1, 'hacerlo': 1, 'contar': 3, 'escena': 2, 'habido': 2, 'guión': 2, 'previamente': 1, 'grafismo': 1, 'pacotilla': 1, 'trucos': 1, 'interactivos': 1, 'parecerán': 1, 'percepción': 1, 'subrayarlo': 1, 'inquiétantes': 1, 'apariciones': 1, 'apparitions': 1, 'brandenbourger': 1, 'cécile': 2, 'pluma': 1, 'larga': 2, 'malos': 1, 'placeres': 1, 'ambiguos': 1, 'laberinto': 1, 'pensamientos': 2, 'crímenes': 1, 'construye': 2, 'anacoluthe': 1, 'folletín': 1, 'lefèvre': 2, 'cibernovela': 1, 'saga': 1, 'insertados': 1, '\\x96hipertextualmente\\x96': 1, 'borgiano': 1, 'corte': 1, 'maneja': 1, 'antojo': 1, 'norteamericano': 1, 'serial': 3, 'policial': 1, 'cortos': 1, 'densa': 1, 'paseo': 1, 'desestructuración': 1, 'imaginario': 2, 'zapping': 1, 'transposición': 2, 'sensaciones': 1, 'consiguiente': 1, 'florent': 1, 'massot': 1, 'imprimiendo': 1, 'cubierta': 1, 'malédiction': 1, 'parasol': 1, 'sombrilla': 1, 'maldición': 1, 'maqueta': 1, 'restituir': 1, 'rienda': 1, 'suelta': 1, 'permitido': 3, 'encantado': 1, 'desmembrados': 1, 'mode': 1, \"d'emploi\": 1, 'instrucciones': 1, 'georges': 1, 'vie': 1, \"d'hiver\": 1, 'voyageur': 1, 'noche': 1, 'nuit': 1, 'perec': 1, 'viajero': 1, 'entregado': 1, 'invierno': 1, 'calvino\\x96': 1, 'italo': 1, 'enfrascarme': 1, 'narrativas': 1, 'encajen': 1, 'redes': 2, 'lineares': 1, 'obviamente': 1, 'apropiado': 2, 'intuitiva': 2, 'cercana': 1, \"'interior'\": 1, 'movimientos': 1, 'caracterizan': 1, 'desordenados': 1, 'ensoñación': 1, 'esencia': 1, \"literarios'\": 1, \"'asesores\": 1, 'soplando': 1, 'quedara': 1, 'atrapada': 1, 'quisieran': 2, 'medias': 1, 'voy': 1, 'vengo': 1, 'desobedecer': 1, 'malgastado': 1, 'prefieren': 2, 'bolígrafo': 1, 'cuadernillo': 1, 'fetiche': 1, 'mont': 1, 'bic': 1, 'clairefontaine': 1, 'blanc': 1, 'moderado': 1, 'htx': 1, 'conectado': 1, 'originaria': 1, 'tono': 1, 'registro': 1, 'inherentes': 1, 'preocupaciones': 1, 'sintaxis': 2, '\\x96pongámosle': 1, 'tecnoescritor': 1, 'etiqueta': 1, 'diferenciarlo\\x96': 1, 'mirarla': 1, 'investigador': 1, \"n'est\": 1, 'dire': 1, 'sans': 1, 'rien': 1, 'modismo': 1, 'quinientas': 1, '\\x96su': 1, 'familia': 1, 'integrando': 1, 'respuestas': 1, 'reacciones': 1, 'contada': 1, 'narrador': 1, 'zita': 1, 'stanislas': 1, 'trágica': 1, 'destrozada': 1, 'sombría': 1, 'llevaba': 1, 'preguntándome': 1, \"carta'\": 1, \"'epistolar'\": 1, 'famosas': 1, \"'novelas\": 1, 'aquellas': 1, 'equivalente': 1, \"'novela\": 1, \"epistolar'\": 1, 'saca': 1, 'conclusiones': 1, 'intertanto': 1, \"'género'\": 1, 'contado': 1, 'descubrí': 1, 'explotar': 1, 'restricciones': 1, 'ulterior': 1, 'reservo': 1, \"'pacto'\": 1, 'diabólico': 1, 'reforzado': 1, 'convicción': 1, 'extraordinaria': 1, 'renovar': 1, 'enlazar': 2, 'animadas': 2, 'tardan': 1, 'hiperficción': 1, 'chantal': 1, 'carlon': 1, 'laure': 1, 'beaslay': 1, 'anika': 1, 'meuriot': 1, 'rouah': 1, 'mignotte': 1, 'claude': 1, 'huevo': 1, 'espiritual': 1, 'primordial': 1, 'células': 1, 'construyendo': 1, 'autónomas': 1, 'heterogéneas': 1, 'exponer': 1, 'unificadora': 1, '¿han': 1, 'abiertas': 2, 'positiva': 2, 'negativa': 2, 'mantiene': 1, 'íntima': 1, 'lejano': 1, 'cotidiano': 1, 'mitos': 1, 'fantasías': 1, 'incitan': 1, 'razones': 1, 'proceda': 1, 'afectará': 2, 'toques': 1, 'dé': 1, 'empezar': 1, 'adelantaría': 1, 'saltos': 1, 'bifurcaciones': 1, '\\x96esto': 1, 'modular': 1, 'storyspace\\x96': 1, 'horizontalidad': 1, 'espacial': 1, 'autónomos': 1, 'unidades': 3, 'entretejer': 1, 'vinculado': 1, 'modularidad': 1, 'cruzadas': 1, 'metaescritura': 1, 'cubra': 1, 'lazos': 1, 'conocen': 1, 'distantes': 1, 'aprieta': 1, 'enfrentar': 1, 'situaciones': 3, 'espectadores': 1, 'interactores': 1, 'posturas': 2, \"'lectactura'\": 1, \"'espectactura'\": 1, 'intercomunicación': 1, 'obliga': 1, 'weissberg': 1, 'juicio': 1, 'acontecimiento': 1, 'sitúa': 2, 'ínfima': 1, 'notan': 1, 'llaman': 1, 'radicales': 1, 'mal': 1, 'definidos': 1, 'representacional': 1, 'sencillamente': 1, 'simbólico': 1, \"'más\": 3, \"proximidad'\": 1, 'relacionarnos': 1, 'sinónimo': 1, \"vínculos'\": 1, 'sueño': 3, \"canales'\": 1, 'compartamos': 1, 'permanente': 3, 'dispositivo': 2, 'compartirlos': 1, 'entretejido': 1, 'ponerlos': 1, 'hipertextos': 1, 'trazando': 1, 'paul': 5, 'cotres': 3, 'imposible': 2, 'apariencia': 1, 'movediza': 1, 'photoshop': 1, 'cubase': 1, 'melodía': 1, 'pudientes': 1, 'competencias': 1, 'pentagone': 1, 'matra': 1, '¿de': 1, 'estatuto': 1, '¿escribasta': 1, 'multimediasta': 1, 'videasta': 1, 'escenógrafo': 1, 'palmas': 1, 'hermana': 1, 'gemela': 1, 'cannes': 1, 'llevárselas': 1, 'clon': 1, 'cinematográfico': 1, 'artesanos': 1, 'periferia': 1, 'off': 1, 'negativos': 1, 'hiperenlaces': 1, 'pincho': 1, 'radial': 1, 'metódicamente': 1, 'apareciendo': 1, 'rodeos': 1, 'salta': 1, 'pinchar': 1, 'ojear': 1, 'escribo': 1, 'compongo': 1, \"'impresa'\": 1, 'excluye': 1, 'linealidad': 1, 'movilidad': 3, \"progreso'\": 1, 'provisional': 1, 'tientas': 1, 'gutenbergs': 1, 'huérfanos': 1, 'subrayan': 1, 'civilización': 1, 'sabio': 1, 'distinguir': 1, 'gurú': 1, 'emociones': 1, 'vuelve': 1, 'mas': 1, 'ahorrado': 1, 'integro': 1, 'flash': 1, 'asegura': 1, 'pantallas': 2, 'deliberadamente': 1, 'azar': 1, 'concentrarme': 1, 'arquitectura': 1, 'serán': 3, 'generalización': 2, 'ancha': 1, 'librará': 1, 'anchura': 2, 'limitaciones': 2, 'acabaremos': 1, 'historiales': 1, 'trampas': 1, 'apasionantes': 2, 'coger': 1, 'toro': 1, 'cuernos': 1, 'proeza': 1, 'impedir': 1, 'prioridad': 1, 'codiciado': 1, 'gigantes': 1, 'meritorio': 1, 'recetas': 1, 'detrás': 2, 'publicitarias': 1, 'generadas': 1, 'oca': 7, 'cooperativo': 1, '\\x96digitalizando': 1, 'previa': 4, 'editores\\x96': 1, 'print': 5, 'etapas': 1, 'preceden': 1, 'establecido': 1, 'encargarlos': 1, 'empezando': 1, 'michigan': 2, '150': 1, 'estimado': 2, 'conflicto': 4, 'indefinido': 1, 'suspende': 1, 'creciente': 1, 'reprochan': 1, 'antemano': 1, 'reanuda': 1, 'centrada': 1, 'fondos': 1, 'consultados': 1, 'imprimirlos': 2, 'publicitarios': 1, 'encuentran': 1, 'derecha': 1, 'digitalizando': 1, 'autorización': 1, 'invocando': 1, 'authors': 2, 'invocan': 1, 'justicia': 1, 'mediático': 1, 'escanearía': 1, 'revuelo': 1, 'mencionan': 1, '\\x96pero': 1, 'alto\\x96': 1, 'abarcaría': 1, 'deben': 1, 'cuidado': 1, 'universitarias': 2, 'wisconsin': 1, 'virginia': 1, 'madison': 1, 'madrid': 1, 'complutense': 1, 'texas': 1, 'princeton': 1, 'catalunya': 1, 'austin': 1, 'bayerische': 1, 'staatbibliothek': 1, 'estatal': 1, 'baviera': 1, 'cantonal': 1, 'bcu': 1, 'lausanne': 1, 'cantonale': 1, 'lyon': 1, 'acciones': 1, 'emprendidas': 1, 'tomaría': 1, 'anunciando': 1, 'repartición': 1, 'agotadas': 1, '125': 1, 'clausurar': 1, 'quedarán': 1, 'retirar': 1, 'públicas': 1, 'administrado': 1, 'agotados': 1, 'afamadas': 1, 'ubican': 1, 'bélgica': 1, '3g': 1, 'mobile': 1, 'g1': 1, 'apple': 3, 'sometida': 1, 'federar': 1, 'colaboradores': 3, 'kahle': 1, 'brewster': 1, 'archivando': 1, 'historiadores': 1, 'estudiosos': 1, 'wayback': 1, 'machine': 1, 'teoría': 2, '520': 1, 'million': 1, 'conciertos': 1, '1903': 1, 'vivo': 1, 'errores': 1, 'imposibilidad': 1, 'gubernamentales': 1, 'informáticas': 1, 'ánimo': 1, 'packard': 3, 'prelinger': 1, 'tropieza': 1, 'text': 1, 'alimentan': 1, 'metropolitan': 1, 'adams': 1, 'getty': 1, 'hopkins': 1, 'antiesclavista': 1, 'fiebre': 1, 'live': 3, 'cornell': 1, 'vienen': 2, 'comportan': 1, 'resaltadas': 1, 'ricas': 1, 'rudimentario': 1, 'cambridge': 1, 'mcgraw': 1, 'hill': 1, 'centrarse': 1, '750': 1, 'integran': 1, 'europeana': 3, 'hegemonía': 1, 'preocupados': 1, '43': 1, 'conference': 1, 'cenl': 1, 'albergado': 1, 'librarians': 1, 'dispongan': 1, 'conexión': 5, 'europea\\x92': 1, '\\x91biblioteca': 1, 'estimular': 1, 'iniciativas': 1, 'paneuropea': 1, 'cofinanciará': 1, 'abordará': 1, 'estratégicos': 1, 'responde': 1, 'parcial': 1, 'no\\x96': 1, '\\x96portátil': 1, 'agendas': 1, 'inercia': 1, 'duran': 2, 'mejora': 1, 'ligeras': 1, 'ipad': 4, 'ultrafino': 1, 'organiser': 1, 'agenda': 4, 'plus': 1, 'revo': 1, '5mx': 3, 'diversificar': 1, 'teklogix': 1, 'móviles': 3, 'inalámbricas': 1, 'comercializado': 2, 'precursor': 2, '9210': 2, 'pratique': 1, 'ephe': 1, 'hautes': 1, 'frecuentes': 1, 'estudiar': 1, 'tren': 2, 'residencia': 1, 'trayectos': 1, 'normandía': 1, 'argentan': 1, 'cargado': 1, 'jo': 1, '\\x96entre': 2, 'montón': 1, 'totalidad\\x96': 1, 'llevarme': 1, 'entera': 1, 'ajustes': 1, 'cómodo': 1, 'minúsculo': 1, 'sentir': 1, 'torcer': 1, 'abrirlo': 1, 'agradable': 1, 'cualidad': 1, 'visión': 2, 'apreciable': 1, 'guardado': 1, 'retocar': 1, 'asociativas': 1, 'formo': 1, 'poética': 2, 'organizaremos': 1, 'recital': 1, 'leerlos': 1, 'victor': 1, 'hugo': 1, 'estupendo': 1, 'jersey': 1, 'consultable': 1, 'comercializa': 1, 'monolingües': 1, 'biblias': 1, 'dictáfono': 3, '901': 1, '900': 1, 'ebm': 1, '911': 1, '230': 2, 'ram': 1, 'memoria': 8, 'lcd': 2, 'cristal': 3, 'líquido': 2, 'liquid': 2, 'display': 2, 'retroiluminada': 2, 'competidores': 1, 'blanco': 4, 'negro': 4, 'escuchar': 2, 'musicales': 3, 'mp3': 2, 'renuncia': 1, 'avanzado': 1, 'adaptando': 2, 'gamas': 2, 'desarrolla': 2, 'negocian': 1, 'reducido': 2, 'preocupe': 1, 'aseguran': 1, 'defensores': 1, 'favoritos': 1, 'operativo': 3, 'ce': 2, 'integra': 1, 'protegidos': 1, 'seybold': 1, 'reports': 1, '\\x96mientras': 1, 'lectura\\x96': 1, 'líder': 1, 'vendidas': 1, 'toshiba': 2, 'casio': 2, 'handspring': 2, '55': 1, 'observan': 1, 'padece': 1, 'disminuir': 1, 'retirarse': 1, 'fabricante': 1, 'finlandesa': 1, 'teléfonos': 2, 'p800': 1, 'motorola': 1, 'siemens': 1, 'multifunción': 2, 'inteligente': 1, 'polifónico': 1, 'cámara': 1, 'funciones': 1, 'probable': 1, 'conozcan': 1, 'impulsando': 1, 'avanzadas': 1, 'concretando': 1, 'táctil': 2, 'displays': 1, 'inalámbrica': 2, 'smart': 1, 'usos': 1, 'observarán': 1, 'tamaños': 1, 'waterproof': 1, 'reloj': 1, 'democratización': 1, 'logran': 1, 'aprovechar': 1, 'tecnológico': 1, 'variadas': 1, 'preguntarse': 2, 'multifuncionales': 1, 'celular': 1, 'consumen': 1, 'alumnos': 1, 'juristas': 1, 'portátil': 2, 'ultraportátil\\x96': 1, 'sobremesa': 1, '\\x96dependiendo': 1, 'duro\\x96': 1, 'ofimática': 1, 'conectarse': 3, 'atrae': 1, 'webpad': 1, 'aparecido': 1, 'grueso': 1, 'ciberlibros': 1, 'suscitan': 1, 'comprarlas': 1, 'prohibitivo': 1, 'lleguen': 1, 'dista': 2, 'equipararse': 2, 'conciben': 1, 'perfeccionan': 1, 'crystal': 1, 'batería': 1, 'módem': 1, 'disponen': 1, 'puerto': 3, 'bus': 2, 'desarrollado': 2, 'everybook': 1, 'estrenan': 1, 'millennium': 1, 'librius': 1, 'remota': 1, 'gramos': 3, 'kilos': 1, 'cabían': 2, 'presentados': 1, 'sucesores': 3, 'comercializados': 1, 'sucesor': 2, '1100': 1, 'reb': 2, '1200': 1, 'thomson': 1, 'construidos': 1, 'rca': 2, '699': 1, 'skymall': 2, 'supermercado': 1, 'pronósticos': 2, 'inferiores': 2, 'suspensión': 2, 'geb': 2, '1150': 1, '2150': 1, 'producidos': 1, '349': 1, '199': 1, 'bianual': 1, 'concluyentes': 1, 'cm': 2, 'kilo': 1, '\\x9632': 1, 'synchronous': 1, 'memory': 1, 'access': 2, 'sdram': 1, 'dynamic': 1, 'flash\\x96': 1, 'pujol': 1, 'cruzó': 1, 'extraordinario': 1, 'aquel': 1, 'impenitente': 1, 'promotor': 1, 'felicidad': 1, 'desarrollando': 1, 'maravilloso': 1, \"'adaptable'\": 1, 'declararse': 1, 'obligada': 1, 'liquidación': 1, 'judicial': 1, 'declarada': 1, 'bookeen': 2, 'picard': 1, 'ingenieros': 2, 'dahan': 1, 'retoma': 1, 'laurent': 1, 'comercialización': 1, 'gen3': 1, 'bautizada': 1, 'ink': 4, 'librié': 2, '1000': 1, 'philips': 1, 'producido': 1, 'ep': 1, 'desarrollada': 1, 'pilas': 2, 'mide': 2, 'centímetros': 1, 'extensión\\x96': 1, 'dots': 1, 'dpi': 1, '170': 1, 'pulgadas': 2, 'resolución': 1, 'inch': 1, 'per': 1, 'pixeles': 3, 'grabación': 1, 'alcalinas': 1, 'funciona': 2, '375': 1, 'cuesta': 1, '289': 1, 'mo': 1, '256': 1, '273': 1, 'sd': 1, 'wifi': 2, '359': 1, '489': 1, '499': 1, 'crece': 1, 'ibookstore': 1, 'ipod': 1, 'objetos': 2, 'culto': 1, 'dura': 1, 'preferencia': 1, 'darán': 1, 'prometedor': 1, 'solidez': 1, 'comodidad': 2, 'estética': 1, 'dimensiones': 2, 'adelanto': 1, 'individual': 1, 'manipular': 1, 'táctiles': 1, 'evidencia': 1, 'ingeniárselas': 1, 'ligero': 1, 'ocupe': 1, 'separa': 1, 'terrícola': 1, 'sentado': 1, 'a4': 1, 'wc': 1, 'autobús': 1, 'superficie': 1, 'hoja': 1, 'estará': 3, 'miras': 1, 'gps': 1, 'próxima': 2, 'win': 1, 'telescópicas': 1, 'carlinga': 1, '\\x93pronto\\x94': 1, 'logic': 1, 'proponernos': 1, 'plastic': 1, 'ultrafinos': 1, 'moda': 1, 'apoderado': 1, 'pánico': 1, 'próximo': 1, 'almacenado': 1, 'efectiva': 1, 'respetable': 1, 'tim': 4, 'ruetschi': 1, 'inventa': 1, 'berners': 3, 'tribune': 1, 'genève': 1, '¿está': 1, 'satisfecho': 1, 'evolucionado': 1, 'alegra': 1, 'rica': 1, 'variada': 1, 'juntar': 1, 'consumir': 1, 'compartidos': 1, 'concretarse': 1, 'acuñado': 1, 'escogido': 1, 'incitar': 1, 'cooperativas': 1, 'accesibilidad': 1, 'desafío': 2, 'discapacidad': 1, 'cero': 1, 'handicapzéro': 2, 'generalista': 1, 'afectados': 1, 'asuntos': 1, 'meteorológicos': 1, 'consumo': 1, 'ciegas': 2, 'deporte': 1, 'braille': 2, 'parámetros': 1, 'cómoda': 1, 'deficiencia': 1, 'adopta': 1, 'enriqueciendo': 1, 'adoptando': 1, 'combinaciones': 1, 'mejorando': 1, 'demostrar': 1, 'elementales': 1, 'acabar': 1, 'convirtiéndose': 2, 'infraestructura': 1, 'line': 1, 'dsl': 1, 'subscriber': 1, 'óptica': 1, 'fibra': 1, 'óptico': 1, 'cable': 1, 'wireless': 1, 'fidelity': 1, 'wimax': 1, 'worldwide': 1, 'interoperability': 1, 'microwave': 1, 'situado': 1, 'heroicos': 1, \"'flotante'\": 1, 'alcanzara': 1, 'trataba': 1, 'avanzar': 1, 'liberará': 1, 'desencadenado': 1, 'pervasiva': 2, 'omnipresente': 1, 'rafi': 1, 'haladjian': 1, 'ozone': 1, 'ola': 1, 'real': 1, 'accederemos': 1, 'viviremos': 1, 'cables': 1, 'operadores': 1, 'transparentes': 1, 'completamente': 1, 'posibilitando': 1, 'agnóstica': 1, 'compartimos': 1, 'nací': 1, '1963': 1, 'fantástica': 1, 'caben': 1, 'barrio': 2, 'combinado': 1, 'omnipresencia': 1, 'instantáneo': 1, 'usual': 1, 'presentará': 1, 'importarán': 1, 'comodidades': 1, 'funcionales': 1, '\\x96hasta': 1, 'poseer': 1, 'exclusivos': 1, 'élite\\x96': 1, 'reservada': 1, 'colectividad\\x96': 1, 'indefinidamente': 1, 'exactas': 1, 'comuniquemos': 1, 'compartiendo': 1, 'locales': 1, 'mundiales': 1, 'esbozos': 1, 'sofisticados': 1, 'generalizaría': 1, 'encarnación': 1, 'realista': 1, 'jugamos': 1, 'hacemos': 2, 'trabajamos': 1, 'analizarlas': 1, 'preguntarnos': 1, 'corresponda': 1, 'juntos': 1, 'short': 1, 'very': 1, '\\x96ubicuidad': 1, 'interactividad\\x96': 1, 'parecerá': 1, 'ciberespacio': 2, 'filósofo': 1, 'timothy': 1, '¿se': 1, 'describe': 1, 'caos': 1, 'leary': 1, 'cyber': 1, 'chaos': 1, 'culture': 1, 'interior': 1, 'gigantescas': 1, 'contenidas': 1, 'humanas': 1, 'señales': 1, 'guardadas': 1, 'bancos': 1, 'twitter': 1, 'documentarnos': 1, 'facebook': 1, 'comunicarnos': 1, 'resultaría': 1, 'estudio\\x96': 1, 'inició': 1, 'cerrarse': 1, 'seguiremos': 1, 'probetas': 1, 'salido': 1, 'entrelazamiento': 1, 'dedicarse': 1, 'escritas': 1, 'sentimientos': 1, 'coinventor': 1, 'internet\\x96': 1, 'conecta': 1, '\\x96profesionales': 1, 'otros\\x96': 1})\n"
          ]
        }
      ],
      "source": [
        "# Cantidad de veces quea aparece cada palabra en cada \"documento\"\n",
        "# (1 documento = 1 caso de entrada)\n",
        "print(tok.word_docs)"
      ]
    },
    {
      "cell_type": "markdown",
      "source": [
        "\n",
        "### Definir el modelo"
      ],
      "metadata": {
        "id": "uYfhWVLLzKVO"
      }
    },
    {
      "cell_type": "code",
      "source": [
        "model_LSTM = Sequential()\n",
        "model_LSTM.add(Embedding(input_dim=vocab_size+1, output_dim=50, input_shape=(None,)))\n",
        "model_LSTM.add(LSTM(200, return_sequences=True, dropout=0.1, recurrent_dropout=0.1 ))\n",
        "model_LSTM.add(LSTM(200, return_sequences=True))\n",
        "\n",
        "model_LSTM.add(Dense(vocab_size+1, activation='softmax'))\n",
        "model_LSTM.compile(loss=SparseCategoricalCrossentropy(), optimizer='rmsprop')\n",
        "model_LSTM.summary()"
      ],
      "metadata": {
        "id": "5UXA5hQfWVX1",
        "colab": {
          "base_uri": "https://localhost:8080/",
          "height": 312
        },
        "outputId": "9336439f-63af-4dc1-c1a0-fa94ef227254"
      },
      "execution_count": 22,
      "outputs": [
        {
          "output_type": "stream",
          "name": "stderr",
          "text": [
            "/usr/local/lib/python3.10/dist-packages/keras/src/layers/core/embedding.py:93: UserWarning: Do not pass an `input_shape`/`input_dim` argument to a layer. When using Sequential models, prefer using an `Input(shape)` object as the first layer in the model instead.\n",
            "  super().__init__(**kwargs)\n"
          ]
        },
        {
          "output_type": "display_data",
          "data": {
            "text/plain": [
              "\u001b[1mModel: \"sequential_1\"\u001b[0m\n"
            ],
            "text/html": [
              "<pre style=\"white-space:pre;overflow-x:auto;line-height:normal;font-family:Menlo,'DejaVu Sans Mono',consolas,'Courier New',monospace\"><span style=\"font-weight: bold\">Model: \"sequential_1\"</span>\n",
              "</pre>\n"
            ]
          },
          "metadata": {}
        },
        {
          "output_type": "display_data",
          "data": {
            "text/plain": [
              "┏━━━━━━━━━━━━━━━━━━━━━━━━━━━━━━━━━━━━━━┳━━━━━━━━━━━━━━━━━━━━━━━━━━━━━┳━━━━━━━━━━━━━━━━━┓\n",
              "┃\u001b[1m \u001b[0m\u001b[1mLayer (type)                        \u001b[0m\u001b[1m \u001b[0m┃\u001b[1m \u001b[0m\u001b[1mOutput Shape               \u001b[0m\u001b[1m \u001b[0m┃\u001b[1m \u001b[0m\u001b[1m        Param #\u001b[0m\u001b[1m \u001b[0m┃\n",
              "┡━━━━━━━━━━━━━━━━━━━━━━━━━━━━━━━━━━━━━━╇━━━━━━━━━━━━━━━━━━━━━━━━━━━━━╇━━━━━━━━━━━━━━━━━┩\n",
              "│ embedding_1 (\u001b[38;5;33mEmbedding\u001b[0m)              │ (\u001b[38;5;45mNone\u001b[0m, \u001b[38;5;45mNone\u001b[0m, \u001b[38;5;34m50\u001b[0m)            │         \u001b[38;5;34m333,000\u001b[0m │\n",
              "├──────────────────────────────────────┼─────────────────────────────┼─────────────────┤\n",
              "│ lstm_2 (\u001b[38;5;33mLSTM\u001b[0m)                        │ (\u001b[38;5;45mNone\u001b[0m, \u001b[38;5;45mNone\u001b[0m, \u001b[38;5;34m200\u001b[0m)           │         \u001b[38;5;34m200,800\u001b[0m │\n",
              "├──────────────────────────────────────┼─────────────────────────────┼─────────────────┤\n",
              "│ lstm_3 (\u001b[38;5;33mLSTM\u001b[0m)                        │ (\u001b[38;5;45mNone\u001b[0m, \u001b[38;5;45mNone\u001b[0m, \u001b[38;5;34m200\u001b[0m)           │         \u001b[38;5;34m320,800\u001b[0m │\n",
              "├──────────────────────────────────────┼─────────────────────────────┼─────────────────┤\n",
              "│ dense_1 (\u001b[38;5;33mDense\u001b[0m)                      │ (\u001b[38;5;45mNone\u001b[0m, \u001b[38;5;45mNone\u001b[0m, \u001b[38;5;34m6660\u001b[0m)          │       \u001b[38;5;34m1,338,660\u001b[0m │\n",
              "└──────────────────────────────────────┴─────────────────────────────┴─────────────────┘\n"
            ],
            "text/html": [
              "<pre style=\"white-space:pre;overflow-x:auto;line-height:normal;font-family:Menlo,'DejaVu Sans Mono',consolas,'Courier New',monospace\">┏━━━━━━━━━━━━━━━━━━━━━━━━━━━━━━━━━━━━━━┳━━━━━━━━━━━━━━━━━━━━━━━━━━━━━┳━━━━━━━━━━━━━━━━━┓\n",
              "┃<span style=\"font-weight: bold\"> Layer (type)                         </span>┃<span style=\"font-weight: bold\"> Output Shape                </span>┃<span style=\"font-weight: bold\">         Param # </span>┃\n",
              "┡━━━━━━━━━━━━━━━━━━━━━━━━━━━━━━━━━━━━━━╇━━━━━━━━━━━━━━━━━━━━━━━━━━━━━╇━━━━━━━━━━━━━━━━━┩\n",
              "│ embedding_1 (<span style=\"color: #0087ff; text-decoration-color: #0087ff\">Embedding</span>)              │ (<span style=\"color: #00d7ff; text-decoration-color: #00d7ff\">None</span>, <span style=\"color: #00d7ff; text-decoration-color: #00d7ff\">None</span>, <span style=\"color: #00af00; text-decoration-color: #00af00\">50</span>)            │         <span style=\"color: #00af00; text-decoration-color: #00af00\">333,000</span> │\n",
              "├──────────────────────────────────────┼─────────────────────────────┼─────────────────┤\n",
              "│ lstm_2 (<span style=\"color: #0087ff; text-decoration-color: #0087ff\">LSTM</span>)                        │ (<span style=\"color: #00d7ff; text-decoration-color: #00d7ff\">None</span>, <span style=\"color: #00d7ff; text-decoration-color: #00d7ff\">None</span>, <span style=\"color: #00af00; text-decoration-color: #00af00\">200</span>)           │         <span style=\"color: #00af00; text-decoration-color: #00af00\">200,800</span> │\n",
              "├──────────────────────────────────────┼─────────────────────────────┼─────────────────┤\n",
              "│ lstm_3 (<span style=\"color: #0087ff; text-decoration-color: #0087ff\">LSTM</span>)                        │ (<span style=\"color: #00d7ff; text-decoration-color: #00d7ff\">None</span>, <span style=\"color: #00d7ff; text-decoration-color: #00d7ff\">None</span>, <span style=\"color: #00af00; text-decoration-color: #00af00\">200</span>)           │         <span style=\"color: #00af00; text-decoration-color: #00af00\">320,800</span> │\n",
              "├──────────────────────────────────────┼─────────────────────────────┼─────────────────┤\n",
              "│ dense_1 (<span style=\"color: #0087ff; text-decoration-color: #0087ff\">Dense</span>)                      │ (<span style=\"color: #00d7ff; text-decoration-color: #00d7ff\">None</span>, <span style=\"color: #00d7ff; text-decoration-color: #00d7ff\">None</span>, <span style=\"color: #00af00; text-decoration-color: #00af00\">6660</span>)          │       <span style=\"color: #00af00; text-decoration-color: #00af00\">1,338,660</span> │\n",
              "└──────────────────────────────────────┴─────────────────────────────┴─────────────────┘\n",
              "</pre>\n"
            ]
          },
          "metadata": {}
        },
        {
          "output_type": "display_data",
          "data": {
            "text/plain": [
              "\u001b[1m Total params: \u001b[0m\u001b[38;5;34m2,193,260\u001b[0m (8.37 MB)\n"
            ],
            "text/html": [
              "<pre style=\"white-space:pre;overflow-x:auto;line-height:normal;font-family:Menlo,'DejaVu Sans Mono',consolas,'Courier New',monospace\"><span style=\"font-weight: bold\"> Total params: </span><span style=\"color: #00af00; text-decoration-color: #00af00\">2,193,260</span> (8.37 MB)\n",
              "</pre>\n"
            ]
          },
          "metadata": {}
        },
        {
          "output_type": "display_data",
          "data": {
            "text/plain": [
              "\u001b[1m Trainable params: \u001b[0m\u001b[38;5;34m2,193,260\u001b[0m (8.37 MB)\n"
            ],
            "text/html": [
              "<pre style=\"white-space:pre;overflow-x:auto;line-height:normal;font-family:Menlo,'DejaVu Sans Mono',consolas,'Courier New',monospace\"><span style=\"font-weight: bold\"> Trainable params: </span><span style=\"color: #00af00; text-decoration-color: #00af00\">2,193,260</span> (8.37 MB)\n",
              "</pre>\n"
            ]
          },
          "metadata": {}
        },
        {
          "output_type": "display_data",
          "data": {
            "text/plain": [
              "\u001b[1m Non-trainable params: \u001b[0m\u001b[38;5;34m0\u001b[0m (0.00 B)\n"
            ],
            "text/html": [
              "<pre style=\"white-space:pre;overflow-x:auto;line-height:normal;font-family:Menlo,'DejaVu Sans Mono',consolas,'Courier New',monospace\"><span style=\"font-weight: bold\"> Non-trainable params: </span><span style=\"color: #00af00; text-decoration-color: #00af00\">0</span> (0.00 B)\n",
              "</pre>\n"
            ]
          },
          "metadata": {}
        }
      ]
    },
    {
      "cell_type": "code",
      "source": [
        "model_RNN = Sequential()\n",
        "model_RNN.add(Embedding(input_dim=vocab_size+1, output_dim=50, input_shape=(None,)))\n",
        "model_RNN.add(SimpleRNN(100, return_sequences=True, dropout=0.1, recurrent_dropout=0.1 ))\n",
        "model_RNN.add(SimpleRNN(100, return_sequences=True, dropout=0.1, recurrent_dropout=0.1 ))\n",
        "model_RNN.add(Dense(vocab_size+1, activation='softmax'))\n",
        "model_RNN.compile(loss=SparseCategoricalCrossentropy(), optimizer='rmsprop')\n",
        "model_RNN.summary()"
      ],
      "metadata": {
        "colab": {
          "base_uri": "https://localhost:8080/",
          "height": 312
        },
        "id": "-lbOPpzdZnOS",
        "outputId": "5aee2892-4209-42e4-b5d7-f2a3488879f4"
      },
      "execution_count": null,
      "outputs": [
        {
          "output_type": "stream",
          "name": "stderr",
          "text": [
            "/usr/local/lib/python3.10/dist-packages/keras/src/layers/core/embedding.py:93: UserWarning: Do not pass an `input_shape`/`input_dim` argument to a layer. When using Sequential models, prefer using an `Input(shape)` object as the first layer in the model instead.\n",
            "  super().__init__(**kwargs)\n"
          ]
        },
        {
          "output_type": "display_data",
          "data": {
            "text/plain": [
              "\u001b[1mModel: \"sequential_7\"\u001b[0m\n"
            ],
            "text/html": [
              "<pre style=\"white-space:pre;overflow-x:auto;line-height:normal;font-family:Menlo,'DejaVu Sans Mono',consolas,'Courier New',monospace\"><span style=\"font-weight: bold\">Model: \"sequential_7\"</span>\n",
              "</pre>\n"
            ]
          },
          "metadata": {}
        },
        {
          "output_type": "display_data",
          "data": {
            "text/plain": [
              "┏━━━━━━━━━━━━━━━━━━━━━━━━━━━━━━━━━━━━━━┳━━━━━━━━━━━━━━━━━━━━━━━━━━━━━┳━━━━━━━━━━━━━━━━━┓\n",
              "┃\u001b[1m \u001b[0m\u001b[1mLayer (type)                        \u001b[0m\u001b[1m \u001b[0m┃\u001b[1m \u001b[0m\u001b[1mOutput Shape               \u001b[0m\u001b[1m \u001b[0m┃\u001b[1m \u001b[0m\u001b[1m        Param #\u001b[0m\u001b[1m \u001b[0m┃\n",
              "┡━━━━━━━━━━━━━━━━━━━━━━━━━━━━━━━━━━━━━━╇━━━━━━━━━━━━━━━━━━━━━━━━━━━━━╇━━━━━━━━━━━━━━━━━┩\n",
              "│ embedding_7 (\u001b[38;5;33mEmbedding\u001b[0m)              │ (\u001b[38;5;45mNone\u001b[0m, \u001b[38;5;45mNone\u001b[0m, \u001b[38;5;34m50\u001b[0m)            │         \u001b[38;5;34m333,000\u001b[0m │\n",
              "├──────────────────────────────────────┼─────────────────────────────┼─────────────────┤\n",
              "│ simple_rnn_8 (\u001b[38;5;33mSimpleRNN\u001b[0m)             │ (\u001b[38;5;45mNone\u001b[0m, \u001b[38;5;45mNone\u001b[0m, \u001b[38;5;34m100\u001b[0m)           │          \u001b[38;5;34m15,100\u001b[0m │\n",
              "├──────────────────────────────────────┼─────────────────────────────┼─────────────────┤\n",
              "│ simple_rnn_9 (\u001b[38;5;33mSimpleRNN\u001b[0m)             │ (\u001b[38;5;45mNone\u001b[0m, \u001b[38;5;45mNone\u001b[0m, \u001b[38;5;34m100\u001b[0m)           │          \u001b[38;5;34m20,100\u001b[0m │\n",
              "├──────────────────────────────────────┼─────────────────────────────┼─────────────────┤\n",
              "│ dense_7 (\u001b[38;5;33mDense\u001b[0m)                      │ (\u001b[38;5;45mNone\u001b[0m, \u001b[38;5;45mNone\u001b[0m, \u001b[38;5;34m6660\u001b[0m)          │         \u001b[38;5;34m672,660\u001b[0m │\n",
              "└──────────────────────────────────────┴─────────────────────────────┴─────────────────┘\n"
            ],
            "text/html": [
              "<pre style=\"white-space:pre;overflow-x:auto;line-height:normal;font-family:Menlo,'DejaVu Sans Mono',consolas,'Courier New',monospace\">┏━━━━━━━━━━━━━━━━━━━━━━━━━━━━━━━━━━━━━━┳━━━━━━━━━━━━━━━━━━━━━━━━━━━━━┳━━━━━━━━━━━━━━━━━┓\n",
              "┃<span style=\"font-weight: bold\"> Layer (type)                         </span>┃<span style=\"font-weight: bold\"> Output Shape                </span>┃<span style=\"font-weight: bold\">         Param # </span>┃\n",
              "┡━━━━━━━━━━━━━━━━━━━━━━━━━━━━━━━━━━━━━━╇━━━━━━━━━━━━━━━━━━━━━━━━━━━━━╇━━━━━━━━━━━━━━━━━┩\n",
              "│ embedding_7 (<span style=\"color: #0087ff; text-decoration-color: #0087ff\">Embedding</span>)              │ (<span style=\"color: #00d7ff; text-decoration-color: #00d7ff\">None</span>, <span style=\"color: #00d7ff; text-decoration-color: #00d7ff\">None</span>, <span style=\"color: #00af00; text-decoration-color: #00af00\">50</span>)            │         <span style=\"color: #00af00; text-decoration-color: #00af00\">333,000</span> │\n",
              "├──────────────────────────────────────┼─────────────────────────────┼─────────────────┤\n",
              "│ simple_rnn_8 (<span style=\"color: #0087ff; text-decoration-color: #0087ff\">SimpleRNN</span>)             │ (<span style=\"color: #00d7ff; text-decoration-color: #00d7ff\">None</span>, <span style=\"color: #00d7ff; text-decoration-color: #00d7ff\">None</span>, <span style=\"color: #00af00; text-decoration-color: #00af00\">100</span>)           │          <span style=\"color: #00af00; text-decoration-color: #00af00\">15,100</span> │\n",
              "├──────────────────────────────────────┼─────────────────────────────┼─────────────────┤\n",
              "│ simple_rnn_9 (<span style=\"color: #0087ff; text-decoration-color: #0087ff\">SimpleRNN</span>)             │ (<span style=\"color: #00d7ff; text-decoration-color: #00d7ff\">None</span>, <span style=\"color: #00d7ff; text-decoration-color: #00d7ff\">None</span>, <span style=\"color: #00af00; text-decoration-color: #00af00\">100</span>)           │          <span style=\"color: #00af00; text-decoration-color: #00af00\">20,100</span> │\n",
              "├──────────────────────────────────────┼─────────────────────────────┼─────────────────┤\n",
              "│ dense_7 (<span style=\"color: #0087ff; text-decoration-color: #0087ff\">Dense</span>)                      │ (<span style=\"color: #00d7ff; text-decoration-color: #00d7ff\">None</span>, <span style=\"color: #00d7ff; text-decoration-color: #00d7ff\">None</span>, <span style=\"color: #00af00; text-decoration-color: #00af00\">6660</span>)          │         <span style=\"color: #00af00; text-decoration-color: #00af00\">672,660</span> │\n",
              "└──────────────────────────────────────┴─────────────────────────────┴─────────────────┘\n",
              "</pre>\n"
            ]
          },
          "metadata": {}
        },
        {
          "output_type": "display_data",
          "data": {
            "text/plain": [
              "\u001b[1m Total params: \u001b[0m\u001b[38;5;34m1,040,860\u001b[0m (3.97 MB)\n"
            ],
            "text/html": [
              "<pre style=\"white-space:pre;overflow-x:auto;line-height:normal;font-family:Menlo,'DejaVu Sans Mono',consolas,'Courier New',monospace\"><span style=\"font-weight: bold\"> Total params: </span><span style=\"color: #00af00; text-decoration-color: #00af00\">1,040,860</span> (3.97 MB)\n",
              "</pre>\n"
            ]
          },
          "metadata": {}
        },
        {
          "output_type": "display_data",
          "data": {
            "text/plain": [
              "\u001b[1m Trainable params: \u001b[0m\u001b[38;5;34m1,040,860\u001b[0m (3.97 MB)\n"
            ],
            "text/html": [
              "<pre style=\"white-space:pre;overflow-x:auto;line-height:normal;font-family:Menlo,'DejaVu Sans Mono',consolas,'Courier New',monospace\"><span style=\"font-weight: bold\"> Trainable params: </span><span style=\"color: #00af00; text-decoration-color: #00af00\">1,040,860</span> (3.97 MB)\n",
              "</pre>\n"
            ]
          },
          "metadata": {}
        },
        {
          "output_type": "display_data",
          "data": {
            "text/plain": [
              "\u001b[1m Non-trainable params: \u001b[0m\u001b[38;5;34m0\u001b[0m (0.00 B)\n"
            ],
            "text/html": [
              "<pre style=\"white-space:pre;overflow-x:auto;line-height:normal;font-family:Menlo,'DejaVu Sans Mono',consolas,'Courier New',monospace\"><span style=\"font-weight: bold\"> Non-trainable params: </span><span style=\"color: #00af00; text-decoration-color: #00af00\">0</span> (0.00 B)\n",
              "</pre>\n"
            ]
          },
          "metadata": {}
        }
      ]
    },
    {
      "cell_type": "code",
      "source": [
        "model_GRU = Sequential()\n",
        "model_GRU.add(Embedding(input_dim=vocab_size+1, output_dim=50, input_shape=(None,)))\n",
        "model_GRU.add(GRU(100, return_sequences=True, dropout=0.1, recurrent_dropout=0.1 ))\n",
        "model_GRU.add(GRU(100, return_sequences=True, dropout=0.1, recurrent_dropout=0.1 ))\n",
        "model_GRU.add(Dense(vocab_size+1, activation='softmax'))\n",
        "model_GRU.compile(loss=SparseCategoricalCrossentropy(), optimizer='rmsprop')\n",
        "model_GRU.summary()"
      ],
      "metadata": {
        "colab": {
          "base_uri": "https://localhost:8080/",
          "height": 257
        },
        "id": "S2j2mNl1ZoY7",
        "outputId": "5aa70baf-d569-4bf4-a59c-2e6ad32966e0"
      },
      "execution_count": null,
      "outputs": [
        {
          "output_type": "display_data",
          "data": {
            "text/plain": [
              "\u001b[1mModel: \"sequential_8\"\u001b[0m\n"
            ],
            "text/html": [
              "<pre style=\"white-space:pre;overflow-x:auto;line-height:normal;font-family:Menlo,'DejaVu Sans Mono',consolas,'Courier New',monospace\"><span style=\"font-weight: bold\">Model: \"sequential_8\"</span>\n",
              "</pre>\n"
            ]
          },
          "metadata": {}
        },
        {
          "output_type": "display_data",
          "data": {
            "text/plain": [
              "┏━━━━━━━━━━━━━━━━━━━━━━━━━━━━━━━━━━━━━━┳━━━━━━━━━━━━━━━━━━━━━━━━━━━━━┳━━━━━━━━━━━━━━━━━┓\n",
              "┃\u001b[1m \u001b[0m\u001b[1mLayer (type)                        \u001b[0m\u001b[1m \u001b[0m┃\u001b[1m \u001b[0m\u001b[1mOutput Shape               \u001b[0m\u001b[1m \u001b[0m┃\u001b[1m \u001b[0m\u001b[1m        Param #\u001b[0m\u001b[1m \u001b[0m┃\n",
              "┡━━━━━━━━━━━━━━━━━━━━━━━━━━━━━━━━━━━━━━╇━━━━━━━━━━━━━━━━━━━━━━━━━━━━━╇━━━━━━━━━━━━━━━━━┩\n",
              "│ embedding_8 (\u001b[38;5;33mEmbedding\u001b[0m)              │ (\u001b[38;5;45mNone\u001b[0m, \u001b[38;5;45mNone\u001b[0m, \u001b[38;5;34m50\u001b[0m)            │         \u001b[38;5;34m333,000\u001b[0m │\n",
              "├──────────────────────────────────────┼─────────────────────────────┼─────────────────┤\n",
              "│ gru (\u001b[38;5;33mGRU\u001b[0m)                            │ (\u001b[38;5;45mNone\u001b[0m, \u001b[38;5;45mNone\u001b[0m, \u001b[38;5;34m100\u001b[0m)           │          \u001b[38;5;34m45,600\u001b[0m │\n",
              "├──────────────────────────────────────┼─────────────────────────────┼─────────────────┤\n",
              "│ gru_1 (\u001b[38;5;33mGRU\u001b[0m)                          │ (\u001b[38;5;45mNone\u001b[0m, \u001b[38;5;45mNone\u001b[0m, \u001b[38;5;34m100\u001b[0m)           │          \u001b[38;5;34m60,600\u001b[0m │\n",
              "├──────────────────────────────────────┼─────────────────────────────┼─────────────────┤\n",
              "│ dense_8 (\u001b[38;5;33mDense\u001b[0m)                      │ (\u001b[38;5;45mNone\u001b[0m, \u001b[38;5;45mNone\u001b[0m, \u001b[38;5;34m6660\u001b[0m)          │         \u001b[38;5;34m672,660\u001b[0m │\n",
              "└──────────────────────────────────────┴─────────────────────────────┴─────────────────┘\n"
            ],
            "text/html": [
              "<pre style=\"white-space:pre;overflow-x:auto;line-height:normal;font-family:Menlo,'DejaVu Sans Mono',consolas,'Courier New',monospace\">┏━━━━━━━━━━━━━━━━━━━━━━━━━━━━━━━━━━━━━━┳━━━━━━━━━━━━━━━━━━━━━━━━━━━━━┳━━━━━━━━━━━━━━━━━┓\n",
              "┃<span style=\"font-weight: bold\"> Layer (type)                         </span>┃<span style=\"font-weight: bold\"> Output Shape                </span>┃<span style=\"font-weight: bold\">         Param # </span>┃\n",
              "┡━━━━━━━━━━━━━━━━━━━━━━━━━━━━━━━━━━━━━━╇━━━━━━━━━━━━━━━━━━━━━━━━━━━━━╇━━━━━━━━━━━━━━━━━┩\n",
              "│ embedding_8 (<span style=\"color: #0087ff; text-decoration-color: #0087ff\">Embedding</span>)              │ (<span style=\"color: #00d7ff; text-decoration-color: #00d7ff\">None</span>, <span style=\"color: #00d7ff; text-decoration-color: #00d7ff\">None</span>, <span style=\"color: #00af00; text-decoration-color: #00af00\">50</span>)            │         <span style=\"color: #00af00; text-decoration-color: #00af00\">333,000</span> │\n",
              "├──────────────────────────────────────┼─────────────────────────────┼─────────────────┤\n",
              "│ gru (<span style=\"color: #0087ff; text-decoration-color: #0087ff\">GRU</span>)                            │ (<span style=\"color: #00d7ff; text-decoration-color: #00d7ff\">None</span>, <span style=\"color: #00d7ff; text-decoration-color: #00d7ff\">None</span>, <span style=\"color: #00af00; text-decoration-color: #00af00\">100</span>)           │          <span style=\"color: #00af00; text-decoration-color: #00af00\">45,600</span> │\n",
              "├──────────────────────────────────────┼─────────────────────────────┼─────────────────┤\n",
              "│ gru_1 (<span style=\"color: #0087ff; text-decoration-color: #0087ff\">GRU</span>)                          │ (<span style=\"color: #00d7ff; text-decoration-color: #00d7ff\">None</span>, <span style=\"color: #00d7ff; text-decoration-color: #00d7ff\">None</span>, <span style=\"color: #00af00; text-decoration-color: #00af00\">100</span>)           │          <span style=\"color: #00af00; text-decoration-color: #00af00\">60,600</span> │\n",
              "├──────────────────────────────────────┼─────────────────────────────┼─────────────────┤\n",
              "│ dense_8 (<span style=\"color: #0087ff; text-decoration-color: #0087ff\">Dense</span>)                      │ (<span style=\"color: #00d7ff; text-decoration-color: #00d7ff\">None</span>, <span style=\"color: #00d7ff; text-decoration-color: #00d7ff\">None</span>, <span style=\"color: #00af00; text-decoration-color: #00af00\">6660</span>)          │         <span style=\"color: #00af00; text-decoration-color: #00af00\">672,660</span> │\n",
              "└──────────────────────────────────────┴─────────────────────────────┴─────────────────┘\n",
              "</pre>\n"
            ]
          },
          "metadata": {}
        },
        {
          "output_type": "display_data",
          "data": {
            "text/plain": [
              "\u001b[1m Total params: \u001b[0m\u001b[38;5;34m1,111,860\u001b[0m (4.24 MB)\n"
            ],
            "text/html": [
              "<pre style=\"white-space:pre;overflow-x:auto;line-height:normal;font-family:Menlo,'DejaVu Sans Mono',consolas,'Courier New',monospace\"><span style=\"font-weight: bold\"> Total params: </span><span style=\"color: #00af00; text-decoration-color: #00af00\">1,111,860</span> (4.24 MB)\n",
              "</pre>\n"
            ]
          },
          "metadata": {}
        },
        {
          "output_type": "display_data",
          "data": {
            "text/plain": [
              "\u001b[1m Trainable params: \u001b[0m\u001b[38;5;34m1,111,860\u001b[0m (4.24 MB)\n"
            ],
            "text/html": [
              "<pre style=\"white-space:pre;overflow-x:auto;line-height:normal;font-family:Menlo,'DejaVu Sans Mono',consolas,'Courier New',monospace\"><span style=\"font-weight: bold\"> Trainable params: </span><span style=\"color: #00af00; text-decoration-color: #00af00\">1,111,860</span> (4.24 MB)\n",
              "</pre>\n"
            ]
          },
          "metadata": {}
        },
        {
          "output_type": "display_data",
          "data": {
            "text/plain": [
              "\u001b[1m Non-trainable params: \u001b[0m\u001b[38;5;34m0\u001b[0m (0.00 B)\n"
            ],
            "text/html": [
              "<pre style=\"white-space:pre;overflow-x:auto;line-height:normal;font-family:Menlo,'DejaVu Sans Mono',consolas,'Courier New',monospace\"><span style=\"font-weight: bold\"> Non-trainable params: </span><span style=\"color: #00af00; text-decoration-color: #00af00\">0</span> (0.00 B)\n",
              "</pre>\n"
            ]
          },
          "metadata": {}
        }
      ]
    },
    {
      "cell_type": "markdown",
      "metadata": {
        "id": "YWK3z85sQfUe"
      },
      "source": [
        "Dado que por el momento no hay implementaciones adecuadas de la perplejidad que puedan operar en tiempo de entrenamiento, armaremos un Callback *ad-hoc* que la calcule en cada epoch.\n",
        "\n",
        "**Nota**: un Callback es una rutina gatillada por algún evento, son muy útiles para relevar datos en diferentes momentos del desarrollo del modelo. En este caso queremos hacer un cálculo cada vez que termina una epoch de entrenamiento."
      ]
    },
    {
      "cell_type": "code",
      "execution_count": 17,
      "metadata": {
        "id": "zUHX3r5JD-MG"
      },
      "outputs": [],
      "source": [
        "class PplCallback(keras.callbacks.Callback):\n",
        "\n",
        "    '''\n",
        "    Este callback es una solución ad-hoc para calcular al final de cada epoch de\n",
        "    entrenamiento la métrica de Perplejidad sobre un conjunto de datos de validación.\n",
        "    La perplejidad es una métrica cuantitativa para evaluar la calidad de la generación de secuencias.\n",
        "    Además implementa la finalización del entrenamiento (Early Stopping)\n",
        "    si la perplejidad no mejora después de `patience` epochs.\n",
        "    '''\n",
        "\n",
        "    def __init__(self, val_data, history_ppl, patience=5):\n",
        "      # El callback lo inicializamos con secuencias de validación sobre las cuales\n",
        "      # mediremos la perplejidad y la paciencia para detener el entrenamiento.\n",
        "      self.val_data = val_data\n",
        "\n",
        "      self.target = []\n",
        "      self.padded = []\n",
        "\n",
        "      count = 0\n",
        "      self.info = []\n",
        "      self.history_ppl = []\n",
        "      self.min_score = np.inf\n",
        "      self.patience_counter = 0\n",
        "      self.patience = patience\n",
        "\n",
        "      # nos movemos en todas las secuencias de los datos de validación\n",
        "      for seq in self.val_data:\n",
        "\n",
        "        len_seq = len(seq)\n",
        "        # armamos todas las subsecuencias\n",
        "        subseq = [seq[:i] for i in range(len_seq)]\n",
        "        self.target.extend([seq[i] for i in range(len_seq)])\n",
        "\n",
        "        if len(subseq)!=0:\n",
        "\n",
        "          self.padded.append(pad_sequences(subseq, maxlen=max_context_size, padding='pre'))\n",
        "\n",
        "          self.info.append((count,count+len_seq))\n",
        "          count += len_seq\n",
        "\n",
        "      self.padded = np.vstack(self.padded)\n",
        "\n",
        "\n",
        "    def on_epoch_end(self, epoch, logs=None):\n",
        "\n",
        "        # en `scores` iremos guardando la perplejidad de cada secuencia\n",
        "        scores = []\n",
        "\n",
        "        predictions = self.model.predict(self.padded,verbose=0)\n",
        "\n",
        "        # para cada secuencia de validación\n",
        "        for start,end in self.info:\n",
        "\n",
        "          # en `probs` iremos guardando las probabilidades de los términos target\n",
        "          probs = [predictions[idx_seq,-1,idx_vocab] for idx_seq, idx_vocab in zip(range(start,end),self.target[start:end])]\n",
        "\n",
        "          # calculamos la perplejidad por medio de logaritmos\n",
        "          scores.append(np.exp(-np.sum(np.log(probs))/(end-start)))\n",
        "\n",
        "        # promediamos todos los scores e imprimimos el valor promedio\n",
        "        current_score = np.mean(scores)\n",
        "        history_ppl.append(current_score)\n",
        "        print(f'\\n mean perplexity: {current_score} \\n')\n",
        "\n",
        "        # chequeamos si tenemos que detener el entrenamiento\n",
        "        if current_score < self.min_score:\n",
        "          self.min_score = current_score\n",
        "          self.model.save(\"my_model.h5\")\n",
        "          print(\"Saved new model!\")\n",
        "          self.patience_counter = 0\n",
        "        else:\n",
        "          self.patience_counter += 1\n",
        "          if self.patience_counter == self.patience:\n",
        "            print(\"Stopping training...\")\n",
        "            self.model.stop_training = True\n"
      ]
    },
    {
      "cell_type": "markdown",
      "metadata": {
        "id": "8HBZIwR0gruA"
      },
      "source": [
        "### Entrenamiento"
      ]
    },
    {
      "cell_type": "markdown",
      "source": [
        "#Modelo RNN"
      ],
      "metadata": {
        "id": "T2cfWct0Mif8"
      }
    },
    {
      "cell_type": "code",
      "source": [
        "history_ppl = []\n",
        "hist = model_RNN.fit(X, y, epochs=10, callbacks=[PplCallback(tokenized_sentences_val,history_ppl)], batch_size=40)"
      ],
      "metadata": {
        "colab": {
          "base_uri": "https://localhost:8080/"
        },
        "id": "Jq4ewDF0r_13",
        "outputId": "798e7199-2b69-47e9-8ce5-34d7bacdb8e0"
      },
      "execution_count": null,
      "outputs": [
        {
          "output_type": "stream",
          "name": "stdout",
          "text": [
            "Epoch 1/10\n",
            "\u001b[1m884/884\u001b[0m \u001b[32m━━━━━━━━━━━━━━━━━━━━\u001b[0m\u001b[37m\u001b[0m \u001b[1m0s\u001b[0m 8ms/step - loss: 4.5027"
          ]
        },
        {
          "output_type": "stream",
          "name": "stderr",
          "text": [
            "WARNING:absl:You are saving your model as an HDF5 file via `model.save()` or `keras.saving.save_model(model)`. This file format is considered legacy. We recommend using instead the native Keras format, e.g. `model.save('my_model.keras')` or `keras.saving.save_model(model, 'my_model.keras')`. \n"
          ]
        },
        {
          "output_type": "stream",
          "name": "stdout",
          "text": [
            "\n",
            " mean perplexity: 2063.982823202672 \n",
            "\n",
            "Saved new model!\n",
            "\b\b\b\b\b\b\b\b\b\b\b\b\b\b\b\b\b\b\b\b\b\b\b\b\b\b\b\b\b\b\b\b\b\b\b\b\b\b\b\b\b\b\b\b\b\b\b\b\b\b\b\b\b\b\b\r\u001b[1m884/884\u001b[0m \u001b[32m━━━━━━━━━━━━━━━━━━━━\u001b[0m\u001b[37m\u001b[0m \u001b[1m19s\u001b[0m 14ms/step - loss: 4.5021\n",
            "Epoch 2/10\n",
            "\u001b[1m876/884\u001b[0m \u001b[32m━━━━━━━━━━━━━━━━━━━\u001b[0m\u001b[37m━\u001b[0m \u001b[1m0s\u001b[0m 5ms/step - loss: 3.5627"
          ]
        },
        {
          "output_type": "stream",
          "name": "stderr",
          "text": [
            "WARNING:absl:You are saving your model as an HDF5 file via `model.save()` or `keras.saving.save_model(model)`. This file format is considered legacy. We recommend using instead the native Keras format, e.g. `model.save('my_model.keras')` or `keras.saving.save_model(model, 'my_model.keras')`. \n"
          ]
        },
        {
          "output_type": "stream",
          "name": "stdout",
          "text": [
            "\n",
            " mean perplexity: 1893.624274824456 \n",
            "\n",
            "Saved new model!\n",
            "\b\b\b\b\b\b\b\b\b\b\b\b\b\b\b\b\b\b\b\b\b\b\b\b\b\b\b\b\b\b\b\b\b\b\b\b\b\b\b\b\b\b\b\b\b\b\b\b\b\b\b\b\b\b\b\r\u001b[1m884/884\u001b[0m \u001b[32m━━━━━━━━━━━━━━━━━━━━\u001b[0m\u001b[37m\u001b[0m \u001b[1m13s\u001b[0m 11ms/step - loss: 3.5623\n",
            "Epoch 3/10\n",
            "\u001b[1m883/884\u001b[0m \u001b[32m━━━━━━━━━━━━━━━━━━━\u001b[0m\u001b[37m━\u001b[0m \u001b[1m0s\u001b[0m 5ms/step - loss: 3.4354"
          ]
        },
        {
          "output_type": "stream",
          "name": "stderr",
          "text": [
            "WARNING:absl:You are saving your model as an HDF5 file via `model.save()` or `keras.saving.save_model(model)`. This file format is considered legacy. We recommend using instead the native Keras format, e.g. `model.save('my_model.keras')` or `keras.saving.save_model(model, 'my_model.keras')`. \n"
          ]
        },
        {
          "output_type": "stream",
          "name": "stdout",
          "text": [
            "\n",
            " mean perplexity: 1835.0415668346855 \n",
            "\n",
            "Saved new model!\n",
            "\b\b\b\b\b\b\b\b\b\b\b\b\b\b\b\b\b\b\b\b\b\b\b\b\b\b\b\b\b\b\b\b\b\b\b\b\b\b\b\b\b\b\b\b\b\b\b\b\b\b\b\b\b\b\b\r\u001b[1m884/884\u001b[0m \u001b[32m━━━━━━━━━━━━━━━━━━━━\u001b[0m\u001b[37m\u001b[0m \u001b[1m8s\u001b[0m 9ms/step - loss: 3.4354\n",
            "Epoch 4/10\n",
            "\u001b[1m883/884\u001b[0m \u001b[32m━━━━━━━━━━━━━━━━━━━\u001b[0m\u001b[37m━\u001b[0m \u001b[1m0s\u001b[0m 6ms/step - loss: 3.3625"
          ]
        },
        {
          "output_type": "stream",
          "name": "stderr",
          "text": [
            "WARNING:absl:You are saving your model as an HDF5 file via `model.save()` or `keras.saving.save_model(model)`. This file format is considered legacy. We recommend using instead the native Keras format, e.g. `model.save('my_model.keras')` or `keras.saving.save_model(model, 'my_model.keras')`. \n"
          ]
        },
        {
          "output_type": "stream",
          "name": "stdout",
          "text": [
            "\n",
            " mean perplexity: 1757.9953763997057 \n",
            "\n",
            "Saved new model!\n",
            "\b\b\b\b\b\b\b\b\b\b\b\b\b\b\b\b\b\b\b\b\b\b\b\b\b\b\b\b\b\b\b\b\b\b\b\b\b\b\b\b\b\b\b\b\b\b\b\b\b\b\b\b\b\b\b\r\u001b[1m884/884\u001b[0m \u001b[32m━━━━━━━━━━━━━━━━━━━━\u001b[0m\u001b[37m\u001b[0m \u001b[1m9s\u001b[0m 10ms/step - loss: 3.3625\n",
            "Epoch 5/10\n",
            "\u001b[1m880/884\u001b[0m \u001b[32m━━━━━━━━━━━━━━━━━━━\u001b[0m\u001b[37m━\u001b[0m \u001b[1m0s\u001b[0m 5ms/step - loss: 3.2910"
          ]
        },
        {
          "output_type": "stream",
          "name": "stderr",
          "text": [
            "WARNING:absl:You are saving your model as an HDF5 file via `model.save()` or `keras.saving.save_model(model)`. This file format is considered legacy. We recommend using instead the native Keras format, e.g. `model.save('my_model.keras')` or `keras.saving.save_model(model, 'my_model.keras')`. \n"
          ]
        },
        {
          "output_type": "stream",
          "name": "stdout",
          "text": [
            "\n",
            " mean perplexity: 1675.2301546655738 \n",
            "\n",
            "Saved new model!\n",
            "\b\b\b\b\b\b\b\b\b\b\b\b\b\b\b\b\b\b\b\b\b\b\b\b\b\b\b\b\b\b\b\b\b\b\b\b\b\b\b\b\b\b\b\b\b\b\b\b\b\b\b\b\b\b\b\r\u001b[1m884/884\u001b[0m \u001b[32m━━━━━━━━━━━━━━━━━━━━\u001b[0m\u001b[37m\u001b[0m \u001b[1m10s\u001b[0m 11ms/step - loss: 3.2909\n",
            "Epoch 6/10\n",
            "\u001b[1m879/884\u001b[0m \u001b[32m━━━━━━━━━━━━━━━━━━━\u001b[0m\u001b[37m━\u001b[0m \u001b[1m0s\u001b[0m 5ms/step - loss: 3.2198"
          ]
        },
        {
          "output_type": "stream",
          "name": "stderr",
          "text": [
            "WARNING:absl:You are saving your model as an HDF5 file via `model.save()` or `keras.saving.save_model(model)`. This file format is considered legacy. We recommend using instead the native Keras format, e.g. `model.save('my_model.keras')` or `keras.saving.save_model(model, 'my_model.keras')`. \n"
          ]
        },
        {
          "output_type": "stream",
          "name": "stdout",
          "text": [
            "\n",
            " mean perplexity: 1648.4172239756474 \n",
            "\n",
            "Saved new model!\n",
            "\b\b\b\b\b\b\b\b\b\b\b\b\b\b\b\b\b\b\b\b\b\b\b\b\b\b\b\b\b\b\b\b\b\b\b\b\b\b\b\b\b\b\b\b\b\b\b\b\b\b\b\b\b\b\b\r\u001b[1m884/884\u001b[0m \u001b[32m━━━━━━━━━━━━━━━━━━━━\u001b[0m\u001b[37m\u001b[0m \u001b[1m10s\u001b[0m 11ms/step - loss: 3.2197\n",
            "Epoch 7/10\n",
            "\u001b[1m884/884\u001b[0m \u001b[32m━━━━━━━━━━━━━━━━━━━━\u001b[0m\u001b[37m\u001b[0m \u001b[1m0s\u001b[0m 5ms/step - loss: 3.1335"
          ]
        },
        {
          "output_type": "stream",
          "name": "stderr",
          "text": [
            "WARNING:absl:You are saving your model as an HDF5 file via `model.save()` or `keras.saving.save_model(model)`. This file format is considered legacy. We recommend using instead the native Keras format, e.g. `model.save('my_model.keras')` or `keras.saving.save_model(model, 'my_model.keras')`. \n"
          ]
        },
        {
          "output_type": "stream",
          "name": "stdout",
          "text": [
            "\n",
            " mean perplexity: 1603.7852215743515 \n",
            "\n",
            "Saved new model!\n",
            "\b\b\b\b\b\b\b\b\b\b\b\b\b\b\b\b\b\b\b\b\b\b\b\b\b\b\b\b\b\b\b\b\b\b\b\b\b\b\b\b\b\b\b\b\b\b\b\b\b\b\b\b\b\b\b\r\u001b[1m884/884\u001b[0m \u001b[32m━━━━━━━━━━━━━━━━━━━━\u001b[0m\u001b[37m\u001b[0m \u001b[1m10s\u001b[0m 11ms/step - loss: 3.1335\n",
            "Epoch 8/10\n",
            "\u001b[1m879/884\u001b[0m \u001b[32m━━━━━━━━━━━━━━━━━━━\u001b[0m\u001b[37m━\u001b[0m \u001b[1m0s\u001b[0m 7ms/step - loss: 3.0877\n",
            " mean perplexity: 1752.5653924329285 \n",
            "\n",
            "\u001b[1m884/884\u001b[0m \u001b[32m━━━━━━━━━━━━━━━━━━━━\u001b[0m\u001b[37m\u001b[0m \u001b[1m10s\u001b[0m 11ms/step - loss: 3.0876\n",
            "Epoch 9/10\n",
            "\u001b[1m879/884\u001b[0m \u001b[32m━━━━━━━━━━━━━━━━━━━\u001b[0m\u001b[37m━\u001b[0m \u001b[1m0s\u001b[0m 5ms/step - loss: 3.0172\n",
            " mean perplexity: 1621.3896336964447 \n",
            "\n",
            "\u001b[1m884/884\u001b[0m \u001b[32m━━━━━━━━━━━━━━━━━━━━\u001b[0m\u001b[37m\u001b[0m \u001b[1m10s\u001b[0m 11ms/step - loss: 3.0172\n",
            "Epoch 10/10\n",
            "\u001b[1m881/884\u001b[0m \u001b[32m━━━━━━━━━━━━━━━━━━━\u001b[0m\u001b[37m━\u001b[0m \u001b[1m0s\u001b[0m 5ms/step - loss: 2.9656\n",
            " mean perplexity: 1656.1008079561805 \n",
            "\n",
            "\u001b[1m884/884\u001b[0m \u001b[32m━━━━━━━━━━━━━━━━━━━━\u001b[0m\u001b[37m\u001b[0m \u001b[1m10s\u001b[0m 11ms/step - loss: 2.9656\n"
          ]
        }
      ]
    },
    {
      "cell_type": "code",
      "source": [
        "import matplotlib.pyplot as plt\n",
        "import seaborn as sns\n",
        "\n"
      ],
      "metadata": {
        "id": "yMtiGiGPwe0Z"
      },
      "execution_count": 20,
      "outputs": []
    },
    {
      "cell_type": "code",
      "source": [
        "epoch_count = range(1, len(history_ppl) + 1)\n",
        "sns.lineplot(x=epoch_count,  y=history_ppl)\n",
        "plt.show()"
      ],
      "metadata": {
        "colab": {
          "base_uri": "https://localhost:8080/",
          "height": 430
        },
        "id": "Hn__8IKToF-U",
        "outputId": "9623baed-fe6d-4726-d09a-aebeb375aa75"
      },
      "execution_count": null,
      "outputs": [
        {
          "output_type": "display_data",
          "data": {
            "text/plain": [
              "<Figure size 640x480 with 1 Axes>"
            ],
            "image/png": "[encoded data removed]"
          },
          "metadata": {}
        }
      ]
    },
    {
      "cell_type": "markdown",
      "source": [
        "#Modelo GRU"
      ],
      "metadata": {
        "id": "jUU0OPMqMtvv"
      }
    },
    {
      "cell_type": "code",
      "source": [
        "history_ppl = []\n",
        "hist = model_GRU.fit(X, y, epochs=10, callbacks=[PplCallback(tokenized_sentences_val,history_ppl)], batch_size=40)"
      ],
      "metadata": {
        "colab": {
          "base_uri": "https://localhost:8080/"
        },
        "id": "bKLocZMqr_dm",
        "outputId": "93ca868c-1fa6-4927-8f38-9c9da3664dfc"
      },
      "execution_count": null,
      "outputs": [
        {
          "output_type": "stream",
          "name": "stdout",
          "text": [
            "Epoch 1/10\n",
            "\u001b[1m884/884\u001b[0m \u001b[32m━━━━━━━━━━━━━━━━━━━━\u001b[0m\u001b[37m\u001b[0m \u001b[1m0s\u001b[0m 63ms/step - loss: 4.6125"
          ]
        },
        {
          "output_type": "stream",
          "name": "stderr",
          "text": [
            "WARNING:absl:You are saving your model as an HDF5 file via `model.save()` or `keras.saving.save_model(model)`. This file format is considered legacy. We recommend using instead the native Keras format, e.g. `model.save('my_model.keras')` or `keras.saving.save_model(model, 'my_model.keras')`. \n"
          ]
        },
        {
          "output_type": "stream",
          "name": "stdout",
          "text": [
            "\n",
            " mean perplexity: 8176.041220742263 \n",
            "\n",
            "Saved new model!\n",
            "\b\b\b\b\b\b\b\b\b\b\b\b\b\b\b\b\b\b\b\b\b\b\b\b\b\b\b\b\b\b\b\b\b\b\b\b\b\b\b\b\b\b\b\b\b\b\b\b\b\b\b\b\b\b\b\b\r\u001b[1m884/884\u001b[0m \u001b[32m━━━━━━━━━━━━━━━━━━━━\u001b[0m\u001b[37m\u001b[0m \u001b[1m66s\u001b[0m 70ms/step - loss: 4.6119\n",
            "Epoch 2/10\n",
            "\u001b[1m884/884\u001b[0m \u001b[32m━━━━━━━━━━━━━━━━━━━━\u001b[0m\u001b[37m\u001b[0m \u001b[1m0s\u001b[0m 62ms/step - loss: 3.6342"
          ]
        },
        {
          "output_type": "stream",
          "name": "stderr",
          "text": [
            "WARNING:absl:You are saving your model as an HDF5 file via `model.save()` or `keras.saving.save_model(model)`. This file format is considered legacy. We recommend using instead the native Keras format, e.g. `model.save('my_model.keras')` or `keras.saving.save_model(model, 'my_model.keras')`. \n"
          ]
        },
        {
          "output_type": "stream",
          "name": "stdout",
          "text": [
            "\n",
            " mean perplexity: 6526.393788876211 \n",
            "\n",
            "Saved new model!\n",
            "\b\b\b\b\b\b\b\b\b\b\b\b\b\b\b\b\b\b\b\b\b\b\b\b\b\b\b\b\b\b\b\b\b\b\b\b\b\b\b\b\b\b\b\b\b\b\b\b\b\b\b\b\b\b\b\b\r\u001b[1m884/884\u001b[0m \u001b[32m━━━━━━━━━━━━━━━━━━━━\u001b[0m\u001b[37m\u001b[0m \u001b[1m81s\u001b[0m 70ms/step - loss: 3.6342\n",
            "Epoch 3/10\n",
            "\u001b[1m883/884\u001b[0m \u001b[32m━━━━━━━━━━━━━━━━━━━\u001b[0m\u001b[37m━\u001b[0m \u001b[1m0s\u001b[0m 65ms/step - loss: 3.4411"
          ]
        },
        {
          "output_type": "stream",
          "name": "stderr",
          "text": [
            "WARNING:absl:You are saving your model as an HDF5 file via `model.save()` or `keras.saving.save_model(model)`. This file format is considered legacy. We recommend using instead the native Keras format, e.g. `model.save('my_model.keras')` or `keras.saving.save_model(model, 'my_model.keras')`. \n"
          ]
        },
        {
          "output_type": "stream",
          "name": "stdout",
          "text": [
            "\n",
            " mean perplexity: 5204.595969379167 \n",
            "\n",
            "Saved new model!\n",
            "\b\b\b\b\b\b\b\b\b\b\b\b\b\b\b\b\b\b\b\b\b\b\b\b\b\b\b\b\b\b\b\b\b\b\b\b\b\b\b\b\b\b\b\b\b\b\b\b\b\b\b\b\b\b\b\b\r\u001b[1m884/884\u001b[0m \u001b[32m━━━━━━━━━━━━━━━━━━━━\u001b[0m\u001b[37m\u001b[0m \u001b[1m83s\u001b[0m 71ms/step - loss: 3.4411\n",
            "Epoch 4/10\n",
            "\u001b[1m884/884\u001b[0m \u001b[32m━━━━━━━━━━━━━━━━━━━━\u001b[0m\u001b[37m\u001b[0m \u001b[1m0s\u001b[0m 62ms/step - loss: 3.3790\n",
            " mean perplexity: 5628.099366392643 \n",
            "\n",
            "\u001b[1m884/884\u001b[0m \u001b[32m━━━━━━━━━━━━━━━━━━━━\u001b[0m\u001b[37m\u001b[0m \u001b[1m80s\u001b[0m 70ms/step - loss: 3.3790\n",
            "Epoch 5/10\n",
            "\u001b[1m884/884\u001b[0m \u001b[32m━━━━━━━━━━━━━━━━━━━━\u001b[0m\u001b[37m\u001b[0m \u001b[1m0s\u001b[0m 63ms/step - loss: 3.3044"
          ]
        },
        {
          "output_type": "stream",
          "name": "stderr",
          "text": [
            "WARNING:absl:You are saving your model as an HDF5 file via `model.save()` or `keras.saving.save_model(model)`. This file format is considered legacy. We recommend using instead the native Keras format, e.g. `model.save('my_model.keras')` or `keras.saving.save_model(model, 'my_model.keras')`. \n"
          ]
        },
        {
          "output_type": "stream",
          "name": "stdout",
          "text": [
            "\n",
            " mean perplexity: 5044.122436860443 \n",
            "\n",
            "Saved new model!\n",
            "\b\b\b\b\b\b\b\b\b\b\b\b\b\b\b\b\b\b\b\b\b\b\b\b\b\b\b\b\b\b\b\b\b\b\b\b\b\b\b\b\b\b\b\b\b\b\b\b\b\b\b\b\b\b\b\b\r\u001b[1m884/884\u001b[0m \u001b[32m━━━━━━━━━━━━━━━━━━━━\u001b[0m\u001b[37m\u001b[0m \u001b[1m66s\u001b[0m 75ms/step - loss: 3.3044\n",
            "Epoch 6/10\n",
            "\u001b[1m884/884\u001b[0m \u001b[32m━━━━━━━━━━━━━━━━━━━━\u001b[0m\u001b[37m\u001b[0m \u001b[1m0s\u001b[0m 64ms/step - loss: 3.2771"
          ]
        },
        {
          "output_type": "stream",
          "name": "stderr",
          "text": [
            "WARNING:absl:You are saving your model as an HDF5 file via `model.save()` or `keras.saving.save_model(model)`. This file format is considered legacy. We recommend using instead the native Keras format, e.g. `model.save('my_model.keras')` or `keras.saving.save_model(model, 'my_model.keras')`. \n"
          ]
        },
        {
          "output_type": "stream",
          "name": "stdout",
          "text": [
            "\n",
            " mean perplexity: 4453.477411604999 \n",
            "\n",
            "Saved new model!\n",
            "\b\b\b\b\b\b\b\b\b\b\b\b\b\b\b\b\b\b\b\b\b\b\b\b\b\b\b\b\b\b\b\b\b\b\b\b\b\b\b\b\b\b\b\b\b\b\b\b\b\b\b\b\b\b\b\b\r\u001b[1m884/884\u001b[0m \u001b[32m━━━━━━━━━━━━━━━━━━━━\u001b[0m\u001b[37m\u001b[0m \u001b[1m79s\u001b[0m 71ms/step - loss: 3.2771\n",
            "Epoch 7/10\n",
            "\u001b[1m884/884\u001b[0m \u001b[32m━━━━━━━━━━━━━━━━━━━━\u001b[0m\u001b[37m\u001b[0m \u001b[1m0s\u001b[0m 63ms/step - loss: 3.2431"
          ]
        },
        {
          "output_type": "stream",
          "name": "stderr",
          "text": [
            "WARNING:absl:You are saving your model as an HDF5 file via `model.save()` or `keras.saving.save_model(model)`. This file format is considered legacy. We recommend using instead the native Keras format, e.g. `model.save('my_model.keras')` or `keras.saving.save_model(model, 'my_model.keras')`. \n"
          ]
        },
        {
          "output_type": "stream",
          "name": "stdout",
          "text": [
            "\n",
            " mean perplexity: 3980.4794372350075 \n",
            "\n",
            "Saved new model!\n",
            "\b\b\b\b\b\b\b\b\b\b\b\b\b\b\b\b\b\b\b\b\b\b\b\b\b\b\b\b\b\b\b\b\b\b\b\b\b\b\b\b\b\b\b\b\b\b\b\b\b\b\b\b\b\b\b\b\r\u001b[1m884/884\u001b[0m \u001b[32m━━━━━━━━━━━━━━━━━━━━\u001b[0m\u001b[37m\u001b[0m \u001b[1m85s\u001b[0m 75ms/step - loss: 3.2431\n",
            "Epoch 8/10\n",
            "\u001b[1m884/884\u001b[0m \u001b[32m━━━━━━━━━━━━━━━━━━━━\u001b[0m\u001b[37m\u001b[0m \u001b[1m0s\u001b[0m 62ms/step - loss: 3.2238\n",
            " mean perplexity: 5436.232517690033 \n",
            "\n",
            "\u001b[1m884/884\u001b[0m \u001b[32m━━━━━━━━━━━━━━━━━━━━\u001b[0m\u001b[37m\u001b[0m \u001b[1m76s\u001b[0m 69ms/step - loss: 3.2237\n",
            "Epoch 9/10\n",
            "\u001b[1m884/884\u001b[0m \u001b[32m━━━━━━━━━━━━━━━━━━━━\u001b[0m\u001b[37m\u001b[0m \u001b[1m0s\u001b[0m 63ms/step - loss: 3.1830"
          ]
        },
        {
          "output_type": "stream",
          "name": "stderr",
          "text": [
            "WARNING:absl:You are saving your model as an HDF5 file via `model.save()` or `keras.saving.save_model(model)`. This file format is considered legacy. We recommend using instead the native Keras format, e.g. `model.save('my_model.keras')` or `keras.saving.save_model(model, 'my_model.keras')`. \n"
          ]
        },
        {
          "output_type": "stream",
          "name": "stdout",
          "text": [
            "\n",
            " mean perplexity: 3549.032198571463 \n",
            "\n",
            "Saved new model!\n",
            "\b\b\b\b\b\b\b\b\b\b\b\b\b\b\b\b\b\b\b\b\b\b\b\b\b\b\b\b\b\b\b\b\b\b\b\b\b\b\b\b\b\b\b\b\b\b\b\b\b\b\b\b\b\b\b\b\r\u001b[1m884/884\u001b[0m \u001b[32m━━━━━━━━━━━━━━━━━━━━\u001b[0m\u001b[37m\u001b[0m \u001b[1m87s\u001b[0m 74ms/step - loss: 3.1830\n",
            "Epoch 10/10\n",
            "\u001b[1m884/884\u001b[0m \u001b[32m━━━━━━━━━━━━━━━━━━━━\u001b[0m\u001b[37m\u001b[0m \u001b[1m0s\u001b[0m 63ms/step - loss: 3.1568\n",
            " mean perplexity: 3576.305422415572 \n",
            "\n",
            "\u001b[1m884/884\u001b[0m \u001b[32m━━━━━━━━━━━━━━━━━━━━\u001b[0m\u001b[37m\u001b[0m \u001b[1m78s\u001b[0m 70ms/step - loss: 3.1568\n"
          ]
        }
      ]
    },
    {
      "cell_type": "code",
      "source": [
        "epoch_count = range(1, len(history_ppl) + 1)\n",
        "sns.lineplot(x=epoch_count,  y=history_ppl)\n",
        "plt.show()"
      ],
      "metadata": {
        "colab": {
          "base_uri": "https://localhost:8080/",
          "height": 430
        },
        "id": "r1iD6dO5wonB",
        "outputId": "50e0424f-2d3d-44c6-be01-4f4da7b00a15"
      },
      "execution_count": null,
      "outputs": [
        {
          "output_type": "display_data",
          "data": {
            "text/plain": [
              "<Figure size 640x480 with 1 Axes>"
            ],
            "image/png": "[encoded data removed]"
          },
          "metadata": {}
        }
      ]
    },
    {
      "cell_type": "markdown",
      "source": [
        "#Modelo LSTM"
      ],
      "metadata": {
        "id": "KboLaSfKNPWB"
      }
    },
    {
      "cell_type": "code",
      "execution_count": 23,
      "metadata": {
        "id": "oQq1PHDkxDvN",
        "colab": {
          "base_uri": "https://localhost:8080/"
        },
        "outputId": "1403a42d-920f-4e68-c895-8a552147f848"
      },
      "outputs": [
        {
          "output_type": "stream",
          "name": "stdout",
          "text": [
            "Epoch 1/15\n",
            "\u001b[1m882/884\u001b[0m \u001b[32m━━━━━━━━━━━━━━━━━━━\u001b[0m\u001b[37m━\u001b[0m \u001b[1m0s\u001b[0m 27ms/step - loss: 4.4657"
          ]
        },
        {
          "output_type": "stream",
          "name": "stderr",
          "text": [
            "WARNING:absl:You are saving your model as an HDF5 file via `model.save()` or `keras.saving.save_model(model)`. This file format is considered legacy. We recommend using instead the native Keras format, e.g. `model.save('my_model.keras')` or `keras.saving.save_model(model, 'my_model.keras')`. \n"
          ]
        },
        {
          "output_type": "stream",
          "name": "stdout",
          "text": [
            "\n",
            " mean perplexity: 2149.938868752731 \n",
            "\n",
            "Saved new model!\n",
            "\b\b\b\b\b\b\b\b\b\b\b\b\b\b\b\b\b\b\b\b\b\b\b\b\b\b\b\b\b\b\b\b\b\b\b\b\b\b\b\b\b\b\b\b\b\b\b\b\b\b\b\b\b\b\b\b\r\u001b[1m884/884\u001b[0m \u001b[32m━━━━━━━━━━━━━━━━━━━━\u001b[0m\u001b[37m\u001b[0m \u001b[1m37s\u001b[0m 39ms/step - loss: 4.4640\n",
            "Epoch 2/15\n",
            "\u001b[1m884/884\u001b[0m \u001b[32m━━━━━━━━━━━━━━━━━━━━\u001b[0m\u001b[37m\u001b[0m \u001b[1m0s\u001b[0m 26ms/step - loss: 3.7256\n",
            " mean perplexity: 2233.23070305756 \n",
            "\n",
            "\u001b[1m884/884\u001b[0m \u001b[32m━━━━━━━━━━━━━━━━━━━━\u001b[0m\u001b[37m\u001b[0m \u001b[1m34s\u001b[0m 38ms/step - loss: 3.7256\n",
            "Epoch 3/15\n",
            "\u001b[1m884/884\u001b[0m \u001b[32m━━━━━━━━━━━━━━━━━━━━\u001b[0m\u001b[37m\u001b[0m \u001b[1m0s\u001b[0m 27ms/step - loss: 3.5470"
          ]
        },
        {
          "output_type": "stream",
          "name": "stderr",
          "text": [
            "WARNING:absl:You are saving your model as an HDF5 file via `model.save()` or `keras.saving.save_model(model)`. This file format is considered legacy. We recommend using instead the native Keras format, e.g. `model.save('my_model.keras')` or `keras.saving.save_model(model, 'my_model.keras')`. \n"
          ]
        },
        {
          "output_type": "stream",
          "name": "stdout",
          "text": [
            "\n",
            " mean perplexity: 1923.4907246775851 \n",
            "\n",
            "Saved new model!\n",
            "\b\b\b\b\b\b\b\b\b\b\b\b\b\b\b\b\b\b\b\b\b\b\b\b\b\b\b\b\b\b\b\b\b\b\b\b\b\b\b\b\b\b\b\b\b\b\b\b\b\b\b\b\b\b\b\b\r\u001b[1m884/884\u001b[0m \u001b[32m━━━━━━━━━━━━━━━━━━━━\u001b[0m\u001b[37m\u001b[0m \u001b[1m29s\u001b[0m 33ms/step - loss: 3.5470\n",
            "Epoch 4/15\n",
            "\u001b[1m884/884\u001b[0m \u001b[32m━━━━━━━━━━━━━━━━━━━━\u001b[0m\u001b[37m\u001b[0m \u001b[1m0s\u001b[0m 26ms/step - loss: 3.4473"
          ]
        },
        {
          "output_type": "stream",
          "name": "stderr",
          "text": [
            "WARNING:absl:You are saving your model as an HDF5 file via `model.save()` or `keras.saving.save_model(model)`. This file format is considered legacy. We recommend using instead the native Keras format, e.g. `model.save('my_model.keras')` or `keras.saving.save_model(model, 'my_model.keras')`. \n"
          ]
        },
        {
          "output_type": "stream",
          "name": "stdout",
          "text": [
            "\n",
            " mean perplexity: 1864.220552733169 \n",
            "\n",
            "Saved new model!\n",
            "\b\b\b\b\b\b\b\b\b\b\b\b\b\b\b\b\b\b\b\b\b\b\b\b\b\b\b\b\b\b\b\b\b\b\b\b\b\b\b\b\b\b\b\b\b\b\b\b\b\b\b\b\b\b\b\b\r\u001b[1m884/884\u001b[0m \u001b[32m━━━━━━━━━━━━━━━━━━━━\u001b[0m\u001b[37m\u001b[0m \u001b[1m41s\u001b[0m 33ms/step - loss: 3.4472\n",
            "Epoch 5/15\n",
            "\u001b[1m884/884\u001b[0m \u001b[32m━━━━━━━━━━━━━━━━━━━━\u001b[0m\u001b[37m\u001b[0m \u001b[1m0s\u001b[0m 27ms/step - loss: 3.3739"
          ]
        },
        {
          "output_type": "stream",
          "name": "stderr",
          "text": [
            "WARNING:absl:You are saving your model as an HDF5 file via `model.save()` or `keras.saving.save_model(model)`. This file format is considered legacy. We recommend using instead the native Keras format, e.g. `model.save('my_model.keras')` or `keras.saving.save_model(model, 'my_model.keras')`. \n"
          ]
        },
        {
          "output_type": "stream",
          "name": "stdout",
          "text": [
            "\n",
            " mean perplexity: 1728.668241084409 \n",
            "\n",
            "Saved new model!\n",
            "\b\b\b\b\b\b\b\b\b\b\b\b\b\b\b\b\b\b\b\b\b\b\b\b\b\b\b\b\b\b\b\b\b\b\b\b\b\b\b\b\b\b\b\b\b\b\b\b\b\b\b\b\b\b\b\b\r\u001b[1m884/884\u001b[0m \u001b[32m━━━━━━━━━━━━━━━━━━━━\u001b[0m\u001b[37m\u001b[0m \u001b[1m41s\u001b[0m 33ms/step - loss: 3.3739\n",
            "Epoch 6/15\n",
            "\u001b[1m882/884\u001b[0m \u001b[32m━━━━━━━━━━━━━━━━━━━\u001b[0m\u001b[37m━\u001b[0m \u001b[1m0s\u001b[0m 28ms/step - loss: 3.3034"
          ]
        },
        {
          "output_type": "stream",
          "name": "stderr",
          "text": [
            "WARNING:absl:You are saving your model as an HDF5 file via `model.save()` or `keras.saving.save_model(model)`. This file format is considered legacy. We recommend using instead the native Keras format, e.g. `model.save('my_model.keras')` or `keras.saving.save_model(model, 'my_model.keras')`. \n"
          ]
        },
        {
          "output_type": "stream",
          "name": "stdout",
          "text": [
            "\n",
            " mean perplexity: 1613.3954735499879 \n",
            "\n",
            "Saved new model!\n",
            "\b\b\b\b\b\b\b\b\b\b\b\b\b\b\b\b\b\b\b\b\b\b\b\b\b\b\b\b\b\b\b\b\b\b\b\b\b\b\b\b\b\b\b\b\b\b\b\b\b\b\b\b\b\b\b\b\r\u001b[1m884/884\u001b[0m \u001b[32m━━━━━━━━━━━━━━━━━━━━\u001b[0m\u001b[37m\u001b[0m \u001b[1m30s\u001b[0m 33ms/step - loss: 3.3034\n",
            "Epoch 7/15\n",
            "\u001b[1m884/884\u001b[0m \u001b[32m━━━━━━━━━━━━━━━━━━━━\u001b[0m\u001b[37m\u001b[0m \u001b[1m0s\u001b[0m 28ms/step - loss: 3.2633"
          ]
        },
        {
          "output_type": "stream",
          "name": "stderr",
          "text": [
            "WARNING:absl:You are saving your model as an HDF5 file via `model.save()` or `keras.saving.save_model(model)`. This file format is considered legacy. We recommend using instead the native Keras format, e.g. `model.save('my_model.keras')` or `keras.saving.save_model(model, 'my_model.keras')`. \n"
          ]
        },
        {
          "output_type": "stream",
          "name": "stdout",
          "text": [
            "\n",
            " mean perplexity: 1579.2025840563833 \n",
            "\n",
            "Saved new model!\n",
            "\b\b\b\b\b\b\b\b\b\b\b\b\b\b\b\b\b\b\b\b\b\b\b\b\b\b\b\b\b\b\b\b\b\b\b\b\b\b\b\b\b\b\b\b\b\b\b\b\b\b\b\b\b\b\b\b\r\u001b[1m884/884\u001b[0m \u001b[32m━━━━━━━━━━━━━━━━━━━━\u001b[0m\u001b[37m\u001b[0m \u001b[1m42s\u001b[0m 34ms/step - loss: 3.2633\n",
            "Epoch 8/15\n",
            "\u001b[1m884/884\u001b[0m \u001b[32m━━━━━━━━━━━━━━━━━━━━\u001b[0m\u001b[37m\u001b[0m \u001b[1m0s\u001b[0m 29ms/step - loss: 3.2092\n",
            " mean perplexity: 1683.1058385332597 \n",
            "\n",
            "\u001b[1m884/884\u001b[0m \u001b[32m━━━━━━━━━━━━━━━━━━━━\u001b[0m\u001b[37m\u001b[0m \u001b[1m41s\u001b[0m 34ms/step - loss: 3.2092\n",
            "Epoch 9/15\n",
            "\u001b[1m883/884\u001b[0m \u001b[32m━━━━━━━━━━━━━━━━━━━\u001b[0m\u001b[37m━\u001b[0m \u001b[1m0s\u001b[0m 30ms/step - loss: 3.1783\n",
            " mean perplexity: 1614.302744680448 \n",
            "\n",
            "\u001b[1m884/884\u001b[0m \u001b[32m━━━━━━━━━━━━━━━━━━━━\u001b[0m\u001b[37m\u001b[0m \u001b[1m43s\u001b[0m 36ms/step - loss: 3.1783\n",
            "Epoch 10/15\n",
            "\u001b[1m883/884\u001b[0m \u001b[32m━━━━━━━━━━━━━━━━━━━\u001b[0m\u001b[37m━\u001b[0m \u001b[1m0s\u001b[0m 30ms/step - loss: 3.1178\n",
            " mean perplexity: 1667.4221762245056 \n",
            "\n",
            "\u001b[1m884/884\u001b[0m \u001b[32m━━━━━━━━━━━━━━━━━━━━\u001b[0m\u001b[37m\u001b[0m \u001b[1m42s\u001b[0m 37ms/step - loss: 3.1178\n",
            "Epoch 11/15\n",
            "\u001b[1m883/884\u001b[0m \u001b[32m━━━━━━━━━━━━━━━━━━━\u001b[0m\u001b[37m━\u001b[0m \u001b[1m0s\u001b[0m 31ms/step - loss: 3.0778\n",
            " mean perplexity: 1753.2857646569155 \n",
            "\n",
            "\u001b[1m884/884\u001b[0m \u001b[32m━━━━━━━━━━━━━━━━━━━━\u001b[0m\u001b[37m\u001b[0m \u001b[1m40s\u001b[0m 36ms/step - loss: 3.0778\n",
            "Epoch 12/15\n",
            "\u001b[1m884/884\u001b[0m \u001b[32m━━━━━━━━━━━━━━━━━━━━\u001b[0m\u001b[37m\u001b[0m \u001b[1m0s\u001b[0m 29ms/step - loss: 3.0335\n",
            " mean perplexity: 1627.6827787838106 \n",
            "\n",
            "Stopping training...\n",
            "\u001b[1m884/884\u001b[0m \u001b[32m━━━━━━━━━━━━━━━━━━━━\u001b[0m\u001b[37m\u001b[0m \u001b[1m40s\u001b[0m 35ms/step - loss: 3.0335\n"
          ]
        }
      ],
      "source": [
        "\n",
        "history_ppl = []\n",
        "hist = model_LSTM.fit(X, y, epochs=15, callbacks=[PplCallback(tokenized_sentences_val,history_ppl)], batch_size=40)"
      ]
    },
    {
      "cell_type": "code",
      "source": [
        "epoch_count = range(1, len(history_ppl) + 1)\n",
        "sns.lineplot(x=epoch_count,  y=history_ppl)\n",
        "plt.show()"
      ],
      "metadata": {
        "id": "K30JHB3Dv-mx",
        "colab": {
          "base_uri": "https://localhost:8080/",
          "height": 430
        },
        "outputId": "2de5c543-05ce-4e09-f03f-c752827ca510"
      },
      "execution_count": 21,
      "outputs": [
        {
          "output_type": "display_data",
          "data": {
            "text/plain": [
              "<Figure size 640x480 with 1 Axes>"
            ],
            "image/png": "[encoded data removed]"
          },
          "metadata": {}
        }
      ]
    },
    {
      "cell_type": "code",
      "source": [
        "# Cargamos el mejor modelo guardado del entrenamiento para hacer inferencia\n",
        "model = keras.models.load_model('my_model.h5')"
      ],
      "metadata": {
        "id": "Rhy5hZN38qfO",
        "colab": {
          "base_uri": "https://localhost:8080/"
        },
        "outputId": "299b1852-6f7a-46e5-89a3-bde676434c9d"
      },
      "execution_count": 25,
      "outputs": [
        {
          "output_type": "stream",
          "name": "stderr",
          "text": [
            "WARNING:absl:Compiled the loaded model, but the compiled metrics have yet to be built. `model.compile_metrics` will be empty until you train or evaluate the model.\n"
          ]
        }
      ]
    },
    {
      "cell_type": "markdown",
      "metadata": {
        "id": "KN6Fg_BsxJe6"
      },
      "source": [
        "\n",
        "### Predicción de próxima palabra"
      ]
    },
    {
      "cell_type": "code",
      "execution_count": 26,
      "metadata": {
        "id": "IBvKHFPmzpy2",
        "colab": {
          "base_uri": "https://localhost:8080/"
        },
        "outputId": "81b72131-2c48-4b70-ac99-8973c631e87a"
      },
      "outputs": [
        {
          "output_type": "stream",
          "name": "stdout",
          "text": [
            "\u001b[2K     \u001b[90m━━━━━━━━━━━━━━━━━━━━━━━━━━━━━━━━━━━━━━━━\u001b[0m \u001b[32m50.4/50.4 kB\u001b[0m \u001b[31m3.9 MB/s\u001b[0m eta \u001b[36m0:00:00\u001b[0m\n",
            "\u001b[2K   \u001b[90m━━━━━━━━━━━━━━━━━━━━━━━━━━━━━━━━━━━━━━━━\u001b[0m \u001b[32m18.1/18.1 MB\u001b[0m \u001b[31m65.8 MB/s\u001b[0m eta \u001b[36m0:00:00\u001b[0m\n",
            "\u001b[2K   \u001b[90m━━━━━━━━━━━━━━━━━━━━━━━━━━━━━━━━━━━━━━━━\u001b[0m \u001b[32m318.7/318.7 kB\u001b[0m \u001b[31m22.4 MB/s\u001b[0m eta \u001b[36m0:00:00\u001b[0m\n",
            "\u001b[2K   \u001b[90m━━━━━━━━━━━━━━━━━━━━━━━━━━━━━━━━━━━━━━━━\u001b[0m \u001b[32m94.6/94.6 kB\u001b[0m \u001b[31m8.6 MB/s\u001b[0m eta \u001b[36m0:00:00\u001b[0m\n",
            "\u001b[2K   \u001b[90m━━━━━━━━━━━━━━━━━━━━━━━━━━━━━━━━━━━━━━━━\u001b[0m \u001b[32m76.4/76.4 kB\u001b[0m \u001b[31m7.0 MB/s\u001b[0m eta \u001b[36m0:00:00\u001b[0m\n",
            "\u001b[2K   \u001b[90m━━━━━━━━━━━━━━━━━━━━━━━━━━━━━━━━━━━━━━━━\u001b[0m \u001b[32m77.9/77.9 kB\u001b[0m \u001b[31m7.7 MB/s\u001b[0m eta \u001b[36m0:00:00\u001b[0m\n",
            "\u001b[2K   \u001b[90m━━━━━━━━━━━━━━━━━━━━━━━━━━━━━━━━━━━━━━━━\u001b[0m \u001b[32m141.9/141.9 kB\u001b[0m \u001b[31m13.5 MB/s\u001b[0m eta \u001b[36m0:00:00\u001b[0m\n",
            "\u001b[2K   \u001b[90m━━━━━━━━━━━━━━━━━━━━━━━━━━━━━━━━━━━━━━━━\u001b[0m \u001b[32m10.9/10.9 MB\u001b[0m \u001b[31m72.6 MB/s\u001b[0m eta \u001b[36m0:00:00\u001b[0m\n",
            "\u001b[2K   \u001b[90m━━━━━━━━━━━━━━━━━━━━━━━━━━━━━━━━━━━━━━━━\u001b[0m \u001b[32m63.7/63.7 kB\u001b[0m \u001b[31m5.9 MB/s\u001b[0m eta \u001b[36m0:00:00\u001b[0m\n",
            "\u001b[2K   \u001b[90m━━━━━━━━━━━━━━━━━━━━━━━━━━━━━━━━━━━━━━━━\u001b[0m \u001b[32m58.3/58.3 kB\u001b[0m \u001b[31m6.3 MB/s\u001b[0m eta \u001b[36m0:00:00\u001b[0m\n",
            "\u001b[2K   \u001b[90m━━━━━━━━━━━━━━━━━━━━━━━━━━━━━━━━━━━━━━━━\u001b[0m \u001b[32m71.5/71.5 kB\u001b[0m \u001b[31m7.9 MB/s\u001b[0m eta \u001b[36m0:00:00\u001b[0m\n",
            "\u001b[2K   \u001b[90m━━━━━━━━━━━━━━━━━━━━━━━━━━━━━━━━━━━━━━━━\u001b[0m \u001b[32m130.2/130.2 kB\u001b[0m \u001b[31m13.7 MB/s\u001b[0m eta \u001b[36m0:00:00\u001b[0m\n",
            "\u001b[?25h"
          ]
        }
      ],
      "source": [
        "# Se puede usar gradio para probar el modelo\n",
        "# Gradio es una herramienta muy útil para crear interfaces para ensayar modelos\n",
        "# https://gradio.app/\n",
        "\n",
        "!pip install -q gradio"
      ]
    },
    {
      "cell_type": "code",
      "execution_count": 27,
      "metadata": {
        "id": "HNyBykvhzs7-",
        "colab": {
          "base_uri": "https://localhost:8080/",
          "height": 732
        },
        "outputId": "bb6ddbfb-3024-4c10-d381-4ab21db29f15"
      },
      "outputs": [
        {
          "output_type": "stream",
          "name": "stdout",
          "text": [
            "Setting queue=True in a Colab notebook requires sharing enabled. Setting `share=True` (you can turn this off by setting `share=False` in `launch()` explicitly).\n",
            "\n",
            "Colab notebook detected. This cell will run indefinitely so that you can see errors and logs. To turn off, set debug=False in launch().\n",
            "Running on public URL: https://c83eba6da37d33e32d.gradio.live\n",
            "\n",
            "This share link expires in 72 hours. For free permanent hosting and GPU upgrades, run `gradio deploy` from Terminal to deploy to Spaces (https://huggingface.co/spaces)\n"
          ]
        },
        {
          "output_type": "display_data",
          "data": {
            "text/plain": [
              "<IPython.core.display.HTML object>"
            ],
            "text/html": [
              "<div><iframe src=\"https://c83eba6da37d33e32d.gradio.live\" width=\"100%\" height=\"500\" allow=\"autoplay; camera; microphone; clipboard-read; clipboard-write;\" frameborder=\"0\" allowfullscreen></iframe></div>"
            ]
          },
          "metadata": {}
        },
        {
          "output_type": "stream",
          "name": "stdout",
          "text": [
            "\u001b[1m1/1\u001b[0m \u001b[32m━━━━━━━━━━━━━━━━━━━━\u001b[0m\u001b[37m\u001b[0m \u001b[1m1s\u001b[0m 504ms/step\n",
            "\u001b[1m1/1\u001b[0m \u001b[32m━━━━━━━━━━━━━━━━━━━━\u001b[0m\u001b[37m\u001b[0m \u001b[1m0s\u001b[0m 22ms/step\n",
            "\u001b[1m1/1\u001b[0m \u001b[32m━━━━━━━━━━━━━━━━━━━━\u001b[0m\u001b[37m\u001b[0m \u001b[1m0s\u001b[0m 21ms/step\n",
            "Keyboard interruption in main thread... closing server.\n",
            "Killing tunnel 127.0.0.1:7860 <> https://c83eba6da37d33e32d.gradio.live\n"
          ]
        },
        {
          "output_type": "execute_result",
          "data": {
            "text/plain": []
          },
          "metadata": {},
          "execution_count": 27
        }
      ],
      "source": [
        "import gradio as gr\n",
        "\n",
        "def model_response(human_text):\n",
        "\n",
        "    # Encodeamos\n",
        "    encoded = tok.texts_to_sequences([human_text])[0]\n",
        "    # Si tienen distinto largo\n",
        "    encoded = pad_sequences([encoded], maxlen=max_context_size, padding='pre')\n",
        "\n",
        "    # Predicción softmax\n",
        "    y_hat = np.argmax(model.predict(encoded)[0,-1,:])\n",
        "\n",
        "\n",
        "    # Debemos buscar en el vocabulario la palabra\n",
        "    # que corresopnde al indice (y_hat) predicho por le modelo\n",
        "    out_word = ''\n",
        "    for word, index in tok.word_index.items():\n",
        "        if index == y_hat:\n",
        "            out_word = word\n",
        "            break\n",
        "\n",
        "    # Agrego la palabra a la frase predicha\n",
        "    return human_text + ' ' + out_word\n",
        "\n",
        "iface = gr.Interface(\n",
        "    fn=model_response,\n",
        "    inputs=[\"textbox\"],\n",
        "    outputs=\"text\")\n",
        "\n",
        "iface.launch(debug=True)"
      ]
    },
    {
      "cell_type": "markdown",
      "metadata": {
        "id": "mCeMWWupxN1-"
      },
      "source": [
        "### Generación de secuencias"
      ]
    },
    {
      "cell_type": "code",
      "execution_count": 28,
      "metadata": {
        "id": "bwbS_pfhxvB3"
      },
      "outputs": [],
      "source": [
        "def generate_seq(model, tokenizer, seed_text, max_length, n_words):\n",
        "    \"\"\"\n",
        "        Exec model sequence prediction\n",
        "\n",
        "        Args:\n",
        "            model (keras): modelo entrenado\n",
        "            tokenizer (keras tokenizer): tonenizer utilizado en el preprocesamiento\n",
        "            seed_text (string): texto de entrada (input_seq)\n",
        "            max_length (int): máxima longitud de la sequencia de entrada\n",
        "            n_words (int): números de palabras a agregar a la sequencia de entrada\n",
        "        returns:\n",
        "            output_text (string): sentencia con las \"n_words\" agregadas\n",
        "    \"\"\"\n",
        "    output_text = seed_text\n",
        "\t  # generate a fixed number of words\n",
        "    for _ in range(n_words):\n",
        "\t\t  # Tokenizamos\n",
        "      encoded = tokenizer.texts_to_sequences([output_text])[0]\n",
        "\n",
        "\t\t  # Si tienen distinto largo\n",
        "      encoded = pad_sequences([encoded], maxlen=max_length, padding='pre')\n",
        "\n",
        "\t\t  # Predicción softmax\n",
        "      y_hat = np.argmax(model.predict(encoded)[0,-1,:])\n",
        "\n",
        "      # Vamos concatenando las predicciones\n",
        "      out_word = ''\n",
        "\n",
        "      # Debemos buscar en el vocabulario la palabra\n",
        "      # que corresopnde al indice (y_hat) predicho por le modelo\n",
        "      for word, index in tokenizer.word_index.items():\n",
        "        if index == y_hat:\n",
        "          out_word = word\n",
        "          break\n",
        "\n",
        "\t\t  # Agrego las palabras a la frase predicha\n",
        "      output_text += ' ' + out_word\n",
        "\n",
        "    return output_text"
      ]
    },
    {
      "cell_type": "code",
      "execution_count": 31,
      "metadata": {
        "id": "JoFqRC5pxzqS",
        "colab": {
          "base_uri": "https://localhost:8080/",
          "height": 174
        },
        "outputId": "d3a7ffd2-9c92-426c-b87f-99a4dde738ca"
      },
      "outputs": [
        {
          "output_type": "stream",
          "name": "stdout",
          "text": [
            "\u001b[1m1/1\u001b[0m \u001b[32m━━━━━━━━━━━━━━━━━━━━\u001b[0m\u001b[37m\u001b[0m \u001b[1m0s\u001b[0m 21ms/step\n",
            "\u001b[1m1/1\u001b[0m \u001b[32m━━━━━━━━━━━━━━━━━━━━\u001b[0m\u001b[37m\u001b[0m \u001b[1m0s\u001b[0m 22ms/step\n",
            "\u001b[1m1/1\u001b[0m \u001b[32m━━━━━━━━━━━━━━━━━━━━\u001b[0m\u001b[37m\u001b[0m \u001b[1m0s\u001b[0m 22ms/step\n",
            "\u001b[1m1/1\u001b[0m \u001b[32m━━━━━━━━━━━━━━━━━━━━\u001b[0m\u001b[37m\u001b[0m \u001b[1m0s\u001b[0m 31ms/step\n",
            "\u001b[1m1/1\u001b[0m \u001b[32m━━━━━━━━━━━━━━━━━━━━\u001b[0m\u001b[37m\u001b[0m \u001b[1m0s\u001b[0m 21ms/step\n",
            "\u001b[1m1/1\u001b[0m \u001b[32m━━━━━━━━━━━━━━━━━━━━\u001b[0m\u001b[37m\u001b[0m \u001b[1m0s\u001b[0m 24ms/step\n",
            "\u001b[1m1/1\u001b[0m \u001b[32m━━━━━━━━━━━━━━━━━━━━\u001b[0m\u001b[37m\u001b[0m \u001b[1m0s\u001b[0m 20ms/step\n",
            "\u001b[1m1/1\u001b[0m \u001b[32m━━━━━━━━━━━━━━━━━━━━\u001b[0m\u001b[37m\u001b[0m \u001b[1m0s\u001b[0m 21ms/step\n"
          ]
        },
        {
          "output_type": "execute_result",
          "data": {
            "text/plain": [
              "'escribir un libro de los años y de la web de'"
            ],
            "application/vnd.google.colaboratory.intrinsic+json": {
              "type": "string"
            }
          },
          "metadata": {},
          "execution_count": 31
        }
      ],
      "source": [
        "input_text='escribir un libro'\n",
        "\n",
        "generate_seq(model, tok, input_text, max_length=max_context_size, n_words=8)"
      ]
    },
    {
      "cell_type": "markdown",
      "metadata": {
        "id": "drJ6xn5qW1Hl"
      },
      "source": [
        "###  Beam search y muestreo aleatorio"
      ]
    },
    {
      "cell_type": "code",
      "execution_count": 32,
      "metadata": {
        "id": "_vovn9XZW1Hl"
      },
      "outputs": [],
      "source": [
        "# funcionalidades para hacer encoding y decoding\n",
        "\n",
        "def encode(text,max_length=max_context_size):\n",
        "\n",
        "    encoded = tok.texts_to_sequences([text])[0]\n",
        "    encoded = pad_sequences([encoded], maxlen=max_length, padding='pre')\n",
        "\n",
        "    return encoded\n",
        "\n",
        "def decode(seq):\n",
        "    return tok.sequences_to_texts([seq])"
      ]
    },
    {
      "cell_type": "code",
      "execution_count": 33,
      "metadata": {
        "id": "I_lZiQwkW1Hl"
      },
      "outputs": [],
      "source": [
        "from scipy.special import softmax\n",
        "\n",
        "# función que selecciona candidatos para el beam search\n",
        "def select_candidates(pred,num_beams,vocab_size,history_probs,history_tokens,temp,mode):\n",
        "\n",
        "  # colectar todas las probabilidades para la siguiente búsqueda\n",
        "  pred_large = []\n",
        "\n",
        "  for idx,pp in enumerate(pred):\n",
        "    pred_large.extend(np.log(pp+1E-10)+history_probs[idx])\n",
        "\n",
        "  pred_large = np.array(pred_large)\n",
        "\n",
        "  # criterio de selección\n",
        "  if mode == 'det':\n",
        "    idx_select = np.argsort(pred_large)[::-1][:num_beams] # beam search determinista\n",
        "  elif mode == 'sto':\n",
        "    idx_select = np.random.choice(np.arange(pred_large.shape[0]), num_beams, p=softmax(pred_large/temp)) # beam search con muestreo aleatorio\n",
        "  else:\n",
        "    raise ValueError(f'Wrong selection mode. {mode} was given. det and sto are supported.')\n",
        "\n",
        "  # traducir a índices de token en el vocabulario\n",
        "  new_history_tokens = np.concatenate((np.array(history_tokens)[idx_select//vocab_size],\n",
        "                        np.array([idx_select%vocab_size]).T),\n",
        "                      axis=1)\n",
        "\n",
        "  # devolver el producto de las probabilidades (log) y la secuencia de tokens seleccionados\n",
        "  return pred_large[idx_select.astype(int)], new_history_tokens.astype(int)\n",
        "\n",
        "\n",
        "def beam_search(model,num_beams,num_words,input,temp=1,mode='det'):\n",
        "\n",
        "    # first iteration\n",
        "\n",
        "    # encode\n",
        "    encoded = encode(input)\n",
        "\n",
        "    # first prediction\n",
        "    y_hat = model.predict(encoded,verbose=0)[0,-1,:]\n",
        "\n",
        "    # get vocabulary size\n",
        "    vocab_size = y_hat.shape[0]\n",
        "\n",
        "    # initialize history\n",
        "    history_probs = [0]*num_beams\n",
        "    history_tokens = [encoded[0]]*num_beams\n",
        "\n",
        "    # select num_beams candidates\n",
        "    history_probs, history_tokens = select_candidates([y_hat],\n",
        "                                        num_beams,\n",
        "                                        vocab_size,\n",
        "                                        history_probs,\n",
        "                                        history_tokens,\n",
        "                                        temp,\n",
        "                                        mode)\n",
        "\n",
        "    # beam search loop\n",
        "    for i in range(num_words-1):\n",
        "\n",
        "      preds = []\n",
        "\n",
        "      for hist in history_tokens:\n",
        "\n",
        "        # actualizar secuencia de tokens\n",
        "        input_update = np.array([hist[i+1:]]).copy()\n",
        "\n",
        "        # predicción\n",
        "        y_hat = model.predict(input_update,verbose=0)[0,-1,:]\n",
        "\n",
        "        preds.append(y_hat)\n",
        "\n",
        "      history_probs, history_tokens = select_candidates(preds,\n",
        "                                                        num_beams,\n",
        "                                                        vocab_size,\n",
        "                                                        history_probs,\n",
        "                                                        history_tokens,\n",
        "                                                        temp,\n",
        "                                                        mode)\n",
        "\n",
        "    return history_tokens"
      ]
    },
    {
      "cell_type": "code",
      "execution_count": 41,
      "metadata": {
        "id": "GeLqAoOYW1Hm",
        "colab": {
          "base_uri": "https://localhost:8080/"
        },
        "outputId": "1f142572-4f03-446f-ef01-a80d69af2f1a"
      },
      "outputs": [
        {
          "output_type": "execute_result",
          "data": {
            "text/plain": [
              "['escribir un libro que se libros al']"
            ]
          },
          "metadata": {},
          "execution_count": 41
        }
      ],
      "source": [
        "# predicción con beam search.\n",
        "# Se pueden camiar los modos entre 'det' (determinista) y\n",
        "# 'sto' (estocástico)\n",
        "# para el caso estocástico también se puede variar la temperatura\n",
        "salidas = beam_search(model,num_beams=10,num_words=4,input=\"escribir un libro\",temp=1,mode='sto')\n",
        "decode(salidas[0])"
      ]
    },
    {
      "cell_type": "code",
      "execution_count": 42,
      "metadata": {
        "id": "2S3_I3S1W1Hm",
        "colab": {
          "base_uri": "https://localhost:8080/"
        },
        "outputId": "4733f891-6fcc-4cd5-888b-8b388cbe2acb"
      },
      "outputs": [
        {
          "output_type": "execute_result",
          "data": {
            "text/plain": [
              "['escribir un libro en los libros recientes']"
            ]
          },
          "metadata": {},
          "execution_count": 42
        }
      ],
      "source": [
        "salidas = beam_search(model,num_beams=10,num_words=4,input=\"escribir un libro\",temp=0.8,mode='sto')\n",
        "decode(salidas[0])\n"
      ]
    },
    {
      "cell_type": "code",
      "source": [
        "salidas = beam_search(model,num_beams=10,num_words=4,input=\"escribir un libro\",temp=1.2,mode='sto')\n",
        "decode(salidas[0])"
      ],
      "metadata": {
        "colab": {
          "base_uri": "https://localhost:8080/"
        },
        "id": "YHemCXv8Vysd",
        "outputId": "c0560b51-3758-456f-a1fe-81fb964b9fd9"
      },
      "execution_count": 43,
      "outputs": [
        {
          "output_type": "execute_result",
          "data": {
            "text/plain": [
              "['escribir un libro más para las forma']"
            ]
          },
          "metadata": {},
          "execution_count": 43
        }
      ]
    },
    {
      "cell_type": "code",
      "source": [
        "salidas = beam_search(model,num_beams=10,num_words=4,input=\"escribir un libro\",mode='det')\n",
        "decode(salidas[0])"
      ],
      "metadata": {
        "colab": {
          "base_uri": "https://localhost:8080/"
        },
        "id": "LoCYRFxzXNGz",
        "outputId": "dfd433d2-be49-40e6-f910-adc85555c0fe"
      },
      "execution_count": 45,
      "outputs": [
        {
          "output_type": "execute_result",
          "data": {
            "text/plain": [
              "['escribir un libro de la web de']"
            ]
          },
          "metadata": {},
          "execution_count": 45
        }
      ]
    },
    {
      "cell_type": "markdown",
      "metadata": {
        "id": "Q_LlqmtEW1Hn"
      },
      "source": []
    }
  ],
  "metadata": {
    "colab": {
      "provenance": [],
      "gpuType": "T4"
    },
    "kernelspec": {
      "display_name": "Python 3",
      "name": "python3"
    },
    "language_info": {
      "name": "python"
    },
    "accelerator": "GPU"
  },
  "nbformat": 4,
  "nbformat_minor": 0
}