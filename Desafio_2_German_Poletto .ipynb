{
  "cells": [
    {
      "cell_type": "markdown",
      "metadata": {
        "id": "sZd5yLnnHOK0"
      },
      "source": [
        "<img src=\"https://github.com/hernancontigiani/ceia_memorias_especializacion/raw/master/Figures/logoFIUBA.jpg\" width=\"500\" align=\"center\">\n",
        "\n",
        "\n",
        "# Procesamiento de lenguaje natural\n",
        "## Custom embedddings con Gensim\n",
        "\n"
      ]
    },
    {
      "cell_type": "markdown",
      "metadata": {
        "id": "vA7nqkumo9z9"
      },
      "source": [
        "### Objetivo\n",
        "El objetivo es utilizar documentos / corpus para crear embeddings de palabras basado en ese contexto. Se utilizará canciones de bandas para generar los embeddings, es decir, que los vectores tendrán la forma en función de como esa banda haya utilizado las palabras en sus canciones."
      ]
    },
    {
      "cell_type": "code",
      "execution_count": 1,
      "metadata": {
        "id": "lFToQs5FK5uZ"
      },
      "outputs": [],
      "source": [
        "import pandas as pd\n",
        "import matplotlib.pyplot as plt\n",
        "import seaborn as sns\n",
        "\n",
        "import multiprocessing\n",
        "from gensim.models import Word2Vec"
      ]
    },
    {
      "cell_type": "markdown",
      "metadata": {
        "id": "g07zJxG7H9vG"
      },
      "source": [
        "### Datos\n",
        "Utilizaremos como dataset canciones de bandas de habla inglesa."
      ]
    },
    {
      "cell_type": "code",
      "execution_count": null,
      "metadata": {
        "colab": {
          "base_uri": "https://localhost:8080/"
        },
        "id": "l7z4CSBfpR3X",
        "outputId": "79c54961-269c-4728-8f70-91327c5adec2"
      },
      "outputs": [
        {
          "name": "stdout",
          "output_type": "stream",
          "text": [
            "--2024-09-09 21:44:11--  http://songs_dataset.zip/\n",
            "Resolving songs_dataset.zip (songs_dataset.zip)... failed: Name or service not known.\n",
            "wget: unable to resolve host address ‘songs_dataset.zip’\n",
            "--2024-09-09 21:44:11--  https://github.com/FIUBA-Posgrado-Inteligencia-Artificial/procesamiento_lenguaje_natural/raw/main/datasets/songs_dataset.zip\n",
            "Resolving github.com (github.com)... 140.82.113.3\n",
            "Connecting to github.com (github.com)|140.82.113.3|:443... connected.\n",
            "HTTP request sent, awaiting response... 302 Found\n",
            "Location: https://raw.githubusercontent.com/FIUBA-Posgrado-Inteligencia-Artificial/procesamiento_lenguaje_natural/main/datasets/songs_dataset.zip [following]\n",
            "--2024-09-09 21:44:12--  https://raw.githubusercontent.com/FIUBA-Posgrado-Inteligencia-Artificial/procesamiento_lenguaje_natural/main/datasets/songs_dataset.zip\n",
            "Resolving raw.githubusercontent.com (raw.githubusercontent.com)... 185.199.108.133, 185.199.109.133, 185.199.110.133, ...\n",
            "Connecting to raw.githubusercontent.com (raw.githubusercontent.com)|185.199.108.133|:443... connected.\n",
            "HTTP request sent, awaiting response... 200 OK\n",
            "Length: 2075036 (2.0M) [application/zip]\n",
            "Saving to: ‘songs_dataset.zip’\n",
            "\n",
            "songs_dataset.zip   100%[===================>]   1.98M  --.-KB/s    in 0.07s   \n",
            "\n",
            "2024-09-09 21:44:12 (27.9 MB/s) - ‘songs_dataset.zip’ saved [2075036/2075036]\n",
            "\n",
            "FINISHED --2024-09-09 21:44:12--\n",
            "Total wall clock time: 0.9s\n",
            "Downloaded: 1 files, 2.0M in 0.07s (27.9 MB/s)\n"
          ]
        }
      ],
      "source": [
        "# Descargar la carpeta de dataset\n",
        "import os\n",
        "import platform\n",
        "if os.access('./songs_dataset', os.F_OK) is False:\n",
        "    if os.access('songs_dataset.zip', os.F_OK) is False:\n",
        "        if platform.system() == 'Windows':\n",
        "            !curl https://raw.githubusercontent.com/FIUBA-Posgrado-Inteligencia-Artificial/procesamiento_lenguaje_natural/main/datasets/songs_dataset.zip -o songs_dataset.zip\n",
        "        else:\n",
        "            !wget songs_dataset.zip https://github.com/FIUBA-Posgrado-Inteligencia-Artificial/procesamiento_lenguaje_natural/raw/main/datasets/songs_dataset.zip\n",
        "    !unzip -q songs_dataset.zip\n",
        "else:\n",
        "    print(\"El dataset ya se encuentra descargado\")"
      ]
    },
    {
      "cell_type": "code",
      "execution_count": null,
      "metadata": {
        "colab": {
          "base_uri": "https://localhost:8080/"
        },
        "id": "mysGrIw9ljC2",
        "outputId": "b238d424-6d19-4e07-848f-b3bd7c772451"
      },
      "outputs": [
        {
          "data": {
            "text/plain": [
              "['Lil_Wayne.txt',\n",
              " 'nicki-minaj.txt',\n",
              " 'michael-jackson.txt',\n",
              " 'drake.txt',\n",
              " 'dolly-parton.txt',\n",
              " 'notorious-big.txt',\n",
              " 'notorious_big.txt',\n",
              " 'joni-mitchell.txt',\n",
              " 'nirvana.txt',\n",
              " 'eminem.txt',\n",
              " 'leonard-cohen.txt',\n",
              " 'dickinson.txt',\n",
              " 'jimi-hendrix.txt',\n",
              " 'nursery_rhymes.txt',\n",
              " 'blink-182.txt',\n",
              " 'bjork.txt',\n",
              " 'bruce-springsteen.txt',\n",
              " 'missy-elliott.txt',\n",
              " 'bruno-mars.txt',\n",
              " 'radiohead.txt',\n",
              " 'cake.txt',\n",
              " 'kanye-west.txt',\n",
              " 'nickelback.txt',\n",
              " 'dr-seuss.txt',\n",
              " 'adele.txt',\n",
              " 'lin-manuel-miranda.txt',\n",
              " 'lady-gaga.txt',\n",
              " 'beatles.txt',\n",
              " 'alicia-keys.txt',\n",
              " 'disney.txt',\n",
              " 'al-green.txt',\n",
              " 'bob-marley.txt',\n",
              " 'kanye.txt',\n",
              " 'patti-smith.txt',\n",
              " 'paul-simon.txt',\n",
              " 'dj-khaled.txt',\n",
              " 'britney-spears.txt',\n",
              " 'lorde.txt',\n",
              " 'ludacris.txt',\n",
              " 'r-kelly.txt',\n",
              " 'johnny-cash.txt',\n",
              " 'bob-dylan.txt',\n",
              " 'janisjoplin.txt',\n",
              " 'prince.txt',\n",
              " 'rihanna.txt',\n",
              " 'bieber.txt',\n",
              " 'lil-wayne.txt',\n",
              " 'Kanye_West.txt',\n",
              " 'amy-winehouse.txt']"
            ]
          },
          "execution_count": 3,
          "metadata": {},
          "output_type": "execute_result"
        }
      ],
      "source": [
        "# Posibles bandas\n",
        "os.listdir(\"./songs_dataset/\")"
      ]
    },
    {
      "cell_type": "code",
      "execution_count": null,
      "metadata": {
        "colab": {
          "base_uri": "https://localhost:8080/",
          "height": 261
        },
        "id": "ticoqYD1Z3I7",
        "outputId": "b46503a4-94cf-47e5-ee29-3e1d5eebefbc"
      },
      "outputs": [
        {
          "name": "stderr",
          "output_type": "stream",
          "text": [
            "<ipython-input-4-91c4bad52ba1>:2: ParserWarning: Falling back to the 'python' engine because the 'c' engine does not support regex separators (separators > 1 char and different from '\\s+' are interpreted as regex); you can avoid this warning by specifying engine='python'.\n",
            "  df = pd.read_csv('songs_dataset/beatles.txt', sep='/n', header=None)\n"
          ]
        },
        {
          "data": {
            "application/vnd.google.colaboratory.intrinsic+json": {
              "summary": "{\n  \"name\": \"df\",\n  \"rows\": 1846,\n  \"fields\": [\n    {\n      \"column\": 0,\n      \"properties\": {\n        \"dtype\": \"string\",\n        \"num_unique_values\": 1380,\n        \"samples\": [\n          \"I just need someone to love\",\n          \"Well it's my birthday too--yeah\",\n          \"Yes, you can radiate everything you are\"\n        ],\n        \"semantic_type\": \"\",\n        \"description\": \"\"\n      }\n    }\n  ]\n}",
              "type": "dataframe",
              "variable_name": "df"
            },
            "text/html": [
              "\n",
              "  <div id=\"df-24b30ec9-bdd9-4f4a-9ff6-2663bdb1b37b\" class=\"colab-df-container\">\n",
              "    <div>\n",
              "<style scoped>\n",
              "    .dataframe tbody tr th:only-of-type {\n",
              "        vertical-align: middle;\n",
              "    }\n",
              "\n",
              "    .dataframe tbody tr th {\n",
              "        vertical-align: top;\n",
              "    }\n",
              "\n",
              "    .dataframe thead th {\n",
              "        text-align: right;\n",
              "    }\n",
              "</style>\n",
              "<table border=\"1\" class=\"dataframe\">\n",
              "  <thead>\n",
              "    <tr style=\"text-align: right;\">\n",
              "      <th></th>\n",
              "      <th>0</th>\n",
              "    </tr>\n",
              "  </thead>\n",
              "  <tbody>\n",
              "    <tr>\n",
              "      <th>0</th>\n",
              "      <td>Yesterday, all my troubles seemed so far away</td>\n",
              "    </tr>\n",
              "    <tr>\n",
              "      <th>1</th>\n",
              "      <td>Now it looks as though they're here to stay</td>\n",
              "    </tr>\n",
              "    <tr>\n",
              "      <th>2</th>\n",
              "      <td>Oh, I believe in yesterday Suddenly, I'm not h...</td>\n",
              "    </tr>\n",
              "    <tr>\n",
              "      <th>3</th>\n",
              "      <td>There's a shadow hanging over me.</td>\n",
              "    </tr>\n",
              "    <tr>\n",
              "      <th>4</th>\n",
              "      <td>Oh, yesterday came suddenly Why she had to go ...</td>\n",
              "    </tr>\n",
              "  </tbody>\n",
              "</table>\n",
              "</div>\n",
              "    <div class=\"colab-df-buttons\">\n",
              "\n",
              "  <div class=\"colab-df-container\">\n",
              "    <button class=\"colab-df-convert\" onclick=\"convertToInteractive('df-24b30ec9-bdd9-4f4a-9ff6-2663bdb1b37b')\"\n",
              "            title=\"Convert this dataframe to an interactive table.\"\n",
              "            style=\"display:none;\">\n",
              "\n",
              "  <svg xmlns=\"http://www.w3.org/2000/svg\" height=\"24px\" viewBox=\"0 -960 960 960\">\n",
              "    <path d=\"M120-120v-720h720v720H120Zm60-500h600v-160H180v160Zm220 220h160v-160H400v160Zm0 220h160v-160H400v160ZM180-400h160v-160H180v160Zm440 0h160v-160H620v160ZM180-180h160v-160H180v160Zm440 0h160v-160H620v160Z\"/>\n",
              "  </svg>\n",
              "    </button>\n",
              "\n",
              "  <style>\n",
              "    .colab-df-container {\n",
              "      display:flex;\n",
              "      gap: 12px;\n",
              "    }\n",
              "\n",
              "    .colab-df-convert {\n",
              "      background-color: #E8F0FE;\n",
              "      border: none;\n",
              "      border-radius: 50%;\n",
              "      cursor: pointer;\n",
              "      display: none;\n",
              "      fill: #1967D2;\n",
              "      height: 32px;\n",
              "      padding: 0 0 0 0;\n",
              "      width: 32px;\n",
              "    }\n",
              "\n",
              "    .colab-df-convert:hover {\n",
              "      background-color: #E2EBFA;\n",
              "      box-shadow: 0px 1px 2px rgba(60, 64, 67, 0.3), 0px 1px 3px 1px rgba(60, 64, 67, 0.15);\n",
              "      fill: #174EA6;\n",
              "    }\n",
              "\n",
              "    .colab-df-buttons div {\n",
              "      margin-bottom: 4px;\n",
              "    }\n",
              "\n",
              "    [theme=dark] .colab-df-convert {\n",
              "      background-color: #3B4455;\n",
              "      fill: #D2E3FC;\n",
              "    }\n",
              "\n",
              "    [theme=dark] .colab-df-convert:hover {\n",
              "      background-color: #434B5C;\n",
              "      box-shadow: 0px 1px 3px 1px rgba(0, 0, 0, 0.15);\n",
              "      filter: drop-shadow(0px 1px 2px rgba(0, 0, 0, 0.3));\n",
              "      fill: #FFFFFF;\n",
              "    }\n",
              "  </style>\n",
              "\n",
              "    <script>\n",
              "      const buttonEl =\n",
              "        document.querySelector('#df-24b30ec9-bdd9-4f4a-9ff6-2663bdb1b37b button.colab-df-convert');\n",
              "      buttonEl.style.display =\n",
              "        google.colab.kernel.accessAllowed ? 'block' : 'none';\n",
              "\n",
              "      async function convertToInteractive(key) {\n",
              "        const element = document.querySelector('#df-24b30ec9-bdd9-4f4a-9ff6-2663bdb1b37b');\n",
              "        const dataTable =\n",
              "          await google.colab.kernel.invokeFunction('convertToInteractive',\n",
              "                                                    [key], {});\n",
              "        if (!dataTable) return;\n",
              "\n",
              "        const docLinkHtml = 'Like what you see? Visit the ' +\n",
              "          '<a target=\"_blank\" href=https://colab.research.google.com/notebooks/data_table.ipynb>data table notebook</a>'\n",
              "          + ' to learn more about interactive tables.';\n",
              "        element.innerHTML = '';\n",
              "        dataTable['output_type'] = 'display_data';\n",
              "        await google.colab.output.renderOutput(dataTable, element);\n",
              "        const docLink = document.createElement('div');\n",
              "        docLink.innerHTML = docLinkHtml;\n",
              "        element.appendChild(docLink);\n",
              "      }\n",
              "    </script>\n",
              "  </div>\n",
              "\n",
              "\n",
              "<div id=\"df-13ae0ee6-a81e-4a77-9e89-1ec8438c1c00\">\n",
              "  <button class=\"colab-df-quickchart\" onclick=\"quickchart('df-13ae0ee6-a81e-4a77-9e89-1ec8438c1c00')\"\n",
              "            title=\"Suggest charts\"\n",
              "            style=\"display:none;\">\n",
              "\n",
              "<svg xmlns=\"http://www.w3.org/2000/svg\" height=\"24px\"viewBox=\"0 0 24 24\"\n",
              "     width=\"24px\">\n",
              "    <g>\n",
              "        <path d=\"M19 3H5c-1.1 0-2 .9-2 2v14c0 1.1.9 2 2 2h14c1.1 0 2-.9 2-2V5c0-1.1-.9-2-2-2zM9 17H7v-7h2v7zm4 0h-2V7h2v10zm4 0h-2v-4h2v4z\"/>\n",
              "    </g>\n",
              "</svg>\n",
              "  </button>\n",
              "\n",
              "<style>\n",
              "  .colab-df-quickchart {\n",
              "      --bg-color: #E8F0FE;\n",
              "      --fill-color: #1967D2;\n",
              "      --hover-bg-color: #E2EBFA;\n",
              "      --hover-fill-color: #174EA6;\n",
              "      --disabled-fill-color: #AAA;\n",
              "      --disabled-bg-color: #DDD;\n",
              "  }\n",
              "\n",
              "  [theme=dark] .colab-df-quickchart {\n",
              "      --bg-color: #3B4455;\n",
              "      --fill-color: #D2E3FC;\n",
              "      --hover-bg-color: #434B5C;\n",
              "      --hover-fill-color: #FFFFFF;\n",
              "      --disabled-bg-color: #3B4455;\n",
              "      --disabled-fill-color: #666;\n",
              "  }\n",
              "\n",
              "  .colab-df-quickchart {\n",
              "    background-color: var(--bg-color);\n",
              "    border: none;\n",
              "    border-radius: 50%;\n",
              "    cursor: pointer;\n",
              "    display: none;\n",
              "    fill: var(--fill-color);\n",
              "    height: 32px;\n",
              "    padding: 0;\n",
              "    width: 32px;\n",
              "  }\n",
              "\n",
              "  .colab-df-quickchart:hover {\n",
              "    background-color: var(--hover-bg-color);\n",
              "    box-shadow: 0 1px 2px rgba(60, 64, 67, 0.3), 0 1px 3px 1px rgba(60, 64, 67, 0.15);\n",
              "    fill: var(--button-hover-fill-color);\n",
              "  }\n",
              "\n",
              "  .colab-df-quickchart-complete:disabled,\n",
              "  .colab-df-quickchart-complete:disabled:hover {\n",
              "    background-color: var(--disabled-bg-color);\n",
              "    fill: var(--disabled-fill-color);\n",
              "    box-shadow: none;\n",
              "  }\n",
              "\n",
              "  .colab-df-spinner {\n",
              "    border: 2px solid var(--fill-color);\n",
              "    border-color: transparent;\n",
              "    border-bottom-color: var(--fill-color);\n",
              "    animation:\n",
              "      spin 1s steps(1) infinite;\n",
              "  }\n",
              "\n",
              "  @keyframes spin {\n",
              "    0% {\n",
              "      border-color: transparent;\n",
              "      border-bottom-color: var(--fill-color);\n",
              "      border-left-color: var(--fill-color);\n",
              "    }\n",
              "    20% {\n",
              "      border-color: transparent;\n",
              "      border-left-color: var(--fill-color);\n",
              "      border-top-color: var(--fill-color);\n",
              "    }\n",
              "    30% {\n",
              "      border-color: transparent;\n",
              "      border-left-color: var(--fill-color);\n",
              "      border-top-color: var(--fill-color);\n",
              "      border-right-color: var(--fill-color);\n",
              "    }\n",
              "    40% {\n",
              "      border-color: transparent;\n",
              "      border-right-color: var(--fill-color);\n",
              "      border-top-color: var(--fill-color);\n",
              "    }\n",
              "    60% {\n",
              "      border-color: transparent;\n",
              "      border-right-color: var(--fill-color);\n",
              "    }\n",
              "    80% {\n",
              "      border-color: transparent;\n",
              "      border-right-color: var(--fill-color);\n",
              "      border-bottom-color: var(--fill-color);\n",
              "    }\n",
              "    90% {\n",
              "      border-color: transparent;\n",
              "      border-bottom-color: var(--fill-color);\n",
              "    }\n",
              "  }\n",
              "</style>\n",
              "\n",
              "  <script>\n",
              "    async function quickchart(key) {\n",
              "      const quickchartButtonEl =\n",
              "        document.querySelector('#' + key + ' button');\n",
              "      quickchartButtonEl.disabled = true;  // To prevent multiple clicks.\n",
              "      quickchartButtonEl.classList.add('colab-df-spinner');\n",
              "      try {\n",
              "        const charts = await google.colab.kernel.invokeFunction(\n",
              "            'suggestCharts', [key], {});\n",
              "      } catch (error) {\n",
              "        console.error('Error during call to suggestCharts:', error);\n",
              "      }\n",
              "      quickchartButtonEl.classList.remove('colab-df-spinner');\n",
              "      quickchartButtonEl.classList.add('colab-df-quickchart-complete');\n",
              "    }\n",
              "    (() => {\n",
              "      let quickchartButtonEl =\n",
              "        document.querySelector('#df-13ae0ee6-a81e-4a77-9e89-1ec8438c1c00 button');\n",
              "      quickchartButtonEl.style.display =\n",
              "        google.colab.kernel.accessAllowed ? 'block' : 'none';\n",
              "    })();\n",
              "  </script>\n",
              "</div>\n",
              "\n",
              "    </div>\n",
              "  </div>\n"
            ],
            "text/plain": [
              "                                                   0\n",
              "0      Yesterday, all my troubles seemed so far away\n",
              "1        Now it looks as though they're here to stay\n",
              "2  Oh, I believe in yesterday Suddenly, I'm not h...\n",
              "3                  There's a shadow hanging over me.\n",
              "4  Oh, yesterday came suddenly Why she had to go ..."
            ]
          },
          "execution_count": 4,
          "metadata": {},
          "output_type": "execute_result"
        }
      ],
      "source": [
        "# Armar el dataset utilizando salto de línea para separar las oraciones/docs\n",
        "df = pd.read_csv('songs_dataset/beatles.txt', sep='/n', header=None)\n",
        "df.head()"
      ]
    },
    {
      "cell_type": "code",
      "execution_count": null,
      "metadata": {
        "colab": {
          "base_uri": "https://localhost:8080/"
        },
        "id": "LEpKubK9XzXN",
        "outputId": "4ca0394a-5496-4ed6-cf7e-92a1f2c5ec7e"
      },
      "outputs": [
        {
          "name": "stdout",
          "output_type": "stream",
          "text": [
            "Cantidad de documentos: 1846\n"
          ]
        }
      ],
      "source": [
        "print(\"Cantidad de documentos:\", df.shape[0])"
      ]
    },
    {
      "cell_type": "markdown",
      "metadata": {
        "id": "ab94qaFlrA1G"
      },
      "source": [
        "### 1 - Preprocesamiento"
      ]
    },
    {
      "cell_type": "code",
      "execution_count": null,
      "metadata": {
        "id": "rIsmMWmjrDHd"
      },
      "outputs": [],
      "source": [
        "from tensorflow.keras.preprocessing.text import text_to_word_sequence\n",
        "\n",
        "sentence_tokens = []\n",
        "# Recorrer todas las filas y transformar las oraciones\n",
        "# en una secuencia de palabras (esto podría realizarse con NLTK o spaCy también)\n",
        "for _, row in df[:None].iterrows():\n",
        "    sentence_tokens.append(text_to_word_sequence(row[0]))"
      ]
    },
    {
      "cell_type": "code",
      "execution_count": null,
      "metadata": {
        "colab": {
          "base_uri": "https://localhost:8080/"
        },
        "id": "CHepi_DGrbhq",
        "outputId": "b1fc201a-19e6-4a96-f36c-1b6e55960213"
      },
      "outputs": [
        {
          "data": {
            "text/plain": [
              "[['yesterday', 'all', 'my', 'troubles', 'seemed', 'so', 'far', 'away'],\n",
              " ['now', 'it', 'looks', 'as', 'though', \"they're\", 'here', 'to', 'stay']]"
            ]
          },
          "execution_count": 12,
          "metadata": {},
          "output_type": "execute_result"
        }
      ],
      "source": [
        "# Demos un vistazo\n",
        "sentence_tokens[:2]"
      ]
    },
    {
      "cell_type": "markdown",
      "metadata": {
        "id": "BaXV6nlHr5Aa"
      },
      "source": [
        "### 2 - Crear los vectores (word2vec)"
      ]
    },
    {
      "cell_type": "code",
      "execution_count": 2,
      "metadata": {
        "id": "OSb0v7h8r7hK"
      },
      "outputs": [],
      "source": [
        "from gensim.models.callbacks import CallbackAny2Vec\n",
        "# Durante el entrenamiento gensim por defecto no informa el \"loss\" en cada época\n",
        "# Sobrecargamos el callback para poder tener esta información\n",
        "class callback(CallbackAny2Vec):\n",
        "    \"\"\"\n",
        "    Callback to print loss after each epoch\n",
        "    \"\"\"\n",
        "    def __init__(self):\n",
        "        self.epoch = 0\n",
        "\n",
        "    def on_epoch_end(self, model):\n",
        "        loss = model.get_latest_training_loss()\n",
        "        if self.epoch == 0:\n",
        "            print('Loss after epoch {}: {}'.format(self.epoch, loss))\n",
        "        else:\n",
        "            print('Loss after epoch {}: {}'.format(self.epoch, loss- self.loss_previous_step))\n",
        "        self.epoch += 1\n",
        "        self.loss_previous_step = loss"
      ]
    },
    {
      "cell_type": "code",
      "execution_count": null,
      "metadata": {
        "id": "i0wnDdv9sJ47"
      },
      "outputs": [],
      "source": [
        "# Crearmos el modelo generador de vectores\n",
        "# En este caso utilizaremos la estructura modelo Skipgram\n",
        "w2v_model = Word2Vec(min_count=5,    # frecuencia mínima de palabra para incluirla en el vocabulario\n",
        "                     window=2,       # cant de palabras antes y desp de la predicha\n",
        "                     vector_size=300,       # dimensionalidad de los vectores\n",
        "                     negative=20,    # cantidad de negative samples... 0 es no se usa\n",
        "                     workers=1,      # si tienen más cores pueden cambiar este valor\n",
        "                     sg=1)           # modelo 0:CBOW  1:skipgram"
      ]
    },
    {
      "cell_type": "code",
      "execution_count": null,
      "metadata": {
        "id": "5lTt8wErsf17"
      },
      "outputs": [],
      "source": [
        "# Obtener el vocabulario con los tokens\n",
        "w2v_model.build_vocab(sentence_tokens)"
      ]
    },
    {
      "cell_type": "code",
      "execution_count": null,
      "metadata": {
        "colab": {
          "base_uri": "https://localhost:8080/"
        },
        "id": "TNc9qt4os5AT",
        "outputId": "dde6503b-0676-4df9-93d3-3d2dcb38ffde"
      },
      "outputs": [
        {
          "name": "stdout",
          "output_type": "stream",
          "text": [
            "Cantidad de docs en el corpus: 1846\n"
          ]
        }
      ],
      "source": [
        "# Cantidad de filas/docs encontradas en el corpus\n",
        "print(\"Cantidad de docs en el corpus:\", w2v_model.corpus_count)"
      ]
    },
    {
      "cell_type": "code",
      "execution_count": null,
      "metadata": {
        "colab": {
          "base_uri": "https://localhost:8080/"
        },
        "id": "idw9cHF3tSMl",
        "outputId": "a37e83ea-11c6-403b-d52b-cf187d7a44cb"
      },
      "outputs": [
        {
          "name": "stdout",
          "output_type": "stream",
          "text": [
            "Cantidad de words distintas en el corpus: 445\n"
          ]
        }
      ],
      "source": [
        "# Cantidad de words encontradas en el corpus\n",
        "print(\"Cantidad de words distintas en el corpus:\", len(w2v_model.wv.index_to_key))"
      ]
    },
    {
      "cell_type": "markdown",
      "metadata": {
        "id": "fC9mZ8DPk-UC"
      },
      "source": [
        "### 3 - Entrenar embeddings"
      ]
    },
    {
      "cell_type": "code",
      "execution_count": null,
      "metadata": {
        "colab": {
          "base_uri": "https://localhost:8080/"
        },
        "id": "QSp-x0PAsq56",
        "outputId": "b150e48a-ff15-4a9c-b38e-bf3b0037024f"
      },
      "outputs": [
        {
          "name": "stdout",
          "output_type": "stream",
          "text": [
            "Loss after epoch 0: 113208.15625\n",
            "Loss after epoch 1: 65953.953125\n",
            "Loss after epoch 2: 65934.265625\n",
            "Loss after epoch 3: 65711.96875\n",
            "Loss after epoch 4: 63872.5\n",
            "Loss after epoch 5: 64142.46875\n",
            "Loss after epoch 6: 64058.8125\n",
            "Loss after epoch 7: 64755.4375\n",
            "Loss after epoch 8: 62585.5625\n",
            "Loss after epoch 9: 60415.25\n",
            "Loss after epoch 10: 59823.625\n",
            "Loss after epoch 11: 58930.1875\n",
            "Loss after epoch 12: 57726.4375\n",
            "Loss after epoch 13: 56493.125\n",
            "Loss after epoch 14: 55842.5625\n",
            "Loss after epoch 15: 55862.5\n",
            "Loss after epoch 16: 51695.8125\n",
            "Loss after epoch 17: 49815.5\n",
            "Loss after epoch 18: 49568.125\n",
            "Loss after epoch 19: 48959.75\n"
          ]
        },
        {
          "data": {
            "text/plain": [
              "(156986, 287740)"
            ]
          },
          "execution_count": 18,
          "metadata": {},
          "output_type": "execute_result"
        }
      ],
      "source": [
        "# Entrenamos el modelo generador de vectores\n",
        "# Utilizamos nuestro callback\n",
        "w2v_model.train(sentence_tokens,\n",
        "                 total_examples=w2v_model.corpus_count,\n",
        "                 epochs=20,\n",
        "                 compute_loss = True,\n",
        "                 callbacks=[callback()]\n",
        "                 )"
      ]
    },
    {
      "cell_type": "markdown",
      "metadata": {
        "id": "ddT9NVuNlCAe"
      },
      "source": [
        "### 4 - Ensayar"
      ]
    },
    {
      "cell_type": "code",
      "execution_count": null,
      "metadata": {
        "colab": {
          "base_uri": "https://localhost:8080/"
        },
        "id": "6cHN9xGLuPEm",
        "outputId": "53a44bfd-912f-4838-9adf-60b44c9e4156"
      },
      "outputs": [
        {
          "data": {
            "text/plain": [
              "[('pretty', 0.9087147116661072),\n",
              " ('sleep', 0.8649678230285645),\n",
              " ('help', 0.8594305515289307),\n",
              " ('try', 0.8456019759178162),\n",
              " ('cry', 0.8387227654457092),\n",
              " ('little', 0.8273633718490601),\n",
              " ('not', 0.8181102871894836),\n",
              " ('seems', 0.8175203204154968),\n",
              " ('twist', 0.8154979348182678),\n",
              " ('peace', 0.812263011932373)]"
            ]
          },
          "execution_count": 19,
          "metadata": {},
          "output_type": "execute_result"
        }
      ],
      "source": [
        "# Palabras que MÁS se relacionan con...:\n",
        "w2v_model.wv.most_similar(positive=[\"darling\"], topn=10)"
      ]
    },
    {
      "cell_type": "code",
      "execution_count": null,
      "metadata": {
        "colab": {
          "base_uri": "https://localhost:8080/"
        },
        "id": "47HiU5gdkdMq",
        "outputId": "8b14098b-449f-4e22-e10a-ba6b65be0ba6"
      },
      "outputs": [
        {
          "data": {
            "text/plain": [
              "[('shake', -0.21786975860595703),\n",
              " ('our', -0.24495810270309448),\n",
              " ('come', -0.2613270878791809),\n",
              " ('on', -0.26722386479377747),\n",
              " ('bang', -0.27329546213150024),\n",
              " ('five', -0.2741836607456207),\n",
              " ('six', -0.2774038314819336),\n",
              " ('baby', -0.2776353061199188),\n",
              " ('work', -0.2790372967720032),\n",
              " ('four', -0.2792743146419525)]"
            ]
          },
          "execution_count": 20,
          "metadata": {},
          "output_type": "execute_result"
        }
      ],
      "source": [
        "# Palabras que MENOS se relacionan con...:\n",
        "w2v_model.wv.most_similar(negative=[\"love\"], topn=10)"
      ]
    },
    {
      "cell_type": "code",
      "execution_count": null,
      "metadata": {
        "colab": {
          "base_uri": "https://localhost:8080/"
        },
        "id": "DT4Rvno2mD65",
        "outputId": "02131904-2543-46fc-bc1f-67cbd2d781c5"
      },
      "outputs": [
        {
          "data": {
            "text/plain": [
              "[('five', 0.9786694049835205),\n",
              " ('three', 0.9761051535606384),\n",
              " ('six', 0.966891348361969),\n",
              " ('two', 0.9565720558166504),\n",
              " ('seven', 0.954232931137085),\n",
              " ('sixty', 0.9003373980522156),\n",
              " ('one', 0.816501259803772),\n",
              " ('us', 0.7762899398803711),\n",
              " ('crying', 0.772737979888916),\n",
              " ('strawberry', 0.7672452330589294)]"
            ]
          },
          "execution_count": 21,
          "metadata": {},
          "output_type": "execute_result"
        }
      ],
      "source": [
        "# Palabras que MÁS se relacionan con...:\n",
        "w2v_model.wv.most_similar(positive=[\"four\"], topn=10)"
      ]
    },
    {
      "cell_type": "code",
      "execution_count": null,
      "metadata": {
        "colab": {
          "base_uri": "https://localhost:8080/"
        },
        "id": "XPLDPgzBmQXt",
        "outputId": "174d4adb-0942-4bd7-b379-0c029f044c2b"
      },
      "outputs": [
        {
          "data": {
            "text/plain": [
              "[(\"can't\", 0.9409592747688293),\n",
              " ('buy', 0.9399508237838745),\n",
              " ('much', 0.8996850848197937),\n",
              " ('hide', 0.8465201258659363),\n",
              " ('just', 0.8415144085884094)]"
            ]
          },
          "execution_count": 22,
          "metadata": {},
          "output_type": "execute_result"
        }
      ],
      "source": [
        "# Palabras que MÁS se relacionan con...:\n",
        "w2v_model.wv.most_similar(positive=[\"money\"], topn=5)"
      ]
    },
    {
      "cell_type": "code",
      "execution_count": null,
      "metadata": {
        "colab": {
          "base_uri": "https://localhost:8080/",
          "height": 321
        },
        "id": "L_UvHPMMklOr",
        "outputId": "e656e41c-dd17-4f6b-f19d-e03ff33ec3e7"
      },
      "outputs": [
        {
          "ename": "KeyError",
          "evalue": "\"Key 'diedaa' not present in vocabulary\"",
          "output_type": "error",
          "traceback": [
            "\u001b[0;31m---------------------------------------------------------------------------\u001b[0m",
            "\u001b[0;31mKeyError\u001b[0m                                  Traceback (most recent call last)",
            "\u001b[0;32m<ipython-input-23-93d902aa5dab>\u001b[0m in \u001b[0;36m<cell line: 2>\u001b[0;34m()\u001b[0m\n\u001b[1;32m      1\u001b[0m \u001b[0;31m# Ensayar con una palabra que no está en el vocabulario:\u001b[0m\u001b[0;34m\u001b[0m\u001b[0;34m\u001b[0m\u001b[0m\n\u001b[0;32m----> 2\u001b[0;31m \u001b[0mw2v_model\u001b[0m\u001b[0;34m.\u001b[0m\u001b[0mwv\u001b[0m\u001b[0;34m.\u001b[0m\u001b[0mmost_similar\u001b[0m\u001b[0;34m(\u001b[0m\u001b[0mnegative\u001b[0m\u001b[0;34m=\u001b[0m\u001b[0;34m[\u001b[0m\u001b[0;34m\"diedaa\"\u001b[0m\u001b[0;34m]\u001b[0m\u001b[0;34m)\u001b[0m\u001b[0;34m\u001b[0m\u001b[0;34m\u001b[0m\u001b[0m\n\u001b[0m",
            "\u001b[0;32m/usr/local/lib/python3.10/dist-packages/gensim/models/keyedvectors.py\u001b[0m in \u001b[0;36mmost_similar\u001b[0;34m(self, positive, negative, topn, clip_start, clip_end, restrict_vocab, indexer)\u001b[0m\n\u001b[1;32m    839\u001b[0m \u001b[0;34m\u001b[0m\u001b[0m\n\u001b[1;32m    840\u001b[0m         \u001b[0;31m# compute the weighted average of all keys\u001b[0m\u001b[0;34m\u001b[0m\u001b[0;34m\u001b[0m\u001b[0m\n\u001b[0;32m--> 841\u001b[0;31m         \u001b[0mmean\u001b[0m \u001b[0;34m=\u001b[0m \u001b[0mself\u001b[0m\u001b[0;34m.\u001b[0m\u001b[0mget_mean_vector\u001b[0m\u001b[0;34m(\u001b[0m\u001b[0mkeys\u001b[0m\u001b[0;34m,\u001b[0m \u001b[0mweight\u001b[0m\u001b[0;34m,\u001b[0m \u001b[0mpre_normalize\u001b[0m\u001b[0;34m=\u001b[0m\u001b[0;32mTrue\u001b[0m\u001b[0;34m,\u001b[0m \u001b[0mpost_normalize\u001b[0m\u001b[0;34m=\u001b[0m\u001b[0;32mTrue\u001b[0m\u001b[0;34m,\u001b[0m \u001b[0mignore_missing\u001b[0m\u001b[0;34m=\u001b[0m\u001b[0;32mFalse\u001b[0m\u001b[0;34m)\u001b[0m\u001b[0;34m\u001b[0m\u001b[0;34m\u001b[0m\u001b[0m\n\u001b[0m\u001b[1;32m    842\u001b[0m         all_keys = [\n\u001b[1;32m    843\u001b[0m             \u001b[0mself\u001b[0m\u001b[0;34m.\u001b[0m\u001b[0mget_index\u001b[0m\u001b[0;34m(\u001b[0m\u001b[0mkey\u001b[0m\u001b[0;34m)\u001b[0m \u001b[0;32mfor\u001b[0m \u001b[0mkey\u001b[0m \u001b[0;32min\u001b[0m \u001b[0mkeys\u001b[0m \u001b[0;32mif\u001b[0m \u001b[0misinstance\u001b[0m\u001b[0;34m(\u001b[0m\u001b[0mkey\u001b[0m\u001b[0;34m,\u001b[0m \u001b[0m_KEY_TYPES\u001b[0m\u001b[0;34m)\u001b[0m \u001b[0;32mand\u001b[0m \u001b[0mself\u001b[0m\u001b[0;34m.\u001b[0m\u001b[0mhas_index_for\u001b[0m\u001b[0;34m(\u001b[0m\u001b[0mkey\u001b[0m\u001b[0;34m)\u001b[0m\u001b[0;34m\u001b[0m\u001b[0;34m\u001b[0m\u001b[0m\n",
            "\u001b[0;32m/usr/local/lib/python3.10/dist-packages/gensim/models/keyedvectors.py\u001b[0m in \u001b[0;36mget_mean_vector\u001b[0;34m(self, keys, weights, pre_normalize, post_normalize, ignore_missing)\u001b[0m\n\u001b[1;32m    516\u001b[0m                 \u001b[0mtotal_weight\u001b[0m \u001b[0;34m+=\u001b[0m \u001b[0mabs\u001b[0m\u001b[0;34m(\u001b[0m\u001b[0mweights\u001b[0m\u001b[0;34m[\u001b[0m\u001b[0midx\u001b[0m\u001b[0;34m]\u001b[0m\u001b[0;34m)\u001b[0m\u001b[0;34m\u001b[0m\u001b[0;34m\u001b[0m\u001b[0m\n\u001b[1;32m    517\u001b[0m             \u001b[0;32melif\u001b[0m \u001b[0;32mnot\u001b[0m \u001b[0mignore_missing\u001b[0m\u001b[0;34m:\u001b[0m\u001b[0;34m\u001b[0m\u001b[0;34m\u001b[0m\u001b[0m\n\u001b[0;32m--> 518\u001b[0;31m                 \u001b[0;32mraise\u001b[0m \u001b[0mKeyError\u001b[0m\u001b[0;34m(\u001b[0m\u001b[0;34mf\"Key '{key}' not present in vocabulary\"\u001b[0m\u001b[0;34m)\u001b[0m\u001b[0;34m\u001b[0m\u001b[0;34m\u001b[0m\u001b[0m\n\u001b[0m\u001b[1;32m    519\u001b[0m \u001b[0;34m\u001b[0m\u001b[0m\n\u001b[1;32m    520\u001b[0m         \u001b[0;32mif\u001b[0m \u001b[0mtotal_weight\u001b[0m \u001b[0;34m>\u001b[0m \u001b[0;36m0\u001b[0m\u001b[0;34m:\u001b[0m\u001b[0;34m\u001b[0m\u001b[0;34m\u001b[0m\u001b[0m\n",
            "\u001b[0;31mKeyError\u001b[0m: \"Key 'diedaa' not present in vocabulary\""
          ]
        }
      ],
      "source": [
        "# Ensayar con una palabra que no está en el vocabulario:\n",
        "w2v_model.wv.most_similar(negative=[\"diedaa\"])"
      ]
    },
    {
      "cell_type": "code",
      "execution_count": null,
      "metadata": {
        "colab": {
          "base_uri": "https://localhost:8080/"
        },
        "id": "wZqmtCWWpcZe",
        "outputId": "b33952b8-597e-4c22-9064-7fe7c4219280"
      },
      "outputs": [
        {
          "name": "stdout",
          "output_type": "stream",
          "text": [
            "[ 0.17736822  0.21460655 -0.05408018  0.06707036  0.13059464 -0.25713933\n",
            "  0.00711611  0.26743424 -0.03100746  0.259963    0.21179457 -0.08465387\n",
            " -0.26272097  0.308386   -0.07934437 -0.13357355  0.2994755   0.18062147\n",
            " -0.13111673 -0.11857472  0.03468326  0.1125607   0.08478875  0.08090881\n",
            " -0.17622267  0.03122034 -0.08725598  0.23746666 -0.11507358 -0.29119617\n",
            " -0.03650665 -0.3322312   0.23262788  0.10366543 -0.18365337  0.08299578\n",
            "  0.14315338 -0.19761457 -0.00757894  0.1119568  -0.10421463 -0.13083619\n",
            " -0.03264419 -0.04687435  0.11330808  0.10231452 -0.16202034 -0.10347028\n",
            "  0.03659901 -0.08524423 -0.34872082 -0.02154255  0.25938764  0.16540806\n",
            "  0.0310861   0.09505633  0.24452917 -0.09859891  0.18298703  0.0645447\n",
            "  0.016967   -0.3259168  -0.04774074 -0.05418535 -0.04338397 -0.09137302\n",
            "  0.00889874  0.11636022 -0.25662988  0.05426472  0.08915784  0.04541444\n",
            "  0.20835714 -0.19101828  0.32210803  0.19337991  0.09080223 -0.00362429\n",
            " -0.18664253 -0.07053486 -0.1213743  -0.03477469 -0.15798187  0.39070287\n",
            " -0.06144987  0.11083187 -0.16213974 -0.24604863  0.15004653  0.41447446\n",
            " -0.02289782 -0.17896852 -0.07827526 -0.22193784  0.02855509  0.48533952\n",
            "  0.04447097  0.12464199 -0.04169935  0.1982593  -0.15919553 -0.08606501\n",
            "  0.1320642   0.07071835  0.30667147  0.08809892 -0.19750106  0.23502588\n",
            " -0.07388738  0.04295443 -0.24779157 -0.28854167 -0.4401632   0.00458563\n",
            " -0.07824975  0.18824083  0.05077408 -0.05739668  0.15620743 -0.48762608\n",
            "  0.1922928   0.08314091  0.04989756  0.02644576 -0.06825414  0.35304525\n",
            "  0.17191295 -0.16261117 -0.2936474   0.29585826  0.34883434  0.13242614\n",
            "  0.20136862 -0.45008007  0.10677742  0.29548344  0.05580255 -0.10513617\n",
            " -0.18692017 -0.00885901  0.01701376 -0.16563897 -0.11337513  0.06720471\n",
            "  0.15243004 -0.00960089 -0.0473961  -0.08677159 -0.07125839  0.16441917\n",
            "  0.00310922 -0.36776385  0.08532935  0.06346983 -0.02668795  0.22113207\n",
            " -0.2441667   0.02439994 -0.00925008  0.23633759 -0.10890642  0.11366176\n",
            " -0.0994612   0.21860765  0.01365219  0.01017555 -0.1882097   0.25845018\n",
            "  0.30251107  0.03778573  0.206645    0.22037302  0.16829754  0.04512674\n",
            "  0.01971447 -0.36934844  0.0328729  -0.20335236  0.12939689  0.04162559\n",
            "  0.02085797 -0.10500363 -0.17457162 -0.28335714 -0.08274048 -0.04555536\n",
            " -0.11861075 -0.03437103  0.0255297  -0.2554016   0.17146216  0.05093628\n",
            "  0.0917547  -0.06427904 -0.16107002  0.19086204 -0.10930005 -0.18050742\n",
            " -0.06337117  0.01224837 -0.09302392  0.22475737  0.30700293 -0.26619977\n",
            "  0.2305236   0.00149169  0.13293476  0.02429233  0.07883647 -0.09135374\n",
            " -0.17123872 -0.3664065   0.3834617  -0.21642369  0.30520016 -0.05142065\n",
            " -0.36278993 -0.23481902  0.05347933 -0.33067894 -0.01501467  0.07849759\n",
            "  0.01582254 -0.111112    0.25853142 -0.1510902   0.07833586  0.03887907\n",
            "  0.06565052 -0.10252414 -0.02964626 -0.17363134  0.01443172  0.14266178\n",
            " -0.2042187   0.03214323 -0.1629491   0.23105827 -0.08103111 -0.07967328\n",
            "  0.13010906 -0.15625998  0.0689413  -0.03020397 -0.04729844 -0.24360013\n",
            "  0.2185359  -0.0347794   0.05899534  0.17103592  0.02150829  0.2957355\n",
            "  0.11162414 -0.16905093 -0.18563178 -0.19697626  0.3415001   0.18426846\n",
            " -0.20898484 -0.06920402  0.02646237 -0.33699226  0.0361828  -0.02290664\n",
            " -0.04528077 -0.02644458  0.27353263  0.2873995  -0.03061444  0.13751149\n",
            "  0.05503082  0.02680384  0.05629698  0.03125441  0.27008575  0.18144625\n",
            "  0.04076385  0.18558657 -0.10238926 -0.05794458  0.04535891 -0.09978388\n",
            " -0.17145762 -0.15288326  0.09159966  0.05247529  0.00280528  0.00947132\n",
            "  0.23113796  0.0304687   0.11368281  0.35986233  0.15569495 -0.02521801\n",
            "  0.35871565  0.3222857   0.00839845  0.1805266   0.1312731  -0.31311095]\n"
          ]
        }
      ],
      "source": [
        "# el método `get_vector` permite obtener los vectores:\n",
        "vector_love = w2v_model.wv.get_vector(\"love\")\n",
        "print(vector_love)"
      ]
    },
    {
      "cell_type": "code",
      "execution_count": null,
      "metadata": {
        "colab": {
          "base_uri": "https://localhost:8080/"
        },
        "id": "If_7bOeVpcZe",
        "outputId": "855ebf0e-ec15-4304-8db5-8661051a79bc"
      },
      "outputs": [
        {
          "data": {
            "text/plain": [
              "[('love', 1.0),\n",
              " ('babe', 0.9132986068725586),\n",
              " ('someone', 0.8914992809295654),\n",
              " ('nothing', 0.8811879754066467),\n",
              " ('need', 0.8758756518363953),\n",
              " (\"didn't\", 0.8689683079719543),\n",
              " (\"there's\", 0.8557919859886169),\n",
              " ('you', 0.8447725772857666),\n",
              " ('feed', 0.8422104716300964),\n",
              " ('somebody', 0.8385539054870605)]"
            ]
          },
          "execution_count": 25,
          "metadata": {},
          "output_type": "execute_result"
        }
      ],
      "source": [
        "# el método `most_similar` también permite comparar a partir de vectores\n",
        "w2v_model.wv.most_similar(vector_love)"
      ]
    },
    {
      "cell_type": "code",
      "execution_count": null,
      "metadata": {
        "colab": {
          "base_uri": "https://localhost:8080/"
        },
        "id": "smXdXVyApcZf",
        "outputId": "a095e608-0e25-422a-aa8f-e9b8fd62ec50"
      },
      "outputs": [
        {
          "data": {
            "text/plain": [
              "[('babe', 0.9132986068725586),\n",
              " ('someone', 0.8914992809295654),\n",
              " ('nothing', 0.8811879754066467),\n",
              " ('need', 0.8758756518363953),\n",
              " (\"didn't\", 0.8689682483673096),\n",
              " (\"there's\", 0.8557919859886169),\n",
              " ('you', 0.8447725772857666),\n",
              " ('feed', 0.8422104716300964),\n",
              " ('somebody', 0.8385538458824158),\n",
              " ('hope', 0.8361446261405945)]"
            ]
          },
          "execution_count": 26,
          "metadata": {},
          "output_type": "execute_result"
        }
      ],
      "source": [
        "# Palabras que MÁS se relacionan con...:\n",
        "w2v_model.wv.most_similar(positive=[\"love\"], topn=10)"
      ]
    },
    {
      "cell_type": "markdown",
      "metadata": {
        "id": "_g8UVWe6lFmh"
      },
      "source": [
        "### 5 - Visualizar agrupación de vectores"
      ]
    },
    {
      "cell_type": "code",
      "execution_count": 32,
      "metadata": {
        "id": "pDxEVXAivjr9"
      },
      "outputs": [],
      "source": [
        "from sklearn.decomposition import IncrementalPCA\n",
        "from sklearn.manifold import TSNE\n",
        "import numpy as np\n",
        "\n",
        "def reduce_dimensions(model, num_dimensions = 2 ):\n",
        "\n",
        "    vectors = np.asarray(model.wv.vectors)\n",
        "    labels = np.asarray(model.wv.index_to_key)\n",
        "\n",
        "    tsne = TSNE(n_components=num_dimensions, random_state=0)\n",
        "    vectors = tsne.fit_transform(vectors)\n",
        "\n",
        "    return vectors, labels"
      ]
    },
    {
      "cell_type": "code",
      "execution_count": null,
      "metadata": {
        "colab": {
          "base_uri": "https://localhost:8080/",
          "height": 542
        },
        "id": "NCCXtDpcugmd",
        "outputId": "4f00b7e0-7262-4a70-8ffd-b3a160ab5538"
      },
      "outputs": [
        {
          "data": {
            "text/html": [
              "<html>\n",
              "<head><meta charset=\"utf-8\" /></head>\n",
              "<body>\n",
              "    <div>            <script src=\"https://cdnjs.cloudflare.com/ajax/libs/mathjax/2.7.5/MathJax.js?config=TeX-AMS-MML_SVG\"></script><script type=\"text/javascript\">if (window.MathJax && window.MathJax.Hub && window.MathJax.Hub.Config) {window.MathJax.Hub.Config({SVG: {font: \"STIX-Web\"}});}</script>                <script type=\"text/javascript\">window.PlotlyConfig = {MathJaxConfig: 'local'};</script>\n",
              "        <script charset=\"utf-8\" src=\"https://cdn.plot.ly/plotly-2.24.1.min.js\"></script>                <div id=\"2b56cc04-1761-4155-a1dc-1e1215a127dd\" class=\"plotly-graph-div\" style=\"height:525px; width:100%;\"></div>            <script type=\"text/javascript\">                                    window.PLOTLYENV=window.PLOTLYENV || {};                                    if (document.getElementById(\"2b56cc04-1761-4155-a1dc-1e1215a127dd\")) {                    Plotly.newPlot(                        \"2b56cc04-1761-4155-a1dc-1e1215a127dd\",                        [{\"hovertemplate\":\"x=%{x}\\u003cbr\\u003ey=%{y}\\u003cbr\\u003etext=%{text}\\u003cextra\\u003e\\u003c\\u002fextra\\u003e\",\"legendgroup\":\"\",\"marker\":{\"color\":\"#636efa\",\"symbol\":\"circle\"},\"mode\":\"markers+text\",\"name\":\"\",\"orientation\":\"v\",\"showlegend\":false,\"text\":[\"you\",\"i\",\"the\",\"to\",\"and\",\"love\",\"a\",\"me\",\"in\",\"all\",\"nah\",\"my\",\"it\",\"know\",\"that\",\"be\",\"on\",\"of\",\"she\",\"is\",\"say\",\"now\",\"oh\",\"your\",\"yeah\",\"get\",\"don't\",\"back\",\"with\",\"let\",\"her\",\"can\",\"it's\",\"do\",\"when\",\"come\",\"i'm\",\"will\",\"he\",\"but\",\"for\",\"so\",\"there\",\"need\",\"like\",\"together\",\"no\",\"i'll\",\"see\",\"we\",\"was\",\"never\",\"down\",\"if\",\"way\",\"want\",\"hey\",\"out\",\"one\",\"got\",\"can't\",\"girl\",\"well\",\"good\",\"go\",\"sun\",\"his\",\"hello\",\"home\",\"they\",\"day\",\"are\",\"ah\",\"right\",\"from\",\"little\",\"at\",\"man\",\"help\",\"here\",\"have\",\"gonna\",\"not\",\"world\",\"what\",\"going\",\"how\",\"please\",\"still\",\"too\",\"just\",\"you're\",\"time\",\"as\",\"make\",\"long\",\"yes\",\"yellow\",\"life\",\"once\",\"sky\",\"been\",\"think\",\"tell\",\"why\",\"only\",\"where\",\"people\",\"she's\",\"eyes\",\"jude\",\"take\",\"submarine\",\"up\",\"hold\",\"goodbye\",\"give\",\"nowhere\",\"sing\",\"look\",\"friends\",\"always\",\"hand\",\"boy\",\"we're\",\"am\",\"away\",\"darling\",\"goo\",\"nothing\",\"should\",\"lonely\",\"could\",\"feel\",\"some\",\"night\",\"comes\",\"had\",\"would\",\"better\",\"head\",\"them\",\"four\",\"buy\",\"more\",\"i've\",\"la\",\"mind\",\"two\",\"this\",\"everything\",\"carry\",\"by\",\"our\",\"sunshine\",\"weight\",\"change\",\"us\",\"lucy\",\"birthday\",\"an\",\"true\",\"you'll\",\"every\",\"pretty\",\"three\",\"diamonds\",\"before\",\"believe\",\"these\",\"i'd\",\"words\",\"mm\",\"work\",\"dear\",\"leave\",\"were\",\"mine\",\"there's\",\"nobody\",\"told\",\"money\",\"bom\",\"said\",\"forever\",\"round\",\"children\",\"'cause\",\"something\",\"about\",\"waiting\",\"standing\",\"who\",\"didn't\",\"try\",\"loves\",\"then\",\"hide\",\"saw\",\"prudence\"],\"x\":[2.838963747024536,9.982600212097168,0.5375071167945862,-4.791562080383301,-6.886194229125977,-0.4934464693069458,-9.430517196655273,-2.6611714363098145,-1.359351634979248,9.021523475646973,-14.624564170837402,8.797327995300293,14.560478210449219,10.477313041687012,12.067187309265137,12.200465202331543,13.048758506774902,-2.616943120956421,-10.197563171386719,4.180907249450684,11.93883991241455,9.256722450256348,7.293242454528809,-1.9336940050125122,-9.474272727966309,22.059444427490234,10.969840049743652,22.342159271240234,-2.399932622909546,13.392200469970703,6.998386859893799,0.1346704661846161,9.413893699645996,5.834963321685791,4.3270263671875,12.72447681427002,-17.47830581665039,1.191132664680481,-0.10350888967514038,-2.123049259185791,11.046406745910645,4.674851417541504,18.199222564697266,-0.1414731740951538,-4.680105209350586,9.67143726348877,8.373656272888184,10.157896041870117,-0.3179813623428345,-6.52002477645874,18.634267807006836,7.389016151428223,12.918389320373535,3.2965288162231445,21.22577667236328,-1.173004388809204,-13.70418643951416,13.224194526672363,-22.55449676513672,-7.509551525115967,4.747176170349121,4.43795919418335,-1.9701505899429321,19.459735870361328,19.323974609375,-9.70400619506836,-3.479034900665283,13.131912231445312,22.22352409362793,-2.2351906299591064,19.481304168701172,-4.518866539001465,4.171380519866943,8.933794021606445,-14.231727600097656,-13.733592987060547,4.351020336151123,-6.745800495147705,-15.062121391296387,-9.70981502532959,-5.61811637878418,13.072504997253418,-17.778608322143555,13.033975601196289,8.256095886230469,-15.499510765075684,6.390833377838135,-5.0528788566589355,0.6469274759292603,13.195125579833984,-5.9835286140441895,14.58084774017334,12.533474922180176,4.859212875366211,-3.113860607147217,12.724212646484375,15.780452728271484,-6.959356784820557,6.364383220672607,19.56490135192871,-1.3776589632034302,4.680457592010498,7.074658393859863,2.312488555908203,11.94332504272461,9.006549835205078,20.446462631225586,4.220479488372803,7.0989909172058105,-1.539312481880188,-13.677209854125977,8.898698806762695,-6.964517116546631,1.236354112625122,-0.7538406848907471,12.947199821472168,-7.206881999969482,-5.209415435791016,-0.28830838203430176,4.32887601852417,-14.596967697143555,10.8587064743042,-1.7226166725158691,14.844179153442383,-8.544918060302734,16.150156021118164,5.201637268066406,-13.943495750427246,23.5637149810791,-0.23457446694374084,8.919766426086426,4.07794713973999,8.042705535888672,5.350041389465332,-5.722425937652588,2.4333345890045166,-9.700400352478027,-10.619771003723145,1.2975109815597534,-3.4345085620880127,-1.8858003616333008,-7.680380344390869,-22.498580932617188,4.703067302703857,-9.604215621948242,-6.786909580230713,-11.177506446838379,7.20937967300415,-22.371326446533203,8.27763557434082,-5.641467571258545,13.627756118774414,-10.448958396911621,21.379077911376953,19.471588134765625,13.438395500183105,13.362412452697754,-4.9815354347229,-1.6988379955291748,3.3613266944885254,11.864350318908691,10.744322776794434,6.971465110778809,2.4930031299591064,-13.273324012756348,-22.32157325744629,-1.9631098508834839,11.13770866394043,4.38882303237915,-0.47863221168518066,2.339540958404541,10.133413314819336,-9.414175987243652,13.286645889282227,-10.114877700805664,7.286474227905273,5.700143337249756,-8.778143882751465,2.949378490447998,-1.648893117904663,3.8735499382019043,4.960979461669922,-21.928220748901367,-3.933897018432617,-16.993003845214844,6.649723052978516,19.27179718017578,-16.356109619140625,-1.3672841787338257,-4.340540409088135,7.641147136688232,4.668107986450195,-5.873024940490723,1.5255225896835327,-11.067024230957031,-9.753378868103027,-9.973467826843262,-6.3170623779296875,4.226613521575928,-10.347503662109375],\"xaxis\":\"x\",\"y\":[-21.38149642944336,-18.438377380371094,16.801450729370117,-7.051224231719971,3.754399538040161,-20.69751739501953,14.698360443115234,-21.004074096679688,19.119022369384766,20.204439163208008,-15.292767524719238,14.121949195861816,16.442596435546875,-15.89709758758545,1.6942745447158813,-7.7192840576171875,20.559246063232422,15.528894424438477,-18.375076293945312,13.82436752319336,-17.82828140258789,20.28754425048828,-20.95779037475586,-26.0498046875,-19.560483932495117,-4.6839447021484375,-15.156420707702637,-4.181734085083008,21.60183334350586,-8.660977363586426,-3.398423910140991,-14.68058967590332,-2.6768734455108643,-21.006914138793945,-22.04243278503418,20.550092697143555,-4.0466742515563965,-22.69362449645996,-8.345388412475586,-13.266801834106445,3.851510763168335,-19.070270538330078,-2.844860553741455,-21.867889404296875,-20.039037704467773,21.03231430053711,-19.72781753540039,-11.503844261169434,-16.6578369140625,19.67976188659668,-3.035555839538574,-18.72821807861328,-9.16997241973877,-17.880666732788086,-1.9654111862182617,-25.14462661743164,-14.968624114990234,18.352479934692383,1.7255762815475464,-15.139522552490234,-26.7650203704834,9.433177947998047,-8.025964736938477,13.316680908203125,10.485108375549316,25.62236785888672,16.564311981201172,-18.44642448425293,-3.473133087158203,-10.59421443939209,13.880477905273438,-0.7951553463935852,26.296533584594727,21.29364013671875,15.616515159606934,15.2471284866333,25.035858154296875,15.49736499786377,15.244677543640137,25.62425422668457,-0.5557090044021606,7.022282123565674,-10.163151741027832,9.041138648986816,-18.158279418945312,-2.413395404815674,-12.00219440460205,-21.367816925048828,-22.42497444152832,0.6710139513015747,-15.798483848571777,6.889676094055176,2.3841400146484375,1.137285590171814,-15.947582244873047,3.9112157821655273,-15.233771324157715,21.413389205932617,15.964007377624512,-3.978609085083008,22.033489227294922,7.107960224151611,-17.29109764099121,-20.216094970703125,-17.032381057739258,4.410145282745361,-4.276609420776367,21.065961837768555,-0.2869432866573334,17.75337791442871,-14.913620948791504,-8.788951873779297,21.41185760498047,14.993703842163086,-26.130590438842773,-18.300735473632812,-13.76458740234375,16.273773193359375,-11.8950777053833,25.216176986694336,15.616869926452637,-9.867213249206543,-25.94891357421875,6.830827713012695,8.527377128601074,-14.808009147644043,-5.84785270690918,12.397010803222656,5.42926549911499,-19.17107582092285,-13.967561721801758,21.638471603393555,-15.89632511138916,-14.773481369018555,0.5104060769081116,9.276945114135742,25.614910125732422,-5.018797874450684,-14.957069396972656,-16.100069046020508,16.647289276123047,1.7838659286499023,-0.3326951563358307,-26.73134994506836,-13.128954887390137,-11.942083358764648,-7.675899505615234,14.930630683898926,0.8058097958564758,5.055475234985352,-13.456974983215332,5.9854512214660645,13.373199462890625,-1.1168196201324463,13.664650917053223,5.335666179656982,8.382848739624023,10.757699966430664,21.50844383239746,-12.770384788513184,-4.984148979187012,-9.509395599365234,-14.78965950012207,7.083154678344727,11.949882507324219,0.2838653028011322,21.667213439941406,1.480636477470398,-19.619903564453125,13.106077194213867,-4.982314109802246,-5.991342544555664,-8.616519927978516,18.277128219604492,6.278156757354736,-9.733050346374512,2.772592067718506,-5.431015491485596,-16.34111213684082,-3.044740915298462,-20.231657028198242,-26.996992111206055,-7.336965084075928,-1.4478353261947632,0.11025389283895493,12.075596809387207,11.293593406677246,-3.948366403579712,0.38991883397102356,-11.069907188415527,5.714303970336914,4.405151844024658,15.723204612731934,-19.859773635864258,13.073870658874512,-19.0628719329834,2.7974143028259277,-15.239845275878906,-4.443398952484131,6.393514156341553],\"yaxis\":\"y\",\"type\":\"scatter\"}],                        {\"template\":{\"data\":{\"histogram2dcontour\":[{\"type\":\"histogram2dcontour\",\"colorbar\":{\"outlinewidth\":0,\"ticks\":\"\"},\"colorscale\":[[0.0,\"#0d0887\"],[0.1111111111111111,\"#46039f\"],[0.2222222222222222,\"#7201a8\"],[0.3333333333333333,\"#9c179e\"],[0.4444444444444444,\"#bd3786\"],[0.5555555555555556,\"#d8576b\"],[0.6666666666666666,\"#ed7953\"],[0.7777777777777778,\"#fb9f3a\"],[0.8888888888888888,\"#fdca26\"],[1.0,\"#f0f921\"]]}],\"choropleth\":[{\"type\":\"choropleth\",\"colorbar\":{\"outlinewidth\":0,\"ticks\":\"\"}}],\"histogram2d\":[{\"type\":\"histogram2d\",\"colorbar\":{\"outlinewidth\":0,\"ticks\":\"\"},\"colorscale\":[[0.0,\"#0d0887\"],[0.1111111111111111,\"#46039f\"],[0.2222222222222222,\"#7201a8\"],[0.3333333333333333,\"#9c179e\"],[0.4444444444444444,\"#bd3786\"],[0.5555555555555556,\"#d8576b\"],[0.6666666666666666,\"#ed7953\"],[0.7777777777777778,\"#fb9f3a\"],[0.8888888888888888,\"#fdca26\"],[1.0,\"#f0f921\"]]}],\"heatmap\":[{\"type\":\"heatmap\",\"colorbar\":{\"outlinewidth\":0,\"ticks\":\"\"},\"colorscale\":[[0.0,\"#0d0887\"],[0.1111111111111111,\"#46039f\"],[0.2222222222222222,\"#7201a8\"],[0.3333333333333333,\"#9c179e\"],[0.4444444444444444,\"#bd3786\"],[0.5555555555555556,\"#d8576b\"],[0.6666666666666666,\"#ed7953\"],[0.7777777777777778,\"#fb9f3a\"],[0.8888888888888888,\"#fdca26\"],[1.0,\"#f0f921\"]]}],\"heatmapgl\":[{\"type\":\"heatmapgl\",\"colorbar\":{\"outlinewidth\":0,\"ticks\":\"\"},\"colorscale\":[[0.0,\"#0d0887\"],[0.1111111111111111,\"#46039f\"],[0.2222222222222222,\"#7201a8\"],[0.3333333333333333,\"#9c179e\"],[0.4444444444444444,\"#bd3786\"],[0.5555555555555556,\"#d8576b\"],[0.6666666666666666,\"#ed7953\"],[0.7777777777777778,\"#fb9f3a\"],[0.8888888888888888,\"#fdca26\"],[1.0,\"#f0f921\"]]}],\"contourcarpet\":[{\"type\":\"contourcarpet\",\"colorbar\":{\"outlinewidth\":0,\"ticks\":\"\"}}],\"contour\":[{\"type\":\"contour\",\"colorbar\":{\"outlinewidth\":0,\"ticks\":\"\"},\"colorscale\":[[0.0,\"#0d0887\"],[0.1111111111111111,\"#46039f\"],[0.2222222222222222,\"#7201a8\"],[0.3333333333333333,\"#9c179e\"],[0.4444444444444444,\"#bd3786\"],[0.5555555555555556,\"#d8576b\"],[0.6666666666666666,\"#ed7953\"],[0.7777777777777778,\"#fb9f3a\"],[0.8888888888888888,\"#fdca26\"],[1.0,\"#f0f921\"]]}],\"surface\":[{\"type\":\"surface\",\"colorbar\":{\"outlinewidth\":0,\"ticks\":\"\"},\"colorscale\":[[0.0,\"#0d0887\"],[0.1111111111111111,\"#46039f\"],[0.2222222222222222,\"#7201a8\"],[0.3333333333333333,\"#9c179e\"],[0.4444444444444444,\"#bd3786\"],[0.5555555555555556,\"#d8576b\"],[0.6666666666666666,\"#ed7953\"],[0.7777777777777778,\"#fb9f3a\"],[0.8888888888888888,\"#fdca26\"],[1.0,\"#f0f921\"]]}],\"mesh3d\":[{\"type\":\"mesh3d\",\"colorbar\":{\"outlinewidth\":0,\"ticks\":\"\"}}],\"scatter\":[{\"fillpattern\":{\"fillmode\":\"overlay\",\"size\":10,\"solidity\":0.2},\"type\":\"scatter\"}],\"parcoords\":[{\"type\":\"parcoords\",\"line\":{\"colorbar\":{\"outlinewidth\":0,\"ticks\":\"\"}}}],\"scatterpolargl\":[{\"type\":\"scatterpolargl\",\"marker\":{\"colorbar\":{\"outlinewidth\":0,\"ticks\":\"\"}}}],\"bar\":[{\"error_x\":{\"color\":\"#2a3f5f\"},\"error_y\":{\"color\":\"#2a3f5f\"},\"marker\":{\"line\":{\"color\":\"#E5ECF6\",\"width\":0.5},\"pattern\":{\"fillmode\":\"overlay\",\"size\":10,\"solidity\":0.2}},\"type\":\"bar\"}],\"scattergeo\":[{\"type\":\"scattergeo\",\"marker\":{\"colorbar\":{\"outlinewidth\":0,\"ticks\":\"\"}}}],\"scatterpolar\":[{\"type\":\"scatterpolar\",\"marker\":{\"colorbar\":{\"outlinewidth\":0,\"ticks\":\"\"}}}],\"histogram\":[{\"marker\":{\"pattern\":{\"fillmode\":\"overlay\",\"size\":10,\"solidity\":0.2}},\"type\":\"histogram\"}],\"scattergl\":[{\"type\":\"scattergl\",\"marker\":{\"colorbar\":{\"outlinewidth\":0,\"ticks\":\"\"}}}],\"scatter3d\":[{\"type\":\"scatter3d\",\"line\":{\"colorbar\":{\"outlinewidth\":0,\"ticks\":\"\"}},\"marker\":{\"colorbar\":{\"outlinewidth\":0,\"ticks\":\"\"}}}],\"scattermapbox\":[{\"type\":\"scattermapbox\",\"marker\":{\"colorbar\":{\"outlinewidth\":0,\"ticks\":\"\"}}}],\"scatterternary\":[{\"type\":\"scatterternary\",\"marker\":{\"colorbar\":{\"outlinewidth\":0,\"ticks\":\"\"}}}],\"scattercarpet\":[{\"type\":\"scattercarpet\",\"marker\":{\"colorbar\":{\"outlinewidth\":0,\"ticks\":\"\"}}}],\"carpet\":[{\"aaxis\":{\"endlinecolor\":\"#2a3f5f\",\"gridcolor\":\"white\",\"linecolor\":\"white\",\"minorgridcolor\":\"white\",\"startlinecolor\":\"#2a3f5f\"},\"baxis\":{\"endlinecolor\":\"#2a3f5f\",\"gridcolor\":\"white\",\"linecolor\":\"white\",\"minorgridcolor\":\"white\",\"startlinecolor\":\"#2a3f5f\"},\"type\":\"carpet\"}],\"table\":[{\"cells\":{\"fill\":{\"color\":\"#EBF0F8\"},\"line\":{\"color\":\"white\"}},\"header\":{\"fill\":{\"color\":\"#C8D4E3\"},\"line\":{\"color\":\"white\"}},\"type\":\"table\"}],\"barpolar\":[{\"marker\":{\"line\":{\"color\":\"#E5ECF6\",\"width\":0.5},\"pattern\":{\"fillmode\":\"overlay\",\"size\":10,\"solidity\":0.2}},\"type\":\"barpolar\"}],\"pie\":[{\"automargin\":true,\"type\":\"pie\"}]},\"layout\":{\"autotypenumbers\":\"strict\",\"colorway\":[\"#636efa\",\"#EF553B\",\"#00cc96\",\"#ab63fa\",\"#FFA15A\",\"#19d3f3\",\"#FF6692\",\"#B6E880\",\"#FF97FF\",\"#FECB52\"],\"font\":{\"color\":\"#2a3f5f\"},\"hovermode\":\"closest\",\"hoverlabel\":{\"align\":\"left\"},\"paper_bgcolor\":\"white\",\"plot_bgcolor\":\"#E5ECF6\",\"polar\":{\"bgcolor\":\"#E5ECF6\",\"angularaxis\":{\"gridcolor\":\"white\",\"linecolor\":\"white\",\"ticks\":\"\"},\"radialaxis\":{\"gridcolor\":\"white\",\"linecolor\":\"white\",\"ticks\":\"\"}},\"ternary\":{\"bgcolor\":\"#E5ECF6\",\"aaxis\":{\"gridcolor\":\"white\",\"linecolor\":\"white\",\"ticks\":\"\"},\"baxis\":{\"gridcolor\":\"white\",\"linecolor\":\"white\",\"ticks\":\"\"},\"caxis\":{\"gridcolor\":\"white\",\"linecolor\":\"white\",\"ticks\":\"\"}},\"coloraxis\":{\"colorbar\":{\"outlinewidth\":0,\"ticks\":\"\"}},\"colorscale\":{\"sequential\":[[0.0,\"#0d0887\"],[0.1111111111111111,\"#46039f\"],[0.2222222222222222,\"#7201a8\"],[0.3333333333333333,\"#9c179e\"],[0.4444444444444444,\"#bd3786\"],[0.5555555555555556,\"#d8576b\"],[0.6666666666666666,\"#ed7953\"],[0.7777777777777778,\"#fb9f3a\"],[0.8888888888888888,\"#fdca26\"],[1.0,\"#f0f921\"]],\"sequentialminus\":[[0.0,\"#0d0887\"],[0.1111111111111111,\"#46039f\"],[0.2222222222222222,\"#7201a8\"],[0.3333333333333333,\"#9c179e\"],[0.4444444444444444,\"#bd3786\"],[0.5555555555555556,\"#d8576b\"],[0.6666666666666666,\"#ed7953\"],[0.7777777777777778,\"#fb9f3a\"],[0.8888888888888888,\"#fdca26\"],[1.0,\"#f0f921\"]],\"diverging\":[[0,\"#8e0152\"],[0.1,\"#c51b7d\"],[0.2,\"#de77ae\"],[0.3,\"#f1b6da\"],[0.4,\"#fde0ef\"],[0.5,\"#f7f7f7\"],[0.6,\"#e6f5d0\"],[0.7,\"#b8e186\"],[0.8,\"#7fbc41\"],[0.9,\"#4d9221\"],[1,\"#276419\"]]},\"xaxis\":{\"gridcolor\":\"white\",\"linecolor\":\"white\",\"ticks\":\"\",\"title\":{\"standoff\":15},\"zerolinecolor\":\"white\",\"automargin\":true,\"zerolinewidth\":2},\"yaxis\":{\"gridcolor\":\"white\",\"linecolor\":\"white\",\"ticks\":\"\",\"title\":{\"standoff\":15},\"zerolinecolor\":\"white\",\"automargin\":true,\"zerolinewidth\":2},\"scene\":{\"xaxis\":{\"backgroundcolor\":\"#E5ECF6\",\"gridcolor\":\"white\",\"linecolor\":\"white\",\"showbackground\":true,\"ticks\":\"\",\"zerolinecolor\":\"white\",\"gridwidth\":2},\"yaxis\":{\"backgroundcolor\":\"#E5ECF6\",\"gridcolor\":\"white\",\"linecolor\":\"white\",\"showbackground\":true,\"ticks\":\"\",\"zerolinecolor\":\"white\",\"gridwidth\":2},\"zaxis\":{\"backgroundcolor\":\"#E5ECF6\",\"gridcolor\":\"white\",\"linecolor\":\"white\",\"showbackground\":true,\"ticks\":\"\",\"zerolinecolor\":\"white\",\"gridwidth\":2}},\"shapedefaults\":{\"line\":{\"color\":\"#2a3f5f\"}},\"annotationdefaults\":{\"arrowcolor\":\"#2a3f5f\",\"arrowhead\":0,\"arrowwidth\":1},\"geo\":{\"bgcolor\":\"white\",\"landcolor\":\"#E5ECF6\",\"subunitcolor\":\"white\",\"showland\":true,\"showlakes\":true,\"lakecolor\":\"white\"},\"title\":{\"x\":0.05},\"mapbox\":{\"style\":\"light\"}}},\"xaxis\":{\"anchor\":\"y\",\"domain\":[0.0,1.0],\"title\":{\"text\":\"x\"}},\"yaxis\":{\"anchor\":\"x\",\"domain\":[0.0,1.0],\"title\":{\"text\":\"y\"}},\"legend\":{\"tracegroupgap\":0},\"margin\":{\"t\":60}},                        {\"responsive\": true}                    ).then(function(){\n",
              "                            \n",
              "var gd = document.getElementById('2b56cc04-1761-4155-a1dc-1e1215a127dd');\n",
              "var x = new MutationObserver(function (mutations, observer) {{\n",
              "        var display = window.getComputedStyle(gd).display;\n",
              "        if (!display || display === 'none') {{\n",
              "            console.log([gd, 'removed!']);\n",
              "            Plotly.purge(gd);\n",
              "            observer.disconnect();\n",
              "        }}\n",
              "}});\n",
              "\n",
              "// Listen for the removal of the full notebook cells\n",
              "var notebookContainer = gd.closest('#notebook-container');\n",
              "if (notebookContainer) {{\n",
              "    x.observe(notebookContainer, {childList: true});\n",
              "}}\n",
              "\n",
              "// Listen for the clearing of the current output cell\n",
              "var outputEl = gd.closest('.output');\n",
              "if (outputEl) {{\n",
              "    x.observe(outputEl, {childList: true});\n",
              "}}\n",
              "\n",
              "                        })                };                            </script>        </div>\n",
              "</body>\n",
              "</html>"
            ]
          },
          "metadata": {},
          "output_type": "display_data"
        }
      ],
      "source": [
        "# Graficar los embedddings en 2D\n",
        "import plotly.graph_objects as go\n",
        "import plotly.express as px\n",
        "\n",
        "vecs, labels = reduce_dimensions(w2v_model)\n",
        "\n",
        "MAX_WORDS=200\n",
        "fig = px.scatter(x=vecs[:MAX_WORDS,0], y=vecs[:MAX_WORDS,1], text=labels[:MAX_WORDS])\n",
        "fig.show(renderer=\"colab\") # esto para plotly en colab"
      ]
    },
    {
      "cell_type": "code",
      "execution_count": null,
      "metadata": {
        "colab": {
          "base_uri": "https://localhost:8080/",
          "height": 542
        },
        "id": "uipVNK-rpcZf",
        "outputId": "4ad2cb08-6005-4cc7-9fcf-7e71419001de"
      },
      "outputs": [
        {
          "data": {
            "text/html": [
              "<html>\n",
              "<head><meta charset=\"utf-8\" /></head>\n",
              "<body>\n",
              "    <div>            <script src=\"https://cdnjs.cloudflare.com/ajax/libs/mathjax/2.7.5/MathJax.js?config=TeX-AMS-MML_SVG\"></script><script type=\"text/javascript\">if (window.MathJax && window.MathJax.Hub && window.MathJax.Hub.Config) {window.MathJax.Hub.Config({SVG: {font: \"STIX-Web\"}});}</script>                <script type=\"text/javascript\">window.PlotlyConfig = {MathJaxConfig: 'local'};</script>\n",
              "        <script charset=\"utf-8\" src=\"https://cdn.plot.ly/plotly-2.24.1.min.js\"></script>                <div id=\"062e9e76-65d1-43ab-9b43-74d48f07fa67\" class=\"plotly-graph-div\" style=\"height:525px; width:100%;\"></div>            <script type=\"text/javascript\">                                    window.PLOTLYENV=window.PLOTLYENV || {};                                    if (document.getElementById(\"062e9e76-65d1-43ab-9b43-74d48f07fa67\")) {                    Plotly.newPlot(                        \"062e9e76-65d1-43ab-9b43-74d48f07fa67\",                        [{\"hovertemplate\":\"x=%{x}\\u003cbr\\u003ey=%{y}\\u003cbr\\u003ez=%{z}\\u003cbr\\u003etext=%{text}\\u003cextra\\u003e\\u003c\\u002fextra\\u003e\",\"legendgroup\":\"\",\"marker\":{\"color\":\"#636efa\",\"symbol\":\"circle\",\"size\":2},\"mode\":\"markers+text\",\"name\":\"\",\"scene\":\"scene\",\"showlegend\":false,\"text\":[\"you\",\"i\",\"the\",\"to\",\"and\",\"love\",\"a\",\"me\",\"in\",\"all\",\"nah\",\"my\",\"it\",\"know\",\"that\",\"be\",\"on\",\"of\",\"she\",\"is\",\"say\",\"now\",\"oh\",\"your\",\"yeah\",\"get\",\"don't\",\"back\",\"with\",\"let\",\"her\",\"can\",\"it's\",\"do\",\"when\",\"come\",\"i'm\",\"will\",\"he\",\"but\",\"for\",\"so\",\"there\",\"need\",\"like\",\"together\",\"no\",\"i'll\",\"see\",\"we\",\"was\",\"never\",\"down\",\"if\",\"way\",\"want\",\"hey\",\"out\",\"one\",\"got\",\"can't\",\"girl\",\"well\",\"good\",\"go\",\"sun\",\"his\",\"hello\",\"home\",\"they\",\"day\",\"are\",\"ah\",\"right\",\"from\",\"little\",\"at\",\"man\",\"help\",\"here\",\"have\",\"gonna\",\"not\",\"world\",\"what\",\"going\",\"how\",\"please\",\"still\",\"too\",\"just\",\"you're\",\"time\",\"as\",\"make\",\"long\",\"yes\",\"yellow\",\"life\",\"once\",\"sky\",\"been\",\"think\",\"tell\",\"why\",\"only\",\"where\",\"people\",\"she's\",\"eyes\",\"jude\",\"take\",\"submarine\",\"up\",\"hold\",\"goodbye\",\"give\",\"nowhere\",\"sing\",\"look\",\"friends\",\"always\",\"hand\",\"boy\",\"we're\",\"am\",\"away\",\"darling\",\"goo\",\"nothing\",\"should\",\"lonely\",\"could\",\"feel\",\"some\",\"night\",\"comes\",\"had\",\"would\",\"better\",\"head\",\"them\",\"four\",\"buy\",\"more\",\"i've\",\"la\",\"mind\",\"two\",\"this\",\"everything\",\"carry\",\"by\",\"our\",\"sunshine\",\"weight\",\"change\",\"us\",\"lucy\",\"birthday\",\"an\",\"true\",\"you'll\",\"every\",\"pretty\",\"three\",\"diamonds\",\"before\",\"believe\",\"these\",\"i'd\",\"words\",\"mm\",\"work\",\"dear\",\"leave\",\"were\",\"mine\",\"there's\",\"nobody\",\"told\",\"money\",\"bom\",\"said\",\"forever\",\"round\",\"children\",\"'cause\",\"something\",\"about\",\"waiting\",\"standing\",\"who\",\"didn't\",\"try\",\"loves\",\"then\",\"hide\",\"saw\",\"prudence\"],\"x\":[-20.70174789428711,-4.842916965484619,-2.087230682373047,-11.692377090454102,-7.35446310043335,-27.039487838745117,-14.26610279083252,-17.421154022216797,-4.499321460723877,-12.379899024963379,26.850841522216797,-25.563459396362305,-24.64095115661621,5.583834648132324,-9.343039512634277,23.512548446655273,-11.185493469238281,5.517962455749512,19.142744064331055,-12.969707489013672,4.0808000564575195,-12.270428657531738,-3.123403310775757,-28.166471481323242,16.299949645996094,-24.248680114746094,9.296492576599121,-21.182430267333984,-11.875960350036621,27.869577407836914,-23.534597396850586,-15.325037956237793,0.8760161399841309,-10.731039047241211,-18.107065200805664,-10.797502517700195,6.681725978851318,-24.461063385009766,1.504481315612793,-3.855078935623169,-2.061936616897583,-9.835709571838379,-14.244858741760254,-28.589210510253906,-12.695056915283203,-11.606498718261719,-10.663736343383789,13.960453987121582,-22.348072052001953,7.161238670349121,-16.41486358642578,-5.875168323516846,28.213058471679688,-10.613604545593262,-14.045517921447754,-27.535240173339844,24.033601760864258,-16.462703704833984,-0.5375293493270874,7.406795024871826,-3.132566452026367,8.947422981262207,17.511913299560547,7.95676326751709,5.326284885406494,19.433752059936523,7.982795238494873,8.153658866882324,-18.516876220703125,-17.315412521362305,4.182944297790527,-9.62803840637207,33.217323303222656,-11.378174781799316,-26.10731315612793,-24.539079666137695,28.27685546875,13.445439338684082,-30.154966354370117,22.782739639282227,-2.9446332454681396,-20.781566619873047,-6.7115678787231445,-21.755815505981445,-0.0451468862593174,-0.8066151738166809,7.572689056396484,-13.715994834899902,-27.63245391845703,-6.965902328491211,-0.22458642721176147,-15.00869369506836,-6.296000003814697,5.1887640953063965,16.875381469726562,-8.38963794708252,0.013034339062869549,3.42018723487854,-21.41933822631836,-21.644622802734375,-12.92221450805664,11.667064666748047,-6.374897003173828,-22.47637367248535,7.817523002624512,5.127618789672852,-24.049692153930664,21.062490463256836,5.62860107421875,-0.3056574761867523,24.1944580078125,23.09782600402832,0.36492857336997986,-5.144260406494141,-24.236520767211914,9.102872848510742,9.040915489196777,10.893241882324219,-20.70853042602539,30.248247146606445,-26.792184829711914,15.393811225891113,-28.43698501586914,-12.106060981750488,-7.499948024749756,2.9922163486480713,-14.79284954071045,-29.60137939453125,33.212318420410156,-22.118345260620117,9.379236221313477,21.400827407836914,1.2193886041641235,5.074190139770508,-4.189870357513428,6.357025146484375,20.005069732666016,21.234054565429688,-13.154454231262207,18.736576080322266,3.910231828689575,27.378135681152344,11.952752113342285,-6.522375106811523,14.881383895874023,6.950300693511963,33.662506103515625,-20.968894958496094,-1.8993152379989624,7.8439130783081055,6.799672603607178,-15.635348320007324,-17.318525314331055,-9.509759902954102,8.171910285949707,-13.249493598937988,-22.250638961791992,2.868911027908325,-10.737271308898926,-7.1968536376953125,5.579050540924072,17.124441146850586,3.0117688179016113,7.60103178024292,-25.11476707458496,12.461996078491211,-14.696564674377441,-4.289937973022461,-11.854793548583984,-8.163798332214355,-14.682543754577637,24.647974014282227,32.67981719970703,-19.222166061401367,-6.168342590332031,22.603004455566406,-4.002346038818359,25.20058250427246,-13.967489242553711,8.379024505615234,-16.216110229492188,-2.406233310699463,25.49074935913086,-5.808550834655762,12.19885540008545,-16.788959503173828,7.060634613037109,5.405200958251953,-6.3633503913879395,-1.3430988788604736,10.363539695739746,20.02126693725586,9.794326782226562,-19.10593605041504,-18.616830825805664,17.738676071166992,2.2558395862579346,3.3550221920013428,-11.00703239440918,-9.694595336914062],\"y\":[-33.02185821533203,-36.343441009521484,8.03756332397461,-0.08039607107639313,-0.9042083024978638,-28.45966911315918,25.63506507873535,-20.641178131103516,21.236055374145508,11.815224647521973,-9.043906211853027,6.660909175872803,11.190077781677246,-35.65229415893555,-18.284269332885742,-23.0659236907959,22.840919494628906,9.893253326416016,0.9729418158531189,2.2556324005126953,-37.613365173339844,14.312797546386719,-33.291709899902344,-11.722553253173828,-0.43999695777893066,31.365324020385742,-36.44647979736328,35.431034088134766,21.633731842041016,-25.542943954467773,-8.149267196655273,-22.36693000793457,-24.47307014465332,-30.45068359375,-32.55329132080078,22.82413673400879,7.570070266723633,-14.677238464355469,-7.678305149078369,-8.446162223815918,-20.98443603515625,-23.666311264038086,37.11253356933594,-23.03582763671875,-16.704666137695312,18.819421768188477,-36.0027961730957,-25.089630126953125,-18.63086700439453,33.840885162353516,36.09284591674805,-36.51894760131836,-22.145280838012695,-24.47599220275879,32.08597946166992,-19.505891799926758,-13.56144905090332,17.096586227416992,-13.92622184753418,-14.753288269042969,-19.191999435424805,1.9438802003860474,-7.990963459014893,35.915409088134766,32.32810974121094,-4.694710731506348,21.044130325317383,-36.09192657470703,31.317529678344727,3.3188202381134033,35.17616271972656,-6.811853408813477,7.061426162719727,16.26946258544922,18.17439079284668,20.274314880371094,10.12615966796875,26.625417709350586,17.21016502380371,-3.580101251602173,-8.057157516479492,-15.907221794128418,-35.203224182128906,-5.900054931640625,-35.399837493896484,9.278959274291992,-24.217060089111328,-22.684673309326172,-18.000444412231445,-24.208927154541016,-14.684715270996094,-12.363818168640137,-22.85719108581543,-8.454124450683594,-19.756624221801758,-21.275524139404297,-45.1046257019043,31.55310821533203,10.415650367736816,37.431514739990234,19.36345672607422,2.377047061920166,-30.615447998046875,-25.700883865356445,-38.691349029541016,-15.252668380737305,32.350948333740234,12.488750457763672,-4.304233551025391,20.057340621948242,-13.463082313537598,-21.31428337097168,32.21331787109375,25.328044891357422,-17.113737106323242,-38.045345306396484,-20.551502227783203,24.290998458862305,-7.743837833404541,8.5768461227417,14.66805362701416,-17.908649444580078,-15.185302734375,-10.191977500915527,25.15456771850586,-47.30036163330078,-12.418719291687012,20.023963928222656,20.464445114135742,-31.57331085205078,-30.930444717407227,16.84563636779785,-28.80198860168457,-22.636375427246094,-2.0454907417297363,5.383481979370117,-0.6925649642944336,2.4658031463623047,-20.32678985595703,-18.549564361572266,17.3167724609375,-2.644994020462036,19.73244857788086,-21.068117141723633,-18.40892219543457,-8.464309692382812,5.856571197509766,11.256521224975586,-10.832679748535156,-11.322407722473145,-14.084949493408203,-15.669026374816895,22.30632781982422,31.89497184753418,34.15699768066406,-18.824871063232422,-10.44357967376709,26.10533332824707,23.645963668823242,-19.23653793334961,14.797330856323242,-19.393423080444336,-28.928020477294922,25.132404327392578,18.476396560668945,24.298458099365234,22.91329574584961,-17.507038116455078,-27.62765884399414,16.081262588500977,-4.077681064605713,-12.748263359069824,3.7783567905426025,18.248573303222656,11.851758003234863,-27.397361755371094,-3.767521619796753,-0.7669057250022888,-29.931604385375977,-10.355528831481934,-29.155292510986328,-22.97878074645996,21.183019638061523,-7.1273603439331055,-12.047886848449707,-1.3829759359359741,31.600893020629883,6.902002811431885,0.6105689406394958,-2.1899642944335938,-7.965179443359375,-8.140047073364258,24.91197395324707,-24.451583862304688,21.146930694580078,0.48048537969589233,26.376218795776367,-18.087669372558594,-13.854157447814941,14.071683883666992],\"z\":[-10.877095222473145,-3.236016035079956,28.22693634033203,-20.636301040649414,-7.944808483123779,-8.132867813110352,13.808491706848145,-18.37630844116211,30.277803421020508,-30.27901268005371,-23.227920532226562,15.997942924499512,-17.040237426757812,-11.390817642211914,16.00918197631836,4.197617053985596,-17.063213348388672,29.22148895263672,-21.713708877563477,28.093795776367188,-3.17647385597229,-27.382614135742188,-21.555747985839844,-21.073787689208984,-30.29911231994629,-10.528484344482422,-14.872415542602539,-10.130834579467773,25.79326820373535,-0.10566841810941696,-2.0367844104766846,5.076129913330078,6.778334140777588,-22.763988494873047,-18.99213981628418,-21.512310028076172,-30.294004440307617,-10.766328811645508,-13.32095718383789,-20.577564239501953,23.193952560424805,-16.322227478027344,3.232713222503662,-9.641104698181152,-20.92057991027832,-28.907005310058594,-9.785152435302734,1.5654581785202026,-0.9160849452018738,18.128141403198242,-0.17094755172729492,-13.955916404724121,-3.9464550018310547,-8.1653413772583,-6.797565460205078,-20.001976013183594,-24.99526596069336,-16.453481674194336,35.157562255859375,-29.331640243530273,-35.78357696533203,32.526851654052734,-0.10683003067970276,-0.6433107852935791,-9.796364784240723,29.87096405029297,27.158172607421875,2.205564022064209,-11.916142463684082,-11.3096923828125,2.768235921859741,11.855452537536621,7.138778209686279,-33.42558288574219,16.990713119506836,13.126189231872559,13.643757820129395,12.901433944702148,12.624765396118164,27.19806671142578,12.33061695098877,24.101102828979492,8.987217903137207,21.82642936706543,-14.814866065979004,-24.270944595336914,-4.208587646484375,-25.188770294189453,-9.596856117248535,12.712556838989258,-27.286746978759766,26.21221160888672,18.304668426513672,12.470185279846191,-12.998066902160645,23.420759201049805,-2.435148239135742,26.649694442749023,24.002811431884766,-2.240281581878662,31.9920597076416,16.09184455871582,-7.308736801147461,-15.986778259277344,-6.818373680114746,21.893909454345703,-3.6282858848571777,23.579952239990234,30.843507766723633,27.105974197387695,-20.8680419921875,-7.349334239959717,24.445205688476562,1.506791591644287,-24.53566551208496,-1.1003389358520508,-24.0443058013916,21.358524322509766,-13.12330150604248,11.023859977722168,14.714619636535645,5.892159938812256,-22.357765197753906,24.416950225830078,-10.208999633789062,1.073091983795166,-2.8671724796295166,4.907151222229004,-7.607588768005371,-4.781811237335205,-9.551775932312012,25.908700942993164,-6.230020046234131,-17.18745231628418,14.464554786682129,23.312246322631836,28.42277717590332,-11.175091743469238,0.46233490109443665,-16.904285430908203,25.5950984954834,11.342906951904297,-29.04829978942871,-34.56233596801758,-26.896202087402344,-24.87331199645996,-0.8693773150444031,17.161495208740234,38.4440803527832,20.351863861083984,-22.385894775390625,21.36009407043457,9.333673477172852,-7.729740142822266,3.1685075759887695,23.316518783569336,21.12537956237793,8.357831954956055,30.67890739440918,-2.6363441944122314,38.63822555541992,2.398575782775879,-15.307424545288086,2.0064492225646973,4.76200008392334,-26.962722778320312,28.980533599853516,17.190547943115234,-14.920269012451172,15.80411148071289,-5.199893474578857,-0.5400740504264832,-11.24717903137207,-18.788272857666016,-15.216363906860352,-9.447664260864258,26.54924201965332,0.29850080609321594,-2.3312008380889893,3.0243752002716064,-14.996289253234863,-33.33751678466797,7.132770538330078,7.5863871574401855,-15.532508850097656,16.928329467773438,-4.815250396728516,-24.978872299194336,2.6500442028045654,-17.269102096557617,23.142702102661133,18.415332794189453,16.159135818481445,-12.170339584350586,5.137688636779785,-26.21284294128418,-19.641996383666992,-27.17758560180664,4.501203536987305,-14.844599723815918],\"type\":\"scatter3d\"}],                        {\"template\":{\"data\":{\"histogram2dcontour\":[{\"type\":\"histogram2dcontour\",\"colorbar\":{\"outlinewidth\":0,\"ticks\":\"\"},\"colorscale\":[[0.0,\"#0d0887\"],[0.1111111111111111,\"#46039f\"],[0.2222222222222222,\"#7201a8\"],[0.3333333333333333,\"#9c179e\"],[0.4444444444444444,\"#bd3786\"],[0.5555555555555556,\"#d8576b\"],[0.6666666666666666,\"#ed7953\"],[0.7777777777777778,\"#fb9f3a\"],[0.8888888888888888,\"#fdca26\"],[1.0,\"#f0f921\"]]}],\"choropleth\":[{\"type\":\"choropleth\",\"colorbar\":{\"outlinewidth\":0,\"ticks\":\"\"}}],\"histogram2d\":[{\"type\":\"histogram2d\",\"colorbar\":{\"outlinewidth\":0,\"ticks\":\"\"},\"colorscale\":[[0.0,\"#0d0887\"],[0.1111111111111111,\"#46039f\"],[0.2222222222222222,\"#7201a8\"],[0.3333333333333333,\"#9c179e\"],[0.4444444444444444,\"#bd3786\"],[0.5555555555555556,\"#d8576b\"],[0.6666666666666666,\"#ed7953\"],[0.7777777777777778,\"#fb9f3a\"],[0.8888888888888888,\"#fdca26\"],[1.0,\"#f0f921\"]]}],\"heatmap\":[{\"type\":\"heatmap\",\"colorbar\":{\"outlinewidth\":0,\"ticks\":\"\"},\"colorscale\":[[0.0,\"#0d0887\"],[0.1111111111111111,\"#46039f\"],[0.2222222222222222,\"#7201a8\"],[0.3333333333333333,\"#9c179e\"],[0.4444444444444444,\"#bd3786\"],[0.5555555555555556,\"#d8576b\"],[0.6666666666666666,\"#ed7953\"],[0.7777777777777778,\"#fb9f3a\"],[0.8888888888888888,\"#fdca26\"],[1.0,\"#f0f921\"]]}],\"heatmapgl\":[{\"type\":\"heatmapgl\",\"colorbar\":{\"outlinewidth\":0,\"ticks\":\"\"},\"colorscale\":[[0.0,\"#0d0887\"],[0.1111111111111111,\"#46039f\"],[0.2222222222222222,\"#7201a8\"],[0.3333333333333333,\"#9c179e\"],[0.4444444444444444,\"#bd3786\"],[0.5555555555555556,\"#d8576b\"],[0.6666666666666666,\"#ed7953\"],[0.7777777777777778,\"#fb9f3a\"],[0.8888888888888888,\"#fdca26\"],[1.0,\"#f0f921\"]]}],\"contourcarpet\":[{\"type\":\"contourcarpet\",\"colorbar\":{\"outlinewidth\":0,\"ticks\":\"\"}}],\"contour\":[{\"type\":\"contour\",\"colorbar\":{\"outlinewidth\":0,\"ticks\":\"\"},\"colorscale\":[[0.0,\"#0d0887\"],[0.1111111111111111,\"#46039f\"],[0.2222222222222222,\"#7201a8\"],[0.3333333333333333,\"#9c179e\"],[0.4444444444444444,\"#bd3786\"],[0.5555555555555556,\"#d8576b\"],[0.6666666666666666,\"#ed7953\"],[0.7777777777777778,\"#fb9f3a\"],[0.8888888888888888,\"#fdca26\"],[1.0,\"#f0f921\"]]}],\"surface\":[{\"type\":\"surface\",\"colorbar\":{\"outlinewidth\":0,\"ticks\":\"\"},\"colorscale\":[[0.0,\"#0d0887\"],[0.1111111111111111,\"#46039f\"],[0.2222222222222222,\"#7201a8\"],[0.3333333333333333,\"#9c179e\"],[0.4444444444444444,\"#bd3786\"],[0.5555555555555556,\"#d8576b\"],[0.6666666666666666,\"#ed7953\"],[0.7777777777777778,\"#fb9f3a\"],[0.8888888888888888,\"#fdca26\"],[1.0,\"#f0f921\"]]}],\"mesh3d\":[{\"type\":\"mesh3d\",\"colorbar\":{\"outlinewidth\":0,\"ticks\":\"\"}}],\"scatter\":[{\"fillpattern\":{\"fillmode\":\"overlay\",\"size\":10,\"solidity\":0.2},\"type\":\"scatter\"}],\"parcoords\":[{\"type\":\"parcoords\",\"line\":{\"colorbar\":{\"outlinewidth\":0,\"ticks\":\"\"}}}],\"scatterpolargl\":[{\"type\":\"scatterpolargl\",\"marker\":{\"colorbar\":{\"outlinewidth\":0,\"ticks\":\"\"}}}],\"bar\":[{\"error_x\":{\"color\":\"#2a3f5f\"},\"error_y\":{\"color\":\"#2a3f5f\"},\"marker\":{\"line\":{\"color\":\"#E5ECF6\",\"width\":0.5},\"pattern\":{\"fillmode\":\"overlay\",\"size\":10,\"solidity\":0.2}},\"type\":\"bar\"}],\"scattergeo\":[{\"type\":\"scattergeo\",\"marker\":{\"colorbar\":{\"outlinewidth\":0,\"ticks\":\"\"}}}],\"scatterpolar\":[{\"type\":\"scatterpolar\",\"marker\":{\"colorbar\":{\"outlinewidth\":0,\"ticks\":\"\"}}}],\"histogram\":[{\"marker\":{\"pattern\":{\"fillmode\":\"overlay\",\"size\":10,\"solidity\":0.2}},\"type\":\"histogram\"}],\"scattergl\":[{\"type\":\"scattergl\",\"marker\":{\"colorbar\":{\"outlinewidth\":0,\"ticks\":\"\"}}}],\"scatter3d\":[{\"type\":\"scatter3d\",\"line\":{\"colorbar\":{\"outlinewidth\":0,\"ticks\":\"\"}},\"marker\":{\"colorbar\":{\"outlinewidth\":0,\"ticks\":\"\"}}}],\"scattermapbox\":[{\"type\":\"scattermapbox\",\"marker\":{\"colorbar\":{\"outlinewidth\":0,\"ticks\":\"\"}}}],\"scatterternary\":[{\"type\":\"scatterternary\",\"marker\":{\"colorbar\":{\"outlinewidth\":0,\"ticks\":\"\"}}}],\"scattercarpet\":[{\"type\":\"scattercarpet\",\"marker\":{\"colorbar\":{\"outlinewidth\":0,\"ticks\":\"\"}}}],\"carpet\":[{\"aaxis\":{\"endlinecolor\":\"#2a3f5f\",\"gridcolor\":\"white\",\"linecolor\":\"white\",\"minorgridcolor\":\"white\",\"startlinecolor\":\"#2a3f5f\"},\"baxis\":{\"endlinecolor\":\"#2a3f5f\",\"gridcolor\":\"white\",\"linecolor\":\"white\",\"minorgridcolor\":\"white\",\"startlinecolor\":\"#2a3f5f\"},\"type\":\"carpet\"}],\"table\":[{\"cells\":{\"fill\":{\"color\":\"#EBF0F8\"},\"line\":{\"color\":\"white\"}},\"header\":{\"fill\":{\"color\":\"#C8D4E3\"},\"line\":{\"color\":\"white\"}},\"type\":\"table\"}],\"barpolar\":[{\"marker\":{\"line\":{\"color\":\"#E5ECF6\",\"width\":0.5},\"pattern\":{\"fillmode\":\"overlay\",\"size\":10,\"solidity\":0.2}},\"type\":\"barpolar\"}],\"pie\":[{\"automargin\":true,\"type\":\"pie\"}]},\"layout\":{\"autotypenumbers\":\"strict\",\"colorway\":[\"#636efa\",\"#EF553B\",\"#00cc96\",\"#ab63fa\",\"#FFA15A\",\"#19d3f3\",\"#FF6692\",\"#B6E880\",\"#FF97FF\",\"#FECB52\"],\"font\":{\"color\":\"#2a3f5f\"},\"hovermode\":\"closest\",\"hoverlabel\":{\"align\":\"left\"},\"paper_bgcolor\":\"white\",\"plot_bgcolor\":\"#E5ECF6\",\"polar\":{\"bgcolor\":\"#E5ECF6\",\"angularaxis\":{\"gridcolor\":\"white\",\"linecolor\":\"white\",\"ticks\":\"\"},\"radialaxis\":{\"gridcolor\":\"white\",\"linecolor\":\"white\",\"ticks\":\"\"}},\"ternary\":{\"bgcolor\":\"#E5ECF6\",\"aaxis\":{\"gridcolor\":\"white\",\"linecolor\":\"white\",\"ticks\":\"\"},\"baxis\":{\"gridcolor\":\"white\",\"linecolor\":\"white\",\"ticks\":\"\"},\"caxis\":{\"gridcolor\":\"white\",\"linecolor\":\"white\",\"ticks\":\"\"}},\"coloraxis\":{\"colorbar\":{\"outlinewidth\":0,\"ticks\":\"\"}},\"colorscale\":{\"sequential\":[[0.0,\"#0d0887\"],[0.1111111111111111,\"#46039f\"],[0.2222222222222222,\"#7201a8\"],[0.3333333333333333,\"#9c179e\"],[0.4444444444444444,\"#bd3786\"],[0.5555555555555556,\"#d8576b\"],[0.6666666666666666,\"#ed7953\"],[0.7777777777777778,\"#fb9f3a\"],[0.8888888888888888,\"#fdca26\"],[1.0,\"#f0f921\"]],\"sequentialminus\":[[0.0,\"#0d0887\"],[0.1111111111111111,\"#46039f\"],[0.2222222222222222,\"#7201a8\"],[0.3333333333333333,\"#9c179e\"],[0.4444444444444444,\"#bd3786\"],[0.5555555555555556,\"#d8576b\"],[0.6666666666666666,\"#ed7953\"],[0.7777777777777778,\"#fb9f3a\"],[0.8888888888888888,\"#fdca26\"],[1.0,\"#f0f921\"]],\"diverging\":[[0,\"#8e0152\"],[0.1,\"#c51b7d\"],[0.2,\"#de77ae\"],[0.3,\"#f1b6da\"],[0.4,\"#fde0ef\"],[0.5,\"#f7f7f7\"],[0.6,\"#e6f5d0\"],[0.7,\"#b8e186\"],[0.8,\"#7fbc41\"],[0.9,\"#4d9221\"],[1,\"#276419\"]]},\"xaxis\":{\"gridcolor\":\"white\",\"linecolor\":\"white\",\"ticks\":\"\",\"title\":{\"standoff\":15},\"zerolinecolor\":\"white\",\"automargin\":true,\"zerolinewidth\":2},\"yaxis\":{\"gridcolor\":\"white\",\"linecolor\":\"white\",\"ticks\":\"\",\"title\":{\"standoff\":15},\"zerolinecolor\":\"white\",\"automargin\":true,\"zerolinewidth\":2},\"scene\":{\"xaxis\":{\"backgroundcolor\":\"#E5ECF6\",\"gridcolor\":\"white\",\"linecolor\":\"white\",\"showbackground\":true,\"ticks\":\"\",\"zerolinecolor\":\"white\",\"gridwidth\":2},\"yaxis\":{\"backgroundcolor\":\"#E5ECF6\",\"gridcolor\":\"white\",\"linecolor\":\"white\",\"showbackground\":true,\"ticks\":\"\",\"zerolinecolor\":\"white\",\"gridwidth\":2},\"zaxis\":{\"backgroundcolor\":\"#E5ECF6\",\"gridcolor\":\"white\",\"linecolor\":\"white\",\"showbackground\":true,\"ticks\":\"\",\"zerolinecolor\":\"white\",\"gridwidth\":2}},\"shapedefaults\":{\"line\":{\"color\":\"#2a3f5f\"}},\"annotationdefaults\":{\"arrowcolor\":\"#2a3f5f\",\"arrowhead\":0,\"arrowwidth\":1},\"geo\":{\"bgcolor\":\"white\",\"landcolor\":\"#E5ECF6\",\"subunitcolor\":\"white\",\"showland\":true,\"showlakes\":true,\"lakecolor\":\"white\"},\"title\":{\"x\":0.05},\"mapbox\":{\"style\":\"light\"}}},\"scene\":{\"domain\":{\"x\":[0.0,1.0],\"y\":[0.0,1.0]},\"xaxis\":{\"title\":{\"text\":\"x\"}},\"yaxis\":{\"title\":{\"text\":\"y\"}},\"zaxis\":{\"title\":{\"text\":\"z\"}}},\"legend\":{\"tracegroupgap\":0},\"margin\":{\"t\":60}},                        {\"responsive\": true}                    ).then(function(){\n",
              "                            \n",
              "var gd = document.getElementById('062e9e76-65d1-43ab-9b43-74d48f07fa67');\n",
              "var x = new MutationObserver(function (mutations, observer) {{\n",
              "        var display = window.getComputedStyle(gd).display;\n",
              "        if (!display || display === 'none') {{\n",
              "            console.log([gd, 'removed!']);\n",
              "            Plotly.purge(gd);\n",
              "            observer.disconnect();\n",
              "        }}\n",
              "}});\n",
              "\n",
              "// Listen for the removal of the full notebook cells\n",
              "var notebookContainer = gd.closest('#notebook-container');\n",
              "if (notebookContainer) {{\n",
              "    x.observe(notebookContainer, {childList: true});\n",
              "}}\n",
              "\n",
              "// Listen for the clearing of the current output cell\n",
              "var outputEl = gd.closest('.output');\n",
              "if (outputEl) {{\n",
              "    x.observe(outputEl, {childList: true});\n",
              "}}\n",
              "\n",
              "                        })                };                            </script>        </div>\n",
              "</body>\n",
              "</html>"
            ]
          },
          "metadata": {},
          "output_type": "display_data"
        }
      ],
      "source": [
        "# Graficar los embedddings en 3D\n",
        "\n",
        "vecs, labels = reduce_dimensions(w2v_model,3)\n",
        "\n",
        "fig = px.scatter_3d(x=vecs[:MAX_WORDS,0], y=vecs[:MAX_WORDS,1], z=vecs[:MAX_WORDS,2],text=labels[:MAX_WORDS])\n",
        "fig.update_traces(marker_size = 2)\n",
        "fig.show(renderer=\"colab\") # esto para plotly en colab"
      ]
    },
    {
      "cell_type": "code",
      "execution_count": null,
      "metadata": {
        "id": "Z66ilYnspcZf"
      },
      "outputs": [],
      "source": [
        "# También se pueden guardar los vectores y labels como tsv para graficar en\n",
        "# http://projector.tensorflow.org/\n",
        "\n",
        "\n",
        "vectors = np.asarray(w2v_model.wv.vectors)\n",
        "labels = list(w2v_model.wv.index_to_key)\n",
        "\n",
        "np.savetxt(\"vectors.tsv\", vectors, delimiter=\"\\t\")\n",
        "\n",
        "with open(\"labels.tsv\", \"w\") as fp:\n",
        "    for item in labels:\n",
        "        fp.write(\"%s\\n\" % item)"
      ]
    },
    {
      "cell_type": "markdown",
      "metadata": {
        "id": "yMM_SHSaZ9N-"
      },
      "source": [
        "### Alumno"
      ]
    },
    {
      "cell_type": "markdown",
      "metadata": {
        "id": "WivQZ3ZCZ9N_"
      },
      "source": [
        "- Crear sus propios vectores con Gensim basado en lo visto en clase con otro dataset.\n",
        "- Probar términos de interés y explicar similitudes en el espacio de embeddings (sacar conclusiones entre palabras similitudes y diferencias).\n",
        "- Graficarlos.\n",
        "- Obtener conclusiones."
      ]
    },
    {
      "cell_type": "markdown",
      "metadata": {
        "id": "kYO4fW6k5grV"
      },
      "source": [
        "Uso como datashet la transcripcion de una clase de Aprendisaje de Maquinas 1"
      ]
    },
    {
      "cell_type": "code",
      "execution_count": 2,
      "metadata": {
        "colab": {
          "base_uri": "https://localhost:8080/",
          "height": 417
        },
        "id": "FVu3fB-LDuwW",
        "outputId": "c1a3f578-36f5-49ba-c377-58d3e1259bb1"
      },
      "outputs": [
        {
          "name": "stderr",
          "output_type": "stream",
          "text": [
            "C:\\Users\\germa\\AppData\\Local\\Temp\\ipykernel_46076\\1727040919.py:1: ParserWarning: Falling back to the 'python' engine because the 'c' engine does not support regex separators (separators > 1 char and different from '\\s+' are interpreted as regex); you can avoid this warning by specifying engine='python'.\n",
            "  df = pd.read_csv('Clase.txt', sep='/n', header=None)\n"
          ]
        },
        {
          "data": {
            "text/html": [
              "<div>\n",
              "<style scoped>\n",
              "    .dataframe tbody tr th:only-of-type {\n",
              "        vertical-align: middle;\n",
              "    }\n",
              "\n",
              "    .dataframe tbody tr th {\n",
              "        vertical-align: top;\n",
              "    }\n",
              "\n",
              "    .dataframe thead th {\n",
              "        text-align: right;\n",
              "    }\n",
              "</style>\n",
              "<table border=\"1\" class=\"dataframe\">\n",
              "  <thead>\n",
              "    <tr style=\"text-align: right;\">\n",
              "      <th></th>\n",
              "      <th>0</th>\n",
              "    </tr>\n",
              "  </thead>\n",
              "  <tbody>\n",
              "    <tr>\n",
              "      <th>0</th>\n",
              "      <td>00:00 Cursos CAPSE: técnico del otro lado de o...</td>\n",
              "    </tr>\n",
              "    <tr>\n",
              "      <th>1</th>\n",
              "      <td>02:10 Agustin Lambertini (chat): Buen dia!</td>\n",
              "    </tr>\n",
              "    <tr>\n",
              "      <th>2</th>\n",
              "      <td>03:01 Cursos CAPSE: Bueno, no están solucionan...</td>\n",
              "    </tr>\n",
              "    <tr>\n",
              "      <th>3</th>\n",
              "      <td>03:48 Cursos CAPSE: Bien. esto bueno Bienvenid...</td>\n",
              "    </tr>\n",
              "    <tr>\n",
              "      <th>4</th>\n",
              "      <td>04:58 Cursos CAPSE: Tienen vamos a tener ocho ...</td>\n",
              "    </tr>\n",
              "    <tr>\n",
              "      <th>5</th>\n",
              "      <td>05:52 Cursos CAPSE: De la materia que se las p...</td>\n",
              "    </tr>\n",
              "    <tr>\n",
              "      <th>6</th>\n",
              "      <td>06:37 Cursos CAPSE: Donde se va a estar subien...</td>\n",
              "    </tr>\n",
              "    <tr>\n",
              "      <th>7</th>\n",
              "      <td>06:54 Cursos CAPSE: Sacamos todo lo que es rad...</td>\n",
              "    </tr>\n",
              "    <tr>\n",
              "      <th>8</th>\n",
              "      <td>08:41 Cursos CAPSE: El cual es una implementac...</td>\n",
              "    </tr>\n",
              "    <tr>\n",
              "      <th>9</th>\n",
              "      <td>10:08 Cursos CAPSE: Esto es un trabajo más. Ac...</td>\n",
              "    </tr>\n",
              "  </tbody>\n",
              "</table>\n",
              "</div>"
            ],
            "text/plain": [
              "                                                   0\n",
              "0  00:00 Cursos CAPSE: técnico del otro lado de o...\n",
              "1         02:10 Agustin Lambertini (chat): Buen dia!\n",
              "2  03:01 Cursos CAPSE: Bueno, no están solucionan...\n",
              "3  03:48 Cursos CAPSE: Bien. esto bueno Bienvenid...\n",
              "4  04:58 Cursos CAPSE: Tienen vamos a tener ocho ...\n",
              "5  05:52 Cursos CAPSE: De la materia que se las p...\n",
              "6  06:37 Cursos CAPSE: Donde se va a estar subien...\n",
              "7  06:54 Cursos CAPSE: Sacamos todo lo que es rad...\n",
              "8  08:41 Cursos CAPSE: El cual es una implementac...\n",
              "9  10:08 Cursos CAPSE: Esto es un trabajo más. Ac..."
            ]
          },
          "execution_count": 2,
          "metadata": {},
          "output_type": "execute_result"
        }
      ],
      "source": [
        "df = pd.read_csv('Clase.txt', sep='/n', header=None)\n",
        "df.head(10)"
      ]
    },
    {
      "cell_type": "code",
      "execution_count": 5,
      "metadata": {
        "id": "RtfVQAHeJckE"
      },
      "outputs": [],
      "source": [
        "from tensorflow.keras.preprocessing.text import text_to_word_sequence\n",
        "\n",
        "sentence_tokens = []\n",
        "\n",
        "for _, row in df[:None].iterrows():\n",
        "    sentence_tokens.append(text_to_word_sequence(row[0]))"
      ]
    },
    {
      "cell_type": "code",
      "execution_count": 23,
      "metadata": {
        "id": "RhvR0kHiNAWV"
      },
      "outputs": [],
      "source": [
        "w2v_model2 = Word2Vec(min_count=5,\n",
        "                     window=3,\n",
        "                     vector_size=100,\n",
        "                     negative=20,\n",
        "                     workers=1,\n",
        "                     sg=1)\n",
        "\n",
        "w2v_model2.build_vocab(sentence_tokens)"
      ]
    },
    {
      "cell_type": "code",
      "execution_count": 24,
      "metadata": {
        "colab": {
          "base_uri": "https://localhost:8080/"
        },
        "id": "_f-Klq5JMzJV",
        "outputId": "b2609b62-651d-4fd5-c40e-9d96b804de80"
      },
      "outputs": [
        {
          "name": "stdout",
          "output_type": "stream",
          "text": [
            "Loss after epoch 0: 203117.046875\n",
            "Loss after epoch 1: 142662.984375\n",
            "Loss after epoch 2: 142965.25\n",
            "Loss after epoch 3: 145236.46875\n",
            "Loss after epoch 4: 145785.8125\n",
            "Loss after epoch 5: 146083.125\n",
            "Loss after epoch 6: 142528.9375\n",
            "Loss after epoch 7: 127227.375\n",
            "Loss after epoch 8: 126122.0\n",
            "Loss after epoch 9: 124298.875\n",
            "Loss after epoch 10: 124531.0\n",
            "Loss after epoch 11: 124291.0\n",
            "Loss after epoch 12: 124541.875\n",
            "Loss after epoch 13: 122151.125\n",
            "Loss after epoch 14: 121816.75\n",
            "Loss after epoch 15: 109293.625\n",
            "Loss after epoch 16: 103692.75\n",
            "Loss after epoch 17: 103916.75\n",
            "Loss after epoch 18: 103726.75\n",
            "Loss after epoch 19: 102699.0\n"
          ]
        },
        {
          "data": {
            "text/plain": [
              "(186724, 371480)"
            ]
          },
          "execution_count": 24,
          "metadata": {},
          "output_type": "execute_result"
        }
      ],
      "source": [
        "w2v_model2.train(sentence_tokens,\n",
        "                 total_examples=w2v_model2.corpus_count,\n",
        "                 epochs=20,\n",
        "                 compute_loss = True,\n",
        "                 callbacks=[callback()]\n",
        "                 )"
      ]
    },
    {
      "cell_type": "code",
      "execution_count": 25,
      "metadata": {
        "colab": {
          "base_uri": "https://localhost:8080/"
        },
        "id": "NWibduC8NfIY",
        "outputId": "0d9c09b6-2628-42c9-e3e9-cc521ef879c0"
      },
      "outputs": [
        {
          "name": "stdout",
          "output_type": "stream",
          "text": [
            "Cantidad de words distintas en el corpus: 526\n"
          ]
        }
      ],
      "source": [
        "print(\"Cantidad de words distintas en el corpus:\", len(w2v_model2.wv.index_to_key))"
      ]
    },
    {
      "cell_type": "code",
      "execution_count": 26,
      "metadata": {
        "colab": {
          "base_uri": "https://localhost:8080/"
        },
        "id": "uzrnAXoQN1-V",
        "outputId": "61f05956-4464-4b31-9cd8-51058340d2b5"
      },
      "outputs": [
        {
          "data": {
            "text/plain": [
              "[('listo', 0.8678217530250549),\n",
              " ('había', 0.8675009608268738),\n",
              " ('algoritmo', 0.857895016670227),\n",
              " ('mejor', 0.8513900637626648),\n",
              " ('primer', 0.8483192920684814),\n",
              " ('famoso', 0.8464131951332092),\n",
              " ('base', 0.8416242599487305),\n",
              " ('mi', 0.8402443528175354),\n",
              " ('avanzado', 0.8395497798919678),\n",
              " ('uso', 0.8394960165023804)]"
            ]
          },
          "execution_count": 26,
          "metadata": {},
          "output_type": "execute_result"
        }
      ],
      "source": [
        "w2v_model2.wv.most_similar(positive=[\"modelo\"], topn=10)"
      ]
    },
    {
      "cell_type": "code",
      "execution_count": 27,
      "metadata": {
        "colab": {
          "base_uri": "https://localhost:8080/"
        },
        "id": "XN7RAwaOFMaO",
        "outputId": "eb0e586d-a9dc-4808-a103-b7551663eb3e"
      },
      "outputs": [
        {
          "data": {
            "text/plain": [
              "[('vimos', 0.9591383337974548),\n",
              " ('visto', 0.9483568668365479),\n",
              " ('artificial', 0.9226527214050293),\n",
              " ('trabajando', 0.9072145819664001),\n",
              " ('otras', 0.8951878547668457),\n",
              " ('reacción', 0.8746283054351807),\n",
              " ('hemos', 0.8639785647392273),\n",
              " ('materias', 0.8623473048210144),\n",
              " ('tienes', 0.8621289134025574),\n",
              " ('vieron', 0.8570652604103088)]"
            ]
          },
          "execution_count": 27,
          "metadata": {},
          "output_type": "execute_result"
        }
      ],
      "source": [
        "w2v_model2.wv.most_similar(positive=[\"inteligencia\"], topn=10)"
      ]
    },
    {
      "cell_type": "code",
      "execution_count": 20,
      "metadata": {
        "colab": {
          "base_uri": "https://localhost:8080/"
        },
        "id": "nGCzhnF3FSPY",
        "outputId": "d203db47-1702-458b-d7ef-32e543538715"
      },
      "outputs": [
        {
          "data": {
            "text/plain": [
              "[('reacción', 0.8810503482818604),\n",
              " ('vimos', 0.8804090023040771),\n",
              " ('visto', 0.8786309957504272),\n",
              " ('trabajando', 0.873639702796936),\n",
              " ('vieron', 0.8689830303192139),\n",
              " ('inteligencia', 0.8674653768539429),\n",
              " ('tienes', 0.8551253080368042),\n",
              " ('otras', 0.8366392850875854),\n",
              " ('igual', 0.8314890265464783),\n",
              " ('hemos', 0.826524555683136)]"
            ]
          },
          "execution_count": 20,
          "metadata": {},
          "output_type": "execute_result"
        }
      ],
      "source": [
        "w2v_model2.wv.most_similar(positive=[\"artificial\"], topn=10)"
      ]
    },
    {
      "cell_type": "code",
      "execution_count": 43,
      "metadata": {
        "colab": {
          "base_uri": "https://localhost:8080/"
        },
        "id": "UBJmTzojNIE9",
        "outputId": "deb1dec9-79af-417c-c1a9-569cf548be74"
      },
      "outputs": [
        {
          "data": {
            "text/plain": [
              "[('supervisado', 0.7818177938461304),\n",
              " ('profundo', 0.7770248651504517),\n",
              " ('máquinas', 0.7729719281196594),\n",
              " ('visto', 0.7725295424461365),\n",
              " ('automáticos', 0.7710980772972107),\n",
              " ('general', 0.7660079598426819),\n",
              " ('aprendizajes', 0.7647590041160583),\n",
              " ('trabajando', 0.7629148960113525),\n",
              " ('materias', 0.7576556205749512),\n",
              " ('usar', 0.7556304931640625)]"
            ]
          },
          "execution_count": 43,
          "metadata": {},
          "output_type": "execute_result"
        }
      ],
      "source": [
        "w2v_model2.wv.most_similar(positive=[\"aprendizaje\"], topn=10)"
      ]
    },
    {
      "cell_type": "code",
      "execution_count": 44,
      "metadata": {
        "colab": {
          "base_uri": "https://localhost:8080/"
        },
        "id": "G84CGsMh_hHL",
        "outputId": "269eca13-4aab-47b1-9ebc-3eca59666e8d"
      },
      "outputs": [
        {
          "data": {
            "text/plain": [
              "[('12', 0.9980653524398804),\n",
              " ('26', 0.9974932670593262),\n",
              " ('43', 0.996850848197937),\n",
              " ('46', 0.9968019127845764),\n",
              " ('04', 0.996772825717926),\n",
              " ('38', 0.9964684247970581),\n",
              " ('21', 0.9962515830993652),\n",
              " ('53', 0.9961917996406555),\n",
              " ('34', 0.9960583448410034),\n",
              " ('54', 0.9960098266601562)]"
            ]
          },
          "execution_count": 44,
          "metadata": {},
          "output_type": "execute_result"
        }
      ],
      "source": [
        "w2v_model2.wv.most_similar(positive=[\"40\"], topn=10)"
      ]
    },
    {
      "cell_type": "code",
      "execution_count": 29,
      "metadata": {
        "colab": {
          "base_uri": "https://localhost:8080/"
        },
        "id": "T-bJziLsOK5H",
        "outputId": "9fe33b36-7b64-437f-d06e-449f366cb0f0"
      },
      "outputs": [
        {
          "data": {
            "text/plain": [
              "[('materias', 0.9702839255332947),\n",
              " ('otras', 0.9663208723068237),\n",
              " ('trabajando', 0.9657101631164551),\n",
              " ('igual', 0.9447810053825378),\n",
              " ('máquina', 0.9322678446769714),\n",
              " ('reacción', 0.918692946434021),\n",
              " ('principalmente', 0.9163973331451416),\n",
              " ('viene', 0.9161229133605957),\n",
              " ('ustedes', 0.9143019914627075),\n",
              " ('automáticos', 0.9099277853965759)]"
            ]
          },
          "execution_count": 29,
          "metadata": {},
          "output_type": "execute_result"
        }
      ],
      "source": [
        "w2v_model2.wv.most_similar(positive=[\"clase\"], topn=10)"
      ]
    },
    {
      "cell_type": "markdown",
      "metadata": {
        "id": "mbn86OSn7g9X"
      },
      "source": [
        "Al analizar algunos terminos considerando las 10 palabras mas relacionadas con estos, se observa que algunas de las palabras tienen relacion con el termino analizado, por ejemplo en el caso de la palabra \"clase\" tiene una alta similaridad con \"materias\", \"maquina\" y \"automatico\", lo cual tiene sentido ya que el texto es una transcripcion de una clase de Aprendizaje de maquina. Tambien se observan palabras con alta similaridad cuya relacion con la palabra clase no es tan evidente, como por ejemplo \"igual\" o \"reaccion\"."
      ]
    },
    {
      "cell_type": "code",
      "execution_count": 30,
      "metadata": {
        "id": "JPI4vIVcMN2f"
      },
      "outputs": [],
      "source": [
        "import plotly.graph_objects as go\n",
        "import plotly.express as px"
      ]
    },
    {
      "cell_type": "code",
      "execution_count": 37,
      "metadata": {
        "colab": {
          "base_uri": "https://localhost:8080/",
          "height": 542
        },
        "id": "DiiCLEe240_0",
        "outputId": "4599ac9b-acd8-4a18-ff8b-83b5cb61b808"
      },
      "outputs": [
        {
          "data": {
            "text/html": [
              "<html>\n",
              "<head><meta charset=\"utf-8\" /></head>\n",
              "<body>\n",
              "    <div>            <script src=\"https://cdnjs.cloudflare.com/ajax/libs/mathjax/2.7.5/MathJax.js?config=TeX-AMS-MML_SVG\"></script><script type=\"text/javascript\">if (window.MathJax && window.MathJax.Hub && window.MathJax.Hub.Config) {window.MathJax.Hub.Config({SVG: {font: \"STIX-Web\"}});}</script>                <script type=\"text/javascript\">window.PlotlyConfig = {MathJaxConfig: 'local'};</script>\n",
              "        <script charset=\"utf-8\" src=\"https://cdn.plot.ly/plotly-2.24.1.min.js\"></script>                <div id=\"d52128a6-9234-4945-b60c-5f13fe2ccfc5\" class=\"plotly-graph-div\" style=\"height:525px; width:100%;\"></div>            <script type=\"text/javascript\">                                    window.PLOTLYENV=window.PLOTLYENV || {};                                    if (document.getElementById(\"d52128a6-9234-4945-b60c-5f13fe2ccfc5\")) {                    Plotly.newPlot(                        \"d52128a6-9234-4945-b60c-5f13fe2ccfc5\",                        [{\"hovertemplate\":\"x=%{x}\\u003cbr\\u003ey=%{y}\\u003cbr\\u003etext=%{text}\\u003cextra\\u003e\\u003c\\u002fextra\\u003e\",\"legendgroup\":\"\",\"marker\":{\"color\":\"#636efa\",\"symbol\":\"circle\"},\"mode\":\"markers+text\",\"name\":\"\",\"orientation\":\"v\",\"showlegend\":false,\"text\":[\"que\",\"de\",\"no\",\"el\",\"es\",\"a\",\"la\",\"y\",\"un\",\"en\",\"lo\",\"una\",\"los\",\"capse\",\"cursos\",\"modelo\",\"o\",\"se\",\"para\",\"datos\",\"por\",\"eso\",\"si\",\"como\",\"entonces\",\"m\\u00e1s\",\"sea\",\"porque\",\"muy\",\"hacer\",\"con\",\"hay\",\"bien\",\"01\",\"pero\",\"bueno\",\"ese\",\"las\",\"todo\",\"tenemos\",\"ya\",\"cuando\",\"tener\",\"tiene\",\"ah\\u00ed\",\"donde\",\"vamos\",\"son\",\"esto\",\"modelos\",\"yo\",\"mucho\",\"est\\u00e1\",\"este\",\"ejemplo\",\"del\",\"le\",\"c\\u00f3mo\",\"ver\",\"tambi\\u00e9n\",\"va\",\"puede\",\"usar\",\"aprendizaje\",\"esta\",\"me\",\"ser\",\"te\",\"esa\",\"vos\",\"digamos\",\"s\\u00e9\",\"qu\\u00e9\",\"al\",\"cuenta\",\"02\",\"tipo\",\"despu\\u00e9s\",\"problema\",\"sobre\",\"ten\\u00e9s\",\"algo\",\"parte\",\"era\",\"dos\",\"mejor\",\"tiempo\",\"van\",\"ac\\u00e1\",\"est\\u00e1n\",\"trabajo\",\"uno\",\"cuesti\\u00f3n\",\"siempre\",\"tienen\",\"poder\",\"otro\",\"estamos\",\"autom\\u00e1tico\",\"hace\",\"otra\",\"vez\",\"s\\u00ed\",\"fue\",\"artificial\",\"tengo\",\"importante\",\"vimos\",\"informaci\\u00f3n\",\"forma\",\"poco\",\"quiz\\u00e1s\",\"nos\",\"cuestiones\",\"chat\",\"inteligencia\",\"idea\",\"variables\",\"tu\",\"cada\",\"diferentes\",\"ahora\",\"estos\",\"as\\u00ed\",\"nada\",\"comportamiento\",\"decir\",\"obviamente\",\"ustedes\",\"cosas\",\"est\\u00e1s\",\"learning\",\"55\",\"les\",\"voy\",\"vas\",\"evaluaci\\u00f3n\",\"quiero\",\"nunca\",\"materia\",\"solo\",\"tan\",\"podemos\",\"final\",\"haciendo\",\"veces\",\"mundo\",\"esos\",\"uso\",\"toda\",\"empieza\",\"justamente\",\"nosotros\",\"encontrar\",\"menos\",\"mismo\",\"41\",\"beneficio\",\"an\\u00e1lisis\",\"d\\u00eda\",\"cosa\",\"entrenamiento\",\"s\\u00faper\",\"t\\u00edpico\",\"saber\",\"proyecto\",\"usando\",\"gran\",\"estar\",\"20\",\"entre\",\"control\",\"hoy\",\"negocio\",\"ciertas\",\"tema\",\"ir\",\"17\",\"pasar\",\"pueden\",\"aplicar\",\"problemas\",\"caso\",\"su\",\"trabajar\",\"estoy\",\"atributos\",\"base\",\"sentido\",\"mont\\u00f3n\",\"buena\",\"hasta\",\"sistema\",\"viendo\",\"hacen\",\"humano\",\"funciona\",\"clases\",\"inclusive\",\"dif\\u00edcil\"],\"x\":[1.6698654890060425,-0.18708905577659607,-3.0173065662384033,-13.911247253417969,-2.5018792152404785,-10.74952220916748,5.566977500915527,-1.5294777154922485,-11.920063972473145,-16.078638076782227,-10.238471984863281,4.534332752227783,4.864495754241943,35.461517333984375,41.32014465332031,-12.528462409973145,0.5166406035423279,-18.23809051513672,-4.2002949714660645,6.15505313873291,-6.623369216918945,-8.996193885803223,-4.056233882904053,-5.33075475692749,5.77335786819458,-8.123576164245605,-0.8401764035224915,2.542179584503174,12.957777976989746,-5.479010105133057,3.439863920211792,-11.68453598022461,1.909202218055725,42.75514602661133,9.533346176147461,9.57449722290039,-15.798063278198242,3.8355329036712646,-0.6498427391052246,6.361167907714844,-10.604452133178711,-17.96198272705078,-16.585662841796875,-9.90295124053955,-15.577140808105469,-17.045663833618164,-16.40969467163086,4.828952789306641,17.4793643951416,8.205227851867676,-18.865238189697266,-8.102592468261719,-11.205811500549316,-13.820511817932129,-14.832752227783203,-1.1466411352157593,-7.182588577270508,-18.03265380859375,-7.088623046875,2.3670918941497803,-11.263044357299805,-11.960625648498535,-15.843263626098633,-13.041911125183105,12.96413803100586,-5.32045316696167,-13.0892915725708,-9.591317176818848,6.484106540679932,6.799702167510986,3.010408639907837,-19.777545928955078,-19.454946517944336,-18.84426498413086,-17.002138137817383,42.625892639160156,-13.34278392791748,9.8793306350708,-12.490246772766113,-0.46467816829681396,6.9262776374816895,-7.212815284729004,7.215949535369873,4.9224534034729,9.181744575500488,-8.259651184082031,-7.287753582000732,-8.400402069091797,11.3902587890625,4.221094608306885,-2.1448676586151123,-9.222585678100586,5.359278202056885,-9.677098274230957,2.584488868713379,-4.304498672485352,-10.395315170288086,1.1222580671310425,-11.422857284545898,7.1718950271606445,5.166056156158447,4.848321437835693,9.603802680969238,-5.944036483764648,-15.92754077911377,-18.077550888061523,1.1133674383163452,-15.867574691772461,-4.082422256469727,-3.368004560470581,-11.648333549499512,-1.2898966073989868,-12.596638679504395,-12.97355842590332,40.611122131347656,-16.046798706054688,6.884022235870361,1.3933638334274292,6.734488487243652,-2.408339738845825,6.784538745880127,12.715619087219238,8.066944122314453,-8.471525192260742,-4.913139820098877,-10.928455352783203,-12.543453216552734,-4.130297660827637,-14.120595932006836,2.317347288131714,5.991685390472412,-9.875471115112305,41.72303009033203,-14.058124542236328,-15.94698715209961,-8.834280967712402,4.8513078689575195,-17.739501953125,-18.4602108001709,12.980060577392578,-10.246289253234863,1.8235819339752197,-1.4360744953155518,-18.623065948486328,-2.4160163402557373,0.3326624035835266,-0.848013162612915,8.614457130432129,-11.210433959960938,6.613881587982178,-12.071406364440918,-3.588801383972168,7.54359769821167,-5.013537406921387,-7.603825092315674,0.8605573773384094,41.442787170410156,-14.31668758392334,-2.580106735229492,0.32746046781539917,-0.11237162351608276,6.049086570739746,-3.092043399810791,-14.331737518310547,-7.620476245880127,-17.40484619140625,0.8689621090888977,6.023370265960693,-10.932518005371094,34.04719543457031,2.3923380374908447,-6.12212610244751,0.3297373354434967,-11.965899467468262,-7.959618091583252,-2.3560373783111572,-10.118722915649414,41.7579345703125,-9.0347261428833,1.402764081954956,-9.009820938110352,6.063668251037598,-9.819419860839844,-14.100069046020508,-6.731760501861572,-9.008807182312012,-7.704037666320801,-11.139704704284668,-9.699627876281738,-12.339445114135742,5.63372278213501,-13.129454612731934,-13.987828254699707,-6.955104351043701,-18.003475189208984,-10.983831405639648,-5.5023345947265625,8.847482681274414,-4.3907670974731445,12.924930572509766],\"xaxis\":\"x\",\"y\":[2.7002146244049072,11.33973503112793,-8.1724853515625,-0.9506034255027771,-9.79006576538086,14.473697662353516,-10.307250022888184,4.149271011352539,-0.1818527728319168,-5.031494140625,-11.897027969360352,0.883786678314209,10.35969066619873,1.740798830986023,0.19059942662715912,-2.1796135902404785,-8.091344833374023,-1.192763090133667,16.018688201904297,11.506389617919922,-12.499574661254883,-4.362331390380859,-6.936763763427734,-16.68781280517578,-1.9178375005722046,6.584689140319824,-9.449806213378906,-11.171931266784668,-5.8322978019714355,8.72189712524414,-3.378819465637207,3.8639941215515137,-12.299945831298828,-3.120603084564209,-7.285632610321045,-7.161021709442139,-2.8106908798217773,13.497774124145508,14.955021858215332,6.845686435699463,-12.469970703125,5.0517988204956055,-4.422990322113037,3.7339022159576416,4.606575965881348,1.809874415397644,-13.118646621704102,12.381287574768066,0.69429612159729,12.331618309020996,-8.090677261352539,7.837259769439697,-6.548971176147461,-3.1741960048675537,0.8333550095558167,9.914663314819336,-5.491630554199219,8.956320762634277,15.009281158447266,-13.263586044311523,12.259061813354492,8.709136962890625,-9.169381141662598,-16.76344108581543,3.878538131713867,-11.692042350769043,8.858061790466309,11.549120903015137,-12.425107955932617,16.807653427124023,-7.186059474945068,-7.995809078216553,-8.007092475891113,3.704133987426758,-4.325850963592529,-3.130390167236328,4.413987636566162,-2.078641891479492,1.061545491218567,15.0791597366333,16.614944458007812,-10.479836463928223,-11.726567268371582,-8.076851844787598,5.561638832092285,3.6852405071258545,9.869378089904785,13.70987606048584,3.283571481704712,9.496622085571289,11.145428657531738,-14.434767723083496,-13.191183090209961,-6.474334716796875,9.598321914672852,16.0830020904541,2.2031030654907227,-9.774324417114258,-16.456317901611328,-4.8444976806640625,-13.27536678314209,7.061086177825928,-6.79632043838501,-11.692587852478027,-16.266197204589844,-8.211037635803223,-13.444963455200195,-16.152856826782227,6.665421485900879,5.765230655670166,-13.831208229064941,-10.469133377075195,-5.516870498657227,4.402659893035889,-4.844443321228027,-16.310300827026367,-10.235937118530273,1.2957863807678223,16.29781723022461,7.36536979675293,12.898877143859863,0.6176794767379761,11.838614463806152,-10.823993682861328,-6.0039825439453125,5.422372817993164,-3.724367141723633,-9.434736251831055,-12.717589378356934,11.983611106872559,17.91260528564453,17.66755485534668,-3.2333614826202393,-6.509669780731201,-8.91425895690918,13.374442100524902,7.738816261291504,-8.106152534484863,-1.649893045425415,3.877964973449707,-1.2933838367462158,-4.452521800994873,-15.317949295043945,3.4041595458984375,-4.119046688079834,-0.046601444482803345,14.759766578674316,7.016780853271484,0.05780702456831932,-12.338947296142578,13.967724800109863,9.9312744140625,4.295765399932861,8.645402908325195,3.557673215866089,-7.2251296043396,-3.378373146057129,8.04476547241211,8.928105354309082,19.204042434692383,-12.30405044555664,8.054686546325684,-12.638553619384766,1.0771164894104004,-3.7217555046081543,2.236409902572632,-9.957807540893555,-10.561205863952637,13.508383750915527,0.29867860674858093,-0.03331074118614197,-2.1217663288116455,19.199501037597656,1.5006486177444458,11.001516342163086,-11.125188827514648,13.823125839233398,-3.11088228225708,15.599408149719238,13.415586471557617,15.498801231384277,12.669280052185059,0.0860491394996643,-11.449553489685059,11.958052635192871,-8.760468482971191,7.990190029144287,-1.3464040756225586,3.7728939056396484,4.37007999420166,2.34555983543396,7.322670936584473,1.7586171627044678,-6.894234657287598,8.95677661895752,6.225710391998291,-4.258827209472656,7.770137786865234,-0.22515159845352173,-5.39742374420166],\"yaxis\":\"y\",\"type\":\"scatter\"}],                        {\"template\":{\"data\":{\"histogram2dcontour\":[{\"type\":\"histogram2dcontour\",\"colorbar\":{\"outlinewidth\":0,\"ticks\":\"\"},\"colorscale\":[[0.0,\"#0d0887\"],[0.1111111111111111,\"#46039f\"],[0.2222222222222222,\"#7201a8\"],[0.3333333333333333,\"#9c179e\"],[0.4444444444444444,\"#bd3786\"],[0.5555555555555556,\"#d8576b\"],[0.6666666666666666,\"#ed7953\"],[0.7777777777777778,\"#fb9f3a\"],[0.8888888888888888,\"#fdca26\"],[1.0,\"#f0f921\"]]}],\"choropleth\":[{\"type\":\"choropleth\",\"colorbar\":{\"outlinewidth\":0,\"ticks\":\"\"}}],\"histogram2d\":[{\"type\":\"histogram2d\",\"colorbar\":{\"outlinewidth\":0,\"ticks\":\"\"},\"colorscale\":[[0.0,\"#0d0887\"],[0.1111111111111111,\"#46039f\"],[0.2222222222222222,\"#7201a8\"],[0.3333333333333333,\"#9c179e\"],[0.4444444444444444,\"#bd3786\"],[0.5555555555555556,\"#d8576b\"],[0.6666666666666666,\"#ed7953\"],[0.7777777777777778,\"#fb9f3a\"],[0.8888888888888888,\"#fdca26\"],[1.0,\"#f0f921\"]]}],\"heatmap\":[{\"type\":\"heatmap\",\"colorbar\":{\"outlinewidth\":0,\"ticks\":\"\"},\"colorscale\":[[0.0,\"#0d0887\"],[0.1111111111111111,\"#46039f\"],[0.2222222222222222,\"#7201a8\"],[0.3333333333333333,\"#9c179e\"],[0.4444444444444444,\"#bd3786\"],[0.5555555555555556,\"#d8576b\"],[0.6666666666666666,\"#ed7953\"],[0.7777777777777778,\"#fb9f3a\"],[0.8888888888888888,\"#fdca26\"],[1.0,\"#f0f921\"]]}],\"heatmapgl\":[{\"type\":\"heatmapgl\",\"colorbar\":{\"outlinewidth\":0,\"ticks\":\"\"},\"colorscale\":[[0.0,\"#0d0887\"],[0.1111111111111111,\"#46039f\"],[0.2222222222222222,\"#7201a8\"],[0.3333333333333333,\"#9c179e\"],[0.4444444444444444,\"#bd3786\"],[0.5555555555555556,\"#d8576b\"],[0.6666666666666666,\"#ed7953\"],[0.7777777777777778,\"#fb9f3a\"],[0.8888888888888888,\"#fdca26\"],[1.0,\"#f0f921\"]]}],\"contourcarpet\":[{\"type\":\"contourcarpet\",\"colorbar\":{\"outlinewidth\":0,\"ticks\":\"\"}}],\"contour\":[{\"type\":\"contour\",\"colorbar\":{\"outlinewidth\":0,\"ticks\":\"\"},\"colorscale\":[[0.0,\"#0d0887\"],[0.1111111111111111,\"#46039f\"],[0.2222222222222222,\"#7201a8\"],[0.3333333333333333,\"#9c179e\"],[0.4444444444444444,\"#bd3786\"],[0.5555555555555556,\"#d8576b\"],[0.6666666666666666,\"#ed7953\"],[0.7777777777777778,\"#fb9f3a\"],[0.8888888888888888,\"#fdca26\"],[1.0,\"#f0f921\"]]}],\"surface\":[{\"type\":\"surface\",\"colorbar\":{\"outlinewidth\":0,\"ticks\":\"\"},\"colorscale\":[[0.0,\"#0d0887\"],[0.1111111111111111,\"#46039f\"],[0.2222222222222222,\"#7201a8\"],[0.3333333333333333,\"#9c179e\"],[0.4444444444444444,\"#bd3786\"],[0.5555555555555556,\"#d8576b\"],[0.6666666666666666,\"#ed7953\"],[0.7777777777777778,\"#fb9f3a\"],[0.8888888888888888,\"#fdca26\"],[1.0,\"#f0f921\"]]}],\"mesh3d\":[{\"type\":\"mesh3d\",\"colorbar\":{\"outlinewidth\":0,\"ticks\":\"\"}}],\"scatter\":[{\"fillpattern\":{\"fillmode\":\"overlay\",\"size\":10,\"solidity\":0.2},\"type\":\"scatter\"}],\"parcoords\":[{\"type\":\"parcoords\",\"line\":{\"colorbar\":{\"outlinewidth\":0,\"ticks\":\"\"}}}],\"scatterpolargl\":[{\"type\":\"scatterpolargl\",\"marker\":{\"colorbar\":{\"outlinewidth\":0,\"ticks\":\"\"}}}],\"bar\":[{\"error_x\":{\"color\":\"#2a3f5f\"},\"error_y\":{\"color\":\"#2a3f5f\"},\"marker\":{\"line\":{\"color\":\"#E5ECF6\",\"width\":0.5},\"pattern\":{\"fillmode\":\"overlay\",\"size\":10,\"solidity\":0.2}},\"type\":\"bar\"}],\"scattergeo\":[{\"type\":\"scattergeo\",\"marker\":{\"colorbar\":{\"outlinewidth\":0,\"ticks\":\"\"}}}],\"scatterpolar\":[{\"type\":\"scatterpolar\",\"marker\":{\"colorbar\":{\"outlinewidth\":0,\"ticks\":\"\"}}}],\"histogram\":[{\"marker\":{\"pattern\":{\"fillmode\":\"overlay\",\"size\":10,\"solidity\":0.2}},\"type\":\"histogram\"}],\"scattergl\":[{\"type\":\"scattergl\",\"marker\":{\"colorbar\":{\"outlinewidth\":0,\"ticks\":\"\"}}}],\"scatter3d\":[{\"type\":\"scatter3d\",\"line\":{\"colorbar\":{\"outlinewidth\":0,\"ticks\":\"\"}},\"marker\":{\"colorbar\":{\"outlinewidth\":0,\"ticks\":\"\"}}}],\"scattermapbox\":[{\"type\":\"scattermapbox\",\"marker\":{\"colorbar\":{\"outlinewidth\":0,\"ticks\":\"\"}}}],\"scatterternary\":[{\"type\":\"scatterternary\",\"marker\":{\"colorbar\":{\"outlinewidth\":0,\"ticks\":\"\"}}}],\"scattercarpet\":[{\"type\":\"scattercarpet\",\"marker\":{\"colorbar\":{\"outlinewidth\":0,\"ticks\":\"\"}}}],\"carpet\":[{\"aaxis\":{\"endlinecolor\":\"#2a3f5f\",\"gridcolor\":\"white\",\"linecolor\":\"white\",\"minorgridcolor\":\"white\",\"startlinecolor\":\"#2a3f5f\"},\"baxis\":{\"endlinecolor\":\"#2a3f5f\",\"gridcolor\":\"white\",\"linecolor\":\"white\",\"minorgridcolor\":\"white\",\"startlinecolor\":\"#2a3f5f\"},\"type\":\"carpet\"}],\"table\":[{\"cells\":{\"fill\":{\"color\":\"#EBF0F8\"},\"line\":{\"color\":\"white\"}},\"header\":{\"fill\":{\"color\":\"#C8D4E3\"},\"line\":{\"color\":\"white\"}},\"type\":\"table\"}],\"barpolar\":[{\"marker\":{\"line\":{\"color\":\"#E5ECF6\",\"width\":0.5},\"pattern\":{\"fillmode\":\"overlay\",\"size\":10,\"solidity\":0.2}},\"type\":\"barpolar\"}],\"pie\":[{\"automargin\":true,\"type\":\"pie\"}]},\"layout\":{\"autotypenumbers\":\"strict\",\"colorway\":[\"#636efa\",\"#EF553B\",\"#00cc96\",\"#ab63fa\",\"#FFA15A\",\"#19d3f3\",\"#FF6692\",\"#B6E880\",\"#FF97FF\",\"#FECB52\"],\"font\":{\"color\":\"#2a3f5f\"},\"hovermode\":\"closest\",\"hoverlabel\":{\"align\":\"left\"},\"paper_bgcolor\":\"white\",\"plot_bgcolor\":\"#E5ECF6\",\"polar\":{\"bgcolor\":\"#E5ECF6\",\"angularaxis\":{\"gridcolor\":\"white\",\"linecolor\":\"white\",\"ticks\":\"\"},\"radialaxis\":{\"gridcolor\":\"white\",\"linecolor\":\"white\",\"ticks\":\"\"}},\"ternary\":{\"bgcolor\":\"#E5ECF6\",\"aaxis\":{\"gridcolor\":\"white\",\"linecolor\":\"white\",\"ticks\":\"\"},\"baxis\":{\"gridcolor\":\"white\",\"linecolor\":\"white\",\"ticks\":\"\"},\"caxis\":{\"gridcolor\":\"white\",\"linecolor\":\"white\",\"ticks\":\"\"}},\"coloraxis\":{\"colorbar\":{\"outlinewidth\":0,\"ticks\":\"\"}},\"colorscale\":{\"sequential\":[[0.0,\"#0d0887\"],[0.1111111111111111,\"#46039f\"],[0.2222222222222222,\"#7201a8\"],[0.3333333333333333,\"#9c179e\"],[0.4444444444444444,\"#bd3786\"],[0.5555555555555556,\"#d8576b\"],[0.6666666666666666,\"#ed7953\"],[0.7777777777777778,\"#fb9f3a\"],[0.8888888888888888,\"#fdca26\"],[1.0,\"#f0f921\"]],\"sequentialminus\":[[0.0,\"#0d0887\"],[0.1111111111111111,\"#46039f\"],[0.2222222222222222,\"#7201a8\"],[0.3333333333333333,\"#9c179e\"],[0.4444444444444444,\"#bd3786\"],[0.5555555555555556,\"#d8576b\"],[0.6666666666666666,\"#ed7953\"],[0.7777777777777778,\"#fb9f3a\"],[0.8888888888888888,\"#fdca26\"],[1.0,\"#f0f921\"]],\"diverging\":[[0,\"#8e0152\"],[0.1,\"#c51b7d\"],[0.2,\"#de77ae\"],[0.3,\"#f1b6da\"],[0.4,\"#fde0ef\"],[0.5,\"#f7f7f7\"],[0.6,\"#e6f5d0\"],[0.7,\"#b8e186\"],[0.8,\"#7fbc41\"],[0.9,\"#4d9221\"],[1,\"#276419\"]]},\"xaxis\":{\"gridcolor\":\"white\",\"linecolor\":\"white\",\"ticks\":\"\",\"title\":{\"standoff\":15},\"zerolinecolor\":\"white\",\"automargin\":true,\"zerolinewidth\":2},\"yaxis\":{\"gridcolor\":\"white\",\"linecolor\":\"white\",\"ticks\":\"\",\"title\":{\"standoff\":15},\"zerolinecolor\":\"white\",\"automargin\":true,\"zerolinewidth\":2},\"scene\":{\"xaxis\":{\"backgroundcolor\":\"#E5ECF6\",\"gridcolor\":\"white\",\"linecolor\":\"white\",\"showbackground\":true,\"ticks\":\"\",\"zerolinecolor\":\"white\",\"gridwidth\":2},\"yaxis\":{\"backgroundcolor\":\"#E5ECF6\",\"gridcolor\":\"white\",\"linecolor\":\"white\",\"showbackground\":true,\"ticks\":\"\",\"zerolinecolor\":\"white\",\"gridwidth\":2},\"zaxis\":{\"backgroundcolor\":\"#E5ECF6\",\"gridcolor\":\"white\",\"linecolor\":\"white\",\"showbackground\":true,\"ticks\":\"\",\"zerolinecolor\":\"white\",\"gridwidth\":2}},\"shapedefaults\":{\"line\":{\"color\":\"#2a3f5f\"}},\"annotationdefaults\":{\"arrowcolor\":\"#2a3f5f\",\"arrowhead\":0,\"arrowwidth\":1},\"geo\":{\"bgcolor\":\"white\",\"landcolor\":\"#E5ECF6\",\"subunitcolor\":\"white\",\"showland\":true,\"showlakes\":true,\"lakecolor\":\"white\"},\"title\":{\"x\":0.05},\"mapbox\":{\"style\":\"light\"}}},\"xaxis\":{\"anchor\":\"y\",\"domain\":[0.0,1.0],\"title\":{\"text\":\"x\"}},\"yaxis\":{\"anchor\":\"x\",\"domain\":[0.0,1.0],\"title\":{\"text\":\"y\"}},\"legend\":{\"tracegroupgap\":0},\"margin\":{\"t\":60}},                        {\"responsive\": true}                    ).then(function(){\n",
              "                            \n",
              "var gd = document.getElementById('d52128a6-9234-4945-b60c-5f13fe2ccfc5');\n",
              "var x = new MutationObserver(function (mutations, observer) {{\n",
              "        var display = window.getComputedStyle(gd).display;\n",
              "        if (!display || display === 'none') {{\n",
              "            console.log([gd, 'removed!']);\n",
              "            Plotly.purge(gd);\n",
              "            observer.disconnect();\n",
              "        }}\n",
              "}});\n",
              "\n",
              "// Listen for the removal of the full notebook cells\n",
              "var notebookContainer = gd.closest('#notebook-container');\n",
              "if (notebookContainer) {{\n",
              "    x.observe(notebookContainer, {childList: true});\n",
              "}}\n",
              "\n",
              "// Listen for the clearing of the current output cell\n",
              "var outputEl = gd.closest('.output');\n",
              "if (outputEl) {{\n",
              "    x.observe(outputEl, {childList: true});\n",
              "}}\n",
              "\n",
              "                        })                };                            </script>        </div>\n",
              "</body>\n",
              "</html>"
            ]
          },
          "metadata": {},
          "output_type": "display_data"
        }
      ],
      "source": [
        "vecs, labels = reduce_dimensions(w2v_model2)\n",
        "\n",
        "MAX_WORDS=200\n",
        "fig = px.scatter(x=vecs[:MAX_WORDS,0], y=vecs[:MAX_WORDS,1], text=labels[:MAX_WORDS])\n",
        "fig.show(renderer=\"colab\") # esto para plotly en colab"
      ]
    },
    {
      "cell_type": "code",
      "execution_count": 33,
      "metadata": {
        "id": "HogrBGXfL0hm"
      },
      "outputs": [],
      "source": [
        "vecs, labels = reduce_dimensions(w2v_model2,3)\n",
        "\n"
      ]
    },
    {
      "cell_type": "code",
      "execution_count": 34,
      "metadata": {
        "colab": {
          "base_uri": "https://localhost:8080/",
          "height": 542
        },
        "id": "O3XgDBpGNgOI",
        "outputId": "6542bbbd-1619-47c7-b602-a0d92c31dea6"
      },
      "outputs": [
        {
          "data": {
            "text/html": [
              "<html>\n",
              "<head><meta charset=\"utf-8\" /></head>\n",
              "<body>\n",
              "    <div>            <script src=\"https://cdnjs.cloudflare.com/ajax/libs/mathjax/2.7.5/MathJax.js?config=TeX-AMS-MML_SVG\"></script><script type=\"text/javascript\">if (window.MathJax && window.MathJax.Hub && window.MathJax.Hub.Config) {window.MathJax.Hub.Config({SVG: {font: \"STIX-Web\"}});}</script>                <script type=\"text/javascript\">window.PlotlyConfig = {MathJaxConfig: 'local'};</script>\n",
              "        <script charset=\"utf-8\" src=\"https://cdn.plot.ly/plotly-2.24.1.min.js\"></script>                <div id=\"e20ecf79-e583-479d-b498-34061447f279\" class=\"plotly-graph-div\" style=\"height:525px; width:100%;\"></div>            <script type=\"text/javascript\">                                    window.PLOTLYENV=window.PLOTLYENV || {};                                    if (document.getElementById(\"e20ecf79-e583-479d-b498-34061447f279\")) {                    Plotly.newPlot(                        \"e20ecf79-e583-479d-b498-34061447f279\",                        [{\"hovertemplate\":\"x=%{x}\\u003cbr\\u003ey=%{y}\\u003cbr\\u003ez=%{z}\\u003cbr\\u003etext=%{text}\\u003cextra\\u003e\\u003c\\u002fextra\\u003e\",\"legendgroup\":\"\",\"marker\":{\"color\":\"#636efa\",\"symbol\":\"circle\",\"size\":2},\"mode\":\"markers+text\",\"name\":\"\",\"scene\":\"scene\",\"showlegend\":false,\"text\":[\"que\",\"de\",\"no\",\"el\",\"es\",\"a\",\"la\",\"y\",\"un\",\"en\",\"lo\",\"una\",\"los\",\"capse\",\"cursos\",\"modelo\",\"o\",\"se\",\"para\",\"datos\",\"por\",\"eso\",\"si\",\"como\",\"entonces\",\"m\\u00e1s\",\"sea\",\"porque\",\"muy\",\"hacer\",\"con\",\"hay\",\"bien\",\"01\",\"pero\",\"bueno\",\"ese\",\"las\",\"todo\",\"tenemos\",\"ya\",\"cuando\",\"tener\",\"tiene\",\"ah\\u00ed\",\"donde\",\"vamos\",\"son\",\"esto\",\"modelos\",\"yo\",\"mucho\",\"est\\u00e1\",\"este\",\"ejemplo\",\"del\",\"le\",\"c\\u00f3mo\",\"ver\",\"tambi\\u00e9n\",\"va\",\"puede\",\"usar\",\"aprendizaje\",\"esta\",\"me\",\"ser\",\"te\",\"esa\",\"vos\",\"digamos\",\"s\\u00e9\",\"qu\\u00e9\",\"al\",\"cuenta\",\"02\",\"tipo\",\"despu\\u00e9s\",\"problema\",\"sobre\",\"ten\\u00e9s\",\"algo\",\"parte\",\"era\",\"dos\",\"mejor\",\"tiempo\",\"van\",\"ac\\u00e1\",\"est\\u00e1n\",\"trabajo\",\"uno\",\"cuesti\\u00f3n\",\"siempre\",\"tienen\",\"poder\",\"otro\",\"estamos\",\"autom\\u00e1tico\",\"hace\",\"otra\",\"vez\",\"s\\u00ed\",\"fue\",\"artificial\",\"tengo\",\"importante\",\"vimos\",\"informaci\\u00f3n\",\"forma\",\"poco\",\"quiz\\u00e1s\",\"nos\",\"cuestiones\",\"chat\",\"inteligencia\",\"idea\",\"variables\",\"tu\",\"cada\",\"diferentes\",\"ahora\",\"estos\",\"as\\u00ed\",\"nada\",\"comportamiento\",\"decir\",\"obviamente\",\"ustedes\",\"cosas\",\"est\\u00e1s\",\"learning\",\"55\",\"les\",\"voy\",\"vas\",\"evaluaci\\u00f3n\",\"quiero\",\"nunca\",\"materia\",\"solo\",\"tan\",\"podemos\",\"final\",\"haciendo\",\"veces\",\"mundo\",\"esos\",\"uso\",\"toda\",\"empieza\",\"justamente\",\"nosotros\",\"encontrar\",\"menos\",\"mismo\",\"41\",\"beneficio\",\"an\\u00e1lisis\",\"d\\u00eda\",\"cosa\",\"entrenamiento\",\"s\\u00faper\",\"t\\u00edpico\",\"saber\",\"proyecto\",\"usando\",\"gran\",\"estar\",\"20\",\"entre\",\"control\",\"hoy\",\"negocio\",\"ciertas\",\"tema\",\"ir\",\"17\",\"pasar\",\"pueden\",\"aplicar\",\"problemas\",\"caso\",\"su\",\"trabajar\",\"estoy\",\"atributos\",\"base\",\"sentido\",\"mont\\u00f3n\",\"buena\",\"hasta\",\"sistema\",\"viendo\",\"hacen\",\"humano\",\"funciona\",\"clases\",\"inclusive\",\"dif\\u00edcil\"],\"x\":[11.786544799804688,-0.8873021602630615,-6.221424102783203,-34.025856018066406,3.4920129776000977,-39.34065246582031,10.381368637084961,-13.473921775817871,-35.67018127441406,-42.37888717651367,-10.892029762268066,32.29478073120117,19.585519790649414,40.31532669067383,45.26881790161133,-36.819583892822266,15.51419448852539,-24.24862289428711,-13.226679801940918,10.959596633911133,-19.602493286132812,-20.636770248413086,-4.050780773162842,-6.669086456298828,20.96320343017578,-16.388225555419922,11.793395042419434,9.394678115844727,27.222402572631836,-23.460514068603516,11.886796951293945,-2.8676869869232178,3.315403699874878,45.533660888671875,15.441137313842773,16.39818000793457,-40.44926834106445,30.718978881835938,-15.692509651184082,6.806609153747559,-10.683341026306152,-20.718690872192383,-41.694766998291016,-27.23267936706543,-20.578258514404297,-28.648801803588867,-13.155651092529297,26.730205535888672,19.581466674804688,13.002389907836914,-32.62366485595703,-10.561217308044434,-26.4053955078125,-38.577022552490234,-39.20662307739258,-10.448699951171875,-16.224727630615234,-33.091796875,-28.73621940612793,19.986663818359375,-42.075836181640625,-17.55694580078125,-36.428462982177734,-21.677152633666992,-1.1488116979599,-8.756211280822754,-15.342817306518555,-43.5871696472168,14.388219833374023,21.27515411376953,11.363726615905762,-32.045528411865234,-33.008846282958984,-19.969783782958984,-47.119937896728516,47.848426818847656,-9.616521835327148,3.6633529663085938,-41.41756057739258,-11.800124168395996,24.255325317382812,-4.372946262359619,4.477834224700928,17.386014938354492,22.705585479736328,-34.918331146240234,-25.987892150878906,-25.445520401000977,-7.013314723968506,13.246153831481934,0.324791818857193,-25.089876174926758,10.470826148986816,-8.432406425476074,7.108438014984131,-17.897554397583008,-25.521080017089844,6.403665542602539,-28.65587043762207,6.505173683166504,14.563859939575195,7.801263809204102,17.797651290893555,-12.002511024475098,-9.633127212524414,-37.2300910949707,12.068963050842285,-7.319561004638672,6.733527183532715,22.630319595336914,-16.921295166015625,13.468021392822266,-27.0933895111084,-4.856379985809326,50.12772750854492,-3.7509422302246094,5.835312843322754,15.206191062927246,24.537235260009766,2.411078453063965,18.666635513305664,1.5344231128692627,17.046424865722656,-4.325751781463623,-12.73105525970459,-14.71251392364502,-29.28069496154785,-4.32499361038208,-3.029298782348633,32.42311096191406,23.321975708007812,-36.95633316040039,53.76762008666992,-29.492359161376953,-37.33455276489258,-32.04769515991211,0.6965699791908264,-32.148193359375,-26.252784729003906,-1.6138646602630615,-30.797182083129883,22.959569931030273,-2.2085835933685303,-19.883441925048828,-10.929484367370605,24.9910888671875,-17.020824432373047,20.38100242614746,-28.56972312927246,9.866394996643066,-32.39104080200195,-10.58082103729248,8.76513385772705,-17.699005126953125,-31.28634262084961,17.99702262878418,57.58795928955078,-12.258166313171387,-14.881766319274902,7.284507751464844,5.236858367919922,-2.970707654953003,-3.460435152053833,-33.354408264160156,-14.727826118469238,-25.90180206298828,3.308311939239502,7.38129186630249,-38.2885856628418,35.70541000366211,24.047107696533203,-3.1141357421875,7.75560998916626,-39.168758392333984,-29.721738815307617,7.584609508514404,-34.342559814453125,53.928340911865234,-29.419654846191406,12.115968704223633,-30.40202522277832,18.391075134277344,-22.61322784423828,-9.020387649536133,-20.845739364624023,-22.832956314086914,-4.424734115600586,-31.686321258544922,-24.931367874145508,-7.279811859130859,28.623502731323242,-18.462862014770508,-32.406925201416016,-4.808211803436279,-32.77571105957031,-16.094379425048828,-25.91559600830078,27.053760528564453,-2.6316099166870117,24.79050636291504],\"y\":[14.921463012695312,26.193933486938477,-39.9227180480957,-25.101041793823242,-44.18498992919922,24.58956527709961,-38.02670669555664,14.177192687988281,-10.428696632385254,0.8461366891860962,1.0899008512496948,-22.955856323242188,31.70629119873047,-10.65684986114502,-15.896088600158691,-13.404632568359375,-29.677982330322266,5.5542426109313965,35.43959426879883,22.153827667236328,-23.59991455078125,-22.09996795654297,-38.349613189697266,34.4705924987793,1.787475347518921,1.4752264022827148,-32.9286003112793,-34.74956130981445,-18.332134246826172,12.329887390136719,-14.698641777038574,-17.791322708129883,-31.1455078125,-7.648161888122559,-24.246278762817383,-20.971494674682617,-1.7613129615783691,21.662811279296875,33.91908645629883,37.80866622924805,2.694603443145752,37.64577102661133,7.081294536590576,-11.531498908996582,-32.709468841552734,15.836894035339355,34.413246154785156,24.72264862060547,42.076324462890625,33.279090881347656,-17.937299728393555,2.8668551445007324,-1.3827354907989502,-11.395818710327148,-24.565641403198242,25.002779006958008,-13.851698875427246,-41.065616607666016,27.719072341918945,-46.98128128051758,19.802188873291016,-38.203895568847656,1.4399763345718384,20.717382431030273,35.112579345703125,-27.743362426757812,-26.807390213012695,31.233922958374023,-47.158573150634766,5.311847686767578,-27.56183624267578,-27.802019119262695,-23.736557006835938,28.675500869750977,2.4477968215942383,-13.126909255981445,-9.88415813446045,9.413017272949219,-8.214760780334473,38.79454803466797,10.095556259155273,-23.417509078979492,-48.402809143066406,-32.4634895324707,27.167236328125,2.444972038269043,15.570943832397461,28.503690719604492,27.587631225585938,31.782785415649414,13.572481155395508,6.082865238189697,-51.18058776855469,5.257052421569824,30.91763687133789,36.101539611816406,-15.143229484558105,-8.307580947875977,19.966947555541992,-15.635283470153809,-49.06148147583008,44.62138748168945,-16.73236656188965,-25.88248634338379,32.52389144897461,-13.765926361083984,-49.51795196533203,27.613269805908203,-3.967921733856201,23.6126766204834,11.769004821777344,-38.7109375,3.7610929012298584,-9.067460060119629,2.994555950164795,29.661178588867188,-39.839115142822266,-5.7048516273498535,5.069751262664795,3.7512176036834717,22.520912170410156,-26.209827423095703,34.72692108154297,0.8358632922172546,-44.948951721191406,-15.34253215789795,-18.985637664794922,-14.253662109375,18.872255325317383,11.462328910827637,-2.4964699745178223,23.134105682373047,-7.981327533721924,16.206920623779297,7.697519302368164,28.59722900390625,41.75001907348633,-10.382794380187988,-3.49680233001709,32.455753326416016,-2.7509965896606445,-30.725614547729492,-17.60634422302246,25.441909790039062,-29.880064010620117,-6.070000171661377,36.905887603759766,30.026039123535156,-12.55112361907959,-49.73494338989258,14.791064262390137,23.714780807495117,26.12694549560547,15.36545181274414,3.3229522705078125,-24.433914184570312,-5.944021224975586,-39.479000091552734,12.839387893676758,-16.517005920410156,-43.18806457519531,39.0630989074707,-46.4651985168457,-22.633207321166992,44.92518997192383,21.002992630004883,-4.534469127655029,-40.740028381347656,19.594907760620117,6.970160007476807,-4.822105407714844,-28.27659797668457,-11.902963638305664,-2.990462303161621,38.763858795166016,-33.85143280029297,24.596160888671875,-11.625105857849121,26.025226593017578,11.774286270141602,30.97201156616211,16.89845085144043,-13.150460243225098,15.419313430786133,22.028949737548828,-12.160507202148438,3.0646090507507324,-10.65866470336914,-7.697452545166016,-10.883326530456543,-14.709539413452148,-33.55796432495117,-23.58027458190918,-9.349932670593262,-42.21953201293945,-21.500322341918945,-36.27301025390625,28.058141708374023,-12.382790565490723,-13.752363204956055],\"z\":[-37.391109466552734,32.004756927490234,-10.78170108795166,-5.078402519226074,-8.296005249023438,-11.911881446838379,17.014375686645508,3.5407330989837646,15.573562622070312,-12.863224983215332,-34.362979888916016,19.228425979614258,11.830460548400879,-18.113285064697266,-7.5509724617004395,-4.0144572257995605,-11.375435829162598,5.406888484954834,4.364284515380859,24.86016082763672,-28.212980270385742,-9.246760368347168,-22.69161605834961,18.966209411621094,-8.925860404968262,30.704744338989258,-0.757773220539093,-21.874374389648438,-11.393080711364746,21.25615692138672,-8.655524253845215,31.340843200683594,-16.838748931884766,16.473342895507812,-27.361814498901367,-31.279611587524414,-0.31275299191474915,6.801623344421387,34.200191497802734,-4.884786128997803,-41.013763427734375,19.7519588470459,-7.749302387237549,33.82786560058594,-28.43645668029785,32.094051361083984,-21.730724334716797,15.05765151977539,-15.466164588928223,27.21105194091797,-28.280405044555664,37.31527328491211,-21.162275314331055,-13.539122581481934,8.061493873596191,29.10771369934082,-38.95121383666992,-3.872743844985962,-11.779898643493652,0.6442084908485413,4.821991920471191,23.714038848876953,-24.427274703979492,-40.343544006347656,-18.505456924438477,-20.620094299316406,21.140056610107422,1.1236976385116577,19.350175857543945,36.731868743896484,14.405634880065918,-22.789289474487305,-27.370187759399414,19.7923583984375,-6.0155534744262695,16.41055679321289,39.815284729003906,-23.2806453704834,6.19047212600708,33.51239776611328,35.92943572998047,-38.5015983581543,22.88749122619629,22.456396102905273,-9.332027435302734,22.46769142150879,11.5541353225708,1.9513927698135376,-15.63150405883789,6.461818218231201,33.47955322265625,-33.393795013427734,12.240992546081543,-16.33270835876465,14.217823028564453,7.120424747467041,22.278915405273438,-36.952857971191406,-27.803348541259766,-27.301122665405273,9.302849769592285,6.23568868637085,-27.13871955871582,-26.856517791748047,-39.54545211791992,-25.040592193603516,-0.6691632866859436,-41.875450134277344,30.427757263183594,-22.59044647216797,-37.995147705078125,-6.976489067077637,-4.66555118560791,36.0569953918457,17.15538787841797,-37.32558059692383,27.594009399414062,23.487520217895508,30.902877807617188,31.35441780090332,29.42178726196289,-27.691112518310547,21.588214874267578,-26.141876220703125,-11.146794319152832,30.15203094482422,-15.566176414489746,-25.467065811157227,-29.795543670654297,9.346381187438965,37.3381233215332,22.38787841796875,17.71535873413086,-13.457457542419434,-21.6662654876709,4.018560886383057,8.85084342956543,-28.189258575439453,-38.382076263427734,-22.808141708374023,2.3922348022460938,4.0541768074035645,19.546297073364258,25.05852508544922,-10.133254051208496,-1.8701876401901245,28.921323776245117,0.24950337409973145,14.06657600402832,19.541515350341797,-4.334672927856445,10.639992713928223,-1.0893571376800537,19.116535186767578,16.706247329711914,-5.8722357749938965,13.222480773925781,11.935514450073242,30.217784881591797,43.631309509277344,5.373664855957031,-0.6646356582641602,-1.8784801959991455,9.89037036895752,-9.371564865112305,27.90825080871582,-31.84390640258789,21.144681930541992,-6.2027788162231445,-6.237485408782959,10.542724609375,12.646903038024902,44.125205993652344,10.271644592285156,-1.5171971321105957,-8.849672317504883,-6.638316631317139,12.451565742492676,12.560760498046875,27.588293075561523,12.192363739013672,23.03676986694336,6.67018985748291,-22.420549392700195,4.951248645782471,-28.77008056640625,35.741172790527344,5.128970146179199,29.907854080200195,30.64661979675293,28.229806900024414,13.808712005615234,16.449872970581055,-33.83491134643555,1.3444695472717285,28.975317001342773,-9.90066146850586,3.6368424892425537,-8.25052547454834,-13.876830101013184],\"type\":\"scatter3d\"}],                        {\"template\":{\"data\":{\"histogram2dcontour\":[{\"type\":\"histogram2dcontour\",\"colorbar\":{\"outlinewidth\":0,\"ticks\":\"\"},\"colorscale\":[[0.0,\"#0d0887\"],[0.1111111111111111,\"#46039f\"],[0.2222222222222222,\"#7201a8\"],[0.3333333333333333,\"#9c179e\"],[0.4444444444444444,\"#bd3786\"],[0.5555555555555556,\"#d8576b\"],[0.6666666666666666,\"#ed7953\"],[0.7777777777777778,\"#fb9f3a\"],[0.8888888888888888,\"#fdca26\"],[1.0,\"#f0f921\"]]}],\"choropleth\":[{\"type\":\"choropleth\",\"colorbar\":{\"outlinewidth\":0,\"ticks\":\"\"}}],\"histogram2d\":[{\"type\":\"histogram2d\",\"colorbar\":{\"outlinewidth\":0,\"ticks\":\"\"},\"colorscale\":[[0.0,\"#0d0887\"],[0.1111111111111111,\"#46039f\"],[0.2222222222222222,\"#7201a8\"],[0.3333333333333333,\"#9c179e\"],[0.4444444444444444,\"#bd3786\"],[0.5555555555555556,\"#d8576b\"],[0.6666666666666666,\"#ed7953\"],[0.7777777777777778,\"#fb9f3a\"],[0.8888888888888888,\"#fdca26\"],[1.0,\"#f0f921\"]]}],\"heatmap\":[{\"type\":\"heatmap\",\"colorbar\":{\"outlinewidth\":0,\"ticks\":\"\"},\"colorscale\":[[0.0,\"#0d0887\"],[0.1111111111111111,\"#46039f\"],[0.2222222222222222,\"#7201a8\"],[0.3333333333333333,\"#9c179e\"],[0.4444444444444444,\"#bd3786\"],[0.5555555555555556,\"#d8576b\"],[0.6666666666666666,\"#ed7953\"],[0.7777777777777778,\"#fb9f3a\"],[0.8888888888888888,\"#fdca26\"],[1.0,\"#f0f921\"]]}],\"heatmapgl\":[{\"type\":\"heatmapgl\",\"colorbar\":{\"outlinewidth\":0,\"ticks\":\"\"},\"colorscale\":[[0.0,\"#0d0887\"],[0.1111111111111111,\"#46039f\"],[0.2222222222222222,\"#7201a8\"],[0.3333333333333333,\"#9c179e\"],[0.4444444444444444,\"#bd3786\"],[0.5555555555555556,\"#d8576b\"],[0.6666666666666666,\"#ed7953\"],[0.7777777777777778,\"#fb9f3a\"],[0.8888888888888888,\"#fdca26\"],[1.0,\"#f0f921\"]]}],\"contourcarpet\":[{\"type\":\"contourcarpet\",\"colorbar\":{\"outlinewidth\":0,\"ticks\":\"\"}}],\"contour\":[{\"type\":\"contour\",\"colorbar\":{\"outlinewidth\":0,\"ticks\":\"\"},\"colorscale\":[[0.0,\"#0d0887\"],[0.1111111111111111,\"#46039f\"],[0.2222222222222222,\"#7201a8\"],[0.3333333333333333,\"#9c179e\"],[0.4444444444444444,\"#bd3786\"],[0.5555555555555556,\"#d8576b\"],[0.6666666666666666,\"#ed7953\"],[0.7777777777777778,\"#fb9f3a\"],[0.8888888888888888,\"#fdca26\"],[1.0,\"#f0f921\"]]}],\"surface\":[{\"type\":\"surface\",\"colorbar\":{\"outlinewidth\":0,\"ticks\":\"\"},\"colorscale\":[[0.0,\"#0d0887\"],[0.1111111111111111,\"#46039f\"],[0.2222222222222222,\"#7201a8\"],[0.3333333333333333,\"#9c179e\"],[0.4444444444444444,\"#bd3786\"],[0.5555555555555556,\"#d8576b\"],[0.6666666666666666,\"#ed7953\"],[0.7777777777777778,\"#fb9f3a\"],[0.8888888888888888,\"#fdca26\"],[1.0,\"#f0f921\"]]}],\"mesh3d\":[{\"type\":\"mesh3d\",\"colorbar\":{\"outlinewidth\":0,\"ticks\":\"\"}}],\"scatter\":[{\"fillpattern\":{\"fillmode\":\"overlay\",\"size\":10,\"solidity\":0.2},\"type\":\"scatter\"}],\"parcoords\":[{\"type\":\"parcoords\",\"line\":{\"colorbar\":{\"outlinewidth\":0,\"ticks\":\"\"}}}],\"scatterpolargl\":[{\"type\":\"scatterpolargl\",\"marker\":{\"colorbar\":{\"outlinewidth\":0,\"ticks\":\"\"}}}],\"bar\":[{\"error_x\":{\"color\":\"#2a3f5f\"},\"error_y\":{\"color\":\"#2a3f5f\"},\"marker\":{\"line\":{\"color\":\"#E5ECF6\",\"width\":0.5},\"pattern\":{\"fillmode\":\"overlay\",\"size\":10,\"solidity\":0.2}},\"type\":\"bar\"}],\"scattergeo\":[{\"type\":\"scattergeo\",\"marker\":{\"colorbar\":{\"outlinewidth\":0,\"ticks\":\"\"}}}],\"scatterpolar\":[{\"type\":\"scatterpolar\",\"marker\":{\"colorbar\":{\"outlinewidth\":0,\"ticks\":\"\"}}}],\"histogram\":[{\"marker\":{\"pattern\":{\"fillmode\":\"overlay\",\"size\":10,\"solidity\":0.2}},\"type\":\"histogram\"}],\"scattergl\":[{\"type\":\"scattergl\",\"marker\":{\"colorbar\":{\"outlinewidth\":0,\"ticks\":\"\"}}}],\"scatter3d\":[{\"type\":\"scatter3d\",\"line\":{\"colorbar\":{\"outlinewidth\":0,\"ticks\":\"\"}},\"marker\":{\"colorbar\":{\"outlinewidth\":0,\"ticks\":\"\"}}}],\"scattermapbox\":[{\"type\":\"scattermapbox\",\"marker\":{\"colorbar\":{\"outlinewidth\":0,\"ticks\":\"\"}}}],\"scatterternary\":[{\"type\":\"scatterternary\",\"marker\":{\"colorbar\":{\"outlinewidth\":0,\"ticks\":\"\"}}}],\"scattercarpet\":[{\"type\":\"scattercarpet\",\"marker\":{\"colorbar\":{\"outlinewidth\":0,\"ticks\":\"\"}}}],\"carpet\":[{\"aaxis\":{\"endlinecolor\":\"#2a3f5f\",\"gridcolor\":\"white\",\"linecolor\":\"white\",\"minorgridcolor\":\"white\",\"startlinecolor\":\"#2a3f5f\"},\"baxis\":{\"endlinecolor\":\"#2a3f5f\",\"gridcolor\":\"white\",\"linecolor\":\"white\",\"minorgridcolor\":\"white\",\"startlinecolor\":\"#2a3f5f\"},\"type\":\"carpet\"}],\"table\":[{\"cells\":{\"fill\":{\"color\":\"#EBF0F8\"},\"line\":{\"color\":\"white\"}},\"header\":{\"fill\":{\"color\":\"#C8D4E3\"},\"line\":{\"color\":\"white\"}},\"type\":\"table\"}],\"barpolar\":[{\"marker\":{\"line\":{\"color\":\"#E5ECF6\",\"width\":0.5},\"pattern\":{\"fillmode\":\"overlay\",\"size\":10,\"solidity\":0.2}},\"type\":\"barpolar\"}],\"pie\":[{\"automargin\":true,\"type\":\"pie\"}]},\"layout\":{\"autotypenumbers\":\"strict\",\"colorway\":[\"#636efa\",\"#EF553B\",\"#00cc96\",\"#ab63fa\",\"#FFA15A\",\"#19d3f3\",\"#FF6692\",\"#B6E880\",\"#FF97FF\",\"#FECB52\"],\"font\":{\"color\":\"#2a3f5f\"},\"hovermode\":\"closest\",\"hoverlabel\":{\"align\":\"left\"},\"paper_bgcolor\":\"white\",\"plot_bgcolor\":\"#E5ECF6\",\"polar\":{\"bgcolor\":\"#E5ECF6\",\"angularaxis\":{\"gridcolor\":\"white\",\"linecolor\":\"white\",\"ticks\":\"\"},\"radialaxis\":{\"gridcolor\":\"white\",\"linecolor\":\"white\",\"ticks\":\"\"}},\"ternary\":{\"bgcolor\":\"#E5ECF6\",\"aaxis\":{\"gridcolor\":\"white\",\"linecolor\":\"white\",\"ticks\":\"\"},\"baxis\":{\"gridcolor\":\"white\",\"linecolor\":\"white\",\"ticks\":\"\"},\"caxis\":{\"gridcolor\":\"white\",\"linecolor\":\"white\",\"ticks\":\"\"}},\"coloraxis\":{\"colorbar\":{\"outlinewidth\":0,\"ticks\":\"\"}},\"colorscale\":{\"sequential\":[[0.0,\"#0d0887\"],[0.1111111111111111,\"#46039f\"],[0.2222222222222222,\"#7201a8\"],[0.3333333333333333,\"#9c179e\"],[0.4444444444444444,\"#bd3786\"],[0.5555555555555556,\"#d8576b\"],[0.6666666666666666,\"#ed7953\"],[0.7777777777777778,\"#fb9f3a\"],[0.8888888888888888,\"#fdca26\"],[1.0,\"#f0f921\"]],\"sequentialminus\":[[0.0,\"#0d0887\"],[0.1111111111111111,\"#46039f\"],[0.2222222222222222,\"#7201a8\"],[0.3333333333333333,\"#9c179e\"],[0.4444444444444444,\"#bd3786\"],[0.5555555555555556,\"#d8576b\"],[0.6666666666666666,\"#ed7953\"],[0.7777777777777778,\"#fb9f3a\"],[0.8888888888888888,\"#fdca26\"],[1.0,\"#f0f921\"]],\"diverging\":[[0,\"#8e0152\"],[0.1,\"#c51b7d\"],[0.2,\"#de77ae\"],[0.3,\"#f1b6da\"],[0.4,\"#fde0ef\"],[0.5,\"#f7f7f7\"],[0.6,\"#e6f5d0\"],[0.7,\"#b8e186\"],[0.8,\"#7fbc41\"],[0.9,\"#4d9221\"],[1,\"#276419\"]]},\"xaxis\":{\"gridcolor\":\"white\",\"linecolor\":\"white\",\"ticks\":\"\",\"title\":{\"standoff\":15},\"zerolinecolor\":\"white\",\"automargin\":true,\"zerolinewidth\":2},\"yaxis\":{\"gridcolor\":\"white\",\"linecolor\":\"white\",\"ticks\":\"\",\"title\":{\"standoff\":15},\"zerolinecolor\":\"white\",\"automargin\":true,\"zerolinewidth\":2},\"scene\":{\"xaxis\":{\"backgroundcolor\":\"#E5ECF6\",\"gridcolor\":\"white\",\"linecolor\":\"white\",\"showbackground\":true,\"ticks\":\"\",\"zerolinecolor\":\"white\",\"gridwidth\":2},\"yaxis\":{\"backgroundcolor\":\"#E5ECF6\",\"gridcolor\":\"white\",\"linecolor\":\"white\",\"showbackground\":true,\"ticks\":\"\",\"zerolinecolor\":\"white\",\"gridwidth\":2},\"zaxis\":{\"backgroundcolor\":\"#E5ECF6\",\"gridcolor\":\"white\",\"linecolor\":\"white\",\"showbackground\":true,\"ticks\":\"\",\"zerolinecolor\":\"white\",\"gridwidth\":2}},\"shapedefaults\":{\"line\":{\"color\":\"#2a3f5f\"}},\"annotationdefaults\":{\"arrowcolor\":\"#2a3f5f\",\"arrowhead\":0,\"arrowwidth\":1},\"geo\":{\"bgcolor\":\"white\",\"landcolor\":\"#E5ECF6\",\"subunitcolor\":\"white\",\"showland\":true,\"showlakes\":true,\"lakecolor\":\"white\"},\"title\":{\"x\":0.05},\"mapbox\":{\"style\":\"light\"}}},\"scene\":{\"domain\":{\"x\":[0.0,1.0],\"y\":[0.0,1.0]},\"xaxis\":{\"title\":{\"text\":\"x\"}},\"yaxis\":{\"title\":{\"text\":\"y\"}},\"zaxis\":{\"title\":{\"text\":\"z\"}}},\"legend\":{\"tracegroupgap\":0},\"margin\":{\"t\":60}},                        {\"responsive\": true}                    ).then(function(){\n",
              "                            \n",
              "var gd = document.getElementById('e20ecf79-e583-479d-b498-34061447f279');\n",
              "var x = new MutationObserver(function (mutations, observer) {{\n",
              "        var display = window.getComputedStyle(gd).display;\n",
              "        if (!display || display === 'none') {{\n",
              "            console.log([gd, 'removed!']);\n",
              "            Plotly.purge(gd);\n",
              "            observer.disconnect();\n",
              "        }}\n",
              "}});\n",
              "\n",
              "// Listen for the removal of the full notebook cells\n",
              "var notebookContainer = gd.closest('#notebook-container');\n",
              "if (notebookContainer) {{\n",
              "    x.observe(notebookContainer, {childList: true});\n",
              "}}\n",
              "\n",
              "// Listen for the clearing of the current output cell\n",
              "var outputEl = gd.closest('.output');\n",
              "if (outputEl) {{\n",
              "    x.observe(outputEl, {childList: true});\n",
              "}}\n",
              "\n",
              "                        })                };                            </script>        </div>\n",
              "</body>\n",
              "</html>"
            ]
          },
          "metadata": {},
          "output_type": "display_data"
        }
      ],
      "source": [
        "\n",
        "fig = px.scatter_3d(x=vecs[:MAX_WORDS,0], y=vecs[:MAX_WORDS,1], z=vecs[:MAX_WORDS,2],text=labels[:MAX_WORDS])\n",
        "fig.update_traces(marker_size = 2)\n",
        "fig.show(renderer=\"colab\")"
      ]
    },
    {
      "cell_type": "markdown",
      "metadata": {
        "id": "7RALydJ49moM"
      },
      "source": [
        "En los graficos se observa que hay un grupo de terminos alejados del resto, de los cuales gran parte son numeros, esto se debe a que en la transcripcion todas las lineas comienzan con la hora y la frase \"Cursos CAPSE\", lo que hace que estos terminos tengan alta similaridad entre si."
      ]
    }
  ],
  "metadata": {
    "colab": {
      "provenance": []
    },
    "kernelspec": {
      "display_name": "Python 3 (ipykernel)",
      "language": "python",
      "name": "python3"
    },
    "language_info": {
      "codemirror_mode": {
        "name": "ipython",
        "version": 3
      },
      "file_extension": ".py",
      "mimetype": "text/x-python",
      "name": "python",
      "nbconvert_exporter": "python",
      "pygments_lexer": "ipython3",
      "version": "3.12.2"
    }
  },
  "nbformat": 4,
  "nbformat_minor": 0
}
